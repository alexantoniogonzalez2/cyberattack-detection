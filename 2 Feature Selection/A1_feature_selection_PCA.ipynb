{
 "cells": [
  {
   "cell_type": "code",
   "execution_count": 1,
   "metadata": {},
   "outputs": [],
   "source": [
    "import pandas as pd\n",
    "import matplotlib.pyplot as plt\n",
    "from sklearn.decomposition import PCA,IncrementalPCA"
   ]
  },
  {
   "cell_type": "markdown",
   "metadata": {},
   "source": [
    "### Train data"
   ]
  },
  {
   "cell_type": "code",
   "execution_count": 2,
   "metadata": {},
   "outputs": [],
   "source": [
    "train = pd.read_csv('../../ml-data/cyberattack_detection/2_processed_data/A1_train_data.csv', sep=',')"
   ]
  },
  {
   "cell_type": "code",
   "execution_count": 6,
   "metadata": {},
   "outputs": [
    {
     "data": {
      "text/html": [
       "<div>\n",
       "<style scoped>\n",
       "    .dataframe tbody tr th:only-of-type {\n",
       "        vertical-align: middle;\n",
       "    }\n",
       "\n",
       "    .dataframe tbody tr th {\n",
       "        vertical-align: top;\n",
       "    }\n",
       "\n",
       "    .dataframe thead th {\n",
       "        text-align: right;\n",
       "    }\n",
       "</style>\n",
       "<table border=\"1\" class=\"dataframe\">\n",
       "  <thead>\n",
       "    <tr style=\"text-align: right;\">\n",
       "      <th></th>\n",
       "      <th>TotalPackets</th>\n",
       "      <th>TotalBytes</th>\n",
       "      <th>SourceBytes</th>\n",
       "      <th>PacketsSec</th>\n",
       "      <th>TotalBytesSec</th>\n",
       "      <th>SourceBytesSec</th>\n",
       "      <th>Protocol</th>\n",
       "      <th>SrcIPAddress</th>\n",
       "      <th>SrcPort</th>\n",
       "      <th>Direction</th>\n",
       "      <th>DestIPAddress</th>\n",
       "      <th>DestPort</th>\n",
       "      <th>State</th>\n",
       "      <th>SrcTypeService</th>\n",
       "      <th>DestTypeService</th>\n",
       "    </tr>\n",
       "  </thead>\n",
       "  <tbody>\n",
       "    <tr>\n",
       "      <th>0</th>\n",
       "      <td>-0.008024</td>\n",
       "      <td>-0.008615</td>\n",
       "      <td>-0.003897</td>\n",
       "      <td>-0.296301</td>\n",
       "      <td>-0.308511</td>\n",
       "      <td>-0.141071</td>\n",
       "      <td>11</td>\n",
       "      <td>5663</td>\n",
       "      <td>123467</td>\n",
       "      <td>0</td>\n",
       "      <td>475015</td>\n",
       "      <td>57944</td>\n",
       "      <td>120</td>\n",
       "      <td>0</td>\n",
       "      <td>0</td>\n",
       "    </tr>\n",
       "    <tr>\n",
       "      <th>1</th>\n",
       "      <td>-0.010103</td>\n",
       "      <td>-0.008919</td>\n",
       "      <td>-0.004151</td>\n",
       "      <td>-0.296351</td>\n",
       "      <td>-0.308520</td>\n",
       "      <td>-0.141076</td>\n",
       "      <td>11</td>\n",
       "      <td>5663</td>\n",
       "      <td>123658</td>\n",
       "      <td>0</td>\n",
       "      <td>46220</td>\n",
       "      <td>34823</td>\n",
       "      <td>327</td>\n",
       "      <td>0</td>\n",
       "      <td>4</td>\n",
       "    </tr>\n",
       "    <tr>\n",
       "      <th>2</th>\n",
       "      <td>-0.010363</td>\n",
       "      <td>-0.008918</td>\n",
       "      <td>-0.004149</td>\n",
       "      <td>-0.296351</td>\n",
       "      <td>-0.308520</td>\n",
       "      <td>-0.141076</td>\n",
       "      <td>11</td>\n",
       "      <td>5663</td>\n",
       "      <td>123546</td>\n",
       "      <td>0</td>\n",
       "      <td>76319</td>\n",
       "      <td>34823</td>\n",
       "      <td>327</td>\n",
       "      <td>0</td>\n",
       "      <td>4</td>\n",
       "    </tr>\n",
       "    <tr>\n",
       "      <th>3</th>\n",
       "      <td>-0.010363</td>\n",
       "      <td>-0.008917</td>\n",
       "      <td>-0.004151</td>\n",
       "      <td>-0.296351</td>\n",
       "      <td>-0.308520</td>\n",
       "      <td>-0.141076</td>\n",
       "      <td>11</td>\n",
       "      <td>5663</td>\n",
       "      <td>123606</td>\n",
       "      <td>0</td>\n",
       "      <td>452301</td>\n",
       "      <td>34823</td>\n",
       "      <td>327</td>\n",
       "      <td>0</td>\n",
       "      <td>4</td>\n",
       "    </tr>\n",
       "    <tr>\n",
       "      <th>4</th>\n",
       "      <td>-0.010623</td>\n",
       "      <td>-0.008919</td>\n",
       "      <td>-0.004149</td>\n",
       "      <td>-0.296351</td>\n",
       "      <td>-0.308520</td>\n",
       "      <td>-0.141076</td>\n",
       "      <td>11</td>\n",
       "      <td>5663</td>\n",
       "      <td>123487</td>\n",
       "      <td>0</td>\n",
       "      <td>79211</td>\n",
       "      <td>34823</td>\n",
       "      <td>327</td>\n",
       "      <td>0</td>\n",
       "      <td>4</td>\n",
       "    </tr>\n",
       "  </tbody>\n",
       "</table>\n",
       "</div>"
      ],
      "text/plain": [
       "   TotalPackets  TotalBytes  SourceBytes  PacketsSec  TotalBytesSec  \\\n",
       "0     -0.008024   -0.008615    -0.003897   -0.296301      -0.308511   \n",
       "1     -0.010103   -0.008919    -0.004151   -0.296351      -0.308520   \n",
       "2     -0.010363   -0.008918    -0.004149   -0.296351      -0.308520   \n",
       "3     -0.010363   -0.008917    -0.004151   -0.296351      -0.308520   \n",
       "4     -0.010623   -0.008919    -0.004149   -0.296351      -0.308520   \n",
       "\n",
       "   SourceBytesSec  Protocol  SrcIPAddress  SrcPort  Direction  DestIPAddress  \\\n",
       "0       -0.141071        11          5663   123467          0         475015   \n",
       "1       -0.141076        11          5663   123658          0          46220   \n",
       "2       -0.141076        11          5663   123546          0          76319   \n",
       "3       -0.141076        11          5663   123606          0         452301   \n",
       "4       -0.141076        11          5663   123487          0          79211   \n",
       "\n",
       "   DestPort  State  SrcTypeService  DestTypeService  \n",
       "0     57944    120               0                0  \n",
       "1     34823    327               0                4  \n",
       "2     34823    327               0                4  \n",
       "3     34823    327               0                4  \n",
       "4     34823    327               0                4  "
      ]
     },
     "execution_count": 6,
     "metadata": {},
     "output_type": "execute_result"
    }
   ],
   "source": [
    "train.head()"
   ]
  },
  {
   "cell_type": "code",
   "execution_count": 4,
   "metadata": {},
   "outputs": [
    {
     "data": {
      "text/plain": [
       "IncrementalPCA(n_components=10)"
      ]
     },
     "execution_count": 4,
     "metadata": {},
     "output_type": "execute_result"
    }
   ],
   "source": [
    "pca = IncrementalPCA(n_components=10)\n",
    "pca.fit(train)"
   ]
  },
  {
   "cell_type": "code",
   "execution_count": 5,
   "metadata": {},
   "outputs": [
    {
     "name": "stdout",
     "output_type": "stream",
     "text": [
      "[0.97422468 0.9939313  0.99982038 0.99999984 1.         1.\n",
      " 1.         1.         1.         1.        ]\n"
     ]
    }
   ],
   "source": [
    "print(pca.explained_variance_ratio_.cumsum())"
   ]
  },
  {
   "cell_type": "code",
   "execution_count": 7,
   "metadata": {},
   "outputs": [
    {
     "data": {
      "text/plain": [
       "IncrementalPCA(n_components=3)"
      ]
     },
     "execution_count": 7,
     "metadata": {},
     "output_type": "execute_result"
    }
   ],
   "source": [
    "pca = IncrementalPCA(n_components=3)\n",
    "pca.fit(train)"
   ]
  },
  {
   "cell_type": "code",
   "execution_count": 8,
   "metadata": {},
   "outputs": [],
   "source": [
    "rawTrainPCA = pca.transform(train)"
   ]
  },
  {
   "cell_type": "code",
   "execution_count": 9,
   "metadata": {},
   "outputs": [],
   "source": [
    "trainPCA = pd.DataFrame(data = rawTrainPCA, columns = ['PC1','PC2','PC3'])"
   ]
  },
  {
   "cell_type": "code",
   "execution_count": 10,
   "metadata": {},
   "outputs": [
    {
     "data": {
      "text/html": [
       "<div>\n",
       "<style scoped>\n",
       "    .dataframe tbody tr th:only-of-type {\n",
       "        vertical-align: middle;\n",
       "    }\n",
       "\n",
       "    .dataframe tbody tr th {\n",
       "        vertical-align: top;\n",
       "    }\n",
       "\n",
       "    .dataframe thead th {\n",
       "        text-align: right;\n",
       "    }\n",
       "</style>\n",
       "<table border=\"1\" class=\"dataframe\">\n",
       "  <thead>\n",
       "    <tr style=\"text-align: right;\">\n",
       "      <th></th>\n",
       "      <th>PC1</th>\n",
       "      <th>PC2</th>\n",
       "      <th>PC3</th>\n",
       "    </tr>\n",
       "  </thead>\n",
       "  <tbody>\n",
       "    <tr>\n",
       "      <th>0</th>\n",
       "      <td>277104.332320</td>\n",
       "      <td>17405.523770</td>\n",
       "      <td>-13546.742781</td>\n",
       "    </tr>\n",
       "    <tr>\n",
       "      <th>1</th>\n",
       "      <td>-150864.801811</td>\n",
       "      <td>-435.860958</td>\n",
       "      <td>-43929.108886</td>\n",
       "    </tr>\n",
       "    <tr>\n",
       "      <th>2</th>\n",
       "      <td>-120787.105699</td>\n",
       "      <td>572.759831</td>\n",
       "      <td>-43403.206845</td>\n",
       "    </tr>\n",
       "    <tr>\n",
       "      <th>3</th>\n",
       "      <td>254876.957762</td>\n",
       "      <td>14623.397761</td>\n",
       "      <td>-36966.671201</td>\n",
       "    </tr>\n",
       "    <tr>\n",
       "      <th>4</th>\n",
       "      <td>-117895.439420</td>\n",
       "      <td>621.683934</td>\n",
       "      <td>-43348.286842</td>\n",
       "    </tr>\n",
       "    <tr>\n",
       "      <th>5</th>\n",
       "      <td>-122280.272273</td>\n",
       "      <td>556.994066</td>\n",
       "      <td>-43432.427650</td>\n",
       "    </tr>\n",
       "    <tr>\n",
       "      <th>6</th>\n",
       "      <td>-147052.568153</td>\n",
       "      <td>-446.286224</td>\n",
       "      <td>-43849.905926</td>\n",
       "    </tr>\n",
       "    <tr>\n",
       "      <th>7</th>\n",
       "      <td>356751.773560</td>\n",
       "      <td>18376.685128</td>\n",
       "      <td>-35215.996288</td>\n",
       "    </tr>\n",
       "    <tr>\n",
       "      <th>8</th>\n",
       "      <td>296015.201702</td>\n",
       "      <td>16188.382543</td>\n",
       "      <td>-36264.207679</td>\n",
       "    </tr>\n",
       "    <tr>\n",
       "      <th>9</th>\n",
       "      <td>299319.651267</td>\n",
       "      <td>16389.146666</td>\n",
       "      <td>-36214.592959</td>\n",
       "    </tr>\n",
       "  </tbody>\n",
       "</table>\n",
       "</div>"
      ],
      "text/plain": [
       "             PC1           PC2           PC3\n",
       "0  277104.332320  17405.523770 -13546.742781\n",
       "1 -150864.801811   -435.860958 -43929.108886\n",
       "2 -120787.105699    572.759831 -43403.206845\n",
       "3  254876.957762  14623.397761 -36966.671201\n",
       "4 -117895.439420    621.683934 -43348.286842\n",
       "5 -122280.272273    556.994066 -43432.427650\n",
       "6 -147052.568153   -446.286224 -43849.905926\n",
       "7  356751.773560  18376.685128 -35215.996288\n",
       "8  296015.201702  16188.382543 -36264.207679\n",
       "9  299319.651267  16389.146666 -36214.592959"
      ]
     },
     "execution_count": 10,
     "metadata": {},
     "output_type": "execute_result"
    }
   ],
   "source": [
    "trainPCA.head(10)"
   ]
  },
  {
   "cell_type": "code",
   "execution_count": 11,
   "metadata": {},
   "outputs": [],
   "source": [
    "trainPCA.to_csv('../../ml-data/cyberattack_detection/3_selected_features/A1_train_data_PCA.csv', sep=',', index=False)"
   ]
  },
  {
   "cell_type": "markdown",
   "metadata": {},
   "source": [
    "### Test data"
   ]
  },
  {
   "cell_type": "code",
   "execution_count": 12,
   "metadata": {},
   "outputs": [],
   "source": [
    "test = pd.read_csv('../../ml-data/cyberattack_detection/2_processed_data/A1_test_data.csv', sep=',')"
   ]
  },
  {
   "cell_type": "code",
   "execution_count": 13,
   "metadata": {},
   "outputs": [],
   "source": [
    "rawTestPCA = pca.transform(test)"
   ]
  },
  {
   "cell_type": "code",
   "execution_count": 14,
   "metadata": {},
   "outputs": [],
   "source": [
    "testPCA = pd.DataFrame(data = rawTestPCA, columns = ['PC1','PC2','PC3'])"
   ]
  },
  {
   "cell_type": "code",
   "execution_count": 15,
   "metadata": {},
   "outputs": [
    {
     "data": {
      "text/html": [
       "<div>\n",
       "<style scoped>\n",
       "    .dataframe tbody tr th:only-of-type {\n",
       "        vertical-align: middle;\n",
       "    }\n",
       "\n",
       "    .dataframe tbody tr th {\n",
       "        vertical-align: top;\n",
       "    }\n",
       "\n",
       "    .dataframe thead th {\n",
       "        text-align: right;\n",
       "    }\n",
       "</style>\n",
       "<table border=\"1\" class=\"dataframe\">\n",
       "  <thead>\n",
       "    <tr style=\"text-align: right;\">\n",
       "      <th></th>\n",
       "      <th>PC1</th>\n",
       "      <th>PC2</th>\n",
       "      <th>PC3</th>\n",
       "    </tr>\n",
       "  </thead>\n",
       "  <tbody>\n",
       "    <tr>\n",
       "      <th>0</th>\n",
       "      <td>266640.93528</td>\n",
       "      <td>52110.060779</td>\n",
       "      <td>-43956.247892</td>\n",
       "    </tr>\n",
       "    <tr>\n",
       "      <th>1</th>\n",
       "      <td>266640.93528</td>\n",
       "      <td>52110.060779</td>\n",
       "      <td>-43956.247892</td>\n",
       "    </tr>\n",
       "    <tr>\n",
       "      <th>2</th>\n",
       "      <td>266640.93528</td>\n",
       "      <td>52110.060779</td>\n",
       "      <td>-43956.247892</td>\n",
       "    </tr>\n",
       "    <tr>\n",
       "      <th>3</th>\n",
       "      <td>266640.93528</td>\n",
       "      <td>52110.060779</td>\n",
       "      <td>-43956.247892</td>\n",
       "    </tr>\n",
       "    <tr>\n",
       "      <th>4</th>\n",
       "      <td>266640.93528</td>\n",
       "      <td>52110.060779</td>\n",
       "      <td>-43956.247892</td>\n",
       "    </tr>\n",
       "  </tbody>\n",
       "</table>\n",
       "</div>"
      ],
      "text/plain": [
       "            PC1           PC2           PC3\n",
       "0  266640.93528  52110.060779 -43956.247892\n",
       "1  266640.93528  52110.060779 -43956.247892\n",
       "2  266640.93528  52110.060779 -43956.247892\n",
       "3  266640.93528  52110.060779 -43956.247892\n",
       "4  266640.93528  52110.060779 -43956.247892"
      ]
     },
     "execution_count": 15,
     "metadata": {},
     "output_type": "execute_result"
    }
   ],
   "source": [
    "testPCA.head()"
   ]
  },
  {
   "cell_type": "code",
   "execution_count": 16,
   "metadata": {},
   "outputs": [],
   "source": [
    "testPCA.to_csv('../../ml-data/cyberattack_detection/3_selected_features/A1_test_data_PCA.csv', sep=',', index=False)"
   ]
  },
  {
   "cell_type": "markdown",
   "metadata": {},
   "source": [
    "End"
   ]
  }
 ],
 "metadata": {
  "kernelspec": {
   "display_name": "Python 3",
   "language": "python",
   "name": "python3"
  },
  "language_info": {
   "codemirror_mode": {
    "name": "ipython",
    "version": 3
   },
   "file_extension": ".py",
   "mimetype": "text/x-python",
   "name": "python",
   "nbconvert_exporter": "python",
   "pygments_lexer": "ipython3",
   "version": "3.8.5"
  }
 },
 "nbformat": 4,
 "nbformat_minor": 4
}
