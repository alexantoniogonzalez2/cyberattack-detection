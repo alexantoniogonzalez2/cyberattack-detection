{
 "cells": [
  {
   "cell_type": "code",
   "execution_count": 1,
   "metadata": {},
   "outputs": [],
   "source": [
    "import pandas as pd\n",
    "import matplotlib.pyplot as plt\n",
    "from sklearn.feature_selection import VarianceThreshold"
   ]
  },
  {
   "cell_type": "markdown",
   "metadata": {},
   "source": [
    "### Train data"
   ]
  },
  {
   "cell_type": "code",
   "execution_count": 2,
   "metadata": {},
   "outputs": [],
   "source": [
    "train = pd.read_csv('../../ml-data/cyberattack_detection/2_processed_data/A1_train_data.csv', sep=',')"
   ]
  },
  {
   "cell_type": "code",
   "execution_count": 3,
   "metadata": {},
   "outputs": [
    {
     "data": {
      "text/plain": [
       "TotalPackets       1.000000e+00\n",
       "TotalBytes         1.000000e+00\n",
       "SourceBytes        1.000000e+00\n",
       "PacketsSec         1.000000e+00\n",
       "TotalBytesSec      1.000000e+00\n",
       "SourceBytesSec     1.000000e+00\n",
       "Protocol           4.323418e+00\n",
       "SrcIPAddress       1.087833e+07\n",
       "SrcPort            1.128722e+09\n",
       "Direction          8.882026e-01\n",
       "DestIPAddress      5.283201e+10\n",
       "DestPort           3.477727e+08\n",
       "State              1.154620e+04\n",
       "SrcTypeService     3.679547e-01\n",
       "DestTypeService    1.647496e+00\n",
       "dtype: float64"
      ]
     },
     "execution_count": 3,
     "metadata": {},
     "output_type": "execute_result"
    }
   ],
   "source": [
    "train.var()"
   ]
  },
  {
   "cell_type": "code",
   "execution_count": 4,
   "metadata": {},
   "outputs": [],
   "source": [
    "varianceThreshold = VarianceThreshold(0.9)"
   ]
  },
  {
   "cell_type": "code",
   "execution_count": 5,
   "metadata": {},
   "outputs": [
    {
     "data": {
      "text/plain": [
       "VarianceThreshold(threshold=0.9)"
      ]
     },
     "execution_count": 5,
     "metadata": {},
     "output_type": "execute_result"
    }
   ],
   "source": [
    "varianceThreshold.fit(train)"
   ]
  },
  {
   "cell_type": "code",
   "execution_count": 6,
   "metadata": {},
   "outputs": [
    {
     "data": {
      "text/plain": [
       "array([ True,  True,  True,  True,  True,  True,  True,  True,  True,\n",
       "       False,  True,  True,  True, False,  True])"
      ]
     },
     "execution_count": 6,
     "metadata": {},
     "output_type": "execute_result"
    }
   ],
   "source": [
    "varianceThreshold.get_support()"
   ]
  },
  {
   "cell_type": "code",
   "execution_count": 7,
   "metadata": {},
   "outputs": [],
   "source": [
    "rawTrainVT = varianceThreshold.transform(train)"
   ]
  },
  {
   "cell_type": "code",
   "execution_count": 8,
   "metadata": {},
   "outputs": [],
   "source": [
    "column_names = train.columns[varianceThreshold.get_support()].values"
   ]
  },
  {
   "cell_type": "code",
   "execution_count": 9,
   "metadata": {},
   "outputs": [],
   "source": [
    "trainVT = pd.DataFrame(data = rawTrainVT, columns = column_names)"
   ]
  },
  {
   "cell_type": "code",
   "execution_count": 10,
   "metadata": {},
   "outputs": [
    {
     "data": {
      "text/html": [
       "<div>\n",
       "<style scoped>\n",
       "    .dataframe tbody tr th:only-of-type {\n",
       "        vertical-align: middle;\n",
       "    }\n",
       "\n",
       "    .dataframe tbody tr th {\n",
       "        vertical-align: top;\n",
       "    }\n",
       "\n",
       "    .dataframe thead th {\n",
       "        text-align: right;\n",
       "    }\n",
       "</style>\n",
       "<table border=\"1\" class=\"dataframe\">\n",
       "  <thead>\n",
       "    <tr style=\"text-align: right;\">\n",
       "      <th></th>\n",
       "      <th>TotalPackets</th>\n",
       "      <th>TotalBytes</th>\n",
       "      <th>SourceBytes</th>\n",
       "      <th>PacketsSec</th>\n",
       "      <th>TotalBytesSec</th>\n",
       "      <th>SourceBytesSec</th>\n",
       "      <th>Protocol</th>\n",
       "      <th>SrcIPAddress</th>\n",
       "      <th>SrcPort</th>\n",
       "      <th>DestIPAddress</th>\n",
       "      <th>DestPort</th>\n",
       "      <th>State</th>\n",
       "      <th>DestTypeService</th>\n",
       "    </tr>\n",
       "  </thead>\n",
       "  <tbody>\n",
       "    <tr>\n",
       "      <th>0</th>\n",
       "      <td>-0.008024</td>\n",
       "      <td>-0.008615</td>\n",
       "      <td>-0.003897</td>\n",
       "      <td>-0.296301</td>\n",
       "      <td>-0.308511</td>\n",
       "      <td>-0.141071</td>\n",
       "      <td>11.0</td>\n",
       "      <td>5663.0</td>\n",
       "      <td>123467.0</td>\n",
       "      <td>475015.0</td>\n",
       "      <td>57944.0</td>\n",
       "      <td>120.0</td>\n",
       "      <td>0.0</td>\n",
       "    </tr>\n",
       "    <tr>\n",
       "      <th>1</th>\n",
       "      <td>-0.010103</td>\n",
       "      <td>-0.008919</td>\n",
       "      <td>-0.004151</td>\n",
       "      <td>-0.296351</td>\n",
       "      <td>-0.308520</td>\n",
       "      <td>-0.141076</td>\n",
       "      <td>11.0</td>\n",
       "      <td>5663.0</td>\n",
       "      <td>123658.0</td>\n",
       "      <td>46220.0</td>\n",
       "      <td>34823.0</td>\n",
       "      <td>327.0</td>\n",
       "      <td>4.0</td>\n",
       "    </tr>\n",
       "    <tr>\n",
       "      <th>2</th>\n",
       "      <td>-0.010363</td>\n",
       "      <td>-0.008918</td>\n",
       "      <td>-0.004149</td>\n",
       "      <td>-0.296351</td>\n",
       "      <td>-0.308520</td>\n",
       "      <td>-0.141076</td>\n",
       "      <td>11.0</td>\n",
       "      <td>5663.0</td>\n",
       "      <td>123546.0</td>\n",
       "      <td>76319.0</td>\n",
       "      <td>34823.0</td>\n",
       "      <td>327.0</td>\n",
       "      <td>4.0</td>\n",
       "    </tr>\n",
       "    <tr>\n",
       "      <th>3</th>\n",
       "      <td>-0.010363</td>\n",
       "      <td>-0.008917</td>\n",
       "      <td>-0.004151</td>\n",
       "      <td>-0.296351</td>\n",
       "      <td>-0.308520</td>\n",
       "      <td>-0.141076</td>\n",
       "      <td>11.0</td>\n",
       "      <td>5663.0</td>\n",
       "      <td>123606.0</td>\n",
       "      <td>452301.0</td>\n",
       "      <td>34823.0</td>\n",
       "      <td>327.0</td>\n",
       "      <td>4.0</td>\n",
       "    </tr>\n",
       "    <tr>\n",
       "      <th>4</th>\n",
       "      <td>-0.010623</td>\n",
       "      <td>-0.008919</td>\n",
       "      <td>-0.004149</td>\n",
       "      <td>-0.296351</td>\n",
       "      <td>-0.308520</td>\n",
       "      <td>-0.141076</td>\n",
       "      <td>11.0</td>\n",
       "      <td>5663.0</td>\n",
       "      <td>123487.0</td>\n",
       "      <td>79211.0</td>\n",
       "      <td>34823.0</td>\n",
       "      <td>327.0</td>\n",
       "      <td>4.0</td>\n",
       "    </tr>\n",
       "    <tr>\n",
       "      <th>5</th>\n",
       "      <td>-0.010623</td>\n",
       "      <td>-0.008919</td>\n",
       "      <td>-0.004150</td>\n",
       "      <td>-0.296351</td>\n",
       "      <td>-0.308520</td>\n",
       "      <td>-0.141076</td>\n",
       "      <td>11.0</td>\n",
       "      <td>5663.0</td>\n",
       "      <td>123586.0</td>\n",
       "      <td>74826.0</td>\n",
       "      <td>34823.0</td>\n",
       "      <td>327.0</td>\n",
       "      <td>4.0</td>\n",
       "    </tr>\n",
       "    <tr>\n",
       "      <th>6</th>\n",
       "      <td>-0.010623</td>\n",
       "      <td>-0.008918</td>\n",
       "      <td>-0.004149</td>\n",
       "      <td>-0.296351</td>\n",
       "      <td>-0.308520</td>\n",
       "      <td>-0.141076</td>\n",
       "      <td>11.0</td>\n",
       "      <td>5663.0</td>\n",
       "      <td>123505.0</td>\n",
       "      <td>50030.0</td>\n",
       "      <td>34823.0</td>\n",
       "      <td>327.0</td>\n",
       "      <td>4.0</td>\n",
       "    </tr>\n",
       "    <tr>\n",
       "      <th>7</th>\n",
       "      <td>-0.010103</td>\n",
       "      <td>-0.008918</td>\n",
       "      <td>-0.004151</td>\n",
       "      <td>-0.296351</td>\n",
       "      <td>-0.308520</td>\n",
       "      <td>-0.141076</td>\n",
       "      <td>11.0</td>\n",
       "      <td>5663.0</td>\n",
       "      <td>123565.0</td>\n",
       "      <td>554260.0</td>\n",
       "      <td>34823.0</td>\n",
       "      <td>327.0</td>\n",
       "      <td>4.0</td>\n",
       "    </tr>\n",
       "    <tr>\n",
       "      <th>8</th>\n",
       "      <td>-0.010103</td>\n",
       "      <td>-0.008918</td>\n",
       "      <td>-0.004146</td>\n",
       "      <td>-0.296351</td>\n",
       "      <td>-0.308520</td>\n",
       "      <td>-0.141076</td>\n",
       "      <td>11.0</td>\n",
       "      <td>5663.0</td>\n",
       "      <td>123639.0</td>\n",
       "      <td>493475.0</td>\n",
       "      <td>34823.0</td>\n",
       "      <td>327.0</td>\n",
       "      <td>4.0</td>\n",
       "    </tr>\n",
       "    <tr>\n",
       "      <th>9</th>\n",
       "      <td>-0.010103</td>\n",
       "      <td>-0.008919</td>\n",
       "      <td>-0.004147</td>\n",
       "      <td>-0.296351</td>\n",
       "      <td>-0.308520</td>\n",
       "      <td>-0.141076</td>\n",
       "      <td>11.0</td>\n",
       "      <td>5663.0</td>\n",
       "      <td>123717.0</td>\n",
       "      <td>496785.0</td>\n",
       "      <td>34823.0</td>\n",
       "      <td>327.0</td>\n",
       "      <td>4.0</td>\n",
       "    </tr>\n",
       "  </tbody>\n",
       "</table>\n",
       "</div>"
      ],
      "text/plain": [
       "   TotalPackets  TotalBytes  SourceBytes  PacketsSec  TotalBytesSec  \\\n",
       "0     -0.008024   -0.008615    -0.003897   -0.296301      -0.308511   \n",
       "1     -0.010103   -0.008919    -0.004151   -0.296351      -0.308520   \n",
       "2     -0.010363   -0.008918    -0.004149   -0.296351      -0.308520   \n",
       "3     -0.010363   -0.008917    -0.004151   -0.296351      -0.308520   \n",
       "4     -0.010623   -0.008919    -0.004149   -0.296351      -0.308520   \n",
       "5     -0.010623   -0.008919    -0.004150   -0.296351      -0.308520   \n",
       "6     -0.010623   -0.008918    -0.004149   -0.296351      -0.308520   \n",
       "7     -0.010103   -0.008918    -0.004151   -0.296351      -0.308520   \n",
       "8     -0.010103   -0.008918    -0.004146   -0.296351      -0.308520   \n",
       "9     -0.010103   -0.008919    -0.004147   -0.296351      -0.308520   \n",
       "\n",
       "   SourceBytesSec  Protocol  SrcIPAddress   SrcPort  DestIPAddress  DestPort  \\\n",
       "0       -0.141071      11.0        5663.0  123467.0       475015.0   57944.0   \n",
       "1       -0.141076      11.0        5663.0  123658.0        46220.0   34823.0   \n",
       "2       -0.141076      11.0        5663.0  123546.0        76319.0   34823.0   \n",
       "3       -0.141076      11.0        5663.0  123606.0       452301.0   34823.0   \n",
       "4       -0.141076      11.0        5663.0  123487.0        79211.0   34823.0   \n",
       "5       -0.141076      11.0        5663.0  123586.0        74826.0   34823.0   \n",
       "6       -0.141076      11.0        5663.0  123505.0        50030.0   34823.0   \n",
       "7       -0.141076      11.0        5663.0  123565.0       554260.0   34823.0   \n",
       "8       -0.141076      11.0        5663.0  123639.0       493475.0   34823.0   \n",
       "9       -0.141076      11.0        5663.0  123717.0       496785.0   34823.0   \n",
       "\n",
       "   State  DestTypeService  \n",
       "0  120.0              0.0  \n",
       "1  327.0              4.0  \n",
       "2  327.0              4.0  \n",
       "3  327.0              4.0  \n",
       "4  327.0              4.0  \n",
       "5  327.0              4.0  \n",
       "6  327.0              4.0  \n",
       "7  327.0              4.0  \n",
       "8  327.0              4.0  \n",
       "9  327.0              4.0  "
      ]
     },
     "execution_count": 10,
     "metadata": {},
     "output_type": "execute_result"
    }
   ],
   "source": [
    "trainVT.head(10)"
   ]
  },
  {
   "cell_type": "code",
   "execution_count": 11,
   "metadata": {},
   "outputs": [],
   "source": [
    "trainVT.to_csv('../../ml-data/cyberattack_detection/3_selected_features/A1_train_data_VT.csv', sep=',', index=False)"
   ]
  },
  {
   "cell_type": "markdown",
   "metadata": {},
   "source": [
    "### Test data"
   ]
  },
  {
   "cell_type": "code",
   "execution_count": 12,
   "metadata": {},
   "outputs": [],
   "source": [
    "test = pd.read_csv('../../ml-data/cyberattack_detection/2_processed_data/A1_test_data.csv', sep=',')"
   ]
  },
  {
   "cell_type": "code",
   "execution_count": 13,
   "metadata": {},
   "outputs": [],
   "source": [
    "rawTestTV = varianceThreshold.transform(test)"
   ]
  },
  {
   "cell_type": "code",
   "execution_count": 14,
   "metadata": {},
   "outputs": [],
   "source": [
    "testTV = pd.DataFrame(data = rawTestTV , columns = column_names)"
   ]
  },
  {
   "cell_type": "code",
   "execution_count": 15,
   "metadata": {},
   "outputs": [
    {
     "data": {
      "text/html": [
       "<div>\n",
       "<style scoped>\n",
       "    .dataframe tbody tr th:only-of-type {\n",
       "        vertical-align: middle;\n",
       "    }\n",
       "\n",
       "    .dataframe tbody tr th {\n",
       "        vertical-align: top;\n",
       "    }\n",
       "\n",
       "    .dataframe thead th {\n",
       "        text-align: right;\n",
       "    }\n",
       "</style>\n",
       "<table border=\"1\" class=\"dataframe\">\n",
       "  <thead>\n",
       "    <tr style=\"text-align: right;\">\n",
       "      <th></th>\n",
       "      <th>TotalPackets</th>\n",
       "      <th>TotalBytes</th>\n",
       "      <th>SourceBytes</th>\n",
       "      <th>PacketsSec</th>\n",
       "      <th>TotalBytesSec</th>\n",
       "      <th>SourceBytesSec</th>\n",
       "      <th>Protocol</th>\n",
       "      <th>SrcIPAddress</th>\n",
       "      <th>SrcPort</th>\n",
       "      <th>DestIPAddress</th>\n",
       "      <th>DestPort</th>\n",
       "      <th>State</th>\n",
       "      <th>DestTypeService</th>\n",
       "    </tr>\n",
       "  </thead>\n",
       "  <tbody>\n",
       "    <tr>\n",
       "      <th>0</th>\n",
       "      <td>0.010949</td>\n",
       "      <td>-0.007308</td>\n",
       "      <td>-0.001807</td>\n",
       "      <td>-0.296307</td>\n",
       "      <td>-0.308519</td>\n",
       "      <td>-0.141075</td>\n",
       "      <td>11.0</td>\n",
       "      <td>1638.0</td>\n",
       "      <td>161264.0</td>\n",
       "      <td>465335.0</td>\n",
       "      <td>31090.0</td>\n",
       "      <td>189.0</td>\n",
       "      <td>0.0</td>\n",
       "    </tr>\n",
       "    <tr>\n",
       "      <th>1</th>\n",
       "      <td>0.009130</td>\n",
       "      <td>-0.007336</td>\n",
       "      <td>-0.001802</td>\n",
       "      <td>-0.296307</td>\n",
       "      <td>-0.308518</td>\n",
       "      <td>-0.141075</td>\n",
       "      <td>11.0</td>\n",
       "      <td>1638.0</td>\n",
       "      <td>161264.0</td>\n",
       "      <td>465335.0</td>\n",
       "      <td>31090.0</td>\n",
       "      <td>189.0</td>\n",
       "      <td>0.0</td>\n",
       "    </tr>\n",
       "    <tr>\n",
       "      <th>2</th>\n",
       "      <td>0.011209</td>\n",
       "      <td>-0.007299</td>\n",
       "      <td>-0.001890</td>\n",
       "      <td>-0.296307</td>\n",
       "      <td>-0.308518</td>\n",
       "      <td>-0.141075</td>\n",
       "      <td>11.0</td>\n",
       "      <td>1638.0</td>\n",
       "      <td>161264.0</td>\n",
       "      <td>465335.0</td>\n",
       "      <td>31090.0</td>\n",
       "      <td>189.0</td>\n",
       "      <td>0.0</td>\n",
       "    </tr>\n",
       "    <tr>\n",
       "      <th>3</th>\n",
       "      <td>0.013548</td>\n",
       "      <td>-0.006943</td>\n",
       "      <td>-0.001699</td>\n",
       "      <td>-0.296307</td>\n",
       "      <td>-0.308518</td>\n",
       "      <td>-0.141075</td>\n",
       "      <td>11.0</td>\n",
       "      <td>1638.0</td>\n",
       "      <td>161264.0</td>\n",
       "      <td>465335.0</td>\n",
       "      <td>31090.0</td>\n",
       "      <td>189.0</td>\n",
       "      <td>0.0</td>\n",
       "    </tr>\n",
       "    <tr>\n",
       "      <th>4</th>\n",
       "      <td>0.009650</td>\n",
       "      <td>-0.007310</td>\n",
       "      <td>-0.002012</td>\n",
       "      <td>-0.296307</td>\n",
       "      <td>-0.308518</td>\n",
       "      <td>-0.141075</td>\n",
       "      <td>11.0</td>\n",
       "      <td>1638.0</td>\n",
       "      <td>161264.0</td>\n",
       "      <td>465335.0</td>\n",
       "      <td>31090.0</td>\n",
       "      <td>189.0</td>\n",
       "      <td>0.0</td>\n",
       "    </tr>\n",
       "  </tbody>\n",
       "</table>\n",
       "</div>"
      ],
      "text/plain": [
       "   TotalPackets  TotalBytes  SourceBytes  PacketsSec  TotalBytesSec  \\\n",
       "0      0.010949   -0.007308    -0.001807   -0.296307      -0.308519   \n",
       "1      0.009130   -0.007336    -0.001802   -0.296307      -0.308518   \n",
       "2      0.011209   -0.007299    -0.001890   -0.296307      -0.308518   \n",
       "3      0.013548   -0.006943    -0.001699   -0.296307      -0.308518   \n",
       "4      0.009650   -0.007310    -0.002012   -0.296307      -0.308518   \n",
       "\n",
       "   SourceBytesSec  Protocol  SrcIPAddress   SrcPort  DestIPAddress  DestPort  \\\n",
       "0       -0.141075      11.0        1638.0  161264.0       465335.0   31090.0   \n",
       "1       -0.141075      11.0        1638.0  161264.0       465335.0   31090.0   \n",
       "2       -0.141075      11.0        1638.0  161264.0       465335.0   31090.0   \n",
       "3       -0.141075      11.0        1638.0  161264.0       465335.0   31090.0   \n",
       "4       -0.141075      11.0        1638.0  161264.0       465335.0   31090.0   \n",
       "\n",
       "   State  DestTypeService  \n",
       "0  189.0              0.0  \n",
       "1  189.0              0.0  \n",
       "2  189.0              0.0  \n",
       "3  189.0              0.0  \n",
       "4  189.0              0.0  "
      ]
     },
     "execution_count": 15,
     "metadata": {},
     "output_type": "execute_result"
    }
   ],
   "source": [
    "testTV.head()"
   ]
  },
  {
   "cell_type": "code",
   "execution_count": 16,
   "metadata": {},
   "outputs": [],
   "source": [
    "testTV.to_csv('../../ml-data/cyberattack_detection/3_selected_features/A1_test_data_VT.csv', sep=',', index=False)"
   ]
  },
  {
   "cell_type": "markdown",
   "metadata": {},
   "source": [
    "End"
   ]
  }
 ],
 "metadata": {
  "kernelspec": {
   "display_name": "Python 3",
   "language": "python",
   "name": "python3"
  },
  "language_info": {
   "codemirror_mode": {
    "name": "ipython",
    "version": 3
   },
   "file_extension": ".py",
   "mimetype": "text/x-python",
   "name": "python",
   "nbconvert_exporter": "python",
   "pygments_lexer": "ipython3",
   "version": "3.8.5"
  }
 },
 "nbformat": 4,
 "nbformat_minor": 4
}
