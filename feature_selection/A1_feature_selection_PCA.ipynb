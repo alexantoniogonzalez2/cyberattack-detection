{
 "cells": [
  {
   "cell_type": "code",
   "execution_count": 3,
   "metadata": {},
   "outputs": [],
   "source": [
    "import pandas as pd\n",
    "import matplotlib.pyplot as plt\n",
    "from sklearn.decomposition import PCA,IncrementalPCA\n",
    "import seaborn as sns"
   ]
  },
  {
   "cell_type": "markdown",
   "metadata": {},
   "source": [
    "### Train data"
   ]
  },
  {
   "cell_type": "code",
   "execution_count": 4,
   "metadata": {},
   "outputs": [],
   "source": [
    "train = pd.read_csv('../ml-data/cyberattack_detection/2_processed_data/A1_train_data.csv', sep=',')\n"
   ]
  },
  {
   "cell_type": "code",
   "execution_count": 3,
   "metadata": {},
   "outputs": [
    {
     "data": {
      "text/plain": [
       "Duration                1.000000e+00\n",
       "TotalPackets            1.000000e+00\n",
       "TotalBytes              1.000000e+00\n",
       "SourceBytes             1.000000e+00\n",
       "Protocol_arp            6.486910e-04\n",
       "Protocol_esp            1.512744e-06\n",
       "Protocol_gre            7.203555e-08\n",
       "Protocol_icmp           5.140972e-02\n",
       "Protocol_igmp           2.671467e-03\n",
       "Protocol_ipv6           6.195019e-06\n",
       "Protocol_ipv6-icmp      7.707745e-06\n",
       "Protocol_pim            9.652671e-06\n",
       "Protocol_rsvp           1.440711e-07\n",
       "Protocol_rtcp           2.225403e-04\n",
       "Protocol_rtp            5.268063e-04\n",
       "Protocol_tcp            1.934250e-01\n",
       "Protocol_udp            2.178207e-01\n",
       "Protocol_udt            1.152568e-06\n",
       "Direction_->            2.229932e-01\n",
       "Direction_<-            1.055683e-02\n",
       "Direction_<->           2.263865e-01\n",
       "SrcTypeService_-1.0     1.449210e-02\n",
       "SrcTypeService_0.0      1.529803e-02\n",
       "SrcTypeService_1.0      2.694057e-05\n",
       "SrcTypeService_2.0      1.772043e-05\n",
       "SrcTypeService_3.0      2.193001e-04\n",
       "SrcTypeService_192.0    5.667423e-04\n",
       "DestTypeService_-1.0    1.029216e-01\n",
       "DestTypeService_0.0     1.030645e-01\n",
       "DestTypeService_1.0     6.267054e-06\n",
       "DestTypeService_2.0     9.025240e-05\n",
       "DestTypeService_3.0     8.982027e-05\n",
       "dtype: float64"
      ]
     },
     "execution_count": 3,
     "metadata": {},
     "output_type": "execute_result"
    }
   ],
   "source": [
    "train.var()"
   ]
  },
  {
   "cell_type": "code",
   "execution_count": 6,
   "metadata": {},
   "outputs": [
    {
     "data": {
      "text/plain": [
       "(13882035, 32)"
      ]
     },
     "execution_count": 6,
     "metadata": {},
     "output_type": "execute_result"
    }
   ],
   "source": [
    "train.shape"
   ]
  },
  {
   "cell_type": "code",
   "execution_count": 3,
   "metadata": {},
   "outputs": [],
   "source": [
    "pca = IncrementalPCA(n_components=10)"
   ]
  },
  {
   "cell_type": "code",
   "execution_count": 12,
   "metadata": {},
   "outputs": [
    {
     "data": {
      "text/plain": [
       "IncrementalPCA(n_components=10)"
      ]
     },
     "execution_count": 12,
     "metadata": {},
     "output_type": "execute_result"
    }
   ],
   "source": [
    "pca.fit(train)"
   ]
  },
  {
   "cell_type": "code",
   "execution_count": 13,
   "metadata": {},
   "outputs": [],
   "source": [
    "rawTrainPCA = pca.transform(train)"
   ]
  },
  {
   "cell_type": "code",
   "execution_count": 14,
   "metadata": {},
   "outputs": [],
   "source": [
    "trainPCA = pd.DataFrame(data = rawTrainPCA, columns = ['PC1','PC2','PC3','PC4','PC5','PC6','PC7','PC8','PC9','PC10'])"
   ]
  },
  {
   "cell_type": "code",
   "execution_count": 15,
   "metadata": {},
   "outputs": [
    {
     "data": {
      "text/html": [
       "<div>\n",
       "<style scoped>\n",
       "    .dataframe tbody tr th:only-of-type {\n",
       "        vertical-align: middle;\n",
       "    }\n",
       "\n",
       "    .dataframe tbody tr th {\n",
       "        vertical-align: top;\n",
       "    }\n",
       "\n",
       "    .dataframe thead th {\n",
       "        text-align: right;\n",
       "    }\n",
       "</style>\n",
       "<table border=\"1\" class=\"dataframe\">\n",
       "  <thead>\n",
       "    <tr style=\"text-align: right;\">\n",
       "      <th></th>\n",
       "      <th>PC1</th>\n",
       "      <th>PC2</th>\n",
       "      <th>PC3</th>\n",
       "      <th>PC4</th>\n",
       "      <th>PC5</th>\n",
       "      <th>PC6</th>\n",
       "      <th>PC7</th>\n",
       "      <th>PC8</th>\n",
       "      <th>PC9</th>\n",
       "      <th>PC10</th>\n",
       "    </tr>\n",
       "  </thead>\n",
       "  <tbody>\n",
       "    <tr>\n",
       "      <th>0</th>\n",
       "      <td>-0.003880</td>\n",
       "      <td>-0.461098</td>\n",
       "      <td>-1.188942</td>\n",
       "      <td>0.018107</td>\n",
       "      <td>0.541963</td>\n",
       "      <td>-0.010794</td>\n",
       "      <td>0.041620</td>\n",
       "      <td>0.055149</td>\n",
       "      <td>-0.000330</td>\n",
       "      <td>-0.001358</td>\n",
       "    </tr>\n",
       "    <tr>\n",
       "      <th>1</th>\n",
       "      <td>-0.007473</td>\n",
       "      <td>-0.599533</td>\n",
       "      <td>-1.519159</td>\n",
       "      <td>0.029847</td>\n",
       "      <td>-0.639408</td>\n",
       "      <td>-0.415963</td>\n",
       "      <td>-0.237650</td>\n",
       "      <td>-0.437798</td>\n",
       "      <td>-0.011286</td>\n",
       "      <td>-0.048951</td>\n",
       "    </tr>\n",
       "    <tr>\n",
       "      <th>2</th>\n",
       "      <td>-0.007635</td>\n",
       "      <td>-0.599531</td>\n",
       "      <td>-1.519159</td>\n",
       "      <td>0.029929</td>\n",
       "      <td>-0.639408</td>\n",
       "      <td>-0.415963</td>\n",
       "      <td>-0.237650</td>\n",
       "      <td>-0.437794</td>\n",
       "      <td>-0.011471</td>\n",
       "      <td>-0.048951</td>\n",
       "    </tr>\n",
       "    <tr>\n",
       "      <th>3</th>\n",
       "      <td>-0.007636</td>\n",
       "      <td>-0.599531</td>\n",
       "      <td>-1.519159</td>\n",
       "      <td>0.029927</td>\n",
       "      <td>-0.639408</td>\n",
       "      <td>-0.415963</td>\n",
       "      <td>-0.237650</td>\n",
       "      <td>-0.437794</td>\n",
       "      <td>-0.011472</td>\n",
       "      <td>-0.048951</td>\n",
       "    </tr>\n",
       "    <tr>\n",
       "      <th>4</th>\n",
       "      <td>-0.007799</td>\n",
       "      <td>-0.599529</td>\n",
       "      <td>-1.519160</td>\n",
       "      <td>0.030010</td>\n",
       "      <td>-0.639407</td>\n",
       "      <td>-0.415962</td>\n",
       "      <td>-0.237651</td>\n",
       "      <td>-0.437789</td>\n",
       "      <td>-0.011656</td>\n",
       "      <td>-0.048951</td>\n",
       "    </tr>\n",
       "    <tr>\n",
       "      <th>5</th>\n",
       "      <td>-0.007800</td>\n",
       "      <td>-0.599529</td>\n",
       "      <td>-1.519160</td>\n",
       "      <td>0.030009</td>\n",
       "      <td>-0.639407</td>\n",
       "      <td>-0.415962</td>\n",
       "      <td>-0.237651</td>\n",
       "      <td>-0.437789</td>\n",
       "      <td>-0.011656</td>\n",
       "      <td>-0.048951</td>\n",
       "    </tr>\n",
       "    <tr>\n",
       "      <th>6</th>\n",
       "      <td>-0.007798</td>\n",
       "      <td>-0.599529</td>\n",
       "      <td>-1.519160</td>\n",
       "      <td>0.030009</td>\n",
       "      <td>-0.639407</td>\n",
       "      <td>-0.415962</td>\n",
       "      <td>-0.237651</td>\n",
       "      <td>-0.437789</td>\n",
       "      <td>-0.011657</td>\n",
       "      <td>-0.048951</td>\n",
       "    </tr>\n",
       "    <tr>\n",
       "      <th>7</th>\n",
       "      <td>-0.007473</td>\n",
       "      <td>-0.599533</td>\n",
       "      <td>-1.519159</td>\n",
       "      <td>0.029847</td>\n",
       "      <td>-0.639408</td>\n",
       "      <td>-0.415963</td>\n",
       "      <td>-0.237650</td>\n",
       "      <td>-0.437798</td>\n",
       "      <td>-0.011286</td>\n",
       "      <td>-0.048951</td>\n",
       "    </tr>\n",
       "    <tr>\n",
       "      <th>8</th>\n",
       "      <td>-0.007471</td>\n",
       "      <td>-0.599534</td>\n",
       "      <td>-1.519159</td>\n",
       "      <td>0.029851</td>\n",
       "      <td>-0.639408</td>\n",
       "      <td>-0.415963</td>\n",
       "      <td>-0.237650</td>\n",
       "      <td>-0.437798</td>\n",
       "      <td>-0.011286</td>\n",
       "      <td>-0.048951</td>\n",
       "    </tr>\n",
       "    <tr>\n",
       "      <th>9</th>\n",
       "      <td>-0.007471</td>\n",
       "      <td>-0.599534</td>\n",
       "      <td>-1.519159</td>\n",
       "      <td>0.029850</td>\n",
       "      <td>-0.639408</td>\n",
       "      <td>-0.415963</td>\n",
       "      <td>-0.237650</td>\n",
       "      <td>-0.437798</td>\n",
       "      <td>-0.011286</td>\n",
       "      <td>-0.048951</td>\n",
       "    </tr>\n",
       "  </tbody>\n",
       "</table>\n",
       "</div>"
      ],
      "text/plain": [
       "        PC1       PC2       PC3       PC4       PC5       PC6       PC7  \\\n",
       "0 -0.003880 -0.461098 -1.188942  0.018107  0.541963 -0.010794  0.041620   \n",
       "1 -0.007473 -0.599533 -1.519159  0.029847 -0.639408 -0.415963 -0.237650   \n",
       "2 -0.007635 -0.599531 -1.519159  0.029929 -0.639408 -0.415963 -0.237650   \n",
       "3 -0.007636 -0.599531 -1.519159  0.029927 -0.639408 -0.415963 -0.237650   \n",
       "4 -0.007799 -0.599529 -1.519160  0.030010 -0.639407 -0.415962 -0.237651   \n",
       "5 -0.007800 -0.599529 -1.519160  0.030009 -0.639407 -0.415962 -0.237651   \n",
       "6 -0.007798 -0.599529 -1.519160  0.030009 -0.639407 -0.415962 -0.237651   \n",
       "7 -0.007473 -0.599533 -1.519159  0.029847 -0.639408 -0.415963 -0.237650   \n",
       "8 -0.007471 -0.599534 -1.519159  0.029851 -0.639408 -0.415963 -0.237650   \n",
       "9 -0.007471 -0.599534 -1.519159  0.029850 -0.639408 -0.415963 -0.237650   \n",
       "\n",
       "        PC8       PC9      PC10  \n",
       "0  0.055149 -0.000330 -0.001358  \n",
       "1 -0.437798 -0.011286 -0.048951  \n",
       "2 -0.437794 -0.011471 -0.048951  \n",
       "3 -0.437794 -0.011472 -0.048951  \n",
       "4 -0.437789 -0.011656 -0.048951  \n",
       "5 -0.437789 -0.011656 -0.048951  \n",
       "6 -0.437789 -0.011657 -0.048951  \n",
       "7 -0.437798 -0.011286 -0.048951  \n",
       "8 -0.437798 -0.011286 -0.048951  \n",
       "9 -0.437798 -0.011286 -0.048951  "
      ]
     },
     "execution_count": 15,
     "metadata": {},
     "output_type": "execute_result"
    }
   ],
   "source": [
    "trainPCA.head(10)"
   ]
  },
  {
   "cell_type": "code",
   "execution_count": 16,
   "metadata": {},
   "outputs": [],
   "source": [
    "trainPCA.to_csv('../ml-data/cyberattack_detection/3_selected_features/A1_train_data_PCA.csv', sep=',', index=False)"
   ]
  },
  {
   "cell_type": "markdown",
   "metadata": {},
   "source": [
    "### Test data"
   ]
  },
  {
   "cell_type": "code",
   "execution_count": 17,
   "metadata": {},
   "outputs": [],
   "source": [
    "test = pd.read_csv('../ml-data/cyberattack_detection/2_processed_data/A1_test_data.csv', sep=',')"
   ]
  },
  {
   "cell_type": "code",
   "execution_count": 21,
   "metadata": {},
   "outputs": [],
   "source": [
    "rawTestPCA = pca.transform(test)"
   ]
  },
  {
   "cell_type": "code",
   "execution_count": 22,
   "metadata": {},
   "outputs": [],
   "source": [
    "testPCA = pd.DataFrame(data = rawTestPCA, columns = ['PC1','PC2','PC3','PC4','PC5','PC6','PC7','PC8','PC9','PC10'])"
   ]
  },
  {
   "cell_type": "code",
   "execution_count": 23,
   "metadata": {},
   "outputs": [
    {
     "data": {
      "text/html": [
       "<div>\n",
       "<style scoped>\n",
       "    .dataframe tbody tr th:only-of-type {\n",
       "        vertical-align: middle;\n",
       "    }\n",
       "\n",
       "    .dataframe tbody tr th {\n",
       "        vertical-align: top;\n",
       "    }\n",
       "\n",
       "    .dataframe thead th {\n",
       "        text-align: right;\n",
       "    }\n",
       "</style>\n",
       "<table border=\"1\" class=\"dataframe\">\n",
       "  <thead>\n",
       "    <tr style=\"text-align: right;\">\n",
       "      <th></th>\n",
       "      <th>PC1</th>\n",
       "      <th>PC2</th>\n",
       "      <th>PC3</th>\n",
       "      <th>PC4</th>\n",
       "      <th>PC5</th>\n",
       "      <th>PC6</th>\n",
       "      <th>PC7</th>\n",
       "      <th>PC8</th>\n",
       "      <th>PC9</th>\n",
       "      <th>PC10</th>\n",
       "    </tr>\n",
       "  </thead>\n",
       "  <tbody>\n",
       "    <tr>\n",
       "      <th>0</th>\n",
       "      <td>0.131097</td>\n",
       "      <td>5.228972</td>\n",
       "      <td>-2.591029</td>\n",
       "      <td>0.049765</td>\n",
       "      <td>0.787731</td>\n",
       "      <td>0.047003</td>\n",
       "      <td>0.069721</td>\n",
       "      <td>0.033825</td>\n",
       "      <td>-0.006065</td>\n",
       "      <td>-0.007941</td>\n",
       "    </tr>\n",
       "    <tr>\n",
       "      <th>1</th>\n",
       "      <td>0.116630</td>\n",
       "      <td>4.604552</td>\n",
       "      <td>-2.437162</td>\n",
       "      <td>0.046377</td>\n",
       "      <td>0.760761</td>\n",
       "      <td>0.040661</td>\n",
       "      <td>0.066637</td>\n",
       "      <td>0.036163</td>\n",
       "      <td>-0.005335</td>\n",
       "      <td>-0.007218</td>\n",
       "    </tr>\n",
       "    <tr>\n",
       "      <th>2</th>\n",
       "      <td>0.122011</td>\n",
       "      <td>4.796521</td>\n",
       "      <td>-2.484469</td>\n",
       "      <td>0.046862</td>\n",
       "      <td>0.769050</td>\n",
       "      <td>0.042610</td>\n",
       "      <td>0.067587</td>\n",
       "      <td>0.035417</td>\n",
       "      <td>-0.004493</td>\n",
       "      <td>-0.007440</td>\n",
       "    </tr>\n",
       "    <tr>\n",
       "      <th>3</th>\n",
       "      <td>0.128372</td>\n",
       "      <td>5.011400</td>\n",
       "      <td>-2.537416</td>\n",
       "      <td>0.047548</td>\n",
       "      <td>0.778327</td>\n",
       "      <td>0.044793</td>\n",
       "      <td>0.068650</td>\n",
       "      <td>0.034589</td>\n",
       "      <td>-0.003770</td>\n",
       "      <td>-0.007688</td>\n",
       "    </tr>\n",
       "    <tr>\n",
       "      <th>4</th>\n",
       "      <td>0.119795</td>\n",
       "      <td>4.741542</td>\n",
       "      <td>-2.470922</td>\n",
       "      <td>0.046891</td>\n",
       "      <td>0.766677</td>\n",
       "      <td>0.042052</td>\n",
       "      <td>0.067314</td>\n",
       "      <td>0.035648</td>\n",
       "      <td>-0.005418</td>\n",
       "      <td>-0.007377</td>\n",
       "    </tr>\n",
       "  </tbody>\n",
       "</table>\n",
       "</div>"
      ],
      "text/plain": [
       "        PC1       PC2       PC3       PC4       PC5       PC6       PC7  \\\n",
       "0  0.131097  5.228972 -2.591029  0.049765  0.787731  0.047003  0.069721   \n",
       "1  0.116630  4.604552 -2.437162  0.046377  0.760761  0.040661  0.066637   \n",
       "2  0.122011  4.796521 -2.484469  0.046862  0.769050  0.042610  0.067587   \n",
       "3  0.128372  5.011400 -2.537416  0.047548  0.778327  0.044793  0.068650   \n",
       "4  0.119795  4.741542 -2.470922  0.046891  0.766677  0.042052  0.067314   \n",
       "\n",
       "        PC8       PC9      PC10  \n",
       "0  0.033825 -0.006065 -0.007941  \n",
       "1  0.036163 -0.005335 -0.007218  \n",
       "2  0.035417 -0.004493 -0.007440  \n",
       "3  0.034589 -0.003770 -0.007688  \n",
       "4  0.035648 -0.005418 -0.007377  "
      ]
     },
     "execution_count": 23,
     "metadata": {},
     "output_type": "execute_result"
    }
   ],
   "source": [
    "testPCA.head()"
   ]
  },
  {
   "cell_type": "code",
   "execution_count": 24,
   "metadata": {},
   "outputs": [],
   "source": [
    "testPCA.to_csv('../ml-data/cyberattack_detection/3_selected_features/A1_test_data_PCA.csv', sep=',', index=False)"
   ]
  },
  {
   "cell_type": "code",
   "execution_count": null,
   "metadata": {},
   "outputs": [],
   "source": []
  }
 ],
 "metadata": {
  "kernelspec": {
   "display_name": "Python 3",
   "language": "python",
   "name": "python3"
  },
  "language_info": {
   "codemirror_mode": {
    "name": "ipython",
    "version": 3
   },
   "file_extension": ".py",
   "mimetype": "text/x-python",
   "name": "python",
   "nbconvert_exporter": "python",
   "pygments_lexer": "ipython3",
   "version": "3.8.5"
  }
 },
 "nbformat": 4,
 "nbformat_minor": 4
}
