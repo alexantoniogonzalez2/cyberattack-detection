{
 "cells": [
  {
   "cell_type": "code",
   "execution_count": 2,
   "metadata": {},
   "outputs": [],
   "source": [
    "import pandas as pd\n",
    "import matplotlib.pyplot as plt\n",
    "from sklearn.feature_selection import VarianceThreshold\n",
    "import seaborn as sns"
   ]
  },
  {
   "cell_type": "markdown",
   "metadata": {},
   "source": [
    "### Train data"
   ]
  },
  {
   "cell_type": "code",
   "execution_count": 5,
   "metadata": {},
   "outputs": [],
   "source": [
    "train = pd.read_csv('../ml-data/cyberattack_detection/2_processed_data/A1_train_data.csv', sep=',')"
   ]
  },
  {
   "cell_type": "code",
   "execution_count": 11,
   "metadata": {},
   "outputs": [],
   "source": [
    "varianceThreshold = VarianceThreshold(0.1)"
   ]
  },
  {
   "cell_type": "code",
   "execution_count": 12,
   "metadata": {},
   "outputs": [
    {
     "data": {
      "text/plain": [
       "VarianceThreshold(threshold=0.1)"
      ]
     },
     "execution_count": 12,
     "metadata": {},
     "output_type": "execute_result"
    }
   ],
   "source": [
    "varianceThreshold.fit(train)"
   ]
  },
  {
   "cell_type": "code",
   "execution_count": 14,
   "metadata": {},
   "outputs": [],
   "source": [
    "rawTrainVT = varianceThreshold.transform(train)"
   ]
  },
  {
   "cell_type": "code",
   "execution_count": 22,
   "metadata": {},
   "outputs": [],
   "source": [
    "column_names = train.columns[varianceThreshold.get_support()].values"
   ]
  },
  {
   "cell_type": "code",
   "execution_count": 23,
   "metadata": {},
   "outputs": [],
   "source": [
    "trainVT = pd.DataFrame(data = rawTrainVT, columns = column_names)"
   ]
  },
  {
   "cell_type": "code",
   "execution_count": 24,
   "metadata": {},
   "outputs": [
    {
     "data": {
      "text/html": [
       "<div>\n",
       "<style scoped>\n",
       "    .dataframe tbody tr th:only-of-type {\n",
       "        vertical-align: middle;\n",
       "    }\n",
       "\n",
       "    .dataframe tbody tr th {\n",
       "        vertical-align: top;\n",
       "    }\n",
       "\n",
       "    .dataframe thead th {\n",
       "        text-align: right;\n",
       "    }\n",
       "</style>\n",
       "<table border=\"1\" class=\"dataframe\">\n",
       "  <thead>\n",
       "    <tr style=\"text-align: right;\">\n",
       "      <th></th>\n",
       "      <th>Duration</th>\n",
       "      <th>TotalPackets</th>\n",
       "      <th>TotalBytes</th>\n",
       "      <th>SourceBytes</th>\n",
       "      <th>Protocol_tcp</th>\n",
       "      <th>Protocol_udp</th>\n",
       "      <th>Direction_-&gt;</th>\n",
       "      <th>Direction_&lt;-&gt;</th>\n",
       "      <th>DestTypeService_-1.0</th>\n",
       "      <th>DestTypeService_0.0</th>\n",
       "    </tr>\n",
       "  </thead>\n",
       "  <tbody>\n",
       "    <tr>\n",
       "      <th>0</th>\n",
       "      <td>-0.140416</td>\n",
       "      <td>-0.008024</td>\n",
       "      <td>-0.008615</td>\n",
       "      <td>-0.003897</td>\n",
       "      <td>1.0</td>\n",
       "      <td>0.0</td>\n",
       "      <td>1.0</td>\n",
       "      <td>0.0</td>\n",
       "      <td>0.0</td>\n",
       "      <td>1.0</td>\n",
       "    </tr>\n",
       "    <tr>\n",
       "      <th>1</th>\n",
       "      <td>-0.248682</td>\n",
       "      <td>-0.010103</td>\n",
       "      <td>-0.008919</td>\n",
       "      <td>-0.004151</td>\n",
       "      <td>1.0</td>\n",
       "      <td>0.0</td>\n",
       "      <td>1.0</td>\n",
       "      <td>0.0</td>\n",
       "      <td>1.0</td>\n",
       "      <td>0.0</td>\n",
       "    </tr>\n",
       "    <tr>\n",
       "      <th>2</th>\n",
       "      <td>-0.248682</td>\n",
       "      <td>-0.010363</td>\n",
       "      <td>-0.008918</td>\n",
       "      <td>-0.004149</td>\n",
       "      <td>1.0</td>\n",
       "      <td>0.0</td>\n",
       "      <td>1.0</td>\n",
       "      <td>0.0</td>\n",
       "      <td>1.0</td>\n",
       "      <td>0.0</td>\n",
       "    </tr>\n",
       "    <tr>\n",
       "      <th>3</th>\n",
       "      <td>-0.248682</td>\n",
       "      <td>-0.010363</td>\n",
       "      <td>-0.008917</td>\n",
       "      <td>-0.004151</td>\n",
       "      <td>1.0</td>\n",
       "      <td>0.0</td>\n",
       "      <td>1.0</td>\n",
       "      <td>0.0</td>\n",
       "      <td>1.0</td>\n",
       "      <td>0.0</td>\n",
       "    </tr>\n",
       "    <tr>\n",
       "      <th>4</th>\n",
       "      <td>-0.248682</td>\n",
       "      <td>-0.010623</td>\n",
       "      <td>-0.008919</td>\n",
       "      <td>-0.004149</td>\n",
       "      <td>1.0</td>\n",
       "      <td>0.0</td>\n",
       "      <td>1.0</td>\n",
       "      <td>0.0</td>\n",
       "      <td>1.0</td>\n",
       "      <td>0.0</td>\n",
       "    </tr>\n",
       "    <tr>\n",
       "      <th>5</th>\n",
       "      <td>-0.248682</td>\n",
       "      <td>-0.010623</td>\n",
       "      <td>-0.008919</td>\n",
       "      <td>-0.004150</td>\n",
       "      <td>1.0</td>\n",
       "      <td>0.0</td>\n",
       "      <td>1.0</td>\n",
       "      <td>0.0</td>\n",
       "      <td>1.0</td>\n",
       "      <td>0.0</td>\n",
       "    </tr>\n",
       "    <tr>\n",
       "      <th>6</th>\n",
       "      <td>-0.248682</td>\n",
       "      <td>-0.010623</td>\n",
       "      <td>-0.008918</td>\n",
       "      <td>-0.004149</td>\n",
       "      <td>1.0</td>\n",
       "      <td>0.0</td>\n",
       "      <td>1.0</td>\n",
       "      <td>0.0</td>\n",
       "      <td>1.0</td>\n",
       "      <td>0.0</td>\n",
       "    </tr>\n",
       "    <tr>\n",
       "      <th>7</th>\n",
       "      <td>-0.248682</td>\n",
       "      <td>-0.010103</td>\n",
       "      <td>-0.008918</td>\n",
       "      <td>-0.004151</td>\n",
       "      <td>1.0</td>\n",
       "      <td>0.0</td>\n",
       "      <td>1.0</td>\n",
       "      <td>0.0</td>\n",
       "      <td>1.0</td>\n",
       "      <td>0.0</td>\n",
       "    </tr>\n",
       "    <tr>\n",
       "      <th>8</th>\n",
       "      <td>-0.248682</td>\n",
       "      <td>-0.010103</td>\n",
       "      <td>-0.008918</td>\n",
       "      <td>-0.004146</td>\n",
       "      <td>1.0</td>\n",
       "      <td>0.0</td>\n",
       "      <td>1.0</td>\n",
       "      <td>0.0</td>\n",
       "      <td>1.0</td>\n",
       "      <td>0.0</td>\n",
       "    </tr>\n",
       "    <tr>\n",
       "      <th>9</th>\n",
       "      <td>-0.248682</td>\n",
       "      <td>-0.010103</td>\n",
       "      <td>-0.008919</td>\n",
       "      <td>-0.004147</td>\n",
       "      <td>1.0</td>\n",
       "      <td>0.0</td>\n",
       "      <td>1.0</td>\n",
       "      <td>0.0</td>\n",
       "      <td>1.0</td>\n",
       "      <td>0.0</td>\n",
       "    </tr>\n",
       "  </tbody>\n",
       "</table>\n",
       "</div>"
      ],
      "text/plain": [
       "   Duration  TotalPackets  TotalBytes  SourceBytes  Protocol_tcp  \\\n",
       "0 -0.140416     -0.008024   -0.008615    -0.003897           1.0   \n",
       "1 -0.248682     -0.010103   -0.008919    -0.004151           1.0   \n",
       "2 -0.248682     -0.010363   -0.008918    -0.004149           1.0   \n",
       "3 -0.248682     -0.010363   -0.008917    -0.004151           1.0   \n",
       "4 -0.248682     -0.010623   -0.008919    -0.004149           1.0   \n",
       "5 -0.248682     -0.010623   -0.008919    -0.004150           1.0   \n",
       "6 -0.248682     -0.010623   -0.008918    -0.004149           1.0   \n",
       "7 -0.248682     -0.010103   -0.008918    -0.004151           1.0   \n",
       "8 -0.248682     -0.010103   -0.008918    -0.004146           1.0   \n",
       "9 -0.248682     -0.010103   -0.008919    -0.004147           1.0   \n",
       "\n",
       "   Protocol_udp  Direction_->  Direction_<->  DestTypeService_-1.0  \\\n",
       "0           0.0           1.0            0.0                   0.0   \n",
       "1           0.0           1.0            0.0                   1.0   \n",
       "2           0.0           1.0            0.0                   1.0   \n",
       "3           0.0           1.0            0.0                   1.0   \n",
       "4           0.0           1.0            0.0                   1.0   \n",
       "5           0.0           1.0            0.0                   1.0   \n",
       "6           0.0           1.0            0.0                   1.0   \n",
       "7           0.0           1.0            0.0                   1.0   \n",
       "8           0.0           1.0            0.0                   1.0   \n",
       "9           0.0           1.0            0.0                   1.0   \n",
       "\n",
       "   DestTypeService_0.0  \n",
       "0                  1.0  \n",
       "1                  0.0  \n",
       "2                  0.0  \n",
       "3                  0.0  \n",
       "4                  0.0  \n",
       "5                  0.0  \n",
       "6                  0.0  \n",
       "7                  0.0  \n",
       "8                  0.0  \n",
       "9                  0.0  "
      ]
     },
     "execution_count": 24,
     "metadata": {},
     "output_type": "execute_result"
    }
   ],
   "source": [
    "trainVT.head(10)"
   ]
  },
  {
   "cell_type": "code",
   "execution_count": 25,
   "metadata": {},
   "outputs": [],
   "source": [
    "trainVT.to_csv('../ml-data/cyberattack_detection/3_selected_features/A1_train_data_TV.csv', sep=',', index=False)"
   ]
  },
  {
   "cell_type": "markdown",
   "metadata": {},
   "source": [
    "### Test data"
   ]
  },
  {
   "cell_type": "code",
   "execution_count": 26,
   "metadata": {},
   "outputs": [],
   "source": [
    "test = pd.read_csv('../ml-data/cyberattack_detection/2_processed_data/A1_test_data.csv', sep=',')"
   ]
  },
  {
   "cell_type": "code",
   "execution_count": 28,
   "metadata": {},
   "outputs": [],
   "source": [
    "rawTestTV = varianceThreshold.transform(test)"
   ]
  },
  {
   "cell_type": "code",
   "execution_count": 29,
   "metadata": {},
   "outputs": [],
   "source": [
    "testTV = pd.DataFrame(data = rawTestTV , columns = column_names)"
   ]
  },
  {
   "cell_type": "code",
   "execution_count": 30,
   "metadata": {},
   "outputs": [
    {
     "data": {
      "text/html": [
       "<div>\n",
       "<style scoped>\n",
       "    .dataframe tbody tr th:only-of-type {\n",
       "        vertical-align: middle;\n",
       "    }\n",
       "\n",
       "    .dataframe tbody tr th {\n",
       "        vertical-align: top;\n",
       "    }\n",
       "\n",
       "    .dataframe thead th {\n",
       "        text-align: right;\n",
       "    }\n",
       "</style>\n",
       "<table border=\"1\" class=\"dataframe\">\n",
       "  <thead>\n",
       "    <tr style=\"text-align: right;\">\n",
       "      <th></th>\n",
       "      <th>Duration</th>\n",
       "      <th>TotalPackets</th>\n",
       "      <th>TotalBytes</th>\n",
       "      <th>SourceBytes</th>\n",
       "      <th>Protocol_tcp</th>\n",
       "      <th>Protocol_udp</th>\n",
       "      <th>Direction_-&gt;</th>\n",
       "      <th>Direction_&lt;-&gt;</th>\n",
       "      <th>DestTypeService_-1.0</th>\n",
       "      <th>DestTypeService_0.0</th>\n",
       "    </tr>\n",
       "  </thead>\n",
       "  <tbody>\n",
       "    <tr>\n",
       "      <th>0</th>\n",
       "      <td>5.727052</td>\n",
       "      <td>0.010949</td>\n",
       "      <td>-0.007308</td>\n",
       "      <td>-0.001807</td>\n",
       "      <td>1.0</td>\n",
       "      <td>0.0</td>\n",
       "      <td>1.0</td>\n",
       "      <td>0.0</td>\n",
       "      <td>0.0</td>\n",
       "      <td>1.0</td>\n",
       "    </tr>\n",
       "    <tr>\n",
       "      <th>1</th>\n",
       "      <td>5.083170</td>\n",
       "      <td>0.009130</td>\n",
       "      <td>-0.007336</td>\n",
       "      <td>-0.001802</td>\n",
       "      <td>1.0</td>\n",
       "      <td>0.0</td>\n",
       "      <td>1.0</td>\n",
       "      <td>0.0</td>\n",
       "      <td>0.0</td>\n",
       "      <td>1.0</td>\n",
       "    </tr>\n",
       "    <tr>\n",
       "      <th>2</th>\n",
       "      <td>5.281135</td>\n",
       "      <td>0.011209</td>\n",
       "      <td>-0.007299</td>\n",
       "      <td>-0.001890</td>\n",
       "      <td>1.0</td>\n",
       "      <td>0.0</td>\n",
       "      <td>1.0</td>\n",
       "      <td>0.0</td>\n",
       "      <td>0.0</td>\n",
       "      <td>1.0</td>\n",
       "    </tr>\n",
       "    <tr>\n",
       "      <th>3</th>\n",
       "      <td>5.502734</td>\n",
       "      <td>0.013548</td>\n",
       "      <td>-0.006943</td>\n",
       "      <td>-0.001699</td>\n",
       "      <td>1.0</td>\n",
       "      <td>0.0</td>\n",
       "      <td>1.0</td>\n",
       "      <td>0.0</td>\n",
       "      <td>0.0</td>\n",
       "      <td>1.0</td>\n",
       "    </tr>\n",
       "    <tr>\n",
       "      <th>4</th>\n",
       "      <td>5.224429</td>\n",
       "      <td>0.009650</td>\n",
       "      <td>-0.007310</td>\n",
       "      <td>-0.002012</td>\n",
       "      <td>1.0</td>\n",
       "      <td>0.0</td>\n",
       "      <td>1.0</td>\n",
       "      <td>0.0</td>\n",
       "      <td>0.0</td>\n",
       "      <td>1.0</td>\n",
       "    </tr>\n",
       "  </tbody>\n",
       "</table>\n",
       "</div>"
      ],
      "text/plain": [
       "   Duration  TotalPackets  TotalBytes  SourceBytes  Protocol_tcp  \\\n",
       "0  5.727052      0.010949   -0.007308    -0.001807           1.0   \n",
       "1  5.083170      0.009130   -0.007336    -0.001802           1.0   \n",
       "2  5.281135      0.011209   -0.007299    -0.001890           1.0   \n",
       "3  5.502734      0.013548   -0.006943    -0.001699           1.0   \n",
       "4  5.224429      0.009650   -0.007310    -0.002012           1.0   \n",
       "\n",
       "   Protocol_udp  Direction_->  Direction_<->  DestTypeService_-1.0  \\\n",
       "0           0.0           1.0            0.0                   0.0   \n",
       "1           0.0           1.0            0.0                   0.0   \n",
       "2           0.0           1.0            0.0                   0.0   \n",
       "3           0.0           1.0            0.0                   0.0   \n",
       "4           0.0           1.0            0.0                   0.0   \n",
       "\n",
       "   DestTypeService_0.0  \n",
       "0                  1.0  \n",
       "1                  1.0  \n",
       "2                  1.0  \n",
       "3                  1.0  \n",
       "4                  1.0  "
      ]
     },
     "execution_count": 30,
     "metadata": {},
     "output_type": "execute_result"
    }
   ],
   "source": [
    "testTV.head()"
   ]
  },
  {
   "cell_type": "code",
   "execution_count": 31,
   "metadata": {},
   "outputs": [],
   "source": [
    "testTV.to_csv('../ml-data/cyberattack_detection/3_selected_features/A1_test_data_TV.csv', sep=',', index=False)"
   ]
  },
  {
   "cell_type": "code",
   "execution_count": null,
   "metadata": {},
   "outputs": [],
   "source": []
  }
 ],
 "metadata": {
  "kernelspec": {
   "display_name": "Python 3",
   "language": "python",
   "name": "python3"
  },
  "language_info": {
   "codemirror_mode": {
    "name": "ipython",
    "version": 3
   },
   "file_extension": ".py",
   "mimetype": "text/x-python",
   "name": "python",
   "nbconvert_exporter": "python",
   "pygments_lexer": "ipython3",
   "version": "3.8.5"
  }
 },
 "nbformat": 4,
 "nbformat_minor": 4
}
