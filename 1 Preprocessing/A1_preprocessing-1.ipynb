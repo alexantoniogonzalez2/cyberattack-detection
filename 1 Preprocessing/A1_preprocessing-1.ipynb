{
 "cells": [
  {
   "cell_type": "code",
   "execution_count": 1,
   "metadata": {},
   "outputs": [],
   "source": [
    "import pandas as pd\n",
    "import numpy as np"
   ]
  },
  {
   "cell_type": "markdown",
   "metadata": {},
   "source": [
    "### Train data"
   ]
  },
  {
   "cell_type": "code",
   "execution_count": 38,
   "metadata": {},
   "outputs": [],
   "source": [
    "df_train = pd.read_csv('../../ml-data/cyberattack_detection/1_raw_data/A2_1/training_data', sep=','\n",
    "                       ,names=['Timestamp','Duration','Protocol','SrcIPAddress','SrcPort','Direction',\n",
    "                               'DestIPAddress','DestPort','State','SrcTypeService','DestTypeService',\n",
    "                               'TotalPackets','TotalBytes','SourceBytes'])"
   ]
  },
  {
   "cell_type": "code",
   "execution_count": 3,
   "metadata": {},
   "outputs": [
    {
     "data": {
      "text/plain": [
       "Timestamp          False\n",
       "Duration           False\n",
       "Protocol           False\n",
       "SrcIPAddress       False\n",
       "SrcPort             True\n",
       "Direction          False\n",
       "DestIPAddress      False\n",
       "DestPort            True\n",
       "State               True\n",
       "SrcTypeService      True\n",
       "DestTypeService     True\n",
       "TotalPackets       False\n",
       "TotalBytes         False\n",
       "SourceBytes        False\n",
       "dtype: bool"
      ]
     },
     "execution_count": 3,
     "metadata": {},
     "output_type": "execute_result"
    }
   ],
   "source": [
    "df_train.isna().any()"
   ]
  },
  {
   "cell_type": "code",
   "execution_count": 4,
   "metadata": {},
   "outputs": [
    {
     "data": {
      "text/plain": [
       "Timestamp          13881753\n",
       "Duration            3437518\n",
       "Protocol                 14\n",
       "SrcIPAddress          10811\n",
       "SrcPort               97555\n",
       "Direction                10\n",
       "DestIPAddress        589070\n",
       "DestPort              95865\n",
       "State                   373\n",
       "SrcTypeService            5\n",
       "DestTypeService           4\n",
       "TotalPackets          12327\n",
       "TotalBytes           224601\n",
       "SourceBytes           82174\n",
       "dtype: int64"
      ]
     },
     "execution_count": 4,
     "metadata": {},
     "output_type": "execute_result"
    }
   ],
   "source": [
    "df_train.nunique()"
   ]
  },
  {
   "cell_type": "code",
   "execution_count": 5,
   "metadata": {},
   "outputs": [
    {
     "data": {
      "text/plain": [
       "array(['->', '<->', '   ->', '  <?>', '  <->', '   ?>', '  <-', '  who',\n",
       "       '  <?', '<?>'], dtype=object)"
      ]
     },
     "execution_count": 5,
     "metadata": {},
     "output_type": "execute_result"
    }
   ],
   "source": [
    "# It is cleaned the 'Direction' field\n",
    "df_train.Direction.unique()"
   ]
  },
  {
   "cell_type": "code",
   "execution_count": 6,
   "metadata": {},
   "outputs": [
    {
     "data": {
      "text/plain": [
       "<->    9055197\n",
       "->     4605238\n",
       "<-      146606\n",
       "<?>      74994\n",
       "Name: Direction, dtype: int64"
      ]
     },
     "execution_count": 6,
     "metadata": {},
     "output_type": "execute_result"
    }
   ],
   "source": [
    "dictionary = {'   ->':'->','  <?>':'<?>','  <->':'<->','   ?>':'<?>','  <-':'<-','  who':'<?>','  <?':'<?>'}\n",
    "df_train = df_train.replace({\"Direction\": dictionary})\n",
    "df_train['Direction'].value_counts()"
   ]
  },
  {
   "cell_type": "code",
   "execution_count": 7,
   "metadata": {},
   "outputs": [],
   "source": [
    "# It is completed in the Direction field the <?> values. A temporary 'ratio' field is used for this purpose.\n",
    "df_train['ratio'] = df_train['SourceBytes']/df_train['TotalBytes']"
   ]
  },
  {
   "cell_type": "code",
   "execution_count": 8,
   "metadata": {},
   "outputs": [
    {
     "name": "stdout",
     "output_type": "stream",
     "text": [
      "0.5846801085715531\n",
      "0.36214280955332806\n",
      "0.6985354617227908\n",
      "0.0\n"
     ]
    }
   ],
   "source": [
    "print(df_train.loc[df_train['Direction'] == '->']['ratio'].mean())\n",
    "print(df_train.loc[df_train['Direction'] == '<->']['ratio'].mean())\n",
    "print(df_train.loc[df_train['Direction'] == '<?>']['ratio'].mean())\n",
    "print(df_train.loc[df_train['Direction'] == '<-']['ratio'].mean())"
   ]
  },
  {
   "cell_type": "code",
   "execution_count": 9,
   "metadata": {},
   "outputs": [
    {
     "data": {
      "text/html": [
       "<div>\n",
       "<style scoped>\n",
       "    .dataframe tbody tr th:only-of-type {\n",
       "        vertical-align: middle;\n",
       "    }\n",
       "\n",
       "    .dataframe tbody tr th {\n",
       "        vertical-align: top;\n",
       "    }\n",
       "\n",
       "    .dataframe thead th {\n",
       "        text-align: right;\n",
       "    }\n",
       "</style>\n",
       "<table border=\"1\" class=\"dataframe\">\n",
       "  <thead>\n",
       "    <tr style=\"text-align: right;\">\n",
       "      <th></th>\n",
       "      <th>Timestamp</th>\n",
       "      <th>Duration</th>\n",
       "      <th>Protocol</th>\n",
       "      <th>SrcIPAddress</th>\n",
       "      <th>SrcPort</th>\n",
       "      <th>Direction</th>\n",
       "      <th>DestIPAddress</th>\n",
       "      <th>DestPort</th>\n",
       "      <th>State</th>\n",
       "      <th>SrcTypeService</th>\n",
       "      <th>DestTypeService</th>\n",
       "      <th>TotalPackets</th>\n",
       "      <th>TotalBytes</th>\n",
       "      <th>SourceBytes</th>\n",
       "      <th>ratio</th>\n",
       "    </tr>\n",
       "  </thead>\n",
       "  <tbody>\n",
       "    <tr>\n",
       "      <th>3507</th>\n",
       "      <td>2012/12/01 13:11:29.310824</td>\n",
       "      <td>0.000396</td>\n",
       "      <td>icmp</td>\n",
       "      <td>152.205.93.89</td>\n",
       "      <td>NaN</td>\n",
       "      <td>&lt;-</td>\n",
       "      <td>146.204.94.31</td>\n",
       "      <td>0xcb07</td>\n",
       "      <td>RED</td>\n",
       "      <td>NaN</td>\n",
       "      <td>0.0</td>\n",
       "      <td>3</td>\n",
       "      <td>194</td>\n",
       "      <td>0</td>\n",
       "      <td>0.0</td>\n",
       "    </tr>\n",
       "    <tr>\n",
       "      <th>3639</th>\n",
       "      <td>2012/12/01 13:11:30.311807</td>\n",
       "      <td>0.000390</td>\n",
       "      <td>icmp</td>\n",
       "      <td>152.205.93.89</td>\n",
       "      <td>NaN</td>\n",
       "      <td>&lt;-</td>\n",
       "      <td>146.204.94.31</td>\n",
       "      <td>0xcb07</td>\n",
       "      <td>ECR</td>\n",
       "      <td>NaN</td>\n",
       "      <td>0.0</td>\n",
       "      <td>2</td>\n",
       "      <td>196</td>\n",
       "      <td>0</td>\n",
       "      <td>0.0</td>\n",
       "    </tr>\n",
       "    <tr>\n",
       "      <th>3749</th>\n",
       "      <td>2012/12/01 13:11:31.315594</td>\n",
       "      <td>0.000010</td>\n",
       "      <td>icmp</td>\n",
       "      <td>152.205.93.89</td>\n",
       "      <td>NaN</td>\n",
       "      <td>&lt;-</td>\n",
       "      <td>146.204.94.31</td>\n",
       "      <td>0xcb07</td>\n",
       "      <td>ECR</td>\n",
       "      <td>NaN</td>\n",
       "      <td>0.0</td>\n",
       "      <td>3</td>\n",
       "      <td>193</td>\n",
       "      <td>0</td>\n",
       "      <td>0.0</td>\n",
       "    </tr>\n",
       "    <tr>\n",
       "      <th>3916</th>\n",
       "      <td>2012/12/01 13:11:32.315600</td>\n",
       "      <td>0.000108</td>\n",
       "      <td>icmp</td>\n",
       "      <td>152.205.93.89</td>\n",
       "      <td>NaN</td>\n",
       "      <td>&lt;-</td>\n",
       "      <td>146.204.94.31</td>\n",
       "      <td>0xcb07</td>\n",
       "      <td>ECR</td>\n",
       "      <td>NaN</td>\n",
       "      <td>0.0</td>\n",
       "      <td>3</td>\n",
       "      <td>196</td>\n",
       "      <td>0</td>\n",
       "      <td>0.0</td>\n",
       "    </tr>\n",
       "    <tr>\n",
       "      <th>4000</th>\n",
       "      <td>2012/12/01 13:11:33.325606</td>\n",
       "      <td>0.000005</td>\n",
       "      <td>icmp</td>\n",
       "      <td>152.205.93.89</td>\n",
       "      <td>NaN</td>\n",
       "      <td>&lt;-</td>\n",
       "      <td>146.204.94.31</td>\n",
       "      <td>0xcb07</td>\n",
       "      <td>ECR</td>\n",
       "      <td>NaN</td>\n",
       "      <td>0.0</td>\n",
       "      <td>3</td>\n",
       "      <td>193</td>\n",
       "      <td>0</td>\n",
       "      <td>0.0</td>\n",
       "    </tr>\n",
       "  </tbody>\n",
       "</table>\n",
       "</div>"
      ],
      "text/plain": [
       "                       Timestamp  Duration Protocol   SrcIPAddress SrcPort  \\\n",
       "3507  2012/12/01 13:11:29.310824  0.000396     icmp  152.205.93.89     NaN   \n",
       "3639  2012/12/01 13:11:30.311807  0.000390     icmp  152.205.93.89     NaN   \n",
       "3749  2012/12/01 13:11:31.315594  0.000010     icmp  152.205.93.89     NaN   \n",
       "3916  2012/12/01 13:11:32.315600  0.000108     icmp  152.205.93.89     NaN   \n",
       "4000  2012/12/01 13:11:33.325606  0.000005     icmp  152.205.93.89     NaN   \n",
       "\n",
       "     Direction  DestIPAddress DestPort State  SrcTypeService  DestTypeService  \\\n",
       "3507        <-  146.204.94.31   0xcb07   RED             NaN              0.0   \n",
       "3639        <-  146.204.94.31   0xcb07   ECR             NaN              0.0   \n",
       "3749        <-  146.204.94.31   0xcb07   ECR             NaN              0.0   \n",
       "3916        <-  146.204.94.31   0xcb07   ECR             NaN              0.0   \n",
       "4000        <-  146.204.94.31   0xcb07   ECR             NaN              0.0   \n",
       "\n",
       "      TotalPackets  TotalBytes  SourceBytes  ratio  \n",
       "3507             3         194            0    0.0  \n",
       "3639             2         196            0    0.0  \n",
       "3749             3         193            0    0.0  \n",
       "3916             3         196            0    0.0  \n",
       "4000             3         193            0    0.0  "
      ]
     },
     "execution_count": 9,
     "metadata": {},
     "output_type": "execute_result"
    }
   ],
   "source": [
    "# '<-' value in field 'Direction' usually has 'SourceBytes' field equal to 0\n",
    "df_train.loc[df_train['Direction'] == '<-'].head()"
   ]
  },
  {
   "cell_type": "code",
   "execution_count": 10,
   "metadata": {},
   "outputs": [],
   "source": [
    "# With the information of field 'ratio' is determined a rule to complete the 'Direction' field\n",
    "df_train.loc[(df_train['SourceBytes'] == 0) & (df_train['Direction'] == '<?>'), 'Direction'] = '<-'\n",
    "df_train.loc[(df_train['ratio'] > 0.5) & (df_train['Direction'] == '<?>'), 'Direction'] = '->'\n",
    "df_train.loc[(df_train['ratio'] <= 0.5) & (df_train['Direction'] == '<?>'), 'Direction'] = '<->'"
   ]
  },
  {
   "cell_type": "code",
   "execution_count": 11,
   "metadata": {},
   "outputs": [
    {
     "data": {
      "text/plain": [
       "<->    9074226\n",
       "->     4659678\n",
       "<-      148131\n",
       "Name: Direction, dtype: int64"
      ]
     },
     "execution_count": 11,
     "metadata": {},
     "output_type": "execute_result"
    }
   ],
   "source": [
    "df_train = df_train.drop('ratio',1)\n",
    "df_train['Direction'].value_counts()"
   ]
  },
  {
   "cell_type": "code",
   "execution_count": 39,
   "metadata": {},
   "outputs": [],
   "source": [
    "df_train['PacketsSec'] = df_train['TotalPackets']/df_train['Duration']\n",
    "df_train['TotalBytesSec'] = df_train['TotalBytes']/df_train['Duration']\n",
    "df_train['SourceBytesSec'] = df_train['SourceBytes']/df_train['Duration']"
   ]
  },
  {
   "cell_type": "code",
   "execution_count": 17,
   "metadata": {},
   "outputs": [],
   "source": [
    "df_train.to_csv('../../ml-data/cyberattack_detection/1_raw_data/A2_1/clean_training_data', sep=',', index=False)"
   ]
  },
  {
   "cell_type": "markdown",
   "metadata": {},
   "source": [
    "### Test data"
   ]
  },
  {
   "cell_type": "code",
   "execution_count": 19,
   "metadata": {},
   "outputs": [],
   "source": [
    "df_test = pd.read_csv('../../ml-data/cyberattack_detection/1_raw_data/A2_1/test_data', sep=','\n",
    "                       ,names=['Timestamp','Duration','Protocol','SrcIPAddress','SrcPort','Direction',\n",
    "                               'DestIPAddress','DestPort','State','SrcTypeService','DestTypeService',\n",
    "                               'TotalPackets','TotalBytes','SourceBytes'])"
   ]
  },
  {
   "cell_type": "code",
   "execution_count": 20,
   "metadata": {},
   "outputs": [
    {
     "data": {
      "text/plain": [
       "(1053845, 14)"
      ]
     },
     "execution_count": 20,
     "metadata": {},
     "output_type": "execute_result"
    }
   ],
   "source": [
    "df_test.shape"
   ]
  },
  {
   "cell_type": "code",
   "execution_count": 21,
   "metadata": {},
   "outputs": [
    {
     "data": {
      "text/plain": [
       "->     844228\n",
       "<->    207315\n",
       "<?>      2298\n",
       "<-          4\n",
       "Name: Direction, dtype: int64"
      ]
     },
     "execution_count": 21,
     "metadata": {},
     "output_type": "execute_result"
    }
   ],
   "source": [
    "# It is cleaned the 'Direction' field\n",
    "df_test = df_test.replace({\"Direction\": dictionary})\n",
    "df_test['Direction'].value_counts()"
   ]
  },
  {
   "cell_type": "code",
   "execution_count": 22,
   "metadata": {},
   "outputs": [],
   "source": [
    "# It is completed in the Direction field the <?> values. A temporary 'ratio' field is used for this purpose.\n",
    "df_test['ratio'] = df_test['SourceBytes']/df_test['TotalBytes']"
   ]
  },
  {
   "cell_type": "code",
   "execution_count": 23,
   "metadata": {},
   "outputs": [],
   "source": [
    "# With the information of field 'ratio' is determined a rule to complete the 'Direction' field\n",
    "df_test.loc[(df_test['SourceBytes'] == 0) & (df_test['Direction'] == '<?>'), 'Direction'] = '<-'\n",
    "df_test.loc[(df_test['ratio'] > 0.5) & (df_test['Direction'] == '<?>'), 'Direction'] = '->'\n",
    "df_test.loc[(df_test['ratio'] <= 0.5) & (df_test['Direction'] == '<?>'), 'Direction'] = '<->'\n",
    "df_test = df_test.drop('ratio',1)"
   ]
  },
  {
   "cell_type": "code",
   "execution_count": 24,
   "metadata": {},
   "outputs": [],
   "source": [
    "df_test['PacketsSec'] = df_test['TotalPackets']/df_test['Duration']\n",
    "df_test['TotalBytesSec'] = df_test['TotalBytes']/df_test['Duration']\n",
    "df_test['SourceBytesSec'] = df_test['SourceBytes']/df_test['Duration']"
   ]
  },
  {
   "cell_type": "code",
   "execution_count": 25,
   "metadata": {},
   "outputs": [],
   "source": [
    "df_test.to_csv('../../ml-data/cyberattack_detection/1_raw_data/A2_1/clean_test_data', sep=',', index=False)"
   ]
  },
  {
   "cell_type": "markdown",
   "metadata": {},
   "source": [
    "### Validation data"
   ]
  },
  {
   "cell_type": "code",
   "execution_count": 34,
   "metadata": {},
   "outputs": [
    {
     "name": "stderr",
     "output_type": "stream",
     "text": [
      "/usr/local/lib/python3.8/site-packages/IPython/core/interactiveshell.py:3145: DtypeWarning: Columns (4,7) have mixed types.Specify dtype option on import or set low_memory=False.\n",
      "  has_raised = await self.run_ast_nodes(code_ast.body, cell_name,\n"
     ]
    }
   ],
   "source": [
    "df_valid = pd.read_csv('../../ml-data/cyberattack_detection/1_raw_data/A2_1/valid_data_with_labels', sep=','\n",
    "                       ,names=['Timestamp','Duration','Protocol','SrcIPAddress','SrcPort','Direction',\n",
    "                               'DestIPAddress','DestPort','State','SrcTypeService','DestTypeService',\n",
    "                               'TotalPackets','TotalBytes','SourceBytes','Label'])"
   ]
  },
  {
   "cell_type": "code",
   "execution_count": 35,
   "metadata": {},
   "outputs": [],
   "source": [
    "df_valid['PacketsSec'] = df_valid['TotalPackets']/df_valid['Duration']\n",
    "df_valid['TotalBytesSec'] = df_valid['TotalBytes']/df_valid['Duration']\n",
    "df_valid['SourceBytesSec'] = df_valid['SourceBytes']/df_valid['Duration']"
   ]
  },
  {
   "cell_type": "code",
   "execution_count": 37,
   "metadata": {},
   "outputs": [
    {
     "data": {
      "text/html": [
       "<div>\n",
       "<style scoped>\n",
       "    .dataframe tbody tr th:only-of-type {\n",
       "        vertical-align: middle;\n",
       "    }\n",
       "\n",
       "    .dataframe tbody tr th {\n",
       "        vertical-align: top;\n",
       "    }\n",
       "\n",
       "    .dataframe thead th {\n",
       "        text-align: right;\n",
       "    }\n",
       "</style>\n",
       "<table border=\"1\" class=\"dataframe\">\n",
       "  <thead>\n",
       "    <tr style=\"text-align: right;\">\n",
       "      <th></th>\n",
       "      <th>Duration</th>\n",
       "      <th>SrcTypeService</th>\n",
       "      <th>DestTypeService</th>\n",
       "      <th>TotalPackets</th>\n",
       "      <th>TotalBytes</th>\n",
       "      <th>SourceBytes</th>\n",
       "      <th>PacketsSec</th>\n",
       "      <th>TotalBytesSec</th>\n",
       "      <th>SourceBytesSec</th>\n",
       "    </tr>\n",
       "  </thead>\n",
       "  <tbody>\n",
       "    <tr>\n",
       "      <th>count</th>\n",
       "      <td>658488</td>\n",
       "      <td>652952</td>\n",
       "      <td>423478</td>\n",
       "      <td>658488</td>\n",
       "      <td>658488</td>\n",
       "      <td>658488</td>\n",
       "      <td>658488</td>\n",
       "      <td>658488</td>\n",
       "      <td>658488</td>\n",
       "    </tr>\n",
       "    <tr>\n",
       "      <th>mean</th>\n",
       "      <td>88.1395</td>\n",
       "      <td>7.81068e-05</td>\n",
       "      <td>0.0001346</td>\n",
       "      <td>26.2775</td>\n",
       "      <td>18965.2</td>\n",
       "      <td>11610.9</td>\n",
       "      <td>759.433</td>\n",
       "      <td>74148.9</td>\n",
       "      <td>20869.9</td>\n",
       "    </tr>\n",
       "    <tr>\n",
       "      <th>std</th>\n",
       "      <td>373.845</td>\n",
       "      <td>0.00883747</td>\n",
       "      <td>0.0166213</td>\n",
       "      <td>2300.06</td>\n",
       "      <td>2.26024e+06</td>\n",
       "      <td>886891</td>\n",
       "      <td>5444.34</td>\n",
       "      <td>389132</td>\n",
       "      <td>150658</td>\n",
       "    </tr>\n",
       "    <tr>\n",
       "      <th>min</th>\n",
       "      <td>4e-06</td>\n",
       "      <td>0</td>\n",
       "      <td>0</td>\n",
       "      <td>1</td>\n",
       "      <td>57</td>\n",
       "      <td>0</td>\n",
       "      <td>0.000591361</td>\n",
       "      <td>0.0372557</td>\n",
       "      <td>0</td>\n",
       "    </tr>\n",
       "    <tr>\n",
       "      <th>25%</th>\n",
       "      <td>0.117642</td>\n",
       "      <td>0</td>\n",
       "      <td>0</td>\n",
       "      <td>3</td>\n",
       "      <td>187</td>\n",
       "      <td>78</td>\n",
       "      <td>0.4486</td>\n",
       "      <td>20.9855</td>\n",
       "      <td>20.8273</td>\n",
       "    </tr>\n",
       "    <tr>\n",
       "      <th>50%</th>\n",
       "      <td>1.35517</td>\n",
       "      <td>0</td>\n",
       "      <td>0</td>\n",
       "      <td>4</td>\n",
       "      <td>282</td>\n",
       "      <td>182</td>\n",
       "      <td>4.99625</td>\n",
       "      <td>272.759</td>\n",
       "      <td>137.58</td>\n",
       "    </tr>\n",
       "    <tr>\n",
       "      <th>75%</th>\n",
       "      <td>9.04036</td>\n",
       "      <td>0</td>\n",
       "      <td>0</td>\n",
       "      <td>7</td>\n",
       "      <td>387</td>\n",
       "      <td>193</td>\n",
       "      <td>31.9613</td>\n",
       "      <td>3198.16</td>\n",
       "      <td>1028.58</td>\n",
       "    </tr>\n",
       "    <tr>\n",
       "      <th>max</th>\n",
       "      <td>3946.07</td>\n",
       "      <td>1</td>\n",
       "      <td>3</td>\n",
       "      <td>1.5529e+06</td>\n",
       "      <td>1.62017e+09</td>\n",
       "      <td>1.50341e+08</td>\n",
       "      <td>1e+06</td>\n",
       "      <td>6.88889e+07</td>\n",
       "      <td>2.71667e+07</td>\n",
       "    </tr>\n",
       "  </tbody>\n",
       "</table>\n",
       "</div>"
      ],
      "text/plain": [
       "       Duration SrcTypeService DestTypeService TotalPackets   TotalBytes  \\\n",
       "count    658488         652952          423478       658488       658488   \n",
       "mean    88.1395    7.81068e-05       0.0001346      26.2775      18965.2   \n",
       "std     373.845     0.00883747       0.0166213      2300.06  2.26024e+06   \n",
       "min       4e-06              0               0            1           57   \n",
       "25%    0.117642              0               0            3          187   \n",
       "50%     1.35517              0               0            4          282   \n",
       "75%     9.04036              0               0            7          387   \n",
       "max     3946.07              1               3   1.5529e+06  1.62017e+09   \n",
       "\n",
       "       SourceBytes   PacketsSec TotalBytesSec SourceBytesSec  \n",
       "count       658488       658488        658488         658488  \n",
       "mean       11610.9      759.433       74148.9        20869.9  \n",
       "std         886891      5444.34        389132         150658  \n",
       "min              0  0.000591361     0.0372557              0  \n",
       "25%             78       0.4486       20.9855        20.8273  \n",
       "50%            182      4.99625       272.759         137.58  \n",
       "75%            193      31.9613       3198.16        1028.58  \n",
       "max    1.50341e+08        1e+06   6.88889e+07    2.71667e+07  "
      ]
     },
     "execution_count": 37,
     "metadata": {},
     "output_type": "execute_result"
    }
   ],
   "source": [
    "df_valid.loc[df_valid['PacketsSec'] != np.inf].describe().apply(lambda s: s.apply(lambda x: format(x, 'g')))"
   ]
  },
  {
   "cell_type": "code",
   "execution_count": 32,
   "metadata": {},
   "outputs": [
    {
     "name": "stdout",
     "output_type": "stream",
     "text": [
      "flow=From-Botnet-V54-TCP-Attempt                            134557\n",
      "flow=From-Botnet-V42-UDP-DNS                                125788\n",
      "flow=From-Botnet-V44-TCP-Attempt                             71833\n",
      "flow=From-Botnet-V54-UDP-DNS                                 45138\n",
      "flow=From-Botnet-V51-3-ICMP                                  41452\n",
      "                                                             ...  \n",
      "flow=From-Botnet-V52-1-UDP-Attempt                               1\n",
      "flow=From-Botnet-V52-1-TCP-Established                           1\n",
      "flow=To-Normal-V46-UDP-NTP-server                                1\n",
      "flow=From-Botnet-V52-1-TCP-HTTP-Google-Net-Established-6         1\n",
      "flow=From-Botnet-V51-10-TCP-WEB-Established                      1\n",
      "Name: Label, Length: 459, dtype: int64\n"
     ]
    }
   ],
   "source": [
    "df_valid['Label'].value_counts()"
   ]
  },
  {
   "cell_type": "code",
   "execution_count": 40,
   "metadata": {},
   "outputs": [
    {
     "data": {
      "text/html": [
       "<div>\n",
       "<style scoped>\n",
       "    .dataframe tbody tr th:only-of-type {\n",
       "        vertical-align: middle;\n",
       "    }\n",
       "\n",
       "    .dataframe tbody tr th {\n",
       "        vertical-align: top;\n",
       "    }\n",
       "\n",
       "    .dataframe thead th {\n",
       "        text-align: right;\n",
       "    }\n",
       "</style>\n",
       "<table border=\"1\" class=\"dataframe\">\n",
       "  <thead>\n",
       "    <tr style=\"text-align: right;\">\n",
       "      <th></th>\n",
       "      <th>Duration</th>\n",
       "      <th>SrcTypeService</th>\n",
       "      <th>DestTypeService</th>\n",
       "      <th>TotalPackets</th>\n",
       "      <th>TotalBytes</th>\n",
       "      <th>SourceBytes</th>\n",
       "      <th>PacketsSec</th>\n",
       "      <th>TotalBytesSec</th>\n",
       "      <th>SourceBytesSec</th>\n",
       "    </tr>\n",
       "  </thead>\n",
       "  <tbody>\n",
       "    <tr>\n",
       "      <th>count</th>\n",
       "      <td>1.30194e+07</td>\n",
       "      <td>1.2816e+07</td>\n",
       "      <td>1.22646e+07</td>\n",
       "      <td>1.30194e+07</td>\n",
       "      <td>1.30194e+07</td>\n",
       "      <td>1.30194e+07</td>\n",
       "      <td>1.30194e+07</td>\n",
       "      <td>1.30194e+07</td>\n",
       "      <td>1.30194e+07</td>\n",
       "    </tr>\n",
       "    <tr>\n",
       "      <th>mean</th>\n",
       "      <td>164.597</td>\n",
       "      <td>0.00420351</td>\n",
       "      <td>0.000516447</td>\n",
       "      <td>44.5322</td>\n",
       "      <td>36225.1</td>\n",
       "      <td>7375.1</td>\n",
       "      <td>7318.26</td>\n",
       "      <td>673527</td>\n",
       "      <td>219097</td>\n",
       "    </tr>\n",
       "    <tr>\n",
       "      <th>std</th>\n",
       "      <td>639.67</td>\n",
       "      <td>0.865268</td>\n",
       "      <td>0.0364768</td>\n",
       "      <td>3972.94</td>\n",
       "      <td>3.93084e+06</td>\n",
       "      <td>1.71507e+06</td>\n",
       "      <td>23848.5</td>\n",
       "      <td>2.1075e+06</td>\n",
       "      <td>1.50302e+06</td>\n",
       "    </tr>\n",
       "    <tr>\n",
       "      <th>min</th>\n",
       "      <td>1e-06</td>\n",
       "      <td>0</td>\n",
       "      <td>0</td>\n",
       "      <td>1</td>\n",
       "      <td>57</td>\n",
       "      <td>0</td>\n",
       "      <td>0.000529761</td>\n",
       "      <td>0.0306477</td>\n",
       "      <td>0</td>\n",
       "    </tr>\n",
       "    <tr>\n",
       "      <th>25%</th>\n",
       "      <td>0.000256</td>\n",
       "      <td>0</td>\n",
       "      <td>0</td>\n",
       "      <td>2</td>\n",
       "      <td>211</td>\n",
       "      <td>78</td>\n",
       "      <td>16.0199</td>\n",
       "      <td>2669.18</td>\n",
       "      <td>483.242</td>\n",
       "    </tr>\n",
       "    <tr>\n",
       "      <th>50%</th>\n",
       "      <td>0.000402</td>\n",
       "      <td>0</td>\n",
       "      <td>0</td>\n",
       "      <td>3</td>\n",
       "      <td>252</td>\n",
       "      <td>83</td>\n",
       "      <td>5649.72</td>\n",
       "      <td>598240</td>\n",
       "      <td>196931</td>\n",
       "    </tr>\n",
       "    <tr>\n",
       "      <th>75%</th>\n",
       "      <td>0.460705</td>\n",
       "      <td>0</td>\n",
       "      <td>0</td>\n",
       "      <td>6</td>\n",
       "      <td>599</td>\n",
       "      <td>288</td>\n",
       "      <td>9661.84</td>\n",
       "      <td>933921</td>\n",
       "      <td>310757</td>\n",
       "    </tr>\n",
       "    <tr>\n",
       "      <th>max</th>\n",
       "      <td>3937.87</td>\n",
       "      <td>192</td>\n",
       "      <td>3</td>\n",
       "      <td>4.23694e+06</td>\n",
       "      <td>4.27463e+09</td>\n",
       "      <td>3.34676e+09</td>\n",
       "      <td>3e+06</td>\n",
       "      <td>1.5345e+09</td>\n",
       "      <td>1.558e+09</td>\n",
       "    </tr>\n",
       "  </tbody>\n",
       "</table>\n",
       "</div>"
      ],
      "text/plain": [
       "          Duration SrcTypeService DestTypeService TotalPackets   TotalBytes  \\\n",
       "count  1.30194e+07     1.2816e+07     1.22646e+07  1.30194e+07  1.30194e+07   \n",
       "mean       164.597     0.00420351     0.000516447      44.5322      36225.1   \n",
       "std         639.67       0.865268       0.0364768      3972.94  3.93084e+06   \n",
       "min          1e-06              0               0            1           57   \n",
       "25%       0.000256              0               0            2          211   \n",
       "50%       0.000402              0               0            3          252   \n",
       "75%       0.460705              0               0            6          599   \n",
       "max        3937.87            192               3  4.23694e+06  4.27463e+09   \n",
       "\n",
       "       SourceBytes   PacketsSec TotalBytesSec SourceBytesSec  \n",
       "count  1.30194e+07  1.30194e+07   1.30194e+07    1.30194e+07  \n",
       "mean        7375.1      7318.26        673527         219097  \n",
       "std    1.71507e+06      23848.5    2.1075e+06    1.50302e+06  \n",
       "min              0  0.000529761     0.0306477              0  \n",
       "25%             78      16.0199       2669.18        483.242  \n",
       "50%             83      5649.72        598240         196931  \n",
       "75%            288      9661.84        933921         310757  \n",
       "max    3.34676e+09        3e+06    1.5345e+09      1.558e+09  "
      ]
     },
     "execution_count": 40,
     "metadata": {},
     "output_type": "execute_result"
    }
   ],
   "source": [
    "df_train.loc[df_train['PacketsSec'] != np.inf].describe().apply(lambda s: s.apply(lambda x: format(x, 'g')))"
   ]
  },
  {
   "cell_type": "markdown",
   "metadata": {},
   "source": [
    "End"
   ]
  }
 ],
 "metadata": {
  "kernelspec": {
   "display_name": "Python 3",
   "language": "python",
   "name": "python3"
  },
  "language_info": {
   "codemirror_mode": {
    "name": "ipython",
    "version": 3
   },
   "file_extension": ".py",
   "mimetype": "text/x-python",
   "name": "python",
   "nbconvert_exporter": "python",
   "pygments_lexer": "ipython3",
   "version": "3.8.5"
  }
 },
 "nbformat": 4,
 "nbformat_minor": 4
}
