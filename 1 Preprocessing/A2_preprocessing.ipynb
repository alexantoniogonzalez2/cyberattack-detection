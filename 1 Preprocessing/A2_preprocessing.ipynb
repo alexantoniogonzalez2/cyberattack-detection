{
 "cells": [
  {
   "cell_type": "code",
   "execution_count": 1,
   "metadata": {},
   "outputs": [],
   "source": [
    "import pandas as pd\n",
    "import numpy as np\n",
    "from sklearn.preprocessing import StandardScaler, OneHotEncoder"
   ]
  },
  {
   "cell_type": "markdown",
   "metadata": {},
   "source": [
    "### Train data"
   ]
  },
  {
   "cell_type": "code",
   "execution_count": 2,
   "metadata": {},
   "outputs": [],
   "source": [
    "df_train = pd.read_csv('../../ml-data/cyberattack_detection/1_raw_data/A2_2/training_data_with_labels', sep=','\n",
    "                       ,names=['Timestamp','Duration','Protocol','SrcIPAddress','SrcPort','Direction',\n",
    "                               'DestIPAddress','DestPort','State','SrcTypeService','DestTypeService',\n",
    "                               'TotalPackets','TotalBytes','SourceBytes','Label'])"
   ]
  },
  {
   "cell_type": "code",
   "execution_count": 25,
   "metadata": {},
   "outputs": [],
   "source": [
    "new_label = pd.DataFrame(data=np.where(df_train['Label'].str.contains(\"Botnet\",case=False), 1, 0),columns=[\"Botnet\"])"
   ]
  },
  {
   "cell_type": "code",
   "execution_count": 26,
   "metadata": {},
   "outputs": [],
   "source": [
    "df_train_sel = df_train[['SrcIPAddress','DestIPAddress','Direction','Duration','TotalPackets','TotalBytes','SourceBytes']]\n"
   ]
  },
  {
   "cell_type": "code",
   "execution_count": 27,
   "metadata": {},
   "outputs": [],
   "source": [
    "df_train_sel = pd.concat([df_train_sel,new_label], axis=1)"
   ]
  },
  {
   "cell_type": "code",
   "execution_count": 28,
   "metadata": {},
   "outputs": [
    {
     "data": {
      "text/html": [
       "<div>\n",
       "<style scoped>\n",
       "    .dataframe tbody tr th:only-of-type {\n",
       "        vertical-align: middle;\n",
       "    }\n",
       "\n",
       "    .dataframe tbody tr th {\n",
       "        vertical-align: top;\n",
       "    }\n",
       "\n",
       "    .dataframe thead th {\n",
       "        text-align: right;\n",
       "    }\n",
       "</style>\n",
       "<table border=\"1\" class=\"dataframe\">\n",
       "  <thead>\n",
       "    <tr style=\"text-align: right;\">\n",
       "      <th></th>\n",
       "      <th>SrcIPAddress</th>\n",
       "      <th>DestIPAddress</th>\n",
       "      <th>Direction</th>\n",
       "      <th>Duration</th>\n",
       "      <th>TotalPackets</th>\n",
       "      <th>TotalBytes</th>\n",
       "      <th>SourceBytes</th>\n",
       "      <th>Botnet</th>\n",
       "    </tr>\n",
       "  </thead>\n",
       "  <tbody>\n",
       "    <tr>\n",
       "      <th>0</th>\n",
       "      <td>147.124.93.156</td>\n",
       "      <td>147.32.89.100</td>\n",
       "      <td>&lt;-&gt;</td>\n",
       "      <td>0.000318</td>\n",
       "      <td>3</td>\n",
       "      <td>195</td>\n",
       "      <td>62</td>\n",
       "      <td>1</td>\n",
       "    </tr>\n",
       "    <tr>\n",
       "      <th>1</th>\n",
       "      <td>147.124.93.156</td>\n",
       "      <td>74.125.241.185</td>\n",
       "      <td>-&gt;</td>\n",
       "      <td>0.039559</td>\n",
       "      <td>7</td>\n",
       "      <td>858</td>\n",
       "      <td>607</td>\n",
       "      <td>1</td>\n",
       "    </tr>\n",
       "    <tr>\n",
       "      <th>2</th>\n",
       "      <td>147.124.93.156</td>\n",
       "      <td>147.32.89.100</td>\n",
       "      <td>&lt;-&gt;</td>\n",
       "      <td>0.000423</td>\n",
       "      <td>2</td>\n",
       "      <td>560</td>\n",
       "      <td>90</td>\n",
       "      <td>1</td>\n",
       "    </tr>\n",
       "    <tr>\n",
       "      <th>3</th>\n",
       "      <td>147.124.93.156</td>\n",
       "      <td>65.55.65.31</td>\n",
       "      <td>-&gt;</td>\n",
       "      <td>2.990280</td>\n",
       "      <td>3</td>\n",
       "      <td>175</td>\n",
       "      <td>183</td>\n",
       "      <td>1</td>\n",
       "    </tr>\n",
       "    <tr>\n",
       "      <th>4</th>\n",
       "      <td>147.124.93.156</td>\n",
       "      <td>147.32.89.100</td>\n",
       "      <td>&lt;-&gt;</td>\n",
       "      <td>0.000541</td>\n",
       "      <td>2</td>\n",
       "      <td>472</td>\n",
       "      <td>77</td>\n",
       "      <td>1</td>\n",
       "    </tr>\n",
       "  </tbody>\n",
       "</table>\n",
       "</div>"
      ],
      "text/plain": [
       "     SrcIPAddress   DestIPAddress Direction  Duration  TotalPackets  \\\n",
       "0  147.124.93.156   147.32.89.100       <->  0.000318             3   \n",
       "1  147.124.93.156  74.125.241.185        ->  0.039559             7   \n",
       "2  147.124.93.156   147.32.89.100       <->  0.000423             2   \n",
       "3  147.124.93.156     65.55.65.31        ->  2.990280             3   \n",
       "4  147.124.93.156   147.32.89.100       <->  0.000541             2   \n",
       "\n",
       "   TotalBytes  SourceBytes  Botnet  \n",
       "0         195           62       1  \n",
       "1         858          607       1  \n",
       "2         560           90       1  \n",
       "3         175          183       1  \n",
       "4         472           77       1  "
      ]
     },
     "execution_count": 28,
     "metadata": {},
     "output_type": "execute_result"
    }
   ],
   "source": [
    "df_train_sel.head()"
   ]
  },
  {
   "cell_type": "code",
   "execution_count": 29,
   "metadata": {},
   "outputs": [],
   "source": [
    "df_train_sel['PacketsBySec'] = df_train_sel['TotalPackets']/df_train_sel['Duration']\n",
    "df_train_sel['SourceBytesBySec'] = df_train_sel['SourceBytes']/df_train_sel['Duration']\n",
    "df_train_sel['TotalBytesBySec'] = df_train_sel['TotalBytes']/df_train_sel['Duration']"
   ]
  },
  {
   "cell_type": "code",
   "execution_count": 31,
   "metadata": {},
   "outputs": [],
   "source": [
    "df_train_filtered =  df_train_sel[~df_train_sel.isin([np.nan, np.inf, -np.inf]).any(1)]"
   ]
  },
  {
   "cell_type": "code",
   "execution_count": 36,
   "metadata": {},
   "outputs": [],
   "source": [
    "df_group = df_train_filtered.groupby(['SrcIPAddress']).mean()"
   ]
  },
  {
   "cell_type": "code",
   "execution_count": 37,
   "metadata": {},
   "outputs": [
    {
     "data": {
      "text/plain": [
       "0.000000    70\n",
       "1.000000    46\n",
       "0.999937     1\n",
       "0.999934     1\n",
       "Name: Botnet, dtype: int64"
      ]
     },
     "execution_count": 37,
     "metadata": {},
     "output_type": "execute_result"
    }
   ],
   "source": [
    "df_group['Botnet'].value_counts()"
   ]
  },
  {
   "cell_type": "code",
   "execution_count": 38,
   "metadata": {},
   "outputs": [],
   "source": [
    "df_group.loc[(df_group['Botnet'] > 0.5), 'Botnet'] = 1.0"
   ]
  },
  {
   "cell_type": "code",
   "execution_count": 39,
   "metadata": {},
   "outputs": [
    {
     "data": {
      "text/html": [
       "<div>\n",
       "<style scoped>\n",
       "    .dataframe tbody tr th:only-of-type {\n",
       "        vertical-align: middle;\n",
       "    }\n",
       "\n",
       "    .dataframe tbody tr th {\n",
       "        vertical-align: top;\n",
       "    }\n",
       "\n",
       "    .dataframe thead th {\n",
       "        text-align: right;\n",
       "    }\n",
       "</style>\n",
       "<table border=\"1\" class=\"dataframe\">\n",
       "  <thead>\n",
       "    <tr style=\"text-align: right;\">\n",
       "      <th></th>\n",
       "      <th>Duration</th>\n",
       "      <th>TotalPackets</th>\n",
       "      <th>TotalBytes</th>\n",
       "      <th>SourceBytes</th>\n",
       "      <th>Botnet</th>\n",
       "      <th>PacketsBySec</th>\n",
       "      <th>SourceBytesBySec</th>\n",
       "      <th>TotalBytesBySec</th>\n",
       "    </tr>\n",
       "    <tr>\n",
       "      <th>SrcIPAddress</th>\n",
       "      <th></th>\n",
       "      <th></th>\n",
       "      <th></th>\n",
       "      <th></th>\n",
       "      <th></th>\n",
       "      <th></th>\n",
       "      <th></th>\n",
       "      <th></th>\n",
       "    </tr>\n",
       "  </thead>\n",
       "  <tbody>\n",
       "    <tr>\n",
       "      <th>124.232.153.174</th>\n",
       "      <td>0.104518</td>\n",
       "      <td>2.286232</td>\n",
       "      <td>149.264493</td>\n",
       "      <td>78.702899</td>\n",
       "      <td>0.0</td>\n",
       "      <td>13882.919749</td>\n",
       "      <td>431491.252983</td>\n",
       "      <td>833081.520768</td>\n",
       "    </tr>\n",
       "    <tr>\n",
       "      <th>147.102.96.196</th>\n",
       "      <td>35.829232</td>\n",
       "      <td>13.564209</td>\n",
       "      <td>9173.177942</td>\n",
       "      <td>1398.448550</td>\n",
       "      <td>1.0</td>\n",
       "      <td>1662.120009</td>\n",
       "      <td>48544.183819</td>\n",
       "      <td>237982.640615</td>\n",
       "    </tr>\n",
       "    <tr>\n",
       "      <th>147.115.98.191</th>\n",
       "      <td>15.056139</td>\n",
       "      <td>16.217323</td>\n",
       "      <td>11788.204134</td>\n",
       "      <td>1437.707480</td>\n",
       "      <td>1.0</td>\n",
       "      <td>1773.958664</td>\n",
       "      <td>52080.610326</td>\n",
       "      <td>257499.951242</td>\n",
       "    </tr>\n",
       "    <tr>\n",
       "      <th>147.119.98.190</th>\n",
       "      <td>36.468520</td>\n",
       "      <td>7.010240</td>\n",
       "      <td>2880.259186</td>\n",
       "      <td>917.122696</td>\n",
       "      <td>1.0</td>\n",
       "      <td>1635.948241</td>\n",
       "      <td>47796.257082</td>\n",
       "      <td>237380.888041</td>\n",
       "    </tr>\n",
       "    <tr>\n",
       "      <th>147.124.93.156</th>\n",
       "      <td>14.920804</td>\n",
       "      <td>5.567289</td>\n",
       "      <td>2039.830527</td>\n",
       "      <td>593.554574</td>\n",
       "      <td>1.0</td>\n",
       "      <td>1751.074834</td>\n",
       "      <td>50859.497350</td>\n",
       "      <td>255220.597559</td>\n",
       "    </tr>\n",
       "  </tbody>\n",
       "</table>\n",
       "</div>"
      ],
      "text/plain": [
       "                  Duration  TotalPackets    TotalBytes  SourceBytes  Botnet  \\\n",
       "SrcIPAddress                                                                  \n",
       "124.232.153.174   0.104518      2.286232    149.264493    78.702899     0.0   \n",
       "147.102.96.196   35.829232     13.564209   9173.177942  1398.448550     1.0   \n",
       "147.115.98.191   15.056139     16.217323  11788.204134  1437.707480     1.0   \n",
       "147.119.98.190   36.468520      7.010240   2880.259186   917.122696     1.0   \n",
       "147.124.93.156   14.920804      5.567289   2039.830527   593.554574     1.0   \n",
       "\n",
       "                 PacketsBySec  SourceBytesBySec  TotalBytesBySec  \n",
       "SrcIPAddress                                                      \n",
       "124.232.153.174  13882.919749     431491.252983    833081.520768  \n",
       "147.102.96.196    1662.120009      48544.183819    237982.640615  \n",
       "147.115.98.191    1773.958664      52080.610326    257499.951242  \n",
       "147.119.98.190    1635.948241      47796.257082    237380.888041  \n",
       "147.124.93.156    1751.074834      50859.497350    255220.597559  "
      ]
     },
     "execution_count": 39,
     "metadata": {},
     "output_type": "execute_result"
    }
   ],
   "source": [
    "df_group.head()"
   ]
  },
  {
   "cell_type": "code",
   "execution_count": 40,
   "metadata": {},
   "outputs": [],
   "source": [
    "df_group.to_csv('../../ml-data/cyberattack_detection/2_processed_data/A2_training_data_by_ip.csv', sep=',')"
   ]
  },
  {
   "cell_type": "markdown",
   "metadata": {},
   "source": [
    "### Test data"
   ]
  },
  {
   "cell_type": "code",
   "execution_count": 41,
   "metadata": {},
   "outputs": [],
   "source": [
    "df_test = pd.read_csv('../../ml-data/cyberattack_detection/1_raw_data/A2_2/test_data_with_labels', sep=','\n",
    "                       ,names=['Timestamp','Duration','Protocol','SrcIPAddress','SrcPort','Direction',\n",
    "                               'DestIPAddress','DestPort','State','SrcTypeService','DestTypeService',\n",
    "                               'TotalPackets','TotalBytes','SourceBytes','Label'])"
   ]
  },
  {
   "cell_type": "code",
   "execution_count": 46,
   "metadata": {},
   "outputs": [],
   "source": [
    "new_label_test = pd.DataFrame(data=np.where(df_test['Label'].str.contains(\"Botnet\",case=False), 1, 0),columns=[\"Botnet\"])"
   ]
  },
  {
   "cell_type": "code",
   "execution_count": 47,
   "metadata": {},
   "outputs": [],
   "source": [
    "df_test_sel = df_test[['SrcIPAddress','DestIPAddress','Direction','Duration','TotalPackets','TotalBytes','SourceBytes']]\n"
   ]
  },
  {
   "cell_type": "code",
   "execution_count": 48,
   "metadata": {},
   "outputs": [],
   "source": [
    "df_test_sel = pd.concat([df_test_sel,new_label_test], axis=1)"
   ]
  },
  {
   "cell_type": "code",
   "execution_count": 49,
   "metadata": {
    "scrolled": true
   },
   "outputs": [
    {
     "data": {
      "text/html": [
       "<div>\n",
       "<style scoped>\n",
       "    .dataframe tbody tr th:only-of-type {\n",
       "        vertical-align: middle;\n",
       "    }\n",
       "\n",
       "    .dataframe tbody tr th {\n",
       "        vertical-align: top;\n",
       "    }\n",
       "\n",
       "    .dataframe thead th {\n",
       "        text-align: right;\n",
       "    }\n",
       "</style>\n",
       "<table border=\"1\" class=\"dataframe\">\n",
       "  <thead>\n",
       "    <tr style=\"text-align: right;\">\n",
       "      <th></th>\n",
       "      <th>SrcIPAddress</th>\n",
       "      <th>DestIPAddress</th>\n",
       "      <th>Direction</th>\n",
       "      <th>Duration</th>\n",
       "      <th>TotalPackets</th>\n",
       "      <th>TotalBytes</th>\n",
       "      <th>SourceBytes</th>\n",
       "      <th>Botnet</th>\n",
       "    </tr>\n",
       "  </thead>\n",
       "  <tbody>\n",
       "    <tr>\n",
       "      <th>0</th>\n",
       "      <td>147.143.92.183</td>\n",
       "      <td>147.32.88.101</td>\n",
       "      <td>&lt;-&gt;</td>\n",
       "      <td>0.000281</td>\n",
       "      <td>2</td>\n",
       "      <td>203</td>\n",
       "      <td>61</td>\n",
       "      <td>1</td>\n",
       "    </tr>\n",
       "    <tr>\n",
       "      <th>1</th>\n",
       "      <td>147.143.92.183</td>\n",
       "      <td>74.125.240.193</td>\n",
       "      <td>-&gt;</td>\n",
       "      <td>0.050073</td>\n",
       "      <td>7</td>\n",
       "      <td>861</td>\n",
       "      <td>659</td>\n",
       "      <td>1</td>\n",
       "    </tr>\n",
       "    <tr>\n",
       "      <th>2</th>\n",
       "      <td>147.143.92.183</td>\n",
       "      <td>147.32.88.101</td>\n",
       "      <td>&lt;-&gt;</td>\n",
       "      <td>0.000455</td>\n",
       "      <td>3</td>\n",
       "      <td>575</td>\n",
       "      <td>87</td>\n",
       "      <td>1</td>\n",
       "    </tr>\n",
       "    <tr>\n",
       "      <th>3</th>\n",
       "      <td>147.143.92.183</td>\n",
       "      <td>147.32.88.101</td>\n",
       "      <td>&lt;-&gt;</td>\n",
       "      <td>0.000402</td>\n",
       "      <td>3</td>\n",
       "      <td>484</td>\n",
       "      <td>75</td>\n",
       "      <td>1</td>\n",
       "    </tr>\n",
       "    <tr>\n",
       "      <th>4</th>\n",
       "      <td>147.143.92.183</td>\n",
       "      <td>65.55.64.32</td>\n",
       "      <td>-&gt;</td>\n",
       "      <td>3.049152</td>\n",
       "      <td>3</td>\n",
       "      <td>188</td>\n",
       "      <td>183</td>\n",
       "      <td>1</td>\n",
       "    </tr>\n",
       "  </tbody>\n",
       "</table>\n",
       "</div>"
      ],
      "text/plain": [
       "     SrcIPAddress   DestIPAddress Direction  Duration  TotalPackets  \\\n",
       "0  147.143.92.183   147.32.88.101       <->  0.000281             2   \n",
       "1  147.143.92.183  74.125.240.193        ->  0.050073             7   \n",
       "2  147.143.92.183   147.32.88.101       <->  0.000455             3   \n",
       "3  147.143.92.183   147.32.88.101       <->  0.000402             3   \n",
       "4  147.143.92.183     65.55.64.32        ->  3.049152             3   \n",
       "\n",
       "   TotalBytes  SourceBytes  Botnet  \n",
       "0         203           61       1  \n",
       "1         861          659       1  \n",
       "2         575           87       1  \n",
       "3         484           75       1  \n",
       "4         188          183       1  "
      ]
     },
     "execution_count": 49,
     "metadata": {},
     "output_type": "execute_result"
    }
   ],
   "source": [
    "df_test_sel.head()"
   ]
  },
  {
   "cell_type": "code",
   "execution_count": 50,
   "metadata": {},
   "outputs": [],
   "source": [
    "df_test_sel['PacketsBySec'] = df_test_sel['TotalPackets']/df_test_sel['Duration']\n",
    "df_test_sel['SourceBytesBySec'] = df_test_sel['SourceBytes']/df_test_sel['Duration']\n",
    "df_test_sel['TotalBytesBySec'] = df_test_sel['TotalBytes']/df_test_sel['Duration']"
   ]
  },
  {
   "cell_type": "code",
   "execution_count": 51,
   "metadata": {},
   "outputs": [],
   "source": [
    "df_test_filtered = df_test_sel[~df_test_sel.isin([np.nan, np.inf, -np.inf]).any(1)]"
   ]
  },
  {
   "cell_type": "code",
   "execution_count": 52,
   "metadata": {},
   "outputs": [],
   "source": [
    "df_group_test = df_test_filtered.groupby(['SrcIPAddress']).mean()"
   ]
  },
  {
   "cell_type": "code",
   "execution_count": 55,
   "metadata": {},
   "outputs": [
    {
     "data": {
      "text/plain": [
       "0.0    29\n",
       "1.0    28\n",
       "Name: Botnet, dtype: int64"
      ]
     },
     "execution_count": 55,
     "metadata": {},
     "output_type": "execute_result"
    }
   ],
   "source": [
    "df_group_test['Botnet'].value_counts()"
   ]
  },
  {
   "cell_type": "code",
   "execution_count": 54,
   "metadata": {},
   "outputs": [],
   "source": [
    "df_group_test.loc[(df_group_test['Botnet'] > 0.5), 'Botnet'] = 1.0"
   ]
  },
  {
   "cell_type": "code",
   "execution_count": 56,
   "metadata": {},
   "outputs": [],
   "source": [
    "df_group_test.to_csv('../../ml-data/cyberattack_detection/2_processed_data/A2_test_data_by_ip.csv', sep=',')"
   ]
  },
  {
   "cell_type": "markdown",
   "metadata": {},
   "source": [
    "End."
   ]
  }
 ],
 "metadata": {
  "kernelspec": {
   "display_name": "Python 3",
   "language": "python",
   "name": "python3"
  },
  "language_info": {
   "codemirror_mode": {
    "name": "ipython",
    "version": 3
   },
   "file_extension": ".py",
   "mimetype": "text/x-python",
   "name": "python",
   "nbconvert_exporter": "python",
   "pygments_lexer": "ipython3",
   "version": "3.8.5"
  }
 },
 "nbformat": 4,
 "nbformat_minor": 4
}
