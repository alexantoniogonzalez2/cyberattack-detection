{
 "cells": [
  {
   "cell_type": "code",
   "execution_count": 61,
   "metadata": {},
   "outputs": [],
   "source": [
    "import pandas as pd\n",
    "import numpy as np\n",
    "from sklearn.preprocessing import StandardScaler, OneHotEncoder"
   ]
  },
  {
   "cell_type": "markdown",
   "metadata": {},
   "source": [
    "### Test data"
   ]
  },
  {
   "cell_type": "code",
   "execution_count": 306,
   "metadata": {},
   "outputs": [],
   "source": [
    "df_test = pd.read_csv('../../ml-data/cyberattack_detection/1_raw_data/A2_2/test_data_with_labels', sep=','\n",
    "                       ,names=['Timestamp','Duration','Protocol','SrcIPAddress','SrcPort','Direction',\n",
    "                               'DestIPAddress','DestPort','State','SrcTypeService','DestTypeService',\n",
    "                               'TotalPackets','TotalBytes','SourceBytes','Label'])"
   ]
  },
  {
   "cell_type": "code",
   "execution_count": 304,
   "metadata": {},
   "outputs": [],
   "source": [
    "df_test_filtered = df_test[~df_test.isin([np.nan, np.inf, -np.inf]).any(1)]"
   ]
  },
  {
   "cell_type": "code",
   "execution_count": 305,
   "metadata": {},
   "outputs": [
    {
     "data": {
      "text/html": [
       "<div>\n",
       "<style scoped>\n",
       "    .dataframe tbody tr th:only-of-type {\n",
       "        vertical-align: middle;\n",
       "    }\n",
       "\n",
       "    .dataframe tbody tr th {\n",
       "        vertical-align: top;\n",
       "    }\n",
       "\n",
       "    .dataframe thead th {\n",
       "        text-align: right;\n",
       "    }\n",
       "</style>\n",
       "<table border=\"1\" class=\"dataframe\">\n",
       "  <thead>\n",
       "    <tr style=\"text-align: right;\">\n",
       "      <th></th>\n",
       "      <th>Timestamp</th>\n",
       "      <th>Duration</th>\n",
       "      <th>Protocol</th>\n",
       "      <th>SrcIPAddress</th>\n",
       "      <th>SrcPort</th>\n",
       "      <th>Direction</th>\n",
       "      <th>DestIPAddress</th>\n",
       "      <th>DestPort</th>\n",
       "      <th>State</th>\n",
       "      <th>SrcTypeService</th>\n",
       "      <th>DestTypeService</th>\n",
       "      <th>TotalPackets</th>\n",
       "      <th>TotalBytes</th>\n",
       "      <th>SourceBytes</th>\n",
       "      <th>Label</th>\n",
       "    </tr>\n",
       "  </thead>\n",
       "  <tbody>\n",
       "    <tr>\n",
       "      <th>30</th>\n",
       "      <td>2011/08/17 11:57:59.581994</td>\n",
       "      <td>0.000255</td>\n",
       "      <td>udp</td>\n",
       "      <td>147.101.94.182</td>\n",
       "      <td>1025</td>\n",
       "      <td>&lt;-&gt;</td>\n",
       "      <td>147.32.90.101</td>\n",
       "      <td>53</td>\n",
       "      <td>CON</td>\n",
       "      <td>0.0</td>\n",
       "      <td>0.0</td>\n",
       "      <td>2</td>\n",
       "      <td>203</td>\n",
       "      <td>66</td>\n",
       "      <td>flow=From-Botnet-V50-3-UDP-DNS</td>\n",
       "    </tr>\n",
       "    <tr>\n",
       "      <th>31</th>\n",
       "      <td>2011/08/17 11:58:02.013275</td>\n",
       "      <td>0.020982</td>\n",
       "      <td>udp</td>\n",
       "      <td>147.101.94.182</td>\n",
       "      <td>1025</td>\n",
       "      <td>&lt;-&gt;</td>\n",
       "      <td>147.32.90.101</td>\n",
       "      <td>53</td>\n",
       "      <td>CON</td>\n",
       "      <td>0.0</td>\n",
       "      <td>0.0</td>\n",
       "      <td>2</td>\n",
       "      <td>569</td>\n",
       "      <td>83</td>\n",
       "      <td>flow=From-Botnet-V50-3-UDP-DNS</td>\n",
       "    </tr>\n",
       "    <tr>\n",
       "      <th>32</th>\n",
       "      <td>2011/08/17 11:58:02.022016</td>\n",
       "      <td>0.037351</td>\n",
       "      <td>tcp</td>\n",
       "      <td>147.101.94.182</td>\n",
       "      <td>1027</td>\n",
       "      <td>-&gt;</td>\n",
       "      <td>74.125.242.192</td>\n",
       "      <td>80</td>\n",
       "      <td>SRPA_SPA</td>\n",
       "      <td>0.0</td>\n",
       "      <td>0.0</td>\n",
       "      <td>7</td>\n",
       "      <td>913</td>\n",
       "      <td>607</td>\n",
       "      <td>flow=From-Botnet-V50-3-TCP-HTTP-Google-Net-Est...</td>\n",
       "    </tr>\n",
       "    <tr>\n",
       "      <th>34</th>\n",
       "      <td>2011/08/17 11:58:04.765808</td>\n",
       "      <td>0.000418</td>\n",
       "      <td>udp</td>\n",
       "      <td>147.101.94.182</td>\n",
       "      <td>1025</td>\n",
       "      <td>&lt;-&gt;</td>\n",
       "      <td>147.32.90.101</td>\n",
       "      <td>53</td>\n",
       "      <td>CON</td>\n",
       "      <td>0.0</td>\n",
       "      <td>0.0</td>\n",
       "      <td>2</td>\n",
       "      <td>477</td>\n",
       "      <td>77</td>\n",
       "      <td>flow=From-Botnet-V50-3-UDP-DNS</td>\n",
       "    </tr>\n",
       "    <tr>\n",
       "      <th>31784</th>\n",
       "      <td>2011/08/17 14:15:02.224660</td>\n",
       "      <td>0.508984</td>\n",
       "      <td>udp</td>\n",
       "      <td>147.101.94.182</td>\n",
       "      <td>1025</td>\n",
       "      <td>&lt;-&gt;</td>\n",
       "      <td>147.32.90.101</td>\n",
       "      <td>53</td>\n",
       "      <td>CON</td>\n",
       "      <td>0.0</td>\n",
       "      <td>0.0</td>\n",
       "      <td>2</td>\n",
       "      <td>211</td>\n",
       "      <td>70</td>\n",
       "      <td>flow=From-Botnet-V50-3-UDP-DNS</td>\n",
       "    </tr>\n",
       "  </tbody>\n",
       "</table>\n",
       "</div>"
      ],
      "text/plain": [
       "                        Timestamp  Duration Protocol    SrcIPAddress SrcPort  \\\n",
       "30     2011/08/17 11:57:59.581994  0.000255      udp  147.101.94.182    1025   \n",
       "31     2011/08/17 11:58:02.013275  0.020982      udp  147.101.94.182    1025   \n",
       "32     2011/08/17 11:58:02.022016  0.037351      tcp  147.101.94.182    1027   \n",
       "34     2011/08/17 11:58:04.765808  0.000418      udp  147.101.94.182    1025   \n",
       "31784  2011/08/17 14:15:02.224660  0.508984      udp  147.101.94.182    1025   \n",
       "\n",
       "      Direction   DestIPAddress DestPort     State  SrcTypeService  \\\n",
       "30          <->   147.32.90.101       53       CON             0.0   \n",
       "31          <->   147.32.90.101       53       CON             0.0   \n",
       "32           ->  74.125.242.192       80  SRPA_SPA             0.0   \n",
       "34          <->   147.32.90.101       53       CON             0.0   \n",
       "31784       <->   147.32.90.101       53       CON             0.0   \n",
       "\n",
       "       DestTypeService  TotalPackets  TotalBytes  SourceBytes  \\\n",
       "30                 0.0             2         203           66   \n",
       "31                 0.0             2         569           83   \n",
       "32                 0.0             7         913          607   \n",
       "34                 0.0             2         477           77   \n",
       "31784              0.0             2         211           70   \n",
       "\n",
       "                                                   Label  \n",
       "30                        flow=From-Botnet-V50-3-UDP-DNS  \n",
       "31                        flow=From-Botnet-V50-3-UDP-DNS  \n",
       "32     flow=From-Botnet-V50-3-TCP-HTTP-Google-Net-Est...  \n",
       "34                        flow=From-Botnet-V50-3-UDP-DNS  \n",
       "31784                     flow=From-Botnet-V50-3-UDP-DNS  "
      ]
     },
     "execution_count": 305,
     "metadata": {},
     "output_type": "execute_result"
    }
   ],
   "source": [
    "df_test_filtered.loc[df_test_filtered['SrcIPAddress']==\"147.101.94.182\"].head()"
   ]
  },
  {
   "cell_type": "code",
   "execution_count": 65,
   "metadata": {},
   "outputs": [
    {
     "data": {
      "text/plain": [
       "770100"
      ]
     },
     "execution_count": 65,
     "metadata": {},
     "output_type": "execute_result"
    }
   ],
   "source": [
    "50*15402"
   ]
  },
  {
   "cell_type": "code",
   "execution_count": 307,
   "metadata": {},
   "outputs": [],
   "source": [
    "df_test.at[30, 'Duration'] =  896600 + 0.000255\n",
    "df_test.at[30, 'TotalPackets'] = 896600 + 2\n",
    "df_test.at[30, 'TotalBytes'] = 896600 + 203\n",
    "df_test.at[30, 'SourceBytes'] = 896600 + 66"
   ]
  },
  {
   "cell_type": "code",
   "execution_count": 236,
   "metadata": {},
   "outputs": [
    {
     "data": {
      "text/html": [
       "<div>\n",
       "<style scoped>\n",
       "    .dataframe tbody tr th:only-of-type {\n",
       "        vertical-align: middle;\n",
       "    }\n",
       "\n",
       "    .dataframe tbody tr th {\n",
       "        vertical-align: top;\n",
       "    }\n",
       "\n",
       "    .dataframe thead th {\n",
       "        text-align: right;\n",
       "    }\n",
       "</style>\n",
       "<table border=\"1\" class=\"dataframe\">\n",
       "  <thead>\n",
       "    <tr style=\"text-align: right;\">\n",
       "      <th></th>\n",
       "      <th>Timestamp</th>\n",
       "      <th>Duration</th>\n",
       "      <th>Protocol</th>\n",
       "      <th>SrcIPAddress</th>\n",
       "      <th>SrcPort</th>\n",
       "      <th>Direction</th>\n",
       "      <th>DestIPAddress</th>\n",
       "      <th>DestPort</th>\n",
       "      <th>State</th>\n",
       "      <th>SrcTypeService</th>\n",
       "      <th>DestTypeService</th>\n",
       "      <th>TotalPackets</th>\n",
       "      <th>TotalBytes</th>\n",
       "      <th>SourceBytes</th>\n",
       "      <th>Label</th>\n",
       "    </tr>\n",
       "  </thead>\n",
       "  <tbody>\n",
       "    <tr>\n",
       "      <th>30</th>\n",
       "      <td>2011/08/17 11:57:59.581994</td>\n",
       "      <td>898000.000000</td>\n",
       "      <td>udp</td>\n",
       "      <td>147.101.94.182</td>\n",
       "      <td>1025</td>\n",
       "      <td>&lt;-&gt;</td>\n",
       "      <td>147.32.90.101</td>\n",
       "      <td>53</td>\n",
       "      <td>CON</td>\n",
       "      <td>0.0</td>\n",
       "      <td>0.0</td>\n",
       "      <td>898000</td>\n",
       "      <td>898000</td>\n",
       "      <td>898000</td>\n",
       "      <td>flow=From-Botnet-V50-3-UDP-DNS</td>\n",
       "    </tr>\n",
       "    <tr>\n",
       "      <th>31</th>\n",
       "      <td>2011/08/17 11:58:02.013275</td>\n",
       "      <td>0.020982</td>\n",
       "      <td>udp</td>\n",
       "      <td>147.101.94.182</td>\n",
       "      <td>1025</td>\n",
       "      <td>&lt;-&gt;</td>\n",
       "      <td>147.32.90.101</td>\n",
       "      <td>53</td>\n",
       "      <td>CON</td>\n",
       "      <td>0.0</td>\n",
       "      <td>0.0</td>\n",
       "      <td>2</td>\n",
       "      <td>569</td>\n",
       "      <td>83</td>\n",
       "      <td>flow=From-Botnet-V50-3-UDP-DNS</td>\n",
       "    </tr>\n",
       "    <tr>\n",
       "      <th>32</th>\n",
       "      <td>2011/08/17 11:58:02.022016</td>\n",
       "      <td>0.037351</td>\n",
       "      <td>tcp</td>\n",
       "      <td>147.101.94.182</td>\n",
       "      <td>1027</td>\n",
       "      <td>-&gt;</td>\n",
       "      <td>74.125.242.192</td>\n",
       "      <td>80</td>\n",
       "      <td>SRPA_SPA</td>\n",
       "      <td>0.0</td>\n",
       "      <td>0.0</td>\n",
       "      <td>7</td>\n",
       "      <td>913</td>\n",
       "      <td>607</td>\n",
       "      <td>flow=From-Botnet-V50-3-TCP-HTTP-Google-Net-Est...</td>\n",
       "    </tr>\n",
       "    <tr>\n",
       "      <th>33</th>\n",
       "      <td>2011/08/17 11:58:04.035463</td>\n",
       "      <td>0.079349</td>\n",
       "      <td>udp</td>\n",
       "      <td>147.101.94.182</td>\n",
       "      <td>123</td>\n",
       "      <td>-&gt;</td>\n",
       "      <td>65.55.66.30</td>\n",
       "      <td>123</td>\n",
       "      <td>INT</td>\n",
       "      <td>0.0</td>\n",
       "      <td>NaN</td>\n",
       "      <td>2</td>\n",
       "      <td>185</td>\n",
       "      <td>187</td>\n",
       "      <td>flow=From-Botnet-V50-3-UDP-Attempt</td>\n",
       "    </tr>\n",
       "    <tr>\n",
       "      <th>34</th>\n",
       "      <td>2011/08/17 11:58:04.765808</td>\n",
       "      <td>0.000418</td>\n",
       "      <td>udp</td>\n",
       "      <td>147.101.94.182</td>\n",
       "      <td>1025</td>\n",
       "      <td>&lt;-&gt;</td>\n",
       "      <td>147.32.90.101</td>\n",
       "      <td>53</td>\n",
       "      <td>CON</td>\n",
       "      <td>0.0</td>\n",
       "      <td>0.0</td>\n",
       "      <td>2</td>\n",
       "      <td>477</td>\n",
       "      <td>77</td>\n",
       "      <td>flow=From-Botnet-V50-3-UDP-DNS</td>\n",
       "    </tr>\n",
       "  </tbody>\n",
       "</table>\n",
       "</div>"
      ],
      "text/plain": [
       "                     Timestamp       Duration Protocol    SrcIPAddress  \\\n",
       "30  2011/08/17 11:57:59.581994  898000.000000      udp  147.101.94.182   \n",
       "31  2011/08/17 11:58:02.013275       0.020982      udp  147.101.94.182   \n",
       "32  2011/08/17 11:58:02.022016       0.037351      tcp  147.101.94.182   \n",
       "33  2011/08/17 11:58:04.035463       0.079349      udp  147.101.94.182   \n",
       "34  2011/08/17 11:58:04.765808       0.000418      udp  147.101.94.182   \n",
       "\n",
       "   SrcPort Direction   DestIPAddress DestPort     State  SrcTypeService  \\\n",
       "30    1025       <->   147.32.90.101       53       CON             0.0   \n",
       "31    1025       <->   147.32.90.101       53       CON             0.0   \n",
       "32    1027        ->  74.125.242.192       80  SRPA_SPA             0.0   \n",
       "33     123        ->     65.55.66.30      123       INT             0.0   \n",
       "34    1025       <->   147.32.90.101       53       CON             0.0   \n",
       "\n",
       "    DestTypeService  TotalPackets  TotalBytes  SourceBytes  \\\n",
       "30              0.0        898000      898000       898000   \n",
       "31              0.0             2         569           83   \n",
       "32              0.0             7         913          607   \n",
       "33              NaN             2         185          187   \n",
       "34              0.0             2         477           77   \n",
       "\n",
       "                                                Label  \n",
       "30                     flow=From-Botnet-V50-3-UDP-DNS  \n",
       "31                     flow=From-Botnet-V50-3-UDP-DNS  \n",
       "32  flow=From-Botnet-V50-3-TCP-HTTP-Google-Net-Est...  \n",
       "33                 flow=From-Botnet-V50-3-UDP-Attempt  \n",
       "34                     flow=From-Botnet-V50-3-UDP-DNS  "
      ]
     },
     "execution_count": 236,
     "metadata": {},
     "output_type": "execute_result"
    }
   ],
   "source": [
    "df_test.loc[df_test['SrcIPAddress']==\"147.101.94.182\"].head()"
   ]
  },
  {
   "cell_type": "markdown",
   "metadata": {},
   "source": [
    "### Traffic perturbation"
   ]
  },
  {
   "cell_type": "code",
   "execution_count": 113,
   "metadata": {},
   "outputs": [],
   "source": [
    "df_test.to_csv('../../ml-data/cyberattack_detection/1_raw_data/A2_2/test_data_with_labels_perturbed',\n",
    "                         sep=',', index=False, header=None )"
   ]
  },
  {
   "cell_type": "markdown",
   "metadata": {},
   "source": [
    "### Reading perturbed file"
   ]
  },
  {
   "cell_type": "code",
   "execution_count": 114,
   "metadata": {},
   "outputs": [],
   "source": [
    "df_test = pd.read_csv('../../ml-data/cyberattack_detection/1_raw_data/A2_2/test_data_with_labels_perturbed', sep=','\n",
    "                       ,names=['Timestamp','Duration','Protocol','SrcIPAddress','SrcPort','Direction',\n",
    "                               'DestIPAddress','DestPort','State','SrcTypeService','DestTypeService',\n",
    "                               'TotalPackets','TotalBytes','SourceBytes','Label'])"
   ]
  },
  {
   "cell_type": "code",
   "execution_count": 290,
   "metadata": {},
   "outputs": [],
   "source": [
    "#df_test.loc[df_test['SrcIPAddress'] == \"147.101.94.182\"]"
   ]
  },
  {
   "cell_type": "code",
   "execution_count": 308,
   "metadata": {},
   "outputs": [],
   "source": [
    "new_label_test = pd.DataFrame(data=np.where(df_test['Label'].str.contains(\"Botnet\",case=False), 1, 0),columns=[\"Botnet\"])"
   ]
  },
  {
   "cell_type": "code",
   "execution_count": 309,
   "metadata": {},
   "outputs": [],
   "source": [
    "df_test_sel = df_test[['SrcIPAddress','DestIPAddress','Direction','Duration','TotalPackets','TotalBytes','SourceBytes']]"
   ]
  },
  {
   "cell_type": "code",
   "execution_count": 310,
   "metadata": {},
   "outputs": [],
   "source": [
    "df_test_sel = pd.concat([df_test_sel,new_label_test], axis=1)"
   ]
  },
  {
   "cell_type": "code",
   "execution_count": 311,
   "metadata": {
    "scrolled": true
   },
   "outputs": [
    {
     "data": {
      "text/html": [
       "<div>\n",
       "<style scoped>\n",
       "    .dataframe tbody tr th:only-of-type {\n",
       "        vertical-align: middle;\n",
       "    }\n",
       "\n",
       "    .dataframe tbody tr th {\n",
       "        vertical-align: top;\n",
       "    }\n",
       "\n",
       "    .dataframe thead th {\n",
       "        text-align: right;\n",
       "    }\n",
       "</style>\n",
       "<table border=\"1\" class=\"dataframe\">\n",
       "  <thead>\n",
       "    <tr style=\"text-align: right;\">\n",
       "      <th></th>\n",
       "      <th>SrcIPAddress</th>\n",
       "      <th>DestIPAddress</th>\n",
       "      <th>Direction</th>\n",
       "      <th>Duration</th>\n",
       "      <th>TotalPackets</th>\n",
       "      <th>TotalBytes</th>\n",
       "      <th>SourceBytes</th>\n",
       "      <th>Botnet</th>\n",
       "    </tr>\n",
       "  </thead>\n",
       "  <tbody>\n",
       "    <tr>\n",
       "      <th>0</th>\n",
       "      <td>147.143.92.183</td>\n",
       "      <td>147.32.88.101</td>\n",
       "      <td>&lt;-&gt;</td>\n",
       "      <td>0.000281</td>\n",
       "      <td>2</td>\n",
       "      <td>203</td>\n",
       "      <td>61</td>\n",
       "      <td>1</td>\n",
       "    </tr>\n",
       "    <tr>\n",
       "      <th>1</th>\n",
       "      <td>147.143.92.183</td>\n",
       "      <td>74.125.240.193</td>\n",
       "      <td>-&gt;</td>\n",
       "      <td>0.050073</td>\n",
       "      <td>7</td>\n",
       "      <td>861</td>\n",
       "      <td>659</td>\n",
       "      <td>1</td>\n",
       "    </tr>\n",
       "    <tr>\n",
       "      <th>2</th>\n",
       "      <td>147.143.92.183</td>\n",
       "      <td>147.32.88.101</td>\n",
       "      <td>&lt;-&gt;</td>\n",
       "      <td>0.000455</td>\n",
       "      <td>3</td>\n",
       "      <td>575</td>\n",
       "      <td>87</td>\n",
       "      <td>1</td>\n",
       "    </tr>\n",
       "    <tr>\n",
       "      <th>3</th>\n",
       "      <td>147.143.92.183</td>\n",
       "      <td>147.32.88.101</td>\n",
       "      <td>&lt;-&gt;</td>\n",
       "      <td>0.000402</td>\n",
       "      <td>3</td>\n",
       "      <td>484</td>\n",
       "      <td>75</td>\n",
       "      <td>1</td>\n",
       "    </tr>\n",
       "    <tr>\n",
       "      <th>4</th>\n",
       "      <td>147.143.92.183</td>\n",
       "      <td>65.55.64.32</td>\n",
       "      <td>-&gt;</td>\n",
       "      <td>3.049152</td>\n",
       "      <td>3</td>\n",
       "      <td>188</td>\n",
       "      <td>183</td>\n",
       "      <td>1</td>\n",
       "    </tr>\n",
       "  </tbody>\n",
       "</table>\n",
       "</div>"
      ],
      "text/plain": [
       "     SrcIPAddress   DestIPAddress Direction  Duration  TotalPackets  \\\n",
       "0  147.143.92.183   147.32.88.101       <->  0.000281             2   \n",
       "1  147.143.92.183  74.125.240.193        ->  0.050073             7   \n",
       "2  147.143.92.183   147.32.88.101       <->  0.000455             3   \n",
       "3  147.143.92.183   147.32.88.101       <->  0.000402             3   \n",
       "4  147.143.92.183     65.55.64.32        ->  3.049152             3   \n",
       "\n",
       "   TotalBytes  SourceBytes  Botnet  \n",
       "0         203           61       1  \n",
       "1         861          659       1  \n",
       "2         575           87       1  \n",
       "3         484           75       1  \n",
       "4         188          183       1  "
      ]
     },
     "execution_count": 311,
     "metadata": {},
     "output_type": "execute_result"
    }
   ],
   "source": [
    "df_test_sel.head()"
   ]
  },
  {
   "cell_type": "code",
   "execution_count": 312,
   "metadata": {},
   "outputs": [],
   "source": [
    "df_test_sel['PacketsBySec'] = df_test_sel['TotalPackets']/df_test_sel['Duration']\n",
    "df_test_sel['SourceBytesBySec'] = df_test_sel['SourceBytes']/df_test_sel['Duration']\n",
    "df_test_sel['TotalBytesBySec'] = df_test_sel['TotalBytes']/df_test_sel['Duration']"
   ]
  },
  {
   "cell_type": "code",
   "execution_count": 313,
   "metadata": {},
   "outputs": [],
   "source": [
    "df_test_filtered = df_test_sel[~df_test_sel.isin([np.nan, np.inf, -np.inf]).any(1)]"
   ]
  },
  {
   "cell_type": "code",
   "execution_count": 314,
   "metadata": {},
   "outputs": [],
   "source": [
    "df_group_test = df_test_filtered.groupby(['SrcIPAddress']).mean()"
   ]
  },
  {
   "cell_type": "code",
   "execution_count": 315,
   "metadata": {},
   "outputs": [
    {
     "data": {
      "text/plain": [
       "0.00000    29\n",
       "1.00000    26\n",
       "0.99994     1\n",
       "0.99985     1\n",
       "Name: Botnet, dtype: int64"
      ]
     },
     "execution_count": 315,
     "metadata": {},
     "output_type": "execute_result"
    }
   ],
   "source": [
    "df_group_test['Botnet'].value_counts()"
   ]
  },
  {
   "cell_type": "code",
   "execution_count": 316,
   "metadata": {},
   "outputs": [],
   "source": [
    "df_group_test.loc[(df_group_test['Botnet'] > 0.5), 'Botnet'] = 1.0"
   ]
  },
  {
   "cell_type": "code",
   "execution_count": 317,
   "metadata": {},
   "outputs": [
    {
     "data": {
      "text/html": [
       "<div>\n",
       "<style scoped>\n",
       "    .dataframe tbody tr th:only-of-type {\n",
       "        vertical-align: middle;\n",
       "    }\n",
       "\n",
       "    .dataframe tbody tr th {\n",
       "        vertical-align: top;\n",
       "    }\n",
       "\n",
       "    .dataframe thead th {\n",
       "        text-align: right;\n",
       "    }\n",
       "</style>\n",
       "<table border=\"1\" class=\"dataframe\">\n",
       "  <thead>\n",
       "    <tr style=\"text-align: right;\">\n",
       "      <th></th>\n",
       "      <th>Duration</th>\n",
       "      <th>TotalPackets</th>\n",
       "      <th>TotalBytes</th>\n",
       "      <th>SourceBytes</th>\n",
       "      <th>Botnet</th>\n",
       "      <th>PacketsBySec</th>\n",
       "      <th>SourceBytesBySec</th>\n",
       "      <th>TotalBytesBySec</th>\n",
       "    </tr>\n",
       "    <tr>\n",
       "      <th>SrcIPAddress</th>\n",
       "      <th></th>\n",
       "      <th></th>\n",
       "      <th></th>\n",
       "      <th></th>\n",
       "      <th></th>\n",
       "      <th></th>\n",
       "      <th></th>\n",
       "      <th></th>\n",
       "    </tr>\n",
       "  </thead>\n",
       "  <tbody>\n",
       "    <tr>\n",
       "      <th>122.226.12.150</th>\n",
       "      <td>0.068330</td>\n",
       "      <td>2.099315</td>\n",
       "      <td>125.989726</td>\n",
       "      <td>68.424658</td>\n",
       "      <td>0.0</td>\n",
       "      <td>10164.267421</td>\n",
       "      <td>313196.425928</td>\n",
       "      <td>609901.995847</td>\n",
       "    </tr>\n",
       "    <tr>\n",
       "      <th>147.101.94.182</th>\n",
       "      <td>87.038085</td>\n",
       "      <td>56.736226</td>\n",
       "      <td>2669.486505</td>\n",
       "      <td>1010.705275</td>\n",
       "      <td>1.0</td>\n",
       "      <td>1495.671372</td>\n",
       "      <td>43775.022442</td>\n",
       "      <td>211851.928670</td>\n",
       "    </tr>\n",
       "    <tr>\n",
       "      <th>147.113.94.198</th>\n",
       "      <td>35.870162</td>\n",
       "      <td>13.585749</td>\n",
       "      <td>9117.484682</td>\n",
       "      <td>1401.067273</td>\n",
       "      <td>1.0</td>\n",
       "      <td>1661.905285</td>\n",
       "      <td>48534.566173</td>\n",
       "      <td>237852.833934</td>\n",
       "    </tr>\n",
       "    <tr>\n",
       "      <th>147.114.98.192</th>\n",
       "      <td>13.462622</td>\n",
       "      <td>7.996686</td>\n",
       "      <td>4687.332367</td>\n",
       "      <td>504.842604</td>\n",
       "      <td>1.0</td>\n",
       "      <td>2198.629757</td>\n",
       "      <td>64127.241159</td>\n",
       "      <td>318626.536661</td>\n",
       "    </tr>\n",
       "    <tr>\n",
       "      <th>147.122.97.192</th>\n",
       "      <td>15.085764</td>\n",
       "      <td>16.219029</td>\n",
       "      <td>11824.440682</td>\n",
       "      <td>1431.609252</td>\n",
       "      <td>1.0</td>\n",
       "      <td>1780.671385</td>\n",
       "      <td>52146.694391</td>\n",
       "      <td>257579.859516</td>\n",
       "    </tr>\n",
       "  </tbody>\n",
       "</table>\n",
       "</div>"
      ],
      "text/plain": [
       "                 Duration  TotalPackets    TotalBytes  SourceBytes  Botnet  \\\n",
       "SrcIPAddress                                                                 \n",
       "122.226.12.150   0.068330      2.099315    125.989726    68.424658     0.0   \n",
       "147.101.94.182  87.038085     56.736226   2669.486505  1010.705275     1.0   \n",
       "147.113.94.198  35.870162     13.585749   9117.484682  1401.067273     1.0   \n",
       "147.114.98.192  13.462622      7.996686   4687.332367   504.842604     1.0   \n",
       "147.122.97.192  15.085764     16.219029  11824.440682  1431.609252     1.0   \n",
       "\n",
       "                PacketsBySec  SourceBytesBySec  TotalBytesBySec  \n",
       "SrcIPAddress                                                     \n",
       "122.226.12.150  10164.267421     313196.425928    609901.995847  \n",
       "147.101.94.182   1495.671372      43775.022442    211851.928670  \n",
       "147.113.94.198   1661.905285      48534.566173    237852.833934  \n",
       "147.114.98.192   2198.629757      64127.241159    318626.536661  \n",
       "147.122.97.192   1780.671385      52146.694391    257579.859516  "
      ]
     },
     "execution_count": 317,
     "metadata": {},
     "output_type": "execute_result"
    }
   ],
   "source": [
    "df_group_test.head()"
   ]
  },
  {
   "cell_type": "code",
   "execution_count": 318,
   "metadata": {},
   "outputs": [],
   "source": [
    "df_group_test.to_csv('../../ml-data/cyberattack_detection/2_processed_data/A2_test_data_by_ip_perturbed.csv', sep=',')"
   ]
  },
  {
   "cell_type": "markdown",
   "metadata": {},
   "source": [
    "End."
   ]
  }
 ],
 "metadata": {
  "kernelspec": {
   "display_name": "Python 3",
   "language": "python",
   "name": "python3"
  },
  "language_info": {
   "codemirror_mode": {
    "name": "ipython",
    "version": 3
   },
   "file_extension": ".py",
   "mimetype": "text/x-python",
   "name": "python",
   "nbconvert_exporter": "python",
   "pygments_lexer": "ipython3",
   "version": "3.8.5"
  }
 },
 "nbformat": 4,
 "nbformat_minor": 4
}
