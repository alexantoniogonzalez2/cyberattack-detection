{
 "cells": [
  {
   "cell_type": "code",
   "execution_count": 1,
   "metadata": {},
   "outputs": [],
   "source": [
    "import pandas as pd\n",
    "import numpy as np\n",
    "from sklearn.preprocessing import StandardScaler, OneHotEncoder"
   ]
  },
  {
   "cell_type": "markdown",
   "metadata": {},
   "source": [
    "### Train data"
   ]
  },
  {
   "cell_type": "code",
   "execution_count": 2,
   "metadata": {},
   "outputs": [],
   "source": [
    "df_train = pd.read_csv('../../ml-data/cyberattack_detection/1_raw_data/A2_2/training_data_with_labels', sep=','\n",
    "                       ,names=['Timestamp','Duration','Protocol','SrcIPAddress','SrcPort','Direction',\n",
    "                               'DestIPAddress','DestPort','State','SrcTypeService','DestTypeService',\n",
    "                               'TotalPackets','TotalBytes','SourceBytes','Label'])"
   ]
  },
  {
   "cell_type": "code",
   "execution_count": 27,
   "metadata": {},
   "outputs": [
    {
     "data": {
      "text/plain": [
       "Timestamp          False\n",
       "Duration           False\n",
       "Protocol           False\n",
       "SrcIPAddress       False\n",
       "SrcPort             True\n",
       "Direction          False\n",
       "DestIPAddress      False\n",
       "DestPort            True\n",
       "State              False\n",
       "SrcTypeService      True\n",
       "DestTypeService     True\n",
       "TotalPackets       False\n",
       "TotalBytes         False\n",
       "SourceBytes        False\n",
       "Label              False\n",
       "ratio              False\n",
       "dtype: bool"
      ]
     },
     "execution_count": 27,
     "metadata": {},
     "output_type": "execute_result"
    }
   ],
   "source": [
    "df_train.isna().any()"
   ]
  },
  {
   "cell_type": "code",
   "execution_count": null,
   "metadata": {},
   "outputs": [],
   "source": [
    "df_train.nunique()"
   ]
  },
  {
   "cell_type": "code",
   "execution_count": null,
   "metadata": {},
   "outputs": [],
   "source": [
    "df_train.Direction.unique()"
   ]
  },
  {
   "cell_type": "code",
   "execution_count": 3,
   "metadata": {},
   "outputs": [],
   "source": [
    "dictionary = {'   ->':'->','  <?>':'<?>','  <->':'<->','   ?>':'<?>','  <-':'<-','  who':'<?>','  <?':'<?>'}"
   ]
  },
  {
   "cell_type": "code",
   "execution_count": 4,
   "metadata": {},
   "outputs": [],
   "source": [
    "df_train = df_train.replace({\"Direction\": dictionary})"
   ]
  },
  {
   "cell_type": "code",
   "execution_count": 5,
   "metadata": {},
   "outputs": [
    {
     "data": {
      "text/plain": [
       "<->    1370635\n",
       "->      601333\n",
       "<-        3250\n",
       "<?>       2949\n",
       "Name: Direction, dtype: int64"
      ]
     },
     "execution_count": 5,
     "metadata": {},
     "output_type": "execute_result"
    }
   ],
   "source": [
    "df_train['Direction'].value_counts()"
   ]
  },
  {
   "cell_type": "code",
   "execution_count": null,
   "metadata": {},
   "outputs": [],
   "source": [
    "df_train.Direction.unique()"
   ]
  },
  {
   "cell_type": "code",
   "execution_count": 6,
   "metadata": {},
   "outputs": [],
   "source": [
    "df_train['ratio'] = df_train['SourceBytes']/df_train['TotalBytes']"
   ]
  },
  {
   "cell_type": "code",
   "execution_count": null,
   "metadata": {},
   "outputs": [],
   "source": [
    "print(df_train.loc[df_train['Direction'] == '->']['ratio'].mean())\n",
    "print(df_train.loc[df_train['Direction'] == '<->']['ratio'].mean())\n",
    "print(df_train.loc[df_train['Direction'] == '<?>']['ratio'].mean())\n",
    "print(df_train.loc[df_train['Direction'] == '<-']['ratio'].mean())"
   ]
  },
  {
   "cell_type": "code",
   "execution_count": null,
   "metadata": {},
   "outputs": [],
   "source": [
    "df_train.loc[df_train['Direction'] == '<-'].head()"
   ]
  },
  {
   "cell_type": "code",
   "execution_count": 7,
   "metadata": {},
   "outputs": [],
   "source": [
    "df_train.loc[(df_train['SourceBytes'] == 0) & (df_train['Direction'] == '<?>'), 'Direction'] = '<-'\n",
    "df_train.loc[(df_train['ratio'] > 0.5) & (df_train['Direction'] == '<?>'), 'Direction'] = '->'\n",
    "df_train.loc[(df_train['ratio'] <= 0.5) & (df_train['Direction'] == '<?>'), 'Direction'] = '<->'"
   ]
  },
  {
   "cell_type": "code",
   "execution_count": 8,
   "metadata": {},
   "outputs": [
    {
     "data": {
      "text/plain": [
       "<->    1372078\n",
       "->      602839\n",
       "<-        3250\n",
       "Name: Direction, dtype: int64"
      ]
     },
     "execution_count": 8,
     "metadata": {},
     "output_type": "execute_result"
    }
   ],
   "source": [
    "df_train['Direction'].value_counts()"
   ]
  },
  {
   "cell_type": "code",
   "execution_count": 9,
   "metadata": {
    "collapsed": true
   },
   "outputs": [
    {
     "data": {
      "text/html": [
       "<div>\n",
       "<style scoped>\n",
       "    .dataframe tbody tr th:only-of-type {\n",
       "        vertical-align: middle;\n",
       "    }\n",
       "\n",
       "    .dataframe tbody tr th {\n",
       "        vertical-align: top;\n",
       "    }\n",
       "\n",
       "    .dataframe thead th {\n",
       "        text-align: right;\n",
       "    }\n",
       "</style>\n",
       "<table border=\"1\" class=\"dataframe\">\n",
       "  <thead>\n",
       "    <tr style=\"text-align: right;\">\n",
       "      <th></th>\n",
       "      <th>Timestamp</th>\n",
       "      <th>Duration</th>\n",
       "      <th>Protocol</th>\n",
       "      <th>SrcIPAddress</th>\n",
       "      <th>SrcPort</th>\n",
       "      <th>Direction</th>\n",
       "      <th>DestIPAddress</th>\n",
       "      <th>DestPort</th>\n",
       "      <th>State</th>\n",
       "      <th>SrcTypeService</th>\n",
       "      <th>DestTypeService</th>\n",
       "      <th>TotalPackets</th>\n",
       "      <th>TotalBytes</th>\n",
       "      <th>SourceBytes</th>\n",
       "      <th>Label</th>\n",
       "    </tr>\n",
       "  </thead>\n",
       "  <tbody>\n",
       "    <tr>\n",
       "      <th>0</th>\n",
       "      <td>2011/08/17 11:48:29.395153</td>\n",
       "      <td>0.000318</td>\n",
       "      <td>udp</td>\n",
       "      <td>147.124.93.156</td>\n",
       "      <td>1025</td>\n",
       "      <td>&lt;-&gt;</td>\n",
       "      <td>147.32.89.100</td>\n",
       "      <td>53</td>\n",
       "      <td>CON</td>\n",
       "      <td>0.0</td>\n",
       "      <td>0.0</td>\n",
       "      <td>3</td>\n",
       "      <td>195</td>\n",
       "      <td>62</td>\n",
       "      <td>flow=From-Botnet-V50-1-UDP-DNS</td>\n",
       "    </tr>\n",
       "    <tr>\n",
       "      <th>1</th>\n",
       "      <td>2011/08/17 11:48:31.525252</td>\n",
       "      <td>0.039559</td>\n",
       "      <td>tcp</td>\n",
       "      <td>147.124.93.156</td>\n",
       "      <td>1027</td>\n",
       "      <td>-&gt;</td>\n",
       "      <td>74.125.241.185</td>\n",
       "      <td>80</td>\n",
       "      <td>SRPA_SPA</td>\n",
       "      <td>0.0</td>\n",
       "      <td>0.0</td>\n",
       "      <td>7</td>\n",
       "      <td>858</td>\n",
       "      <td>607</td>\n",
       "      <td>flow=From-Botnet-V50-1-TCP-HTTP-Google-Net-Est...</td>\n",
       "    </tr>\n",
       "    <tr>\n",
       "      <th>2</th>\n",
       "      <td>2011/08/17 11:48:31.877057</td>\n",
       "      <td>0.000423</td>\n",
       "      <td>udp</td>\n",
       "      <td>147.124.93.156</td>\n",
       "      <td>1025</td>\n",
       "      <td>&lt;-&gt;</td>\n",
       "      <td>147.32.89.100</td>\n",
       "      <td>53</td>\n",
       "      <td>CON</td>\n",
       "      <td>0.0</td>\n",
       "      <td>0.0</td>\n",
       "      <td>2</td>\n",
       "      <td>560</td>\n",
       "      <td>90</td>\n",
       "      <td>flow=From-Botnet-V50-1-UDP-DNS</td>\n",
       "    </tr>\n",
       "    <tr>\n",
       "      <th>3</th>\n",
       "      <td>2011/08/17 11:48:34.224708</td>\n",
       "      <td>2.990280</td>\n",
       "      <td>udp</td>\n",
       "      <td>147.124.93.156</td>\n",
       "      <td>123</td>\n",
       "      <td>-&gt;</td>\n",
       "      <td>65.55.65.31</td>\n",
       "      <td>123</td>\n",
       "      <td>INT</td>\n",
       "      <td>0.0</td>\n",
       "      <td>NaN</td>\n",
       "      <td>3</td>\n",
       "      <td>175</td>\n",
       "      <td>183</td>\n",
       "      <td>flow=From-Botnet-V50-1-UDP-Attempt</td>\n",
       "    </tr>\n",
       "    <tr>\n",
       "      <th>4</th>\n",
       "      <td>2011/08/17 11:48:34.767425</td>\n",
       "      <td>0.000541</td>\n",
       "      <td>udp</td>\n",
       "      <td>147.124.93.156</td>\n",
       "      <td>1025</td>\n",
       "      <td>&lt;-&gt;</td>\n",
       "      <td>147.32.89.100</td>\n",
       "      <td>53</td>\n",
       "      <td>CON</td>\n",
       "      <td>0.0</td>\n",
       "      <td>0.0</td>\n",
       "      <td>2</td>\n",
       "      <td>472</td>\n",
       "      <td>77</td>\n",
       "      <td>flow=From-Botnet-V50-1-UDP-DNS</td>\n",
       "    </tr>\n",
       "    <tr>\n",
       "      <th>...</th>\n",
       "      <td>...</td>\n",
       "      <td>...</td>\n",
       "      <td>...</td>\n",
       "      <td>...</td>\n",
       "      <td>...</td>\n",
       "      <td>...</td>\n",
       "      <td>...</td>\n",
       "      <td>...</td>\n",
       "      <td>...</td>\n",
       "      <td>...</td>\n",
       "      <td>...</td>\n",
       "      <td>...</td>\n",
       "      <td>...</td>\n",
       "      <td>...</td>\n",
       "      <td>...</td>\n",
       "    </tr>\n",
       "    <tr>\n",
       "      <th>1978162</th>\n",
       "      <td>2011/08/17 17:23:16.042445</td>\n",
       "      <td>0.316720</td>\n",
       "      <td>udp</td>\n",
       "      <td>147.72.101.192</td>\n",
       "      <td>1568</td>\n",
       "      <td>&lt;-&gt;</td>\n",
       "      <td>147.32.97.8</td>\n",
       "      <td>53</td>\n",
       "      <td>CON</td>\n",
       "      <td>0.0</td>\n",
       "      <td>0.0</td>\n",
       "      <td>3</td>\n",
       "      <td>233</td>\n",
       "      <td>80</td>\n",
       "      <td>flow=From-Botnet-V50-10-UDP-DNS</td>\n",
       "    </tr>\n",
       "    <tr>\n",
       "      <th>1978163</th>\n",
       "      <td>2011/08/17 17:23:16.322385</td>\n",
       "      <td>0.000000</td>\n",
       "      <td>tcp</td>\n",
       "      <td>147.72.101.192</td>\n",
       "      <td>1170</td>\n",
       "      <td>-&gt;</td>\n",
       "      <td>117.53.131.2</td>\n",
       "      <td>25</td>\n",
       "      <td>S_</td>\n",
       "      <td>0.0</td>\n",
       "      <td>NaN</td>\n",
       "      <td>1</td>\n",
       "      <td>60</td>\n",
       "      <td>60</td>\n",
       "      <td>flow=From-Botnet-V50-10-TCP-Attempt-SPAM</td>\n",
       "    </tr>\n",
       "    <tr>\n",
       "      <th>1978164</th>\n",
       "      <td>2011/08/17 17:23:16.325767</td>\n",
       "      <td>0.954443</td>\n",
       "      <td>tcp</td>\n",
       "      <td>147.72.101.192</td>\n",
       "      <td>1171</td>\n",
       "      <td>-&gt;</td>\n",
       "      <td>46.4.53.103</td>\n",
       "      <td>443</td>\n",
       "      <td>S_RA</td>\n",
       "      <td>0.0</td>\n",
       "      <td>0.0</td>\n",
       "      <td>6</td>\n",
       "      <td>364</td>\n",
       "      <td>181</td>\n",
       "      <td>flow=From-Botnet-V50-10-TCP-Attempt</td>\n",
       "    </tr>\n",
       "    <tr>\n",
       "      <th>1978165</th>\n",
       "      <td>2011/08/17 17:23:17.214008</td>\n",
       "      <td>0.000000</td>\n",
       "      <td>tcp</td>\n",
       "      <td>147.72.101.192</td>\n",
       "      <td>1172</td>\n",
       "      <td>-&gt;</td>\n",
       "      <td>211.43.214.125</td>\n",
       "      <td>25</td>\n",
       "      <td>S_</td>\n",
       "      <td>0.0</td>\n",
       "      <td>NaN</td>\n",
       "      <td>2</td>\n",
       "      <td>59</td>\n",
       "      <td>60</td>\n",
       "      <td>flow=From-Botnet-V50-10-TCP-Attempt-SPAM</td>\n",
       "    </tr>\n",
       "    <tr>\n",
       "      <th>1978166</th>\n",
       "      <td>2011/08/17 17:23:17.283578</td>\n",
       "      <td>0.000000</td>\n",
       "      <td>tcp</td>\n",
       "      <td>147.72.101.192</td>\n",
       "      <td>1173</td>\n",
       "      <td>-&gt;</td>\n",
       "      <td>211.115.84.227</td>\n",
       "      <td>25</td>\n",
       "      <td>S_</td>\n",
       "      <td>0.0</td>\n",
       "      <td>NaN</td>\n",
       "      <td>1</td>\n",
       "      <td>62</td>\n",
       "      <td>60</td>\n",
       "      <td>flow=From-Botnet-V50-10-TCP-Attempt-SPAM</td>\n",
       "    </tr>\n",
       "  </tbody>\n",
       "</table>\n",
       "<p>1978167 rows × 15 columns</p>\n",
       "</div>"
      ],
      "text/plain": [
       "                          Timestamp  Duration Protocol    SrcIPAddress  \\\n",
       "0        2011/08/17 11:48:29.395153  0.000318      udp  147.124.93.156   \n",
       "1        2011/08/17 11:48:31.525252  0.039559      tcp  147.124.93.156   \n",
       "2        2011/08/17 11:48:31.877057  0.000423      udp  147.124.93.156   \n",
       "3        2011/08/17 11:48:34.224708  2.990280      udp  147.124.93.156   \n",
       "4        2011/08/17 11:48:34.767425  0.000541      udp  147.124.93.156   \n",
       "...                             ...       ...      ...             ...   \n",
       "1978162  2011/08/17 17:23:16.042445  0.316720      udp  147.72.101.192   \n",
       "1978163  2011/08/17 17:23:16.322385  0.000000      tcp  147.72.101.192   \n",
       "1978164  2011/08/17 17:23:16.325767  0.954443      tcp  147.72.101.192   \n",
       "1978165  2011/08/17 17:23:17.214008  0.000000      tcp  147.72.101.192   \n",
       "1978166  2011/08/17 17:23:17.283578  0.000000      tcp  147.72.101.192   \n",
       "\n",
       "        SrcPort Direction   DestIPAddress DestPort     State  SrcTypeService  \\\n",
       "0          1025       <->   147.32.89.100       53       CON             0.0   \n",
       "1          1027        ->  74.125.241.185       80  SRPA_SPA             0.0   \n",
       "2          1025       <->   147.32.89.100       53       CON             0.0   \n",
       "3           123        ->     65.55.65.31      123       INT             0.0   \n",
       "4          1025       <->   147.32.89.100       53       CON             0.0   \n",
       "...         ...       ...             ...      ...       ...             ...   \n",
       "1978162    1568       <->     147.32.97.8       53       CON             0.0   \n",
       "1978163    1170        ->    117.53.131.2       25        S_             0.0   \n",
       "1978164    1171        ->     46.4.53.103      443      S_RA             0.0   \n",
       "1978165    1172        ->  211.43.214.125       25        S_             0.0   \n",
       "1978166    1173        ->  211.115.84.227       25        S_             0.0   \n",
       "\n",
       "         DestTypeService  TotalPackets  TotalBytes  SourceBytes  \\\n",
       "0                    0.0             3         195           62   \n",
       "1                    0.0             7         858          607   \n",
       "2                    0.0             2         560           90   \n",
       "3                    NaN             3         175          183   \n",
       "4                    0.0             2         472           77   \n",
       "...                  ...           ...         ...          ...   \n",
       "1978162              0.0             3         233           80   \n",
       "1978163              NaN             1          60           60   \n",
       "1978164              0.0             6         364          181   \n",
       "1978165              NaN             2          59           60   \n",
       "1978166              NaN             1          62           60   \n",
       "\n",
       "                                                     Label  \n",
       "0                           flow=From-Botnet-V50-1-UDP-DNS  \n",
       "1        flow=From-Botnet-V50-1-TCP-HTTP-Google-Net-Est...  \n",
       "2                           flow=From-Botnet-V50-1-UDP-DNS  \n",
       "3                       flow=From-Botnet-V50-1-UDP-Attempt  \n",
       "4                           flow=From-Botnet-V50-1-UDP-DNS  \n",
       "...                                                    ...  \n",
       "1978162                    flow=From-Botnet-V50-10-UDP-DNS  \n",
       "1978163           flow=From-Botnet-V50-10-TCP-Attempt-SPAM  \n",
       "1978164                flow=From-Botnet-V50-10-TCP-Attempt  \n",
       "1978165           flow=From-Botnet-V50-10-TCP-Attempt-SPAM  \n",
       "1978166           flow=From-Botnet-V50-10-TCP-Attempt-SPAM  \n",
       "\n",
       "[1978167 rows x 15 columns]"
      ]
     },
     "execution_count": 9,
     "metadata": {},
     "output_type": "execute_result"
    }
   ],
   "source": [
    "df_train.drop('ratio',1)"
   ]
  },
  {
   "cell_type": "code",
   "execution_count": 11,
   "metadata": {},
   "outputs": [],
   "source": [
    "new_label = pd.DataFrame(data=np.where(df_train['Label'].str.contains(\"Botnet\",case=False), 0, 1),columns=[\"Normal\"])"
   ]
  },
  {
   "cell_type": "code",
   "execution_count": 12,
   "metadata": {},
   "outputs": [],
   "source": [
    "df_train_sel = df_train[['SrcIPAddress','DestIPAddress','Direction','Duration','TotalPackets','TotalBytes','SourceBytes']]\n"
   ]
  },
  {
   "cell_type": "code",
   "execution_count": 13,
   "metadata": {},
   "outputs": [],
   "source": [
    "df_train_sel = pd.concat([df_train_sel,new_label], axis=1)"
   ]
  },
  {
   "cell_type": "code",
   "execution_count": 23,
   "metadata": {},
   "outputs": [
    {
     "data": {
      "text/html": [
       "<div>\n",
       "<style scoped>\n",
       "    .dataframe tbody tr th:only-of-type {\n",
       "        vertical-align: middle;\n",
       "    }\n",
       "\n",
       "    .dataframe tbody tr th {\n",
       "        vertical-align: top;\n",
       "    }\n",
       "\n",
       "    .dataframe thead th {\n",
       "        text-align: right;\n",
       "    }\n",
       "</style>\n",
       "<table border=\"1\" class=\"dataframe\">\n",
       "  <thead>\n",
       "    <tr style=\"text-align: right;\">\n",
       "      <th></th>\n",
       "      <th>SrcIPAddress</th>\n",
       "      <th>DestIPAddress</th>\n",
       "      <th>Direction</th>\n",
       "      <th>Duration</th>\n",
       "      <th>TotalPackets</th>\n",
       "      <th>TotalBytes</th>\n",
       "      <th>SourceBytes</th>\n",
       "      <th>Normal</th>\n",
       "      <th>PacketsBySec</th>\n",
       "      <th>SourceBytesBySec</th>\n",
       "      <th>TotalBytesBySec</th>\n",
       "    </tr>\n",
       "  </thead>\n",
       "  <tbody>\n",
       "    <tr>\n",
       "      <th>0</th>\n",
       "      <td>147.124.93.156</td>\n",
       "      <td>147.32.89.100</td>\n",
       "      <td>&lt;-&gt;</td>\n",
       "      <td>0.000318</td>\n",
       "      <td>3</td>\n",
       "      <td>195</td>\n",
       "      <td>62</td>\n",
       "      <td>0</td>\n",
       "      <td>9433.962264</td>\n",
       "      <td>194968.553459</td>\n",
       "      <td>6.132075e+05</td>\n",
       "    </tr>\n",
       "    <tr>\n",
       "      <th>1</th>\n",
       "      <td>147.124.93.156</td>\n",
       "      <td>74.125.241.185</td>\n",
       "      <td>-&gt;</td>\n",
       "      <td>0.039559</td>\n",
       "      <td>7</td>\n",
       "      <td>858</td>\n",
       "      <td>607</td>\n",
       "      <td>0</td>\n",
       "      <td>176.950883</td>\n",
       "      <td>15344.169468</td>\n",
       "      <td>2.168912e+04</td>\n",
       "    </tr>\n",
       "    <tr>\n",
       "      <th>2</th>\n",
       "      <td>147.124.93.156</td>\n",
       "      <td>147.32.89.100</td>\n",
       "      <td>&lt;-&gt;</td>\n",
       "      <td>0.000423</td>\n",
       "      <td>2</td>\n",
       "      <td>560</td>\n",
       "      <td>90</td>\n",
       "      <td>0</td>\n",
       "      <td>4728.132388</td>\n",
       "      <td>212765.957447</td>\n",
       "      <td>1.323877e+06</td>\n",
       "    </tr>\n",
       "    <tr>\n",
       "      <th>3</th>\n",
       "      <td>147.124.93.156</td>\n",
       "      <td>65.55.65.31</td>\n",
       "      <td>-&gt;</td>\n",
       "      <td>2.990280</td>\n",
       "      <td>3</td>\n",
       "      <td>175</td>\n",
       "      <td>183</td>\n",
       "      <td>0</td>\n",
       "      <td>1.003251</td>\n",
       "      <td>61.198282</td>\n",
       "      <td>5.852295e+01</td>\n",
       "    </tr>\n",
       "    <tr>\n",
       "      <th>4</th>\n",
       "      <td>147.124.93.156</td>\n",
       "      <td>147.32.89.100</td>\n",
       "      <td>&lt;-&gt;</td>\n",
       "      <td>0.000541</td>\n",
       "      <td>2</td>\n",
       "      <td>472</td>\n",
       "      <td>77</td>\n",
       "      <td>0</td>\n",
       "      <td>3696.857671</td>\n",
       "      <td>142329.020333</td>\n",
       "      <td>8.724584e+05</td>\n",
       "    </tr>\n",
       "  </tbody>\n",
       "</table>\n",
       "</div>"
      ],
      "text/plain": [
       "     SrcIPAddress   DestIPAddress Direction  Duration  TotalPackets  \\\n",
       "0  147.124.93.156   147.32.89.100       <->  0.000318             3   \n",
       "1  147.124.93.156  74.125.241.185        ->  0.039559             7   \n",
       "2  147.124.93.156   147.32.89.100       <->  0.000423             2   \n",
       "3  147.124.93.156     65.55.65.31        ->  2.990280             3   \n",
       "4  147.124.93.156   147.32.89.100       <->  0.000541             2   \n",
       "\n",
       "   TotalBytes  SourceBytes  Normal  PacketsBySec  SourceBytesBySec  \\\n",
       "0         195           62       0   9433.962264     194968.553459   \n",
       "1         858          607       0    176.950883      15344.169468   \n",
       "2         560           90       0   4728.132388     212765.957447   \n",
       "3         175          183       0      1.003251         61.198282   \n",
       "4         472           77       0   3696.857671     142329.020333   \n",
       "\n",
       "   TotalBytesBySec  \n",
       "0     6.132075e+05  \n",
       "1     2.168912e+04  \n",
       "2     1.323877e+06  \n",
       "3     5.852295e+01  \n",
       "4     8.724584e+05  "
      ]
     },
     "execution_count": 23,
     "metadata": {},
     "output_type": "execute_result"
    }
   ],
   "source": [
    "df_train_sel.head()"
   ]
  },
  {
   "cell_type": "code",
   "execution_count": 19,
   "metadata": {},
   "outputs": [],
   "source": [
    "df_train_sel['PacketsBySec'] = df_train_sel['TotalPackets']/df_train_sel['Duration']\n",
    "df_train_sel['SourceBytesBySec'] = df_train_sel['SourceBytes']/df_train_sel['Duration']\n",
    "df_train_sel['TotalBytesBySec'] = df_train_sel['TotalBytes']/df_train_sel['Duration']"
   ]
  },
  {
   "cell_type": "code",
   "execution_count": 34,
   "metadata": {},
   "outputs": [],
   "source": [
    "df_train_fil =  df_train_sel[~df_train_sel.isin([np.nan, np.inf, -np.inf]).any(1)]"
   ]
  },
  {
   "cell_type": "code",
   "execution_count": 35,
   "metadata": {},
   "outputs": [],
   "source": [
    "df_group = df_train_fil.groupby(['SrcIPAddress']).mean()"
   ]
  },
  {
   "cell_type": "code",
   "execution_count": 45,
   "metadata": {},
   "outputs": [
    {
     "data": {
      "text/plain": [
       "1.0    70\n",
       "0.0    48\n",
       "Name: Normal, dtype: int64"
      ]
     },
     "execution_count": 45,
     "metadata": {},
     "output_type": "execute_result"
    }
   ],
   "source": [
    "df_group['Normal'].value_counts()"
   ]
  },
  {
   "cell_type": "code",
   "execution_count": 44,
   "metadata": {},
   "outputs": [],
   "source": [
    "df_group.loc[(df_group['Normal'] < 0.5), 'Normal'] = 0.0"
   ]
  },
  {
   "cell_type": "code",
   "execution_count": 69,
   "metadata": {},
   "outputs": [
    {
     "data": {
      "text/html": [
       "<div>\n",
       "<style scoped>\n",
       "    .dataframe tbody tr th:only-of-type {\n",
       "        vertical-align: middle;\n",
       "    }\n",
       "\n",
       "    .dataframe tbody tr th {\n",
       "        vertical-align: top;\n",
       "    }\n",
       "\n",
       "    .dataframe thead th {\n",
       "        text-align: right;\n",
       "    }\n",
       "</style>\n",
       "<table border=\"1\" class=\"dataframe\">\n",
       "  <thead>\n",
       "    <tr style=\"text-align: right;\">\n",
       "      <th></th>\n",
       "      <th>Duration</th>\n",
       "      <th>TotalPackets</th>\n",
       "      <th>TotalBytes</th>\n",
       "      <th>SourceBytes</th>\n",
       "      <th>Normal</th>\n",
       "      <th>PacketsBySec</th>\n",
       "      <th>SourceBytesBySec</th>\n",
       "      <th>TotalBytesBySec</th>\n",
       "    </tr>\n",
       "    <tr>\n",
       "      <th>SrcIPAddress</th>\n",
       "      <th></th>\n",
       "      <th></th>\n",
       "      <th></th>\n",
       "      <th></th>\n",
       "      <th></th>\n",
       "      <th></th>\n",
       "      <th></th>\n",
       "      <th></th>\n",
       "    </tr>\n",
       "  </thead>\n",
       "  <tbody>\n",
       "    <tr>\n",
       "      <th>124.232.153.174</th>\n",
       "      <td>0.104518</td>\n",
       "      <td>2.286232</td>\n",
       "      <td>149.264493</td>\n",
       "      <td>78.702899</td>\n",
       "      <td>1.0</td>\n",
       "      <td>13882.919749</td>\n",
       "      <td>431491.252983</td>\n",
       "      <td>833081.520768</td>\n",
       "    </tr>\n",
       "    <tr>\n",
       "      <th>147.102.96.196</th>\n",
       "      <td>35.829232</td>\n",
       "      <td>13.564209</td>\n",
       "      <td>9173.177942</td>\n",
       "      <td>1398.448550</td>\n",
       "      <td>0.0</td>\n",
       "      <td>1662.120009</td>\n",
       "      <td>48544.183819</td>\n",
       "      <td>237982.640615</td>\n",
       "    </tr>\n",
       "    <tr>\n",
       "      <th>147.115.98.191</th>\n",
       "      <td>15.056139</td>\n",
       "      <td>16.217323</td>\n",
       "      <td>11788.204134</td>\n",
       "      <td>1437.707480</td>\n",
       "      <td>0.0</td>\n",
       "      <td>1773.958664</td>\n",
       "      <td>52080.610326</td>\n",
       "      <td>257499.951242</td>\n",
       "    </tr>\n",
       "    <tr>\n",
       "      <th>147.119.98.190</th>\n",
       "      <td>36.468520</td>\n",
       "      <td>7.010240</td>\n",
       "      <td>2880.259186</td>\n",
       "      <td>917.122696</td>\n",
       "      <td>0.0</td>\n",
       "      <td>1635.948241</td>\n",
       "      <td>47796.257082</td>\n",
       "      <td>237380.888041</td>\n",
       "    </tr>\n",
       "    <tr>\n",
       "      <th>147.124.93.156</th>\n",
       "      <td>14.920804</td>\n",
       "      <td>5.567289</td>\n",
       "      <td>2039.830527</td>\n",
       "      <td>593.554574</td>\n",
       "      <td>0.0</td>\n",
       "      <td>1751.074834</td>\n",
       "      <td>50859.497350</td>\n",
       "      <td>255220.597559</td>\n",
       "    </tr>\n",
       "  </tbody>\n",
       "</table>\n",
       "</div>"
      ],
      "text/plain": [
       "                  Duration  TotalPackets    TotalBytes  SourceBytes  Normal  \\\n",
       "SrcIPAddress                                                                  \n",
       "124.232.153.174   0.104518      2.286232    149.264493    78.702899     1.0   \n",
       "147.102.96.196   35.829232     13.564209   9173.177942  1398.448550     0.0   \n",
       "147.115.98.191   15.056139     16.217323  11788.204134  1437.707480     0.0   \n",
       "147.119.98.190   36.468520      7.010240   2880.259186   917.122696     0.0   \n",
       "147.124.93.156   14.920804      5.567289   2039.830527   593.554574     0.0   \n",
       "\n",
       "                 PacketsBySec  SourceBytesBySec  TotalBytesBySec  \n",
       "SrcIPAddress                                                      \n",
       "124.232.153.174  13882.919749     431491.252983    833081.520768  \n",
       "147.102.96.196    1662.120009      48544.183819    237982.640615  \n",
       "147.115.98.191    1773.958664      52080.610326    257499.951242  \n",
       "147.119.98.190    1635.948241      47796.257082    237380.888041  \n",
       "147.124.93.156    1751.074834      50859.497350    255220.597559  "
      ]
     },
     "execution_count": 69,
     "metadata": {},
     "output_type": "execute_result"
    }
   ],
   "source": [
    "df_group.head()"
   ]
  },
  {
   "cell_type": "code",
   "execution_count": 70,
   "metadata": {},
   "outputs": [],
   "source": [
    "df_group.to_csv('../../ml-data/cyberattack_detection/2_processed_data/A2_training_data_by_ip.csv', sep=',')"
   ]
  },
  {
   "cell_type": "markdown",
   "metadata": {},
   "source": [
    "### Test data"
   ]
  },
  {
   "cell_type": "code",
   "execution_count": 47,
   "metadata": {},
   "outputs": [],
   "source": [
    "df_test = pd.read_csv('../../ml-data/cyberattack_detection/1_raw_data/A2_2/test_data_with_labels', sep=','\n",
    "                       ,names=['Timestamp','Duration','Protocol','SrcIPAddress','SrcPort','Direction',\n",
    "                               'DestIPAddress','DestPort','State','SrcTypeService','DestTypeService',\n",
    "                               'TotalPackets','TotalBytes','SourceBytes','Label'])"
   ]
  },
  {
   "cell_type": "code",
   "execution_count": 48,
   "metadata": {},
   "outputs": [],
   "source": [
    "df_test = df_test.replace({\"Direction\": dictionary})"
   ]
  },
  {
   "cell_type": "code",
   "execution_count": 49,
   "metadata": {},
   "outputs": [
    {
     "data": {
      "text/plain": [
       "<->    313456\n",
       "->     258225\n",
       "<-       2468\n",
       "<?>       234\n",
       "Name: Direction, dtype: int64"
      ]
     },
     "execution_count": 49,
     "metadata": {},
     "output_type": "execute_result"
    }
   ],
   "source": [
    "df_test['Direction'].value_counts()"
   ]
  },
  {
   "cell_type": "code",
   "execution_count": 50,
   "metadata": {},
   "outputs": [],
   "source": [
    "df_test['ratio'] = df_test['SourceBytes']/df_test['TotalBytes']"
   ]
  },
  {
   "cell_type": "code",
   "execution_count": 51,
   "metadata": {},
   "outputs": [],
   "source": [
    "df_test.loc[(df_test['SourceBytes'] == 0) & (df_test['Direction'] == '<?>'), 'Direction'] = '<-'\n",
    "df_test.loc[(df_test['ratio'] > 0.5) & (df_test['Direction'] == '<?>'), 'Direction'] = '->'\n",
    "df_test.loc[(df_test['ratio'] <= 0.5) & (df_test['Direction'] == '<?>'), 'Direction'] = '<->'"
   ]
  },
  {
   "cell_type": "code",
   "execution_count": 52,
   "metadata": {},
   "outputs": [],
   "source": [
    "new_label_test = pd.DataFrame(data=np.where(df_test['Label'].str.contains(\"Botnet\",case=False), 0, 1),columns=[\"Normal\"])"
   ]
  },
  {
   "cell_type": "code",
   "execution_count": 53,
   "metadata": {},
   "outputs": [],
   "source": [
    "df_test_sel = df_test[['SrcIPAddress','DestIPAddress','Direction','Duration','TotalPackets','TotalBytes','SourceBytes']]\n"
   ]
  },
  {
   "cell_type": "code",
   "execution_count": 54,
   "metadata": {},
   "outputs": [],
   "source": [
    "df_test_sel = pd.concat([df_test_sel,new_label_test], axis=1)"
   ]
  },
  {
   "cell_type": "code",
   "execution_count": 55,
   "metadata": {
    "scrolled": true
   },
   "outputs": [
    {
     "data": {
      "text/html": [
       "<div>\n",
       "<style scoped>\n",
       "    .dataframe tbody tr th:only-of-type {\n",
       "        vertical-align: middle;\n",
       "    }\n",
       "\n",
       "    .dataframe tbody tr th {\n",
       "        vertical-align: top;\n",
       "    }\n",
       "\n",
       "    .dataframe thead th {\n",
       "        text-align: right;\n",
       "    }\n",
       "</style>\n",
       "<table border=\"1\" class=\"dataframe\">\n",
       "  <thead>\n",
       "    <tr style=\"text-align: right;\">\n",
       "      <th></th>\n",
       "      <th>SrcIPAddress</th>\n",
       "      <th>DestIPAddress</th>\n",
       "      <th>Direction</th>\n",
       "      <th>Duration</th>\n",
       "      <th>TotalPackets</th>\n",
       "      <th>TotalBytes</th>\n",
       "      <th>SourceBytes</th>\n",
       "      <th>Normal</th>\n",
       "    </tr>\n",
       "  </thead>\n",
       "  <tbody>\n",
       "    <tr>\n",
       "      <th>0</th>\n",
       "      <td>147.143.92.183</td>\n",
       "      <td>147.32.88.101</td>\n",
       "      <td>&lt;-&gt;</td>\n",
       "      <td>0.000281</td>\n",
       "      <td>2</td>\n",
       "      <td>203</td>\n",
       "      <td>61</td>\n",
       "      <td>0</td>\n",
       "    </tr>\n",
       "    <tr>\n",
       "      <th>1</th>\n",
       "      <td>147.143.92.183</td>\n",
       "      <td>74.125.240.193</td>\n",
       "      <td>-&gt;</td>\n",
       "      <td>0.050073</td>\n",
       "      <td>7</td>\n",
       "      <td>861</td>\n",
       "      <td>659</td>\n",
       "      <td>0</td>\n",
       "    </tr>\n",
       "    <tr>\n",
       "      <th>2</th>\n",
       "      <td>147.143.92.183</td>\n",
       "      <td>147.32.88.101</td>\n",
       "      <td>&lt;-&gt;</td>\n",
       "      <td>0.000455</td>\n",
       "      <td>3</td>\n",
       "      <td>575</td>\n",
       "      <td>87</td>\n",
       "      <td>0</td>\n",
       "    </tr>\n",
       "    <tr>\n",
       "      <th>3</th>\n",
       "      <td>147.143.92.183</td>\n",
       "      <td>147.32.88.101</td>\n",
       "      <td>&lt;-&gt;</td>\n",
       "      <td>0.000402</td>\n",
       "      <td>3</td>\n",
       "      <td>484</td>\n",
       "      <td>75</td>\n",
       "      <td>0</td>\n",
       "    </tr>\n",
       "    <tr>\n",
       "      <th>4</th>\n",
       "      <td>147.143.92.183</td>\n",
       "      <td>65.55.64.32</td>\n",
       "      <td>-&gt;</td>\n",
       "      <td>3.049152</td>\n",
       "      <td>3</td>\n",
       "      <td>188</td>\n",
       "      <td>183</td>\n",
       "      <td>0</td>\n",
       "    </tr>\n",
       "  </tbody>\n",
       "</table>\n",
       "</div>"
      ],
      "text/plain": [
       "     SrcIPAddress   DestIPAddress Direction  Duration  TotalPackets  \\\n",
       "0  147.143.92.183   147.32.88.101       <->  0.000281             2   \n",
       "1  147.143.92.183  74.125.240.193        ->  0.050073             7   \n",
       "2  147.143.92.183   147.32.88.101       <->  0.000455             3   \n",
       "3  147.143.92.183   147.32.88.101       <->  0.000402             3   \n",
       "4  147.143.92.183     65.55.64.32        ->  3.049152             3   \n",
       "\n",
       "   TotalBytes  SourceBytes  Normal  \n",
       "0         203           61       0  \n",
       "1         861          659       0  \n",
       "2         575           87       0  \n",
       "3         484           75       0  \n",
       "4         188          183       0  "
      ]
     },
     "execution_count": 55,
     "metadata": {},
     "output_type": "execute_result"
    }
   ],
   "source": [
    "df_test_sel.head()"
   ]
  },
  {
   "cell_type": "code",
   "execution_count": 56,
   "metadata": {},
   "outputs": [],
   "source": [
    "df_test_sel['PacketsBySec'] = df_test_sel['TotalPackets']/df_test_sel['Duration']\n",
    "df_test_sel['SourceBytesBySec'] = df_test_sel['SourceBytes']/df_test_sel['Duration']\n",
    "df_test_sel['TotalBytesBySec'] = df_test_sel['TotalBytes']/df_test_sel['Duration']"
   ]
  },
  {
   "cell_type": "code",
   "execution_count": 59,
   "metadata": {},
   "outputs": [],
   "source": [
    "df_test_fil = df_test_sel[~df_test_sel.isin([np.nan, np.inf, -np.inf]).any(1)]"
   ]
  },
  {
   "cell_type": "code",
   "execution_count": 61,
   "metadata": {},
   "outputs": [],
   "source": [
    "df_group_test = df_test_fil.groupby(['SrcIPAddress']).mean()"
   ]
  },
  {
   "cell_type": "code",
   "execution_count": 66,
   "metadata": {},
   "outputs": [
    {
     "data": {
      "text/plain": [
       "1.0    29\n",
       "0.0    28\n",
       "Name: Normal, dtype: int64"
      ]
     },
     "execution_count": 66,
     "metadata": {},
     "output_type": "execute_result"
    }
   ],
   "source": [
    "df_group_test['Normal'].value_counts()"
   ]
  },
  {
   "cell_type": "code",
   "execution_count": 65,
   "metadata": {},
   "outputs": [],
   "source": [
    "df_group_test.loc[(df_group_test['Normal'] < 0.5), 'Normal'] = 0.0"
   ]
  },
  {
   "cell_type": "code",
   "execution_count": 72,
   "metadata": {},
   "outputs": [],
   "source": [
    "df_group_test.to_csv('../../ml-data/cyberattack_detection/2_processed_data/A2_test_data_by_ip.csv', sep=',')"
   ]
  },
  {
   "cell_type": "code",
   "execution_count": null,
   "metadata": {},
   "outputs": [],
   "source": []
  }
 ],
 "metadata": {
  "kernelspec": {
   "display_name": "Python 3",
   "language": "python",
   "name": "python3"
  },
  "language_info": {
   "codemirror_mode": {
    "name": "ipython",
    "version": 3
   },
   "file_extension": ".py",
   "mimetype": "text/x-python",
   "name": "python",
   "nbconvert_exporter": "python",
   "pygments_lexer": "ipython3",
   "version": "3.8.5"
  }
 },
 "nbformat": 4,
 "nbformat_minor": 4
}
