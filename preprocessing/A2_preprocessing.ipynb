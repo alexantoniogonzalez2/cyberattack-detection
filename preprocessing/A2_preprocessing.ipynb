{
 "cells": [
  {
   "cell_type": "code",
   "execution_count": 1,
   "metadata": {},
   "outputs": [],
   "source": [
    "import pandas as pd\n",
    "import numpy as np\n",
    "from sklearn.preprocessing import StandardScaler, OneHotEncoder"
   ]
  },
  {
   "cell_type": "markdown",
   "metadata": {},
   "source": [
    "### Train data"
   ]
  },
  {
   "cell_type": "code",
   "execution_count": 7,
   "metadata": {},
   "outputs": [],
   "source": [
    "df_train = pd.read_csv('../../ml-data/cyberattack_detection/1_raw_data/A2_2/training_data_with_labels', sep=','\n",
    "                       ,names=['Timestamp','Duration','Protocol','SrcIPAddress','SrcPort','Direction',\n",
    "                               'DestIPAddress','DestPort','State','SrcTypeService','DestTypeService',\n",
    "                               'TotalPackets','TotalBytes','SourceBytes','Label'])"
   ]
  },
  {
   "cell_type": "code",
   "execution_count": 8,
   "metadata": {},
   "outputs": [
    {
     "data": {
      "text/plain": [
       "Timestamp          False\n",
       "Duration           False\n",
       "Protocol           False\n",
       "SrcIPAddress       False\n",
       "SrcPort             True\n",
       "Direction          False\n",
       "DestIPAddress      False\n",
       "DestPort            True\n",
       "State              False\n",
       "SrcTypeService      True\n",
       "DestTypeService     True\n",
       "TotalPackets       False\n",
       "TotalBytes         False\n",
       "SourceBytes        False\n",
       "Label              False\n",
       "dtype: bool"
      ]
     },
     "execution_count": 8,
     "metadata": {},
     "output_type": "execute_result"
    }
   ],
   "source": [
    "df_train.isna().any()"
   ]
  },
  {
   "cell_type": "code",
   "execution_count": 9,
   "metadata": {},
   "outputs": [
    {
     "data": {
      "text/plain": [
       "Timestamp          1978037\n",
       "Duration            709791\n",
       "Protocol                11\n",
       "SrcIPAddress           118\n",
       "SrcPort              43482\n",
       "Direction                8\n",
       "DestIPAddress       140273\n",
       "DestPort             37611\n",
       "State                  164\n",
       "SrcTypeService           2\n",
       "DestTypeService          4\n",
       "TotalPackets          4670\n",
       "TotalBytes           72745\n",
       "SourceBytes          31733\n",
       "Label                  903\n",
       "dtype: int64"
      ]
     },
     "execution_count": 9,
     "metadata": {},
     "output_type": "execute_result"
    }
   ],
   "source": [
    "df_train.nunique()"
   ]
  },
  {
   "cell_type": "code",
   "execution_count": 10,
   "metadata": {},
   "outputs": [
    {
     "data": {
      "text/plain": [
       "array(['<->', '->', '  <->', '  <?>', '   ->', '   ?>', '  <-', '  who'],\n",
       "      dtype=object)"
      ]
     },
     "execution_count": 10,
     "metadata": {},
     "output_type": "execute_result"
    }
   ],
   "source": [
    "df_train.Direction.unique()"
   ]
  },
  {
   "cell_type": "code",
   "execution_count": 11,
   "metadata": {},
   "outputs": [],
   "source": [
    "dictionary = {'   ->':'->','  <?>':'<?>','  <->':'<->','   ?>':'<?>','  <-':'<-','  who':'<?>','  <?':'<?>'}"
   ]
  },
  {
   "cell_type": "code",
   "execution_count": 12,
   "metadata": {},
   "outputs": [],
   "source": [
    "df_train = df_train.replace({\"Direction\": dictionary})"
   ]
  },
  {
   "cell_type": "code",
   "execution_count": 13,
   "metadata": {},
   "outputs": [
    {
     "data": {
      "text/plain": [
       "<->    1370635\n",
       "->      601333\n",
       "<-        3250\n",
       "<?>       2949\n",
       "Name: Direction, dtype: int64"
      ]
     },
     "execution_count": 13,
     "metadata": {},
     "output_type": "execute_result"
    }
   ],
   "source": [
    "df_train['Direction'].value_counts()"
   ]
  },
  {
   "cell_type": "code",
   "execution_count": 14,
   "metadata": {},
   "outputs": [
    {
     "data": {
      "text/plain": [
       "array(['<->', '->', '<?>', '<-'], dtype=object)"
      ]
     },
     "execution_count": 14,
     "metadata": {},
     "output_type": "execute_result"
    }
   ],
   "source": [
    "df_train.Direction.unique()"
   ]
  },
  {
   "cell_type": "code",
   "execution_count": 15,
   "metadata": {},
   "outputs": [],
   "source": [
    "df_train['ratio'] = df_train['SourceBytes']/df_train['TotalBytes']"
   ]
  },
  {
   "cell_type": "code",
   "execution_count": 16,
   "metadata": {},
   "outputs": [
    {
     "name": "stdout",
     "output_type": "stream",
     "text": [
      "0.6685450445142166\n",
      "0.3173837371275387\n",
      "0.5828182718491834\n",
      "0.0\n"
     ]
    }
   ],
   "source": [
    "print(df_train.loc[df_train['Direction'] == '->']['ratio'].mean())\n",
    "print(df_train.loc[df_train['Direction'] == '<->']['ratio'].mean())\n",
    "print(df_train.loc[df_train['Direction'] == '<?>']['ratio'].mean())\n",
    "print(df_train.loc[df_train['Direction'] == '<-']['ratio'].mean())"
   ]
  },
  {
   "cell_type": "code",
   "execution_count": 17,
   "metadata": {},
   "outputs": [
    {
     "data": {
      "text/html": [
       "<div>\n",
       "<style scoped>\n",
       "    .dataframe tbody tr th:only-of-type {\n",
       "        vertical-align: middle;\n",
       "    }\n",
       "\n",
       "    .dataframe tbody tr th {\n",
       "        vertical-align: top;\n",
       "    }\n",
       "\n",
       "    .dataframe thead th {\n",
       "        text-align: right;\n",
       "    }\n",
       "</style>\n",
       "<table border=\"1\" class=\"dataframe\">\n",
       "  <thead>\n",
       "    <tr style=\"text-align: right;\">\n",
       "      <th></th>\n",
       "      <th>Timestamp</th>\n",
       "      <th>Duration</th>\n",
       "      <th>Protocol</th>\n",
       "      <th>SrcIPAddress</th>\n",
       "      <th>SrcPort</th>\n",
       "      <th>Direction</th>\n",
       "      <th>DestIPAddress</th>\n",
       "      <th>DestPort</th>\n",
       "      <th>State</th>\n",
       "      <th>SrcTypeService</th>\n",
       "      <th>DestTypeService</th>\n",
       "      <th>TotalPackets</th>\n",
       "      <th>TotalBytes</th>\n",
       "      <th>SourceBytes</th>\n",
       "      <th>Label</th>\n",
       "      <th>ratio</th>\n",
       "    </tr>\n",
       "  </thead>\n",
       "  <tbody>\n",
       "    <tr>\n",
       "      <th>999</th>\n",
       "      <td>2011/08/17 12:01:12.365011</td>\n",
       "      <td>0.000419</td>\n",
       "      <td>icmp</td>\n",
       "      <td>147.32.87.249</td>\n",
       "      <td>NaN</td>\n",
       "      <td>&lt;-</td>\n",
       "      <td>147.32.87.11</td>\n",
       "      <td>0x0002</td>\n",
       "      <td>RED</td>\n",
       "      <td>NaN</td>\n",
       "      <td>0.0</td>\n",
       "      <td>2</td>\n",
       "      <td>148</td>\n",
       "      <td>0</td>\n",
       "      <td>flow=To-Background-MatLab-Server</td>\n",
       "      <td>0.0</td>\n",
       "    </tr>\n",
       "    <tr>\n",
       "      <th>1078</th>\n",
       "      <td>2011/08/17 12:01:13.353704</td>\n",
       "      <td>0.000413</td>\n",
       "      <td>icmp</td>\n",
       "      <td>147.32.87.249</td>\n",
       "      <td>NaN</td>\n",
       "      <td>&lt;-</td>\n",
       "      <td>147.32.87.11</td>\n",
       "      <td>0x0002</td>\n",
       "      <td>RED</td>\n",
       "      <td>NaN</td>\n",
       "      <td>0.0</td>\n",
       "      <td>2</td>\n",
       "      <td>148</td>\n",
       "      <td>0</td>\n",
       "      <td>flow=To-Background-MatLab-Server</td>\n",
       "      <td>0.0</td>\n",
       "    </tr>\n",
       "    <tr>\n",
       "      <th>1174</th>\n",
       "      <td>2011/08/17 12:01:14.353679</td>\n",
       "      <td>0.000411</td>\n",
       "      <td>icmp</td>\n",
       "      <td>147.32.87.249</td>\n",
       "      <td>NaN</td>\n",
       "      <td>&lt;-</td>\n",
       "      <td>147.32.87.11</td>\n",
       "      <td>0x0002</td>\n",
       "      <td>RED</td>\n",
       "      <td>NaN</td>\n",
       "      <td>0.0</td>\n",
       "      <td>2</td>\n",
       "      <td>148</td>\n",
       "      <td>0</td>\n",
       "      <td>flow=To-Background-MatLab-Server</td>\n",
       "      <td>0.0</td>\n",
       "    </tr>\n",
       "    <tr>\n",
       "      <th>1246</th>\n",
       "      <td>2011/08/17 12:01:15.353681</td>\n",
       "      <td>0.000459</td>\n",
       "      <td>icmp</td>\n",
       "      <td>147.32.87.249</td>\n",
       "      <td>NaN</td>\n",
       "      <td>&lt;-</td>\n",
       "      <td>147.32.87.11</td>\n",
       "      <td>0x0002</td>\n",
       "      <td>RED</td>\n",
       "      <td>NaN</td>\n",
       "      <td>0.0</td>\n",
       "      <td>2</td>\n",
       "      <td>148</td>\n",
       "      <td>0</td>\n",
       "      <td>flow=To-Background-MatLab-Server</td>\n",
       "      <td>0.0</td>\n",
       "    </tr>\n",
       "    <tr>\n",
       "      <th>1335</th>\n",
       "      <td>2011/08/17 12:01:16.353634</td>\n",
       "      <td>0.000023</td>\n",
       "      <td>icmp</td>\n",
       "      <td>147.32.87.249</td>\n",
       "      <td>NaN</td>\n",
       "      <td>&lt;-</td>\n",
       "      <td>147.32.87.11</td>\n",
       "      <td>0x0002</td>\n",
       "      <td>ECR</td>\n",
       "      <td>NaN</td>\n",
       "      <td>0.0</td>\n",
       "      <td>2</td>\n",
       "      <td>148</td>\n",
       "      <td>0</td>\n",
       "      <td>flow=To-Background-MatLab-Server</td>\n",
       "      <td>0.0</td>\n",
       "    </tr>\n",
       "  </tbody>\n",
       "</table>\n",
       "</div>"
      ],
      "text/plain": [
       "                       Timestamp  Duration Protocol   SrcIPAddress SrcPort  \\\n",
       "999   2011/08/17 12:01:12.365011  0.000419     icmp  147.32.87.249     NaN   \n",
       "1078  2011/08/17 12:01:13.353704  0.000413     icmp  147.32.87.249     NaN   \n",
       "1174  2011/08/17 12:01:14.353679  0.000411     icmp  147.32.87.249     NaN   \n",
       "1246  2011/08/17 12:01:15.353681  0.000459     icmp  147.32.87.249     NaN   \n",
       "1335  2011/08/17 12:01:16.353634  0.000023     icmp  147.32.87.249     NaN   \n",
       "\n",
       "     Direction DestIPAddress DestPort State  SrcTypeService  DestTypeService  \\\n",
       "999         <-  147.32.87.11   0x0002   RED             NaN              0.0   \n",
       "1078        <-  147.32.87.11   0x0002   RED             NaN              0.0   \n",
       "1174        <-  147.32.87.11   0x0002   RED             NaN              0.0   \n",
       "1246        <-  147.32.87.11   0x0002   RED             NaN              0.0   \n",
       "1335        <-  147.32.87.11   0x0002   ECR             NaN              0.0   \n",
       "\n",
       "      TotalPackets  TotalBytes  SourceBytes                             Label  \\\n",
       "999              2         148            0  flow=To-Background-MatLab-Server   \n",
       "1078             2         148            0  flow=To-Background-MatLab-Server   \n",
       "1174             2         148            0  flow=To-Background-MatLab-Server   \n",
       "1246             2         148            0  flow=To-Background-MatLab-Server   \n",
       "1335             2         148            0  flow=To-Background-MatLab-Server   \n",
       "\n",
       "      ratio  \n",
       "999     0.0  \n",
       "1078    0.0  \n",
       "1174    0.0  \n",
       "1246    0.0  \n",
       "1335    0.0  "
      ]
     },
     "execution_count": 17,
     "metadata": {},
     "output_type": "execute_result"
    }
   ],
   "source": [
    "df_train.loc[df_train['Direction'] == '<-'].head()"
   ]
  },
  {
   "cell_type": "code",
   "execution_count": 18,
   "metadata": {},
   "outputs": [],
   "source": [
    "df_train.loc[(df_train['SourceBytes'] == 0) & (df_train['Direction'] == '<?>'), 'Direction'] = '<-'\n",
    "df_train.loc[(df_train['ratio'] > 0.5) & (df_train['Direction'] == '<?>'), 'Direction'] = '->'\n",
    "df_train.loc[(df_train['ratio'] <= 0.5) & (df_train['Direction'] == '<?>'), 'Direction'] = '<->'"
   ]
  },
  {
   "cell_type": "code",
   "execution_count": 19,
   "metadata": {},
   "outputs": [
    {
     "data": {
      "text/plain": [
       "<->    1372078\n",
       "->      602839\n",
       "<-        3250\n",
       "Name: Direction, dtype: int64"
      ]
     },
     "execution_count": 19,
     "metadata": {},
     "output_type": "execute_result"
    }
   ],
   "source": [
    "df_train['Direction'].value_counts()"
   ]
  },
  {
   "cell_type": "code",
   "execution_count": 20,
   "metadata": {
    "collapsed": true
   },
   "outputs": [
    {
     "data": {
      "text/html": [
       "<div>\n",
       "<style scoped>\n",
       "    .dataframe tbody tr th:only-of-type {\n",
       "        vertical-align: middle;\n",
       "    }\n",
       "\n",
       "    .dataframe tbody tr th {\n",
       "        vertical-align: top;\n",
       "    }\n",
       "\n",
       "    .dataframe thead th {\n",
       "        text-align: right;\n",
       "    }\n",
       "</style>\n",
       "<table border=\"1\" class=\"dataframe\">\n",
       "  <thead>\n",
       "    <tr style=\"text-align: right;\">\n",
       "      <th></th>\n",
       "      <th>Timestamp</th>\n",
       "      <th>Duration</th>\n",
       "      <th>Protocol</th>\n",
       "      <th>SrcIPAddress</th>\n",
       "      <th>SrcPort</th>\n",
       "      <th>Direction</th>\n",
       "      <th>DestIPAddress</th>\n",
       "      <th>DestPort</th>\n",
       "      <th>State</th>\n",
       "      <th>SrcTypeService</th>\n",
       "      <th>DestTypeService</th>\n",
       "      <th>TotalPackets</th>\n",
       "      <th>TotalBytes</th>\n",
       "      <th>SourceBytes</th>\n",
       "      <th>Label</th>\n",
       "    </tr>\n",
       "  </thead>\n",
       "  <tbody>\n",
       "    <tr>\n",
       "      <th>0</th>\n",
       "      <td>2011/08/17 11:48:29.395153</td>\n",
       "      <td>0.000318</td>\n",
       "      <td>udp</td>\n",
       "      <td>147.124.93.156</td>\n",
       "      <td>1025</td>\n",
       "      <td>&lt;-&gt;</td>\n",
       "      <td>147.32.89.100</td>\n",
       "      <td>53</td>\n",
       "      <td>CON</td>\n",
       "      <td>0.0</td>\n",
       "      <td>0.0</td>\n",
       "      <td>3</td>\n",
       "      <td>195</td>\n",
       "      <td>62</td>\n",
       "      <td>flow=From-Botnet-V50-1-UDP-DNS</td>\n",
       "    </tr>\n",
       "    <tr>\n",
       "      <th>1</th>\n",
       "      <td>2011/08/17 11:48:31.525252</td>\n",
       "      <td>0.039559</td>\n",
       "      <td>tcp</td>\n",
       "      <td>147.124.93.156</td>\n",
       "      <td>1027</td>\n",
       "      <td>-&gt;</td>\n",
       "      <td>74.125.241.185</td>\n",
       "      <td>80</td>\n",
       "      <td>SRPA_SPA</td>\n",
       "      <td>0.0</td>\n",
       "      <td>0.0</td>\n",
       "      <td>7</td>\n",
       "      <td>858</td>\n",
       "      <td>607</td>\n",
       "      <td>flow=From-Botnet-V50-1-TCP-HTTP-Google-Net-Est...</td>\n",
       "    </tr>\n",
       "    <tr>\n",
       "      <th>2</th>\n",
       "      <td>2011/08/17 11:48:31.877057</td>\n",
       "      <td>0.000423</td>\n",
       "      <td>udp</td>\n",
       "      <td>147.124.93.156</td>\n",
       "      <td>1025</td>\n",
       "      <td>&lt;-&gt;</td>\n",
       "      <td>147.32.89.100</td>\n",
       "      <td>53</td>\n",
       "      <td>CON</td>\n",
       "      <td>0.0</td>\n",
       "      <td>0.0</td>\n",
       "      <td>2</td>\n",
       "      <td>560</td>\n",
       "      <td>90</td>\n",
       "      <td>flow=From-Botnet-V50-1-UDP-DNS</td>\n",
       "    </tr>\n",
       "    <tr>\n",
       "      <th>3</th>\n",
       "      <td>2011/08/17 11:48:34.224708</td>\n",
       "      <td>2.990280</td>\n",
       "      <td>udp</td>\n",
       "      <td>147.124.93.156</td>\n",
       "      <td>123</td>\n",
       "      <td>-&gt;</td>\n",
       "      <td>65.55.65.31</td>\n",
       "      <td>123</td>\n",
       "      <td>INT</td>\n",
       "      <td>0.0</td>\n",
       "      <td>NaN</td>\n",
       "      <td>3</td>\n",
       "      <td>175</td>\n",
       "      <td>183</td>\n",
       "      <td>flow=From-Botnet-V50-1-UDP-Attempt</td>\n",
       "    </tr>\n",
       "    <tr>\n",
       "      <th>4</th>\n",
       "      <td>2011/08/17 11:48:34.767425</td>\n",
       "      <td>0.000541</td>\n",
       "      <td>udp</td>\n",
       "      <td>147.124.93.156</td>\n",
       "      <td>1025</td>\n",
       "      <td>&lt;-&gt;</td>\n",
       "      <td>147.32.89.100</td>\n",
       "      <td>53</td>\n",
       "      <td>CON</td>\n",
       "      <td>0.0</td>\n",
       "      <td>0.0</td>\n",
       "      <td>2</td>\n",
       "      <td>472</td>\n",
       "      <td>77</td>\n",
       "      <td>flow=From-Botnet-V50-1-UDP-DNS</td>\n",
       "    </tr>\n",
       "    <tr>\n",
       "      <th>...</th>\n",
       "      <td>...</td>\n",
       "      <td>...</td>\n",
       "      <td>...</td>\n",
       "      <td>...</td>\n",
       "      <td>...</td>\n",
       "      <td>...</td>\n",
       "      <td>...</td>\n",
       "      <td>...</td>\n",
       "      <td>...</td>\n",
       "      <td>...</td>\n",
       "      <td>...</td>\n",
       "      <td>...</td>\n",
       "      <td>...</td>\n",
       "      <td>...</td>\n",
       "      <td>...</td>\n",
       "    </tr>\n",
       "    <tr>\n",
       "      <th>1978162</th>\n",
       "      <td>2011/08/17 17:23:16.042445</td>\n",
       "      <td>0.316720</td>\n",
       "      <td>udp</td>\n",
       "      <td>147.72.101.192</td>\n",
       "      <td>1568</td>\n",
       "      <td>&lt;-&gt;</td>\n",
       "      <td>147.32.97.8</td>\n",
       "      <td>53</td>\n",
       "      <td>CON</td>\n",
       "      <td>0.0</td>\n",
       "      <td>0.0</td>\n",
       "      <td>3</td>\n",
       "      <td>233</td>\n",
       "      <td>80</td>\n",
       "      <td>flow=From-Botnet-V50-10-UDP-DNS</td>\n",
       "    </tr>\n",
       "    <tr>\n",
       "      <th>1978163</th>\n",
       "      <td>2011/08/17 17:23:16.322385</td>\n",
       "      <td>0.000000</td>\n",
       "      <td>tcp</td>\n",
       "      <td>147.72.101.192</td>\n",
       "      <td>1170</td>\n",
       "      <td>-&gt;</td>\n",
       "      <td>117.53.131.2</td>\n",
       "      <td>25</td>\n",
       "      <td>S_</td>\n",
       "      <td>0.0</td>\n",
       "      <td>NaN</td>\n",
       "      <td>1</td>\n",
       "      <td>60</td>\n",
       "      <td>60</td>\n",
       "      <td>flow=From-Botnet-V50-10-TCP-Attempt-SPAM</td>\n",
       "    </tr>\n",
       "    <tr>\n",
       "      <th>1978164</th>\n",
       "      <td>2011/08/17 17:23:16.325767</td>\n",
       "      <td>0.954443</td>\n",
       "      <td>tcp</td>\n",
       "      <td>147.72.101.192</td>\n",
       "      <td>1171</td>\n",
       "      <td>-&gt;</td>\n",
       "      <td>46.4.53.103</td>\n",
       "      <td>443</td>\n",
       "      <td>S_RA</td>\n",
       "      <td>0.0</td>\n",
       "      <td>0.0</td>\n",
       "      <td>6</td>\n",
       "      <td>364</td>\n",
       "      <td>181</td>\n",
       "      <td>flow=From-Botnet-V50-10-TCP-Attempt</td>\n",
       "    </tr>\n",
       "    <tr>\n",
       "      <th>1978165</th>\n",
       "      <td>2011/08/17 17:23:17.214008</td>\n",
       "      <td>0.000000</td>\n",
       "      <td>tcp</td>\n",
       "      <td>147.72.101.192</td>\n",
       "      <td>1172</td>\n",
       "      <td>-&gt;</td>\n",
       "      <td>211.43.214.125</td>\n",
       "      <td>25</td>\n",
       "      <td>S_</td>\n",
       "      <td>0.0</td>\n",
       "      <td>NaN</td>\n",
       "      <td>2</td>\n",
       "      <td>59</td>\n",
       "      <td>60</td>\n",
       "      <td>flow=From-Botnet-V50-10-TCP-Attempt-SPAM</td>\n",
       "    </tr>\n",
       "    <tr>\n",
       "      <th>1978166</th>\n",
       "      <td>2011/08/17 17:23:17.283578</td>\n",
       "      <td>0.000000</td>\n",
       "      <td>tcp</td>\n",
       "      <td>147.72.101.192</td>\n",
       "      <td>1173</td>\n",
       "      <td>-&gt;</td>\n",
       "      <td>211.115.84.227</td>\n",
       "      <td>25</td>\n",
       "      <td>S_</td>\n",
       "      <td>0.0</td>\n",
       "      <td>NaN</td>\n",
       "      <td>1</td>\n",
       "      <td>62</td>\n",
       "      <td>60</td>\n",
       "      <td>flow=From-Botnet-V50-10-TCP-Attempt-SPAM</td>\n",
       "    </tr>\n",
       "  </tbody>\n",
       "</table>\n",
       "<p>1978167 rows × 15 columns</p>\n",
       "</div>"
      ],
      "text/plain": [
       "                          Timestamp  Duration Protocol    SrcIPAddress  \\\n",
       "0        2011/08/17 11:48:29.395153  0.000318      udp  147.124.93.156   \n",
       "1        2011/08/17 11:48:31.525252  0.039559      tcp  147.124.93.156   \n",
       "2        2011/08/17 11:48:31.877057  0.000423      udp  147.124.93.156   \n",
       "3        2011/08/17 11:48:34.224708  2.990280      udp  147.124.93.156   \n",
       "4        2011/08/17 11:48:34.767425  0.000541      udp  147.124.93.156   \n",
       "...                             ...       ...      ...             ...   \n",
       "1978162  2011/08/17 17:23:16.042445  0.316720      udp  147.72.101.192   \n",
       "1978163  2011/08/17 17:23:16.322385  0.000000      tcp  147.72.101.192   \n",
       "1978164  2011/08/17 17:23:16.325767  0.954443      tcp  147.72.101.192   \n",
       "1978165  2011/08/17 17:23:17.214008  0.000000      tcp  147.72.101.192   \n",
       "1978166  2011/08/17 17:23:17.283578  0.000000      tcp  147.72.101.192   \n",
       "\n",
       "        SrcPort Direction   DestIPAddress DestPort     State  SrcTypeService  \\\n",
       "0          1025       <->   147.32.89.100       53       CON             0.0   \n",
       "1          1027        ->  74.125.241.185       80  SRPA_SPA             0.0   \n",
       "2          1025       <->   147.32.89.100       53       CON             0.0   \n",
       "3           123        ->     65.55.65.31      123       INT             0.0   \n",
       "4          1025       <->   147.32.89.100       53       CON             0.0   \n",
       "...         ...       ...             ...      ...       ...             ...   \n",
       "1978162    1568       <->     147.32.97.8       53       CON             0.0   \n",
       "1978163    1170        ->    117.53.131.2       25        S_             0.0   \n",
       "1978164    1171        ->     46.4.53.103      443      S_RA             0.0   \n",
       "1978165    1172        ->  211.43.214.125       25        S_             0.0   \n",
       "1978166    1173        ->  211.115.84.227       25        S_             0.0   \n",
       "\n",
       "         DestTypeService  TotalPackets  TotalBytes  SourceBytes  \\\n",
       "0                    0.0             3         195           62   \n",
       "1                    0.0             7         858          607   \n",
       "2                    0.0             2         560           90   \n",
       "3                    NaN             3         175          183   \n",
       "4                    0.0             2         472           77   \n",
       "...                  ...           ...         ...          ...   \n",
       "1978162              0.0             3         233           80   \n",
       "1978163              NaN             1          60           60   \n",
       "1978164              0.0             6         364          181   \n",
       "1978165              NaN             2          59           60   \n",
       "1978166              NaN             1          62           60   \n",
       "\n",
       "                                                     Label  \n",
       "0                           flow=From-Botnet-V50-1-UDP-DNS  \n",
       "1        flow=From-Botnet-V50-1-TCP-HTTP-Google-Net-Est...  \n",
       "2                           flow=From-Botnet-V50-1-UDP-DNS  \n",
       "3                       flow=From-Botnet-V50-1-UDP-Attempt  \n",
       "4                           flow=From-Botnet-V50-1-UDP-DNS  \n",
       "...                                                    ...  \n",
       "1978162                    flow=From-Botnet-V50-10-UDP-DNS  \n",
       "1978163           flow=From-Botnet-V50-10-TCP-Attempt-SPAM  \n",
       "1978164                flow=From-Botnet-V50-10-TCP-Attempt  \n",
       "1978165           flow=From-Botnet-V50-10-TCP-Attempt-SPAM  \n",
       "1978166           flow=From-Botnet-V50-10-TCP-Attempt-SPAM  \n",
       "\n",
       "[1978167 rows x 15 columns]"
      ]
     },
     "execution_count": 20,
     "metadata": {},
     "output_type": "execute_result"
    }
   ],
   "source": [
    "df_train.drop('ratio',1)"
   ]
  },
  {
   "cell_type": "code",
   "execution_count": 21,
   "metadata": {},
   "outputs": [],
   "source": [
    "df_train.to_csv('../../ml-data/cyberattack_detection/1_raw_data/A2_2/clean_training_data_with_labels.csv', sep=',', index=False)"
   ]
  },
  {
   "cell_type": "code",
   "execution_count": 22,
   "metadata": {},
   "outputs": [],
   "source": [
    "df_train_num = df_train[['Duration','TotalPackets','TotalBytes','SourceBytes']]"
   ]
  },
  {
   "cell_type": "code",
   "execution_count": 23,
   "metadata": {},
   "outputs": [
    {
     "data": {
      "text/html": [
       "<div>\n",
       "<style scoped>\n",
       "    .dataframe tbody tr th:only-of-type {\n",
       "        vertical-align: middle;\n",
       "    }\n",
       "\n",
       "    .dataframe tbody tr th {\n",
       "        vertical-align: top;\n",
       "    }\n",
       "\n",
       "    .dataframe thead th {\n",
       "        text-align: right;\n",
       "    }\n",
       "</style>\n",
       "<table border=\"1\" class=\"dataframe\">\n",
       "  <thead>\n",
       "    <tr style=\"text-align: right;\">\n",
       "      <th></th>\n",
       "      <th>Duration</th>\n",
       "      <th>TotalPackets</th>\n",
       "      <th>TotalBytes</th>\n",
       "      <th>SourceBytes</th>\n",
       "    </tr>\n",
       "  </thead>\n",
       "  <tbody>\n",
       "    <tr>\n",
       "      <th>0</th>\n",
       "      <td>0.000318</td>\n",
       "      <td>3</td>\n",
       "      <td>195</td>\n",
       "      <td>62</td>\n",
       "    </tr>\n",
       "    <tr>\n",
       "      <th>1</th>\n",
       "      <td>0.039559</td>\n",
       "      <td>7</td>\n",
       "      <td>858</td>\n",
       "      <td>607</td>\n",
       "    </tr>\n",
       "    <tr>\n",
       "      <th>2</th>\n",
       "      <td>0.000423</td>\n",
       "      <td>2</td>\n",
       "      <td>560</td>\n",
       "      <td>90</td>\n",
       "    </tr>\n",
       "    <tr>\n",
       "      <th>3</th>\n",
       "      <td>2.990280</td>\n",
       "      <td>3</td>\n",
       "      <td>175</td>\n",
       "      <td>183</td>\n",
       "    </tr>\n",
       "    <tr>\n",
       "      <th>4</th>\n",
       "      <td>0.000541</td>\n",
       "      <td>2</td>\n",
       "      <td>472</td>\n",
       "      <td>77</td>\n",
       "    </tr>\n",
       "  </tbody>\n",
       "</table>\n",
       "</div>"
      ],
      "text/plain": [
       "   Duration  TotalPackets  TotalBytes  SourceBytes\n",
       "0  0.000318             3         195           62\n",
       "1  0.039559             7         858          607\n",
       "2  0.000423             2         560           90\n",
       "3  2.990280             3         175          183\n",
       "4  0.000541             2         472           77"
      ]
     },
     "execution_count": 23,
     "metadata": {},
     "output_type": "execute_result"
    }
   ],
   "source": [
    "df_train_num.head()"
   ]
  },
  {
   "cell_type": "code",
   "execution_count": 24,
   "metadata": {},
   "outputs": [],
   "source": [
    "scaler = StandardScaler()\n",
    "scaler.fit(df_train_num)\n",
    "df_train_num = pd.DataFrame(scaler.transform(df_train_num), columns=df_train_num.columns, index=df_train_num.index)"
   ]
  },
  {
   "cell_type": "code",
   "execution_count": 25,
   "metadata": {},
   "outputs": [
    {
     "data": {
      "text/html": [
       "<div>\n",
       "<style scoped>\n",
       "    .dataframe tbody tr th:only-of-type {\n",
       "        vertical-align: middle;\n",
       "    }\n",
       "\n",
       "    .dataframe tbody tr th {\n",
       "        vertical-align: top;\n",
       "    }\n",
       "\n",
       "    .dataframe thead th {\n",
       "        text-align: right;\n",
       "    }\n",
       "</style>\n",
       "<table border=\"1\" class=\"dataframe\">\n",
       "  <thead>\n",
       "    <tr style=\"text-align: right;\">\n",
       "      <th></th>\n",
       "      <th>Duration</th>\n",
       "      <th>TotalPackets</th>\n",
       "      <th>TotalBytes</th>\n",
       "      <th>SourceBytes</th>\n",
       "    </tr>\n",
       "  </thead>\n",
       "  <tbody>\n",
       "    <tr>\n",
       "      <th>0</th>\n",
       "      <td>-0.191842</td>\n",
       "      <td>-0.009924</td>\n",
       "      <td>-0.008230</td>\n",
       "      <td>-0.019033</td>\n",
       "    </tr>\n",
       "    <tr>\n",
       "      <th>1</th>\n",
       "      <td>-0.191760</td>\n",
       "      <td>-0.008454</td>\n",
       "      <td>-0.008001</td>\n",
       "      <td>-0.016594</td>\n",
       "    </tr>\n",
       "    <tr>\n",
       "      <th>2</th>\n",
       "      <td>-0.191842</td>\n",
       "      <td>-0.010291</td>\n",
       "      <td>-0.008104</td>\n",
       "      <td>-0.018907</td>\n",
       "    </tr>\n",
       "    <tr>\n",
       "      <th>3</th>\n",
       "      <td>-0.185597</td>\n",
       "      <td>-0.009924</td>\n",
       "      <td>-0.008237</td>\n",
       "      <td>-0.018491</td>\n",
       "    </tr>\n",
       "    <tr>\n",
       "      <th>4</th>\n",
       "      <td>-0.191842</td>\n",
       "      <td>-0.010291</td>\n",
       "      <td>-0.008134</td>\n",
       "      <td>-0.018965</td>\n",
       "    </tr>\n",
       "  </tbody>\n",
       "</table>\n",
       "</div>"
      ],
      "text/plain": [
       "   Duration  TotalPackets  TotalBytes  SourceBytes\n",
       "0 -0.191842     -0.009924   -0.008230    -0.019033\n",
       "1 -0.191760     -0.008454   -0.008001    -0.016594\n",
       "2 -0.191842     -0.010291   -0.008104    -0.018907\n",
       "3 -0.185597     -0.009924   -0.008237    -0.018491\n",
       "4 -0.191842     -0.010291   -0.008134    -0.018965"
      ]
     },
     "execution_count": 25,
     "metadata": {},
     "output_type": "execute_result"
    }
   ],
   "source": [
    "df_train_num.head()"
   ]
  },
  {
   "cell_type": "code",
   "execution_count": 26,
   "metadata": {},
   "outputs": [
    {
     "name": "stdout",
     "output_type": "stream",
     "text": [
      "7.692548999124274\n"
     ]
    }
   ],
   "source": [
    "print(df_train_num['Duration'].max())"
   ]
  },
  {
   "cell_type": "code",
   "execution_count": 27,
   "metadata": {},
   "outputs": [],
   "source": [
    "df_train_cat = df_train[['Protocol','Direction','SrcTypeService','DestTypeService']]"
   ]
  },
  {
   "cell_type": "code",
   "execution_count": 28,
   "metadata": {},
   "outputs": [],
   "source": [
    "df_train_cat = df_train_cat.replace([np.nan],-1)"
   ]
  },
  {
   "cell_type": "code",
   "execution_count": 29,
   "metadata": {},
   "outputs": [
    {
     "data": {
      "text/html": [
       "<div>\n",
       "<style scoped>\n",
       "    .dataframe tbody tr th:only-of-type {\n",
       "        vertical-align: middle;\n",
       "    }\n",
       "\n",
       "    .dataframe tbody tr th {\n",
       "        vertical-align: top;\n",
       "    }\n",
       "\n",
       "    .dataframe thead th {\n",
       "        text-align: right;\n",
       "    }\n",
       "</style>\n",
       "<table border=\"1\" class=\"dataframe\">\n",
       "  <thead>\n",
       "    <tr style=\"text-align: right;\">\n",
       "      <th></th>\n",
       "      <th>Protocol</th>\n",
       "      <th>Direction</th>\n",
       "      <th>SrcTypeService</th>\n",
       "      <th>DestTypeService</th>\n",
       "    </tr>\n",
       "  </thead>\n",
       "  <tbody>\n",
       "    <tr>\n",
       "      <th>0</th>\n",
       "      <td>udp</td>\n",
       "      <td>&lt;-&gt;</td>\n",
       "      <td>0.0</td>\n",
       "      <td>0.0</td>\n",
       "    </tr>\n",
       "    <tr>\n",
       "      <th>1</th>\n",
       "      <td>tcp</td>\n",
       "      <td>-&gt;</td>\n",
       "      <td>0.0</td>\n",
       "      <td>0.0</td>\n",
       "    </tr>\n",
       "    <tr>\n",
       "      <th>2</th>\n",
       "      <td>udp</td>\n",
       "      <td>&lt;-&gt;</td>\n",
       "      <td>0.0</td>\n",
       "      <td>0.0</td>\n",
       "    </tr>\n",
       "    <tr>\n",
       "      <th>3</th>\n",
       "      <td>udp</td>\n",
       "      <td>-&gt;</td>\n",
       "      <td>0.0</td>\n",
       "      <td>-1.0</td>\n",
       "    </tr>\n",
       "    <tr>\n",
       "      <th>4</th>\n",
       "      <td>udp</td>\n",
       "      <td>&lt;-&gt;</td>\n",
       "      <td>0.0</td>\n",
       "      <td>0.0</td>\n",
       "    </tr>\n",
       "  </tbody>\n",
       "</table>\n",
       "</div>"
      ],
      "text/plain": [
       "  Protocol Direction  SrcTypeService  DestTypeService\n",
       "0      udp       <->             0.0              0.0\n",
       "1      tcp        ->             0.0              0.0\n",
       "2      udp       <->             0.0              0.0\n",
       "3      udp        ->             0.0             -1.0\n",
       "4      udp       <->             0.0              0.0"
      ]
     },
     "execution_count": 29,
     "metadata": {},
     "output_type": "execute_result"
    }
   ],
   "source": [
    "df_train_cat.head()"
   ]
  },
  {
   "cell_type": "code",
   "execution_count": 30,
   "metadata": {},
   "outputs": [],
   "source": [
    "encoder = OneHotEncoder(handle_unknown = 'ignore')\n",
    "encoder.fit(df_train_cat)\n",
    "features_names = encoder.get_feature_names(['Protocol','Direction','SrcTypeService','DestTypeService'])"
   ]
  },
  {
   "cell_type": "code",
   "execution_count": 31,
   "metadata": {},
   "outputs": [],
   "source": [
    "df_train_cat = pd.DataFrame(encoder.transform(df_train_cat).toarray(),columns=features_names,index=df_train_cat.index)"
   ]
  },
  {
   "cell_type": "code",
   "execution_count": 32,
   "metadata": {},
   "outputs": [
    {
     "data": {
      "text/plain": [
       "Index(['Protocol_arp', 'Protocol_gre', 'Protocol_icmp', 'Protocol_igmp',\n",
       "       'Protocol_ipv6', 'Protocol_pim', 'Protocol_rtcp', 'Protocol_rtp',\n",
       "       'Protocol_tcp', 'Protocol_udp', 'Protocol_udt', 'Direction_->',\n",
       "       'Direction_<-', 'Direction_<->', 'SrcTypeService_-1.0',\n",
       "       'SrcTypeService_0.0', 'SrcTypeService_192.0', 'DestTypeService_-1.0',\n",
       "       'DestTypeService_0.0', 'DestTypeService_1.0', 'DestTypeService_2.0',\n",
       "       'DestTypeService_3.0'],\n",
       "      dtype='object')"
      ]
     },
     "execution_count": 32,
     "metadata": {},
     "output_type": "execute_result"
    }
   ],
   "source": [
    "df_train_cat.columns"
   ]
  },
  {
   "cell_type": "code",
   "execution_count": 33,
   "metadata": {},
   "outputs": [
    {
     "data": {
      "text/html": [
       "<div>\n",
       "<style scoped>\n",
       "    .dataframe tbody tr th:only-of-type {\n",
       "        vertical-align: middle;\n",
       "    }\n",
       "\n",
       "    .dataframe tbody tr th {\n",
       "        vertical-align: top;\n",
       "    }\n",
       "\n",
       "    .dataframe thead th {\n",
       "        text-align: right;\n",
       "    }\n",
       "</style>\n",
       "<table border=\"1\" class=\"dataframe\">\n",
       "  <thead>\n",
       "    <tr style=\"text-align: right;\">\n",
       "      <th></th>\n",
       "      <th>Protocol_arp</th>\n",
       "      <th>Protocol_gre</th>\n",
       "      <th>Protocol_icmp</th>\n",
       "      <th>Protocol_igmp</th>\n",
       "      <th>Protocol_ipv6</th>\n",
       "      <th>Protocol_pim</th>\n",
       "      <th>Protocol_rtcp</th>\n",
       "      <th>Protocol_rtp</th>\n",
       "      <th>Protocol_tcp</th>\n",
       "      <th>Protocol_udp</th>\n",
       "      <th>...</th>\n",
       "      <th>Direction_&lt;-</th>\n",
       "      <th>Direction_&lt;-&gt;</th>\n",
       "      <th>SrcTypeService_-1.0</th>\n",
       "      <th>SrcTypeService_0.0</th>\n",
       "      <th>SrcTypeService_192.0</th>\n",
       "      <th>DestTypeService_-1.0</th>\n",
       "      <th>DestTypeService_0.0</th>\n",
       "      <th>DestTypeService_1.0</th>\n",
       "      <th>DestTypeService_2.0</th>\n",
       "      <th>DestTypeService_3.0</th>\n",
       "    </tr>\n",
       "  </thead>\n",
       "  <tbody>\n",
       "    <tr>\n",
       "      <th>0</th>\n",
       "      <td>0.0</td>\n",
       "      <td>0.0</td>\n",
       "      <td>0.0</td>\n",
       "      <td>0.0</td>\n",
       "      <td>0.0</td>\n",
       "      <td>0.0</td>\n",
       "      <td>0.0</td>\n",
       "      <td>0.0</td>\n",
       "      <td>0.0</td>\n",
       "      <td>1.0</td>\n",
       "      <td>...</td>\n",
       "      <td>0.0</td>\n",
       "      <td>1.0</td>\n",
       "      <td>0.0</td>\n",
       "      <td>1.0</td>\n",
       "      <td>0.0</td>\n",
       "      <td>0.0</td>\n",
       "      <td>1.0</td>\n",
       "      <td>0.0</td>\n",
       "      <td>0.0</td>\n",
       "      <td>0.0</td>\n",
       "    </tr>\n",
       "    <tr>\n",
       "      <th>1</th>\n",
       "      <td>0.0</td>\n",
       "      <td>0.0</td>\n",
       "      <td>0.0</td>\n",
       "      <td>0.0</td>\n",
       "      <td>0.0</td>\n",
       "      <td>0.0</td>\n",
       "      <td>0.0</td>\n",
       "      <td>0.0</td>\n",
       "      <td>1.0</td>\n",
       "      <td>0.0</td>\n",
       "      <td>...</td>\n",
       "      <td>0.0</td>\n",
       "      <td>0.0</td>\n",
       "      <td>0.0</td>\n",
       "      <td>1.0</td>\n",
       "      <td>0.0</td>\n",
       "      <td>0.0</td>\n",
       "      <td>1.0</td>\n",
       "      <td>0.0</td>\n",
       "      <td>0.0</td>\n",
       "      <td>0.0</td>\n",
       "    </tr>\n",
       "    <tr>\n",
       "      <th>2</th>\n",
       "      <td>0.0</td>\n",
       "      <td>0.0</td>\n",
       "      <td>0.0</td>\n",
       "      <td>0.0</td>\n",
       "      <td>0.0</td>\n",
       "      <td>0.0</td>\n",
       "      <td>0.0</td>\n",
       "      <td>0.0</td>\n",
       "      <td>0.0</td>\n",
       "      <td>1.0</td>\n",
       "      <td>...</td>\n",
       "      <td>0.0</td>\n",
       "      <td>1.0</td>\n",
       "      <td>0.0</td>\n",
       "      <td>1.0</td>\n",
       "      <td>0.0</td>\n",
       "      <td>0.0</td>\n",
       "      <td>1.0</td>\n",
       "      <td>0.0</td>\n",
       "      <td>0.0</td>\n",
       "      <td>0.0</td>\n",
       "    </tr>\n",
       "    <tr>\n",
       "      <th>3</th>\n",
       "      <td>0.0</td>\n",
       "      <td>0.0</td>\n",
       "      <td>0.0</td>\n",
       "      <td>0.0</td>\n",
       "      <td>0.0</td>\n",
       "      <td>0.0</td>\n",
       "      <td>0.0</td>\n",
       "      <td>0.0</td>\n",
       "      <td>0.0</td>\n",
       "      <td>1.0</td>\n",
       "      <td>...</td>\n",
       "      <td>0.0</td>\n",
       "      <td>0.0</td>\n",
       "      <td>0.0</td>\n",
       "      <td>1.0</td>\n",
       "      <td>0.0</td>\n",
       "      <td>1.0</td>\n",
       "      <td>0.0</td>\n",
       "      <td>0.0</td>\n",
       "      <td>0.0</td>\n",
       "      <td>0.0</td>\n",
       "    </tr>\n",
       "    <tr>\n",
       "      <th>4</th>\n",
       "      <td>0.0</td>\n",
       "      <td>0.0</td>\n",
       "      <td>0.0</td>\n",
       "      <td>0.0</td>\n",
       "      <td>0.0</td>\n",
       "      <td>0.0</td>\n",
       "      <td>0.0</td>\n",
       "      <td>0.0</td>\n",
       "      <td>0.0</td>\n",
       "      <td>1.0</td>\n",
       "      <td>...</td>\n",
       "      <td>0.0</td>\n",
       "      <td>1.0</td>\n",
       "      <td>0.0</td>\n",
       "      <td>1.0</td>\n",
       "      <td>0.0</td>\n",
       "      <td>0.0</td>\n",
       "      <td>1.0</td>\n",
       "      <td>0.0</td>\n",
       "      <td>0.0</td>\n",
       "      <td>0.0</td>\n",
       "    </tr>\n",
       "  </tbody>\n",
       "</table>\n",
       "<p>5 rows × 22 columns</p>\n",
       "</div>"
      ],
      "text/plain": [
       "   Protocol_arp  Protocol_gre  Protocol_icmp  Protocol_igmp  Protocol_ipv6  \\\n",
       "0           0.0           0.0            0.0            0.0            0.0   \n",
       "1           0.0           0.0            0.0            0.0            0.0   \n",
       "2           0.0           0.0            0.0            0.0            0.0   \n",
       "3           0.0           0.0            0.0            0.0            0.0   \n",
       "4           0.0           0.0            0.0            0.0            0.0   \n",
       "\n",
       "   Protocol_pim  Protocol_rtcp  Protocol_rtp  Protocol_tcp  Protocol_udp  ...  \\\n",
       "0           0.0            0.0           0.0           0.0           1.0  ...   \n",
       "1           0.0            0.0           0.0           1.0           0.0  ...   \n",
       "2           0.0            0.0           0.0           0.0           1.0  ...   \n",
       "3           0.0            0.0           0.0           0.0           1.0  ...   \n",
       "4           0.0            0.0           0.0           0.0           1.0  ...   \n",
       "\n",
       "   Direction_<-  Direction_<->  SrcTypeService_-1.0  SrcTypeService_0.0  \\\n",
       "0           0.0            1.0                  0.0                 1.0   \n",
       "1           0.0            0.0                  0.0                 1.0   \n",
       "2           0.0            1.0                  0.0                 1.0   \n",
       "3           0.0            0.0                  0.0                 1.0   \n",
       "4           0.0            1.0                  0.0                 1.0   \n",
       "\n",
       "   SrcTypeService_192.0  DestTypeService_-1.0  DestTypeService_0.0  \\\n",
       "0                   0.0                   0.0                  1.0   \n",
       "1                   0.0                   0.0                  1.0   \n",
       "2                   0.0                   0.0                  1.0   \n",
       "3                   0.0                   1.0                  0.0   \n",
       "4                   0.0                   0.0                  1.0   \n",
       "\n",
       "   DestTypeService_1.0  DestTypeService_2.0  DestTypeService_3.0  \n",
       "0                  0.0                  0.0                  0.0  \n",
       "1                  0.0                  0.0                  0.0  \n",
       "2                  0.0                  0.0                  0.0  \n",
       "3                  0.0                  0.0                  0.0  \n",
       "4                  0.0                  0.0                  0.0  \n",
       "\n",
       "[5 rows x 22 columns]"
      ]
     },
     "execution_count": 33,
     "metadata": {},
     "output_type": "execute_result"
    }
   ],
   "source": [
    "df_train_cat.head()"
   ]
  },
  {
   "cell_type": "code",
   "execution_count": 58,
   "metadata": {},
   "outputs": [
    {
     "data": {
      "text/plain": [
       "flow=To-Background-UDP-CVUT-DNS-Server                   723449\n",
       "flow=Background-Established-cmpgw-CVUT                   124394\n",
       "flow=From-Botnet-V50-1-UDP-DNS                            90690\n",
       "flow=Background-UDP-Established                           80322\n",
       "flow=Background-TCP-Established                           74769\n",
       "                                                          ...  \n",
       "flow=From-Botnet-V50-6-TCP-HTTP-Not-Encrypted-Down-2          3\n",
       "flow=From-Botnet-V50-10-UDP-Custom-Encryption-1               3\n",
       "flow=From-Botnet-V50-10-TCP-HTTP-Not-Encrypted-Down-3         3\n",
       "flow=From-Botnet-V50-6-TCP-Established-HTTP-Ad-59             3\n",
       "flow=Normal-V50-HTTP-windowsupdate                            1\n",
       "Name: Label, Length: 903, dtype: int64"
      ]
     },
     "execution_count": 58,
     "metadata": {},
     "output_type": "execute_result"
    }
   ],
   "source": [
    "df_train['Label'].value_counts()"
   ]
  },
  {
   "cell_type": "code",
   "execution_count": 57,
   "metadata": {},
   "outputs": [],
   "source": [
    "new_label = pd.DataFrame(data=np.where(df_train['Label'].str.contains(\"Botnet\",case=False), 0, 1),columns=[\"Normal\"])"
   ]
  },
  {
   "cell_type": "code",
   "execution_count": 59,
   "metadata": {},
   "outputs": [],
   "source": [
    "train_data = pd.concat([df_train_num, df_train_cat,new_label], axis=1)"
   ]
  },
  {
   "cell_type": "code",
   "execution_count": 60,
   "metadata": {},
   "outputs": [
    {
     "data": {
      "text/html": [
       "<div>\n",
       "<style scoped>\n",
       "    .dataframe tbody tr th:only-of-type {\n",
       "        vertical-align: middle;\n",
       "    }\n",
       "\n",
       "    .dataframe tbody tr th {\n",
       "        vertical-align: top;\n",
       "    }\n",
       "\n",
       "    .dataframe thead th {\n",
       "        text-align: right;\n",
       "    }\n",
       "</style>\n",
       "<table border=\"1\" class=\"dataframe\">\n",
       "  <thead>\n",
       "    <tr style=\"text-align: right;\">\n",
       "      <th></th>\n",
       "      <th>Duration</th>\n",
       "      <th>TotalPackets</th>\n",
       "      <th>TotalBytes</th>\n",
       "      <th>SourceBytes</th>\n",
       "      <th>Protocol_arp</th>\n",
       "      <th>Protocol_gre</th>\n",
       "      <th>Protocol_icmp</th>\n",
       "      <th>Protocol_igmp</th>\n",
       "      <th>Protocol_ipv6</th>\n",
       "      <th>Protocol_pim</th>\n",
       "      <th>...</th>\n",
       "      <th>Direction_&lt;-&gt;</th>\n",
       "      <th>SrcTypeService_-1.0</th>\n",
       "      <th>SrcTypeService_0.0</th>\n",
       "      <th>SrcTypeService_192.0</th>\n",
       "      <th>DestTypeService_-1.0</th>\n",
       "      <th>DestTypeService_0.0</th>\n",
       "      <th>DestTypeService_1.0</th>\n",
       "      <th>DestTypeService_2.0</th>\n",
       "      <th>DestTypeService_3.0</th>\n",
       "      <th>Normal</th>\n",
       "    </tr>\n",
       "  </thead>\n",
       "  <tbody>\n",
       "    <tr>\n",
       "      <th>0</th>\n",
       "      <td>-0.191842</td>\n",
       "      <td>-0.009924</td>\n",
       "      <td>-0.008230</td>\n",
       "      <td>-0.019033</td>\n",
       "      <td>0.0</td>\n",
       "      <td>0.0</td>\n",
       "      <td>0.0</td>\n",
       "      <td>0.0</td>\n",
       "      <td>0.0</td>\n",
       "      <td>0.0</td>\n",
       "      <td>...</td>\n",
       "      <td>1.0</td>\n",
       "      <td>0.0</td>\n",
       "      <td>1.0</td>\n",
       "      <td>0.0</td>\n",
       "      <td>0.0</td>\n",
       "      <td>1.0</td>\n",
       "      <td>0.0</td>\n",
       "      <td>0.0</td>\n",
       "      <td>0.0</td>\n",
       "      <td>0</td>\n",
       "    </tr>\n",
       "    <tr>\n",
       "      <th>1</th>\n",
       "      <td>-0.191760</td>\n",
       "      <td>-0.008454</td>\n",
       "      <td>-0.008001</td>\n",
       "      <td>-0.016594</td>\n",
       "      <td>0.0</td>\n",
       "      <td>0.0</td>\n",
       "      <td>0.0</td>\n",
       "      <td>0.0</td>\n",
       "      <td>0.0</td>\n",
       "      <td>0.0</td>\n",
       "      <td>...</td>\n",
       "      <td>0.0</td>\n",
       "      <td>0.0</td>\n",
       "      <td>1.0</td>\n",
       "      <td>0.0</td>\n",
       "      <td>0.0</td>\n",
       "      <td>1.0</td>\n",
       "      <td>0.0</td>\n",
       "      <td>0.0</td>\n",
       "      <td>0.0</td>\n",
       "      <td>0</td>\n",
       "    </tr>\n",
       "    <tr>\n",
       "      <th>2</th>\n",
       "      <td>-0.191842</td>\n",
       "      <td>-0.010291</td>\n",
       "      <td>-0.008104</td>\n",
       "      <td>-0.018907</td>\n",
       "      <td>0.0</td>\n",
       "      <td>0.0</td>\n",
       "      <td>0.0</td>\n",
       "      <td>0.0</td>\n",
       "      <td>0.0</td>\n",
       "      <td>0.0</td>\n",
       "      <td>...</td>\n",
       "      <td>1.0</td>\n",
       "      <td>0.0</td>\n",
       "      <td>1.0</td>\n",
       "      <td>0.0</td>\n",
       "      <td>0.0</td>\n",
       "      <td>1.0</td>\n",
       "      <td>0.0</td>\n",
       "      <td>0.0</td>\n",
       "      <td>0.0</td>\n",
       "      <td>0</td>\n",
       "    </tr>\n",
       "    <tr>\n",
       "      <th>3</th>\n",
       "      <td>-0.185597</td>\n",
       "      <td>-0.009924</td>\n",
       "      <td>-0.008237</td>\n",
       "      <td>-0.018491</td>\n",
       "      <td>0.0</td>\n",
       "      <td>0.0</td>\n",
       "      <td>0.0</td>\n",
       "      <td>0.0</td>\n",
       "      <td>0.0</td>\n",
       "      <td>0.0</td>\n",
       "      <td>...</td>\n",
       "      <td>0.0</td>\n",
       "      <td>0.0</td>\n",
       "      <td>1.0</td>\n",
       "      <td>0.0</td>\n",
       "      <td>1.0</td>\n",
       "      <td>0.0</td>\n",
       "      <td>0.0</td>\n",
       "      <td>0.0</td>\n",
       "      <td>0.0</td>\n",
       "      <td>0</td>\n",
       "    </tr>\n",
       "    <tr>\n",
       "      <th>4</th>\n",
       "      <td>-0.191842</td>\n",
       "      <td>-0.010291</td>\n",
       "      <td>-0.008134</td>\n",
       "      <td>-0.018965</td>\n",
       "      <td>0.0</td>\n",
       "      <td>0.0</td>\n",
       "      <td>0.0</td>\n",
       "      <td>0.0</td>\n",
       "      <td>0.0</td>\n",
       "      <td>0.0</td>\n",
       "      <td>...</td>\n",
       "      <td>1.0</td>\n",
       "      <td>0.0</td>\n",
       "      <td>1.0</td>\n",
       "      <td>0.0</td>\n",
       "      <td>0.0</td>\n",
       "      <td>1.0</td>\n",
       "      <td>0.0</td>\n",
       "      <td>0.0</td>\n",
       "      <td>0.0</td>\n",
       "      <td>0</td>\n",
       "    </tr>\n",
       "  </tbody>\n",
       "</table>\n",
       "<p>5 rows × 27 columns</p>\n",
       "</div>"
      ],
      "text/plain": [
       "   Duration  TotalPackets  TotalBytes  SourceBytes  Protocol_arp  \\\n",
       "0 -0.191842     -0.009924   -0.008230    -0.019033           0.0   \n",
       "1 -0.191760     -0.008454   -0.008001    -0.016594           0.0   \n",
       "2 -0.191842     -0.010291   -0.008104    -0.018907           0.0   \n",
       "3 -0.185597     -0.009924   -0.008237    -0.018491           0.0   \n",
       "4 -0.191842     -0.010291   -0.008134    -0.018965           0.0   \n",
       "\n",
       "   Protocol_gre  Protocol_icmp  Protocol_igmp  Protocol_ipv6  Protocol_pim  \\\n",
       "0           0.0            0.0            0.0            0.0           0.0   \n",
       "1           0.0            0.0            0.0            0.0           0.0   \n",
       "2           0.0            0.0            0.0            0.0           0.0   \n",
       "3           0.0            0.0            0.0            0.0           0.0   \n",
       "4           0.0            0.0            0.0            0.0           0.0   \n",
       "\n",
       "   ...  Direction_<->  SrcTypeService_-1.0  SrcTypeService_0.0  \\\n",
       "0  ...            1.0                  0.0                 1.0   \n",
       "1  ...            0.0                  0.0                 1.0   \n",
       "2  ...            1.0                  0.0                 1.0   \n",
       "3  ...            0.0                  0.0                 1.0   \n",
       "4  ...            1.0                  0.0                 1.0   \n",
       "\n",
       "   SrcTypeService_192.0  DestTypeService_-1.0  DestTypeService_0.0  \\\n",
       "0                   0.0                   0.0                  1.0   \n",
       "1                   0.0                   0.0                  1.0   \n",
       "2                   0.0                   0.0                  1.0   \n",
       "3                   0.0                   1.0                  0.0   \n",
       "4                   0.0                   0.0                  1.0   \n",
       "\n",
       "   DestTypeService_1.0  DestTypeService_2.0  DestTypeService_3.0  Normal  \n",
       "0                  0.0                  0.0                  0.0       0  \n",
       "1                  0.0                  0.0                  0.0       0  \n",
       "2                  0.0                  0.0                  0.0       0  \n",
       "3                  0.0                  0.0                  0.0       0  \n",
       "4                  0.0                  0.0                  0.0       0  \n",
       "\n",
       "[5 rows x 27 columns]"
      ]
     },
     "execution_count": 60,
     "metadata": {},
     "output_type": "execute_result"
    }
   ],
   "source": [
    "train_data.head()"
   ]
  },
  {
   "cell_type": "code",
   "execution_count": 61,
   "metadata": {},
   "outputs": [],
   "source": [
    "train_data.to_csv('../../ml-data/cyberattack_detection/2_processed_data/A2_training_data.csv', sep=',', index=False)"
   ]
  },
  {
   "cell_type": "markdown",
   "metadata": {},
   "source": [
    "### Test data"
   ]
  },
  {
   "cell_type": "code",
   "execution_count": 62,
   "metadata": {},
   "outputs": [],
   "source": [
    "df_test = pd.read_csv('../../ml-data/cyberattack_detection/1_raw_data/A2_2/test_data_with_labels', sep=','\n",
    "                       ,names=['Timestamp','Duration','Protocol','SrcIPAddress','SrcPort','Direction',\n",
    "                               'DestIPAddress','DestPort','State','SrcTypeService','DestTypeService',\n",
    "                               'TotalPackets','TotalBytes','SourceBytes','Label'])"
   ]
  },
  {
   "cell_type": "code",
   "execution_count": 63,
   "metadata": {},
   "outputs": [],
   "source": [
    "df_test = df_test.replace({\"Direction\": dictionary})"
   ]
  },
  {
   "cell_type": "code",
   "execution_count": 64,
   "metadata": {},
   "outputs": [
    {
     "data": {
      "text/plain": [
       "<->    313456\n",
       "->     258225\n",
       "<-       2468\n",
       "<?>       234\n",
       "Name: Direction, dtype: int64"
      ]
     },
     "execution_count": 64,
     "metadata": {},
     "output_type": "execute_result"
    }
   ],
   "source": [
    "df_test['Direction'].value_counts()"
   ]
  },
  {
   "cell_type": "code",
   "execution_count": 65,
   "metadata": {},
   "outputs": [],
   "source": [
    "df_test['ratio'] = df_test['SourceBytes']/df_test['TotalBytes']"
   ]
  },
  {
   "cell_type": "code",
   "execution_count": 66,
   "metadata": {},
   "outputs": [],
   "source": [
    "df_test.loc[(df_test['SourceBytes'] == 0) & (df_test['Direction'] == '<?>'), 'Direction'] = '<-'\n",
    "df_test.loc[(df_test['ratio'] > 0.5) & (df_test['Direction'] == '<?>'), 'Direction'] = '->'\n",
    "df_test.loc[(df_test['ratio'] <= 0.5) & (df_test['Direction'] == '<?>'), 'Direction'] = '<->'"
   ]
  },
  {
   "cell_type": "code",
   "execution_count": 67,
   "metadata": {},
   "outputs": [],
   "source": [
    "df_test_num = df_test[['Duration','TotalPackets','TotalBytes','SourceBytes']]"
   ]
  },
  {
   "cell_type": "code",
   "execution_count": 68,
   "metadata": {},
   "outputs": [],
   "source": [
    "df_test_num = pd.DataFrame(scaler.transform(df_test_num), columns=df_test_num.columns, index=df_test_num.index)"
   ]
  },
  {
   "cell_type": "code",
   "execution_count": 69,
   "metadata": {
    "scrolled": true
   },
   "outputs": [
    {
     "data": {
      "text/html": [
       "<div>\n",
       "<style scoped>\n",
       "    .dataframe tbody tr th:only-of-type {\n",
       "        vertical-align: middle;\n",
       "    }\n",
       "\n",
       "    .dataframe tbody tr th {\n",
       "        vertical-align: top;\n",
       "    }\n",
       "\n",
       "    .dataframe thead th {\n",
       "        text-align: right;\n",
       "    }\n",
       "</style>\n",
       "<table border=\"1\" class=\"dataframe\">\n",
       "  <thead>\n",
       "    <tr style=\"text-align: right;\">\n",
       "      <th></th>\n",
       "      <th>Duration</th>\n",
       "      <th>TotalPackets</th>\n",
       "      <th>TotalBytes</th>\n",
       "      <th>SourceBytes</th>\n",
       "    </tr>\n",
       "  </thead>\n",
       "  <tbody>\n",
       "    <tr>\n",
       "      <th>0</th>\n",
       "      <td>-0.191842</td>\n",
       "      <td>-0.010291</td>\n",
       "      <td>-0.008227</td>\n",
       "      <td>-0.019037</td>\n",
       "    </tr>\n",
       "    <tr>\n",
       "      <th>1</th>\n",
       "      <td>-0.191738</td>\n",
       "      <td>-0.008454</td>\n",
       "      <td>-0.008000</td>\n",
       "      <td>-0.016361</td>\n",
       "    </tr>\n",
       "    <tr>\n",
       "      <th>2</th>\n",
       "      <td>-0.191842</td>\n",
       "      <td>-0.009924</td>\n",
       "      <td>-0.008098</td>\n",
       "      <td>-0.018921</td>\n",
       "    </tr>\n",
       "    <tr>\n",
       "      <th>3</th>\n",
       "      <td>-0.191842</td>\n",
       "      <td>-0.009924</td>\n",
       "      <td>-0.008130</td>\n",
       "      <td>-0.018974</td>\n",
       "    </tr>\n",
       "    <tr>\n",
       "      <th>4</th>\n",
       "      <td>-0.185474</td>\n",
       "      <td>-0.009924</td>\n",
       "      <td>-0.008232</td>\n",
       "      <td>-0.018491</td>\n",
       "    </tr>\n",
       "  </tbody>\n",
       "</table>\n",
       "</div>"
      ],
      "text/plain": [
       "   Duration  TotalPackets  TotalBytes  SourceBytes\n",
       "0 -0.191842     -0.010291   -0.008227    -0.019037\n",
       "1 -0.191738     -0.008454   -0.008000    -0.016361\n",
       "2 -0.191842     -0.009924   -0.008098    -0.018921\n",
       "3 -0.191842     -0.009924   -0.008130    -0.018974\n",
       "4 -0.185474     -0.009924   -0.008232    -0.018491"
      ]
     },
     "execution_count": 69,
     "metadata": {},
     "output_type": "execute_result"
    }
   ],
   "source": [
    "df_test_num.head()"
   ]
  },
  {
   "cell_type": "code",
   "execution_count": 70,
   "metadata": {},
   "outputs": [
    {
     "data": {
      "text/plain": [
       "7.679651172043547"
      ]
     },
     "execution_count": 70,
     "metadata": {},
     "output_type": "execute_result"
    }
   ],
   "source": [
    "df_test_num['Duration'].max()"
   ]
  },
  {
   "cell_type": "code",
   "execution_count": 71,
   "metadata": {},
   "outputs": [],
   "source": [
    "df_test_cat = df_test[['Protocol','Direction','SrcTypeService','DestTypeService']]"
   ]
  },
  {
   "cell_type": "code",
   "execution_count": 72,
   "metadata": {},
   "outputs": [],
   "source": [
    "df_test_cat = df_test_cat.replace([np.nan],-1)"
   ]
  },
  {
   "cell_type": "code",
   "execution_count": 73,
   "metadata": {},
   "outputs": [],
   "source": [
    "df_test_cat = pd.DataFrame(encoder.transform(df_test_cat).toarray(),columns=features_names,index=df_test_cat.index)"
   ]
  },
  {
   "cell_type": "code",
   "execution_count": 74,
   "metadata": {},
   "outputs": [
    {
     "data": {
      "text/plain": [
       "flow=From-Botnet-V50-5-UDP-DNS                                               52060\n",
       "flow=From-Botnet-V50-9-UDP-DNS                                               49825\n",
       "flow=From-Botnet-V50-3-UDP-DNS                                               45716\n",
       "flow=From-Botnet-V50-2-UDP-DNS                                               43844\n",
       "flow=From-Botnet-V50-8-UDP-DNS                                               28569\n",
       "                                                                             ...  \n",
       "flow=From-Botnet-V50-4-TCP-Established-HTTP-Binary-Download-1                    1\n",
       "flow=From-Botnet-V50-7-UDP-Custom-Encryption-1                                   1\n",
       "flow=From-Botnet-V50-7-TCP-Established-HTTP-Ad-63                                1\n",
       "flow=From-Botnet-V50-7-TCP-Established-HTTP-Binary-Download-Custom-Port-5        1\n",
       "flow=From-Botnet-V50-1-TCP-Established-HTTP-Binary-Download-Custom-Port-7        1\n",
       "Name: Label, Length: 900, dtype: int64"
      ]
     },
     "execution_count": 74,
     "metadata": {},
     "output_type": "execute_result"
    }
   ],
   "source": [
    "df_test['Label'].value_counts()"
   ]
  },
  {
   "cell_type": "code",
   "execution_count": 75,
   "metadata": {},
   "outputs": [],
   "source": [
    "new_label_test = pd.DataFrame(data=np.where(df_test['Label'].str.contains(\"Botnet\",case=False), 0, 1),columns=[\"Normal\"])"
   ]
  },
  {
   "cell_type": "code",
   "execution_count": 78,
   "metadata": {},
   "outputs": [],
   "source": [
    "test_data = pd.concat([df_test_num, df_test_cat,new_label_test], axis=1)"
   ]
  },
  {
   "cell_type": "code",
   "execution_count": 79,
   "metadata": {},
   "outputs": [],
   "source": [
    "test_data.to_csv('../../ml-data/cyberattack_detection/2_processed_data/A2_test_data.csv', sep=',', index=False)"
   ]
  },
  {
   "cell_type": "code",
   "execution_count": null,
   "metadata": {},
   "outputs": [],
   "source": []
  }
 ],
 "metadata": {
  "kernelspec": {
   "display_name": "Python 3",
   "language": "python",
   "name": "python3"
  },
  "language_info": {
   "codemirror_mode": {
    "name": "ipython",
    "version": 3
   },
   "file_extension": ".py",
   "mimetype": "text/x-python",
   "name": "python",
   "nbconvert_exporter": "python",
   "pygments_lexer": "ipython3",
   "version": "3.8.5"
  }
 },
 "nbformat": 4,
 "nbformat_minor": 4
}
