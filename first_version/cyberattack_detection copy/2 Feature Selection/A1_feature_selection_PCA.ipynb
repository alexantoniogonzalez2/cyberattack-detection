{
 "cells": [
  {
   "cell_type": "code",
   "execution_count": 1,
   "metadata": {},
   "outputs": [],
   "source": [
    "import pandas as pd\n",
    "import matplotlib.pyplot as plt\n",
    "from sklearn.decomposition import PCA,IncrementalPCA"
   ]
  },
  {
   "cell_type": "markdown",
   "metadata": {},
   "source": [
    "### Train data"
   ]
  },
  {
   "cell_type": "code",
   "execution_count": 2,
   "metadata": {},
   "outputs": [],
   "source": [
    "train = pd.read_csv('../../ml-data/cyberattack_detection/2_processed_data/A1_train_data.csv', sep=',')"
   ]
  },
  {
   "cell_type": "code",
   "execution_count": 3,
   "metadata": {},
   "outputs": [
    {
     "data": {
      "text/plain": [
       "(13882035, 32)"
      ]
     },
     "execution_count": 3,
     "metadata": {},
     "output_type": "execute_result"
    }
   ],
   "source": [
    "train.shape"
   ]
  },
  {
   "cell_type": "code",
   "execution_count": 4,
   "metadata": {},
   "outputs": [
    {
     "data": {
      "text/plain": [
       "IncrementalPCA(n_components=10)"
      ]
     },
     "execution_count": 4,
     "metadata": {},
     "output_type": "execute_result"
    }
   ],
   "source": [
    "pca = IncrementalPCA(n_components=10)\n",
    "pca.fit(train)"
   ]
  },
  {
   "cell_type": "code",
   "execution_count": 5,
   "metadata": {},
   "outputs": [
    {
     "name": "stdout",
     "output_type": "stream",
     "text": [
      "[0.45674524 0.65269432 0.81209401 0.93336609 0.97378143 0.98717837\n",
      " 0.99176233 0.99497925 0.99809058 0.99885656]\n"
     ]
    }
   ],
   "source": [
    "print(pca.explained_variance_ratio_.cumsum())"
   ]
  },
  {
   "cell_type": "code",
   "execution_count": 6,
   "metadata": {},
   "outputs": [
    {
     "data": {
      "text/plain": [
       "IncrementalPCA(n_components=7)"
      ]
     },
     "execution_count": 6,
     "metadata": {},
     "output_type": "execute_result"
    }
   ],
   "source": [
    "pca = IncrementalPCA(n_components=7)\n",
    "pca.fit(train)"
   ]
  },
  {
   "cell_type": "code",
   "execution_count": 7,
   "metadata": {},
   "outputs": [],
   "source": [
    "rawTrainPCA = pca.transform(train)"
   ]
  },
  {
   "cell_type": "code",
   "execution_count": 8,
   "metadata": {},
   "outputs": [],
   "source": [
    "trainPCA = pd.DataFrame(data = rawTrainPCA, columns = ['PC1','PC2','PC3','PC4','PC5','PC6','PC7'])"
   ]
  },
  {
   "cell_type": "code",
   "execution_count": 9,
   "metadata": {},
   "outputs": [
    {
     "data": {
      "text/html": [
       "<div>\n",
       "<style scoped>\n",
       "    .dataframe tbody tr th:only-of-type {\n",
       "        vertical-align: middle;\n",
       "    }\n",
       "\n",
       "    .dataframe tbody tr th {\n",
       "        vertical-align: top;\n",
       "    }\n",
       "\n",
       "    .dataframe thead th {\n",
       "        text-align: right;\n",
       "    }\n",
       "</style>\n",
       "<table border=\"1\" class=\"dataframe\">\n",
       "  <thead>\n",
       "    <tr style=\"text-align: right;\">\n",
       "      <th></th>\n",
       "      <th>PC1</th>\n",
       "      <th>PC2</th>\n",
       "      <th>PC3</th>\n",
       "      <th>PC4</th>\n",
       "      <th>PC5</th>\n",
       "      <th>PC6</th>\n",
       "      <th>PC7</th>\n",
       "    </tr>\n",
       "  </thead>\n",
       "  <tbody>\n",
       "    <tr>\n",
       "      <th>0</th>\n",
       "      <td>-0.003880</td>\n",
       "      <td>-0.461097</td>\n",
       "      <td>-1.188947</td>\n",
       "      <td>0.018107</td>\n",
       "      <td>0.541958</td>\n",
       "      <td>-0.008505</td>\n",
       "      <td>-0.052736</td>\n",
       "    </tr>\n",
       "    <tr>\n",
       "      <th>1</th>\n",
       "      <td>-0.007473</td>\n",
       "      <td>-0.599529</td>\n",
       "      <td>-1.519164</td>\n",
       "      <td>0.029847</td>\n",
       "      <td>-0.639553</td>\n",
       "      <td>-0.429127</td>\n",
       "      <td>0.424075</td>\n",
       "    </tr>\n",
       "    <tr>\n",
       "      <th>2</th>\n",
       "      <td>-0.007635</td>\n",
       "      <td>-0.599527</td>\n",
       "      <td>-1.519165</td>\n",
       "      <td>0.029929</td>\n",
       "      <td>-0.639552</td>\n",
       "      <td>-0.429127</td>\n",
       "      <td>0.424074</td>\n",
       "    </tr>\n",
       "    <tr>\n",
       "      <th>3</th>\n",
       "      <td>-0.007636</td>\n",
       "      <td>-0.599527</td>\n",
       "      <td>-1.519165</td>\n",
       "      <td>0.029927</td>\n",
       "      <td>-0.639552</td>\n",
       "      <td>-0.429127</td>\n",
       "      <td>0.424074</td>\n",
       "    </tr>\n",
       "    <tr>\n",
       "      <th>4</th>\n",
       "      <td>-0.007799</td>\n",
       "      <td>-0.599524</td>\n",
       "      <td>-1.519165</td>\n",
       "      <td>0.030010</td>\n",
       "      <td>-0.639552</td>\n",
       "      <td>-0.429127</td>\n",
       "      <td>0.424073</td>\n",
       "    </tr>\n",
       "    <tr>\n",
       "      <th>5</th>\n",
       "      <td>-0.007800</td>\n",
       "      <td>-0.599524</td>\n",
       "      <td>-1.519165</td>\n",
       "      <td>0.030008</td>\n",
       "      <td>-0.639552</td>\n",
       "      <td>-0.429127</td>\n",
       "      <td>0.424073</td>\n",
       "    </tr>\n",
       "    <tr>\n",
       "      <th>6</th>\n",
       "      <td>-0.007799</td>\n",
       "      <td>-0.599524</td>\n",
       "      <td>-1.519165</td>\n",
       "      <td>0.030009</td>\n",
       "      <td>-0.639552</td>\n",
       "      <td>-0.429127</td>\n",
       "      <td>0.424073</td>\n",
       "    </tr>\n",
       "    <tr>\n",
       "      <th>7</th>\n",
       "      <td>-0.007473</td>\n",
       "      <td>-0.599529</td>\n",
       "      <td>-1.519164</td>\n",
       "      <td>0.029847</td>\n",
       "      <td>-0.639553</td>\n",
       "      <td>-0.429127</td>\n",
       "      <td>0.424075</td>\n",
       "    </tr>\n",
       "    <tr>\n",
       "      <th>8</th>\n",
       "      <td>-0.007471</td>\n",
       "      <td>-0.599529</td>\n",
       "      <td>-1.519164</td>\n",
       "      <td>0.029851</td>\n",
       "      <td>-0.639553</td>\n",
       "      <td>-0.429127</td>\n",
       "      <td>0.424075</td>\n",
       "    </tr>\n",
       "    <tr>\n",
       "      <th>9</th>\n",
       "      <td>-0.007471</td>\n",
       "      <td>-0.599529</td>\n",
       "      <td>-1.519164</td>\n",
       "      <td>0.029850</td>\n",
       "      <td>-0.639553</td>\n",
       "      <td>-0.429127</td>\n",
       "      <td>0.424075</td>\n",
       "    </tr>\n",
       "  </tbody>\n",
       "</table>\n",
       "</div>"
      ],
      "text/plain": [
       "        PC1       PC2       PC3       PC4       PC5       PC6       PC7\n",
       "0 -0.003880 -0.461097 -1.188947  0.018107  0.541958 -0.008505 -0.052736\n",
       "1 -0.007473 -0.599529 -1.519164  0.029847 -0.639553 -0.429127  0.424075\n",
       "2 -0.007635 -0.599527 -1.519165  0.029929 -0.639552 -0.429127  0.424074\n",
       "3 -0.007636 -0.599527 -1.519165  0.029927 -0.639552 -0.429127  0.424074\n",
       "4 -0.007799 -0.599524 -1.519165  0.030010 -0.639552 -0.429127  0.424073\n",
       "5 -0.007800 -0.599524 -1.519165  0.030008 -0.639552 -0.429127  0.424073\n",
       "6 -0.007799 -0.599524 -1.519165  0.030009 -0.639552 -0.429127  0.424073\n",
       "7 -0.007473 -0.599529 -1.519164  0.029847 -0.639553 -0.429127  0.424075\n",
       "8 -0.007471 -0.599529 -1.519164  0.029851 -0.639553 -0.429127  0.424075\n",
       "9 -0.007471 -0.599529 -1.519164  0.029850 -0.639553 -0.429127  0.424075"
      ]
     },
     "execution_count": 9,
     "metadata": {},
     "output_type": "execute_result"
    }
   ],
   "source": [
    "trainPCA.head(10)"
   ]
  },
  {
   "cell_type": "code",
   "execution_count": 10,
   "metadata": {},
   "outputs": [],
   "source": [
    "trainPCA.to_csv('../../ml-data/cyberattack_detection/3_selected_features/A1_train_data_PCA.csv', sep=',', index=False)"
   ]
  },
  {
   "cell_type": "markdown",
   "metadata": {},
   "source": [
    "### Test data"
   ]
  },
  {
   "cell_type": "code",
   "execution_count": 11,
   "metadata": {},
   "outputs": [],
   "source": [
    "test = pd.read_csv('../../ml-data/cyberattack_detection/2_processed_data/A1_test_data.csv', sep=',')"
   ]
  },
  {
   "cell_type": "code",
   "execution_count": 12,
   "metadata": {},
   "outputs": [],
   "source": [
    "rawTestPCA = pca.transform(test)"
   ]
  },
  {
   "cell_type": "code",
   "execution_count": 13,
   "metadata": {},
   "outputs": [],
   "source": [
    "testPCA = pd.DataFrame(data = rawTestPCA, columns = ['PC1','PC2','PC3','PC4','PC5','PC6','PC7'])"
   ]
  },
  {
   "cell_type": "code",
   "execution_count": 14,
   "metadata": {},
   "outputs": [
    {
     "data": {
      "text/html": [
       "<div>\n",
       "<style scoped>\n",
       "    .dataframe tbody tr th:only-of-type {\n",
       "        vertical-align: middle;\n",
       "    }\n",
       "\n",
       "    .dataframe tbody tr th {\n",
       "        vertical-align: top;\n",
       "    }\n",
       "\n",
       "    .dataframe thead th {\n",
       "        text-align: right;\n",
       "    }\n",
       "</style>\n",
       "<table border=\"1\" class=\"dataframe\">\n",
       "  <thead>\n",
       "    <tr style=\"text-align: right;\">\n",
       "      <th></th>\n",
       "      <th>PC1</th>\n",
       "      <th>PC2</th>\n",
       "      <th>PC3</th>\n",
       "      <th>PC4</th>\n",
       "      <th>PC5</th>\n",
       "      <th>PC6</th>\n",
       "      <th>PC7</th>\n",
       "    </tr>\n",
       "  </thead>\n",
       "  <tbody>\n",
       "    <tr>\n",
       "      <th>0</th>\n",
       "      <td>0.131097</td>\n",
       "      <td>5.228975</td>\n",
       "      <td>-2.591024</td>\n",
       "      <td>0.049764</td>\n",
       "      <td>0.787744</td>\n",
       "      <td>0.050563</td>\n",
       "      <td>-0.029777</td>\n",
       "    </tr>\n",
       "    <tr>\n",
       "      <th>1</th>\n",
       "      <td>0.116630</td>\n",
       "      <td>4.604554</td>\n",
       "      <td>-2.437158</td>\n",
       "      <td>0.046376</td>\n",
       "      <td>0.760771</td>\n",
       "      <td>0.044081</td>\n",
       "      <td>-0.032296</td>\n",
       "    </tr>\n",
       "    <tr>\n",
       "      <th>2</th>\n",
       "      <td>0.122011</td>\n",
       "      <td>4.796523</td>\n",
       "      <td>-2.484465</td>\n",
       "      <td>0.046861</td>\n",
       "      <td>0.769061</td>\n",
       "      <td>0.046073</td>\n",
       "      <td>-0.031514</td>\n",
       "    </tr>\n",
       "    <tr>\n",
       "      <th>3</th>\n",
       "      <td>0.128372</td>\n",
       "      <td>5.011403</td>\n",
       "      <td>-2.537411</td>\n",
       "      <td>0.047548</td>\n",
       "      <td>0.778339</td>\n",
       "      <td>0.048303</td>\n",
       "      <td>-0.030641</td>\n",
       "    </tr>\n",
       "    <tr>\n",
       "      <th>4</th>\n",
       "      <td>0.119795</td>\n",
       "      <td>4.741545</td>\n",
       "      <td>-2.470918</td>\n",
       "      <td>0.046890</td>\n",
       "      <td>0.766688</td>\n",
       "      <td>0.045503</td>\n",
       "      <td>-0.031743</td>\n",
       "    </tr>\n",
       "  </tbody>\n",
       "</table>\n",
       "</div>"
      ],
      "text/plain": [
       "        PC1       PC2       PC3       PC4       PC5       PC6       PC7\n",
       "0  0.131097  5.228975 -2.591024  0.049764  0.787744  0.050563 -0.029777\n",
       "1  0.116630  4.604554 -2.437158  0.046376  0.760771  0.044081 -0.032296\n",
       "2  0.122011  4.796523 -2.484465  0.046861  0.769061  0.046073 -0.031514\n",
       "3  0.128372  5.011403 -2.537411  0.047548  0.778339  0.048303 -0.030641\n",
       "4  0.119795  4.741545 -2.470918  0.046890  0.766688  0.045503 -0.031743"
      ]
     },
     "execution_count": 14,
     "metadata": {},
     "output_type": "execute_result"
    }
   ],
   "source": [
    "testPCA.head()"
   ]
  },
  {
   "cell_type": "code",
   "execution_count": 15,
   "metadata": {},
   "outputs": [],
   "source": [
    "testPCA.to_csv('../../ml-data/cyberattack_detection/3_selected_features/A1_test_data_PCA.csv', sep=',', index=False)"
   ]
  },
  {
   "cell_type": "markdown",
   "metadata": {},
   "source": [
    "End"
   ]
  }
 ],
 "metadata": {
  "kernelspec": {
   "display_name": "Python 3",
   "language": "python",
   "name": "python3"
  },
  "language_info": {
   "codemirror_mode": {
    "name": "ipython",
    "version": 3
   },
   "file_extension": ".py",
   "mimetype": "text/x-python",
   "name": "python",
   "nbconvert_exporter": "python",
   "pygments_lexer": "ipython3",
   "version": "3.8.5"
  }
 },
 "nbformat": 4,
 "nbformat_minor": 4
}
