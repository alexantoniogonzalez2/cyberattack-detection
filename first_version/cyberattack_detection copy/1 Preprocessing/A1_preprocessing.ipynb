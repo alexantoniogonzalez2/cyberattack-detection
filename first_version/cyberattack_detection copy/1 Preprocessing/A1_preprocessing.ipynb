{
 "cells": [
  {
   "cell_type": "code",
   "execution_count": 1,
   "metadata": {},
   "outputs": [],
   "source": [
    "import pandas as pd\n",
    "import numpy as np\n",
    "from sklearn.preprocessing import StandardScaler, OneHotEncoder"
   ]
  },
  {
   "cell_type": "markdown",
   "metadata": {},
   "source": [
    "### Train data"
   ]
  },
  {
   "cell_type": "code",
   "execution_count": 2,
   "metadata": {},
   "outputs": [],
   "source": [
    "df_train = pd.read_csv('../../ml-data/cyberattack_detection/1_raw_data/A2_1/training_data', sep=','\n",
    "                       ,names=['Timestamp','Duration','Protocol','SrcIPAddress','SrcPort','Direction',\n",
    "                               'DestIPAddress','DestPort','State','SrcTypeService','DestTypeService',\n",
    "                               'TotalPackets','TotalBytes','SourceBytes'])"
   ]
  },
  {
   "cell_type": "code",
   "execution_count": 3,
   "metadata": {},
   "outputs": [
    {
     "data": {
      "text/plain": [
       "Timestamp          False\n",
       "Duration           False\n",
       "Protocol           False\n",
       "SrcIPAddress       False\n",
       "SrcPort             True\n",
       "Direction          False\n",
       "DestIPAddress      False\n",
       "DestPort            True\n",
       "State               True\n",
       "SrcTypeService      True\n",
       "DestTypeService     True\n",
       "TotalPackets       False\n",
       "TotalBytes         False\n",
       "SourceBytes        False\n",
       "dtype: bool"
      ]
     },
     "execution_count": 3,
     "metadata": {},
     "output_type": "execute_result"
    }
   ],
   "source": [
    "df_train.isna().any()"
   ]
  },
  {
   "cell_type": "code",
   "execution_count": 4,
   "metadata": {},
   "outputs": [
    {
     "data": {
      "text/plain": [
       "Timestamp          13881753\n",
       "Duration            3437518\n",
       "Protocol                 14\n",
       "SrcIPAddress          10811\n",
       "SrcPort               97555\n",
       "Direction                10\n",
       "DestIPAddress        589070\n",
       "DestPort              95865\n",
       "State                   373\n",
       "SrcTypeService            5\n",
       "DestTypeService           4\n",
       "TotalPackets          12327\n",
       "TotalBytes           224601\n",
       "SourceBytes           82174\n",
       "dtype: int64"
      ]
     },
     "execution_count": 4,
     "metadata": {},
     "output_type": "execute_result"
    }
   ],
   "source": [
    "df_train.nunique()"
   ]
  },
  {
   "cell_type": "code",
   "execution_count": 5,
   "metadata": {},
   "outputs": [
    {
     "data": {
      "text/plain": [
       "array(['->', '<->', '   ->', '  <?>', '  <->', '   ?>', '  <-', '  who',\n",
       "       '  <?', '<?>'], dtype=object)"
      ]
     },
     "execution_count": 5,
     "metadata": {},
     "output_type": "execute_result"
    }
   ],
   "source": [
    "# It is cleaned the 'Direction' field\n",
    "df_train.Direction.unique()"
   ]
  },
  {
   "cell_type": "code",
   "execution_count": 6,
   "metadata": {},
   "outputs": [
    {
     "data": {
      "text/plain": [
       "<->    9055197\n",
       "->     4605238\n",
       "<-      146606\n",
       "<?>      74994\n",
       "Name: Direction, dtype: int64"
      ]
     },
     "execution_count": 6,
     "metadata": {},
     "output_type": "execute_result"
    }
   ],
   "source": [
    "dictionary = {'   ->':'->','  <?>':'<?>','  <->':'<->','   ?>':'<?>','  <-':'<-','  who':'<?>','  <?':'<?>'}\n",
    "df_train = df_train.replace({\"Direction\": dictionary})\n",
    "df_train['Direction'].value_counts()"
   ]
  },
  {
   "cell_type": "code",
   "execution_count": 7,
   "metadata": {},
   "outputs": [],
   "source": [
    "# It is completed in the Direction field the <?> values. A temporary 'ratio' field is used for this purpose.\n",
    "df_train['ratio'] = df_train['SourceBytes']/df_train['TotalBytes']"
   ]
  },
  {
   "cell_type": "code",
   "execution_count": 8,
   "metadata": {},
   "outputs": [
    {
     "name": "stdout",
     "output_type": "stream",
     "text": [
      "0.5846801085715531\n",
      "0.36214280955332806\n",
      "0.6985354617227908\n",
      "0.0\n"
     ]
    }
   ],
   "source": [
    "print(df_train.loc[df_train['Direction'] == '->']['ratio'].mean())\n",
    "print(df_train.loc[df_train['Direction'] == '<->']['ratio'].mean())\n",
    "print(df_train.loc[df_train['Direction'] == '<?>']['ratio'].mean())\n",
    "print(df_train.loc[df_train['Direction'] == '<-']['ratio'].mean())"
   ]
  },
  {
   "cell_type": "code",
   "execution_count": 9,
   "metadata": {},
   "outputs": [
    {
     "data": {
      "text/html": [
       "<div>\n",
       "<style scoped>\n",
       "    .dataframe tbody tr th:only-of-type {\n",
       "        vertical-align: middle;\n",
       "    }\n",
       "\n",
       "    .dataframe tbody tr th {\n",
       "        vertical-align: top;\n",
       "    }\n",
       "\n",
       "    .dataframe thead th {\n",
       "        text-align: right;\n",
       "    }\n",
       "</style>\n",
       "<table border=\"1\" class=\"dataframe\">\n",
       "  <thead>\n",
       "    <tr style=\"text-align: right;\">\n",
       "      <th></th>\n",
       "      <th>Timestamp</th>\n",
       "      <th>Duration</th>\n",
       "      <th>Protocol</th>\n",
       "      <th>SrcIPAddress</th>\n",
       "      <th>SrcPort</th>\n",
       "      <th>Direction</th>\n",
       "      <th>DestIPAddress</th>\n",
       "      <th>DestPort</th>\n",
       "      <th>State</th>\n",
       "      <th>SrcTypeService</th>\n",
       "      <th>DestTypeService</th>\n",
       "      <th>TotalPackets</th>\n",
       "      <th>TotalBytes</th>\n",
       "      <th>SourceBytes</th>\n",
       "      <th>ratio</th>\n",
       "    </tr>\n",
       "  </thead>\n",
       "  <tbody>\n",
       "    <tr>\n",
       "      <th>3507</th>\n",
       "      <td>2012/12/01 13:11:29.310824</td>\n",
       "      <td>0.000396</td>\n",
       "      <td>icmp</td>\n",
       "      <td>152.205.93.89</td>\n",
       "      <td>NaN</td>\n",
       "      <td>&lt;-</td>\n",
       "      <td>146.204.94.31</td>\n",
       "      <td>0xcb07</td>\n",
       "      <td>RED</td>\n",
       "      <td>NaN</td>\n",
       "      <td>0.0</td>\n",
       "      <td>3</td>\n",
       "      <td>194</td>\n",
       "      <td>0</td>\n",
       "      <td>0.0</td>\n",
       "    </tr>\n",
       "    <tr>\n",
       "      <th>3639</th>\n",
       "      <td>2012/12/01 13:11:30.311807</td>\n",
       "      <td>0.000390</td>\n",
       "      <td>icmp</td>\n",
       "      <td>152.205.93.89</td>\n",
       "      <td>NaN</td>\n",
       "      <td>&lt;-</td>\n",
       "      <td>146.204.94.31</td>\n",
       "      <td>0xcb07</td>\n",
       "      <td>ECR</td>\n",
       "      <td>NaN</td>\n",
       "      <td>0.0</td>\n",
       "      <td>2</td>\n",
       "      <td>196</td>\n",
       "      <td>0</td>\n",
       "      <td>0.0</td>\n",
       "    </tr>\n",
       "    <tr>\n",
       "      <th>3749</th>\n",
       "      <td>2012/12/01 13:11:31.315594</td>\n",
       "      <td>0.000010</td>\n",
       "      <td>icmp</td>\n",
       "      <td>152.205.93.89</td>\n",
       "      <td>NaN</td>\n",
       "      <td>&lt;-</td>\n",
       "      <td>146.204.94.31</td>\n",
       "      <td>0xcb07</td>\n",
       "      <td>ECR</td>\n",
       "      <td>NaN</td>\n",
       "      <td>0.0</td>\n",
       "      <td>3</td>\n",
       "      <td>193</td>\n",
       "      <td>0</td>\n",
       "      <td>0.0</td>\n",
       "    </tr>\n",
       "    <tr>\n",
       "      <th>3916</th>\n",
       "      <td>2012/12/01 13:11:32.315600</td>\n",
       "      <td>0.000108</td>\n",
       "      <td>icmp</td>\n",
       "      <td>152.205.93.89</td>\n",
       "      <td>NaN</td>\n",
       "      <td>&lt;-</td>\n",
       "      <td>146.204.94.31</td>\n",
       "      <td>0xcb07</td>\n",
       "      <td>ECR</td>\n",
       "      <td>NaN</td>\n",
       "      <td>0.0</td>\n",
       "      <td>3</td>\n",
       "      <td>196</td>\n",
       "      <td>0</td>\n",
       "      <td>0.0</td>\n",
       "    </tr>\n",
       "    <tr>\n",
       "      <th>4000</th>\n",
       "      <td>2012/12/01 13:11:33.325606</td>\n",
       "      <td>0.000005</td>\n",
       "      <td>icmp</td>\n",
       "      <td>152.205.93.89</td>\n",
       "      <td>NaN</td>\n",
       "      <td>&lt;-</td>\n",
       "      <td>146.204.94.31</td>\n",
       "      <td>0xcb07</td>\n",
       "      <td>ECR</td>\n",
       "      <td>NaN</td>\n",
       "      <td>0.0</td>\n",
       "      <td>3</td>\n",
       "      <td>193</td>\n",
       "      <td>0</td>\n",
       "      <td>0.0</td>\n",
       "    </tr>\n",
       "  </tbody>\n",
       "</table>\n",
       "</div>"
      ],
      "text/plain": [
       "                       Timestamp  Duration Protocol   SrcIPAddress SrcPort  \\\n",
       "3507  2012/12/01 13:11:29.310824  0.000396     icmp  152.205.93.89     NaN   \n",
       "3639  2012/12/01 13:11:30.311807  0.000390     icmp  152.205.93.89     NaN   \n",
       "3749  2012/12/01 13:11:31.315594  0.000010     icmp  152.205.93.89     NaN   \n",
       "3916  2012/12/01 13:11:32.315600  0.000108     icmp  152.205.93.89     NaN   \n",
       "4000  2012/12/01 13:11:33.325606  0.000005     icmp  152.205.93.89     NaN   \n",
       "\n",
       "     Direction  DestIPAddress DestPort State  SrcTypeService  DestTypeService  \\\n",
       "3507        <-  146.204.94.31   0xcb07   RED             NaN              0.0   \n",
       "3639        <-  146.204.94.31   0xcb07   ECR             NaN              0.0   \n",
       "3749        <-  146.204.94.31   0xcb07   ECR             NaN              0.0   \n",
       "3916        <-  146.204.94.31   0xcb07   ECR             NaN              0.0   \n",
       "4000        <-  146.204.94.31   0xcb07   ECR             NaN              0.0   \n",
       "\n",
       "      TotalPackets  TotalBytes  SourceBytes  ratio  \n",
       "3507             3         194            0    0.0  \n",
       "3639             2         196            0    0.0  \n",
       "3749             3         193            0    0.0  \n",
       "3916             3         196            0    0.0  \n",
       "4000             3         193            0    0.0  "
      ]
     },
     "execution_count": 9,
     "metadata": {},
     "output_type": "execute_result"
    }
   ],
   "source": [
    "# '<-' value in field 'Direction' usually has 'SourceBytes' field equal to 0\n",
    "df_train.loc[df_train['Direction'] == '<-'].head()"
   ]
  },
  {
   "cell_type": "code",
   "execution_count": 10,
   "metadata": {},
   "outputs": [],
   "source": [
    "# With the information of field 'ratio' is determined a rule to complete the 'Direction' field\n",
    "df_train.loc[(df_train['SourceBytes'] == 0) & (df_train['Direction'] == '<?>'), 'Direction'] = '<-'\n",
    "df_train.loc[(df_train['ratio'] > 0.5) & (df_train['Direction'] == '<?>'), 'Direction'] = '->'\n",
    "df_train.loc[(df_train['ratio'] <= 0.5) & (df_train['Direction'] == '<?>'), 'Direction'] = '<->'"
   ]
  },
  {
   "cell_type": "code",
   "execution_count": 11,
   "metadata": {},
   "outputs": [
    {
     "data": {
      "text/plain": [
       "<->    9074226\n",
       "->     4659678\n",
       "<-      148131\n",
       "Name: Direction, dtype: int64"
      ]
     },
     "execution_count": 11,
     "metadata": {},
     "output_type": "execute_result"
    }
   ],
   "source": [
    "df_train = df_train.drop('ratio',1)\n",
    "df_train['Direction'].value_counts()"
   ]
  },
  {
   "cell_type": "code",
   "execution_count": 12,
   "metadata": {},
   "outputs": [],
   "source": [
    "df_train.to_csv('../../ml-data/cyberattack_detection/1_raw_data/A2_1/clean_training_data', sep=',', index=False)"
   ]
  },
  {
   "cell_type": "code",
   "execution_count": 13,
   "metadata": {},
   "outputs": [],
   "source": [
    "# Numerical features are scaled\n",
    "df_train_num = df_train[['Duration','TotalPackets','TotalBytes','SourceBytes']]"
   ]
  },
  {
   "cell_type": "code",
   "execution_count": 14,
   "metadata": {},
   "outputs": [],
   "source": [
    "scaler = StandardScaler()\n",
    "scaler.fit(df_train_num)\n",
    "df_train_num = pd.DataFrame(scaler.transform(df_train_num), columns=df_train_num.columns, index=df_train_num.index)"
   ]
  },
  {
   "cell_type": "code",
   "execution_count": 15,
   "metadata": {},
   "outputs": [
    {
     "data": {
      "text/html": [
       "<div>\n",
       "<style scoped>\n",
       "    .dataframe tbody tr th:only-of-type {\n",
       "        vertical-align: middle;\n",
       "    }\n",
       "\n",
       "    .dataframe tbody tr th {\n",
       "        vertical-align: top;\n",
       "    }\n",
       "\n",
       "    .dataframe thead th {\n",
       "        text-align: right;\n",
       "    }\n",
       "</style>\n",
       "<table border=\"1\" class=\"dataframe\">\n",
       "  <thead>\n",
       "    <tr style=\"text-align: right;\">\n",
       "      <th></th>\n",
       "      <th>Duration</th>\n",
       "      <th>TotalPackets</th>\n",
       "      <th>TotalBytes</th>\n",
       "      <th>SourceBytes</th>\n",
       "    </tr>\n",
       "  </thead>\n",
       "  <tbody>\n",
       "    <tr>\n",
       "      <th>0</th>\n",
       "      <td>-0.140416</td>\n",
       "      <td>-0.008024</td>\n",
       "      <td>-0.008615</td>\n",
       "      <td>-0.003897</td>\n",
       "    </tr>\n",
       "    <tr>\n",
       "      <th>1</th>\n",
       "      <td>-0.248682</td>\n",
       "      <td>-0.010103</td>\n",
       "      <td>-0.008919</td>\n",
       "      <td>-0.004151</td>\n",
       "    </tr>\n",
       "    <tr>\n",
       "      <th>2</th>\n",
       "      <td>-0.248682</td>\n",
       "      <td>-0.010363</td>\n",
       "      <td>-0.008918</td>\n",
       "      <td>-0.004149</td>\n",
       "    </tr>\n",
       "    <tr>\n",
       "      <th>3</th>\n",
       "      <td>-0.248682</td>\n",
       "      <td>-0.010363</td>\n",
       "      <td>-0.008917</td>\n",
       "      <td>-0.004151</td>\n",
       "    </tr>\n",
       "    <tr>\n",
       "      <th>4</th>\n",
       "      <td>-0.248682</td>\n",
       "      <td>-0.010623</td>\n",
       "      <td>-0.008919</td>\n",
       "      <td>-0.004149</td>\n",
       "    </tr>\n",
       "  </tbody>\n",
       "</table>\n",
       "</div>"
      ],
      "text/plain": [
       "   Duration  TotalPackets  TotalBytes  SourceBytes\n",
       "0 -0.140416     -0.008024   -0.008615    -0.003897\n",
       "1 -0.248682     -0.010103   -0.008919    -0.004151\n",
       "2 -0.248682     -0.010363   -0.008918    -0.004149\n",
       "3 -0.248682     -0.010363   -0.008917    -0.004151\n",
       "4 -0.248682     -0.010623   -0.008919    -0.004149"
      ]
     },
     "execution_count": 15,
     "metadata": {},
     "output_type": "execute_result"
    }
   ],
   "source": [
    "df_train_num.head()"
   ]
  },
  {
   "cell_type": "code",
   "execution_count": 16,
   "metadata": {},
   "outputs": [],
   "source": [
    "# Some categorical features are selected for One Hot Encoding (value count < 20)\n",
    "df_train_cat = df_train[['Protocol','Direction','SrcTypeService','DestTypeService']]"
   ]
  },
  {
   "cell_type": "code",
   "execution_count": 17,
   "metadata": {},
   "outputs": [],
   "source": [
    "df_train_cat = df_train_cat.replace([np.nan],-1)"
   ]
  },
  {
   "cell_type": "code",
   "execution_count": 18,
   "metadata": {},
   "outputs": [],
   "source": [
    "encoder = OneHotEncoder(handle_unknown = 'ignore')\n",
    "encoder.fit(df_train_cat)\n",
    "features_names = encoder.get_feature_names(['Protocol','Direction','SrcTypeService','DestTypeService'])"
   ]
  },
  {
   "cell_type": "code",
   "execution_count": 19,
   "metadata": {},
   "outputs": [],
   "source": [
    "df_train_cat = pd.DataFrame(encoder.transform(df_train_cat).toarray(),columns=features_names,index=df_train_cat.index)"
   ]
  },
  {
   "cell_type": "code",
   "execution_count": 20,
   "metadata": {},
   "outputs": [
    {
     "data": {
      "text/html": [
       "<div>\n",
       "<style scoped>\n",
       "    .dataframe tbody tr th:only-of-type {\n",
       "        vertical-align: middle;\n",
       "    }\n",
       "\n",
       "    .dataframe tbody tr th {\n",
       "        vertical-align: top;\n",
       "    }\n",
       "\n",
       "    .dataframe thead th {\n",
       "        text-align: right;\n",
       "    }\n",
       "</style>\n",
       "<table border=\"1\" class=\"dataframe\">\n",
       "  <thead>\n",
       "    <tr style=\"text-align: right;\">\n",
       "      <th></th>\n",
       "      <th>Duration</th>\n",
       "      <th>TotalPackets</th>\n",
       "      <th>TotalBytes</th>\n",
       "      <th>SourceBytes</th>\n",
       "      <th>Protocol_arp</th>\n",
       "      <th>Protocol_esp</th>\n",
       "      <th>Protocol_gre</th>\n",
       "      <th>Protocol_icmp</th>\n",
       "      <th>Protocol_igmp</th>\n",
       "      <th>Protocol_ipv6</th>\n",
       "      <th>...</th>\n",
       "      <th>SrcTypeService_0.0</th>\n",
       "      <th>SrcTypeService_1.0</th>\n",
       "      <th>SrcTypeService_2.0</th>\n",
       "      <th>SrcTypeService_3.0</th>\n",
       "      <th>SrcTypeService_192.0</th>\n",
       "      <th>DestTypeService_-1.0</th>\n",
       "      <th>DestTypeService_0.0</th>\n",
       "      <th>DestTypeService_1.0</th>\n",
       "      <th>DestTypeService_2.0</th>\n",
       "      <th>DestTypeService_3.0</th>\n",
       "    </tr>\n",
       "  </thead>\n",
       "  <tbody>\n",
       "    <tr>\n",
       "      <th>0</th>\n",
       "      <td>-0.140416</td>\n",
       "      <td>-0.008024</td>\n",
       "      <td>-0.008615</td>\n",
       "      <td>-0.003897</td>\n",
       "      <td>0.0</td>\n",
       "      <td>0.0</td>\n",
       "      <td>0.0</td>\n",
       "      <td>0.0</td>\n",
       "      <td>0.0</td>\n",
       "      <td>0.0</td>\n",
       "      <td>...</td>\n",
       "      <td>1.0</td>\n",
       "      <td>0.0</td>\n",
       "      <td>0.0</td>\n",
       "      <td>0.0</td>\n",
       "      <td>0.0</td>\n",
       "      <td>0.0</td>\n",
       "      <td>1.0</td>\n",
       "      <td>0.0</td>\n",
       "      <td>0.0</td>\n",
       "      <td>0.0</td>\n",
       "    </tr>\n",
       "    <tr>\n",
       "      <th>1</th>\n",
       "      <td>-0.248682</td>\n",
       "      <td>-0.010103</td>\n",
       "      <td>-0.008919</td>\n",
       "      <td>-0.004151</td>\n",
       "      <td>0.0</td>\n",
       "      <td>0.0</td>\n",
       "      <td>0.0</td>\n",
       "      <td>0.0</td>\n",
       "      <td>0.0</td>\n",
       "      <td>0.0</td>\n",
       "      <td>...</td>\n",
       "      <td>1.0</td>\n",
       "      <td>0.0</td>\n",
       "      <td>0.0</td>\n",
       "      <td>0.0</td>\n",
       "      <td>0.0</td>\n",
       "      <td>1.0</td>\n",
       "      <td>0.0</td>\n",
       "      <td>0.0</td>\n",
       "      <td>0.0</td>\n",
       "      <td>0.0</td>\n",
       "    </tr>\n",
       "    <tr>\n",
       "      <th>2</th>\n",
       "      <td>-0.248682</td>\n",
       "      <td>-0.010363</td>\n",
       "      <td>-0.008918</td>\n",
       "      <td>-0.004149</td>\n",
       "      <td>0.0</td>\n",
       "      <td>0.0</td>\n",
       "      <td>0.0</td>\n",
       "      <td>0.0</td>\n",
       "      <td>0.0</td>\n",
       "      <td>0.0</td>\n",
       "      <td>...</td>\n",
       "      <td>1.0</td>\n",
       "      <td>0.0</td>\n",
       "      <td>0.0</td>\n",
       "      <td>0.0</td>\n",
       "      <td>0.0</td>\n",
       "      <td>1.0</td>\n",
       "      <td>0.0</td>\n",
       "      <td>0.0</td>\n",
       "      <td>0.0</td>\n",
       "      <td>0.0</td>\n",
       "    </tr>\n",
       "    <tr>\n",
       "      <th>3</th>\n",
       "      <td>-0.248682</td>\n",
       "      <td>-0.010363</td>\n",
       "      <td>-0.008917</td>\n",
       "      <td>-0.004151</td>\n",
       "      <td>0.0</td>\n",
       "      <td>0.0</td>\n",
       "      <td>0.0</td>\n",
       "      <td>0.0</td>\n",
       "      <td>0.0</td>\n",
       "      <td>0.0</td>\n",
       "      <td>...</td>\n",
       "      <td>1.0</td>\n",
       "      <td>0.0</td>\n",
       "      <td>0.0</td>\n",
       "      <td>0.0</td>\n",
       "      <td>0.0</td>\n",
       "      <td>1.0</td>\n",
       "      <td>0.0</td>\n",
       "      <td>0.0</td>\n",
       "      <td>0.0</td>\n",
       "      <td>0.0</td>\n",
       "    </tr>\n",
       "    <tr>\n",
       "      <th>4</th>\n",
       "      <td>-0.248682</td>\n",
       "      <td>-0.010623</td>\n",
       "      <td>-0.008919</td>\n",
       "      <td>-0.004149</td>\n",
       "      <td>0.0</td>\n",
       "      <td>0.0</td>\n",
       "      <td>0.0</td>\n",
       "      <td>0.0</td>\n",
       "      <td>0.0</td>\n",
       "      <td>0.0</td>\n",
       "      <td>...</td>\n",
       "      <td>1.0</td>\n",
       "      <td>0.0</td>\n",
       "      <td>0.0</td>\n",
       "      <td>0.0</td>\n",
       "      <td>0.0</td>\n",
       "      <td>1.0</td>\n",
       "      <td>0.0</td>\n",
       "      <td>0.0</td>\n",
       "      <td>0.0</td>\n",
       "      <td>0.0</td>\n",
       "    </tr>\n",
       "  </tbody>\n",
       "</table>\n",
       "<p>5 rows × 32 columns</p>\n",
       "</div>"
      ],
      "text/plain": [
       "   Duration  TotalPackets  TotalBytes  SourceBytes  Protocol_arp  \\\n",
       "0 -0.140416     -0.008024   -0.008615    -0.003897           0.0   \n",
       "1 -0.248682     -0.010103   -0.008919    -0.004151           0.0   \n",
       "2 -0.248682     -0.010363   -0.008918    -0.004149           0.0   \n",
       "3 -0.248682     -0.010363   -0.008917    -0.004151           0.0   \n",
       "4 -0.248682     -0.010623   -0.008919    -0.004149           0.0   \n",
       "\n",
       "   Protocol_esp  Protocol_gre  Protocol_icmp  Protocol_igmp  Protocol_ipv6  \\\n",
       "0           0.0           0.0            0.0            0.0            0.0   \n",
       "1           0.0           0.0            0.0            0.0            0.0   \n",
       "2           0.0           0.0            0.0            0.0            0.0   \n",
       "3           0.0           0.0            0.0            0.0            0.0   \n",
       "4           0.0           0.0            0.0            0.0            0.0   \n",
       "\n",
       "   ...  SrcTypeService_0.0  SrcTypeService_1.0  SrcTypeService_2.0  \\\n",
       "0  ...                 1.0                 0.0                 0.0   \n",
       "1  ...                 1.0                 0.0                 0.0   \n",
       "2  ...                 1.0                 0.0                 0.0   \n",
       "3  ...                 1.0                 0.0                 0.0   \n",
       "4  ...                 1.0                 0.0                 0.0   \n",
       "\n",
       "   SrcTypeService_3.0  SrcTypeService_192.0  DestTypeService_-1.0  \\\n",
       "0                 0.0                   0.0                   0.0   \n",
       "1                 0.0                   0.0                   1.0   \n",
       "2                 0.0                   0.0                   1.0   \n",
       "3                 0.0                   0.0                   1.0   \n",
       "4                 0.0                   0.0                   1.0   \n",
       "\n",
       "   DestTypeService_0.0  DestTypeService_1.0  DestTypeService_2.0  \\\n",
       "0                  1.0                  0.0                  0.0   \n",
       "1                  0.0                  0.0                  0.0   \n",
       "2                  0.0                  0.0                  0.0   \n",
       "3                  0.0                  0.0                  0.0   \n",
       "4                  0.0                  0.0                  0.0   \n",
       "\n",
       "   DestTypeService_3.0  \n",
       "0                  0.0  \n",
       "1                  0.0  \n",
       "2                  0.0  \n",
       "3                  0.0  \n",
       "4                  0.0  \n",
       "\n",
       "[5 rows x 32 columns]"
      ]
     },
     "execution_count": 20,
     "metadata": {},
     "output_type": "execute_result"
    }
   ],
   "source": [
    "# Finally is concatenated numerical and categorical data\n",
    "train_data = pd.concat([df_train_num, df_train_cat], axis=1)\n",
    "train_data.head()"
   ]
  },
  {
   "cell_type": "code",
   "execution_count": 36,
   "metadata": {},
   "outputs": [],
   "source": [
    "train_data.to_csv('../../ml-data/cyberattack_detection/2_processed_data/A1_train_data.csv', sep=',', index=False)"
   ]
  },
  {
   "cell_type": "markdown",
   "metadata": {},
   "source": [
    "### Test data"
   ]
  },
  {
   "cell_type": "code",
   "execution_count": 53,
   "metadata": {},
   "outputs": [],
   "source": [
    "df_test = pd.read_csv('../../ml-data/cyberattack_detection/1_raw_data/A2_1/test_data', sep=','\n",
    "                       ,names=['Timestamp','Duration','Protocol','SrcIPAddress','SrcPort','Direction',\n",
    "                               'DestIPAddress','DestPort','State','SrcTypeService','DestTypeService',\n",
    "                               'TotalPackets','TotalBytes','SourceBytes'])"
   ]
  },
  {
   "cell_type": "code",
   "execution_count": 39,
   "metadata": {},
   "outputs": [
    {
     "data": {
      "text/plain": [
       "(1053845, 14)"
      ]
     },
     "execution_count": 39,
     "metadata": {},
     "output_type": "execute_result"
    }
   ],
   "source": [
    "df_test.shape"
   ]
  },
  {
   "cell_type": "code",
   "execution_count": 40,
   "metadata": {},
   "outputs": [
    {
     "data": {
      "text/plain": [
       "->     844228\n",
       "<->    207315\n",
       "<?>      2298\n",
       "<-          4\n",
       "Name: Direction, dtype: int64"
      ]
     },
     "execution_count": 40,
     "metadata": {},
     "output_type": "execute_result"
    }
   ],
   "source": [
    "# It is cleaned the 'Direction' field\n",
    "df_test = df_test.replace({\"Direction\": dictionary})\n",
    "df_test['Direction'].value_counts()"
   ]
  },
  {
   "cell_type": "code",
   "execution_count": 41,
   "metadata": {},
   "outputs": [],
   "source": [
    "# It is completed in the Direction field the <?> values. A temporary 'ratio' field is used for this purpose.\n",
    "df_test['ratio'] = df_test['SourceBytes']/df_test['TotalBytes']"
   ]
  },
  {
   "cell_type": "code",
   "execution_count": 42,
   "metadata": {},
   "outputs": [],
   "source": [
    "# With the information of field 'ratio' is determined a rule to complete the 'Direction' field\n",
    "df_test.loc[(df_test['SourceBytes'] == 0) & (df_test['Direction'] == '<?>'), 'Direction'] = '<-'\n",
    "df_test.loc[(df_test['ratio'] > 0.5) & (df_test['Direction'] == '<?>'), 'Direction'] = '->'\n",
    "df_test.loc[(df_test['ratio'] <= 0.5) & (df_test['Direction'] == '<?>'), 'Direction'] = '<->'\n",
    "df_test = df_test.drop('ratio',1)"
   ]
  },
  {
   "cell_type": "code",
   "execution_count": 43,
   "metadata": {},
   "outputs": [],
   "source": [
    "df_test.to_csv('../../ml-data/cyberattack_detection/1_raw_data/A2_1/clean_test_data', sep=',', index=False)"
   ]
  },
  {
   "cell_type": "code",
   "execution_count": 44,
   "metadata": {},
   "outputs": [],
   "source": [
    "# Numerical features are scaled\n",
    "df_test_num = df_test[['Duration','TotalPackets','TotalBytes','SourceBytes']]\n",
    "df_test_num = pd.DataFrame(scaler.transform(df_test_num), columns=df_test_num.columns, index=df_test_num.index)"
   ]
  },
  {
   "cell_type": "code",
   "execution_count": 45,
   "metadata": {},
   "outputs": [],
   "source": [
    "# Some categorical features are selected for One Hot Encoding (value count < 20)\n",
    "df_test_cat = df_test[['Protocol','Direction','SrcTypeService','DestTypeService']]"
   ]
  },
  {
   "cell_type": "code",
   "execution_count": 46,
   "metadata": {},
   "outputs": [],
   "source": [
    "df_test_cat = df_test_cat.replace([np.nan],-1)"
   ]
  },
  {
   "cell_type": "code",
   "execution_count": 47,
   "metadata": {},
   "outputs": [],
   "source": [
    "df_test_cat = pd.DataFrame(encoder.transform(df_test_cat).toarray(),columns=features_names,index=df_test_cat.index)"
   ]
  },
  {
   "cell_type": "code",
   "execution_count": 48,
   "metadata": {},
   "outputs": [],
   "source": [
    "# Finally is concatenated numerical and categorical data\n",
    "test_data = pd.concat([df_test_num, df_test_cat], axis=1)"
   ]
  },
  {
   "cell_type": "code",
   "execution_count": 49,
   "metadata": {},
   "outputs": [],
   "source": [
    "test_data.to_csv('../../ml-data/cyberattack_detection/2_processed_data/A1_test_data.csv', sep=',', index=False)"
   ]
  },
  {
   "cell_type": "code",
   "execution_count": 51,
   "metadata": {},
   "outputs": [],
   "source": [
    "df_valid = pd.read_csv('../../ml-data/cyberattack_detection/1_raw_data/A2_1/valid_data_with_labels', sep=','\n",
    "                       ,names=['Timestamp','Duration','Protocol','SrcIPAddress','SrcPort','Direction',\n",
    "                               'DestIPAddress','DestPort','State','SrcTypeService','DestTypeService',\n",
    "                               'TotalPackets','TotalBytes','SourceBytes','Label'])"
   ]
  },
  {
   "cell_type": "code",
   "execution_count": 52,
   "metadata": {},
   "outputs": [
    {
     "data": {
      "text/plain": [
       "(940062, 15)"
      ]
     },
     "execution_count": 52,
     "metadata": {},
     "output_type": "execute_result"
    }
   ],
   "source": [
    "df_valid.shape"
   ]
  },
  {
   "cell_type": "markdown",
   "metadata": {},
   "source": [
    "End"
   ]
  }
 ],
 "metadata": {
  "kernelspec": {
   "display_name": "Python 3",
   "language": "python",
   "name": "python3"
  },
  "language_info": {
   "codemirror_mode": {
    "name": "ipython",
    "version": 3
   },
   "file_extension": ".py",
   "mimetype": "text/x-python",
   "name": "python",
   "nbconvert_exporter": "python",
   "pygments_lexer": "ipython3",
   "version": "3.8.5"
  }
 },
 "nbformat": 4,
 "nbformat_minor": 4
}
