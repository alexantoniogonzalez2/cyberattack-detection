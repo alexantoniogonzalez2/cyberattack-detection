{
 "cells": [
  {
   "cell_type": "code",
   "execution_count": 1,
   "metadata": {},
   "outputs": [],
   "source": [
    "import pandas as pd\n",
    "import numpy as np\n",
    "from sklearn.linear_model import LogisticRegression\n",
    "from sklearn.preprocessing import StandardScaler"
   ]
  },
  {
   "cell_type": "markdown",
   "metadata": {},
   "source": [
    "### Model"
   ]
  },
  {
   "cell_type": "code",
   "execution_count": 2,
   "metadata": {},
   "outputs": [],
   "source": [
    "train = pd.read_csv('../../ml-data/cyberattack_detection/2_processed_data/A2_training_data_by_ip.csv', sep=',')"
   ]
  },
  {
   "cell_type": "code",
   "execution_count": 3,
   "metadata": {},
   "outputs": [],
   "source": [
    "X_train = train.drop(['Botnet','SrcIPAddress'],1)\n",
    "Y_train = train[['Botnet']]"
   ]
  },
  {
   "cell_type": "code",
   "execution_count": 4,
   "metadata": {},
   "outputs": [
    {
     "name": "stderr",
     "output_type": "stream",
     "text": [
      "/usr/local/lib/python3.8/site-packages/sklearn/utils/validation.py:72: DataConversionWarning: A column-vector y was passed when a 1d array was expected. Please change the shape of y to (n_samples, ), for example using ravel().\n",
      "  return f(**kwargs)\n"
     ]
    }
   ],
   "source": [
    "model = LogisticRegression(max_iter=500).fit(X_train, Y_train)"
   ]
  },
  {
   "cell_type": "code",
   "execution_count": 5,
   "metadata": {},
   "outputs": [],
   "source": [
    "test = pd.read_csv('../../ml-data/cyberattack_detection/2_processed_data/A2_test_data_by_ip.csv', sep=',')"
   ]
  },
  {
   "cell_type": "code",
   "execution_count": 6,
   "metadata": {},
   "outputs": [],
   "source": [
    "X_test = test.drop(['Botnet','SrcIPAddress'],1)\n",
    "Y_test = test[['Botnet']]"
   ]
  },
  {
   "cell_type": "code",
   "execution_count": 7,
   "metadata": {},
   "outputs": [
    {
     "data": {
      "text/html": [
       "<div>\n",
       "<style scoped>\n",
       "    .dataframe tbody tr th:only-of-type {\n",
       "        vertical-align: middle;\n",
       "    }\n",
       "\n",
       "    .dataframe tbody tr th {\n",
       "        vertical-align: top;\n",
       "    }\n",
       "\n",
       "    .dataframe thead th {\n",
       "        text-align: right;\n",
       "    }\n",
       "</style>\n",
       "<table border=\"1\" class=\"dataframe\">\n",
       "  <thead>\n",
       "    <tr style=\"text-align: right;\">\n",
       "      <th></th>\n",
       "      <th>Duration</th>\n",
       "      <th>TotalPackets</th>\n",
       "      <th>TotalBytes</th>\n",
       "      <th>SourceBytes</th>\n",
       "      <th>PacketsBySec</th>\n",
       "      <th>SourceBytesBySec</th>\n",
       "      <th>TotalBytesBySec</th>\n",
       "    </tr>\n",
       "  </thead>\n",
       "  <tbody>\n",
       "    <tr>\n",
       "      <th>0</th>\n",
       "      <td>0.068330</td>\n",
       "      <td>2.099315</td>\n",
       "      <td>125.989726</td>\n",
       "      <td>68.424658</td>\n",
       "      <td>10164.267421</td>\n",
       "      <td>313196.425928</td>\n",
       "      <td>609901.995847</td>\n",
       "    </tr>\n",
       "    <tr>\n",
       "      <th>1</th>\n",
       "      <td>37.038085</td>\n",
       "      <td>6.736226</td>\n",
       "      <td>2619.486505</td>\n",
       "      <td>960.705275</td>\n",
       "      <td>1496.108699</td>\n",
       "      <td>43789.455999</td>\n",
       "      <td>211896.322906</td>\n",
       "    </tr>\n",
       "    <tr>\n",
       "      <th>2</th>\n",
       "      <td>35.870162</td>\n",
       "      <td>13.585749</td>\n",
       "      <td>9117.484682</td>\n",
       "      <td>1401.067273</td>\n",
       "      <td>1661.905285</td>\n",
       "      <td>48534.566173</td>\n",
       "      <td>237852.833934</td>\n",
       "    </tr>\n",
       "    <tr>\n",
       "      <th>3</th>\n",
       "      <td>13.462622</td>\n",
       "      <td>7.996686</td>\n",
       "      <td>4687.332367</td>\n",
       "      <td>504.842604</td>\n",
       "      <td>2198.629757</td>\n",
       "      <td>64127.241159</td>\n",
       "      <td>318626.536661</td>\n",
       "    </tr>\n",
       "    <tr>\n",
       "      <th>4</th>\n",
       "      <td>15.085764</td>\n",
       "      <td>16.219029</td>\n",
       "      <td>11824.440682</td>\n",
       "      <td>1431.609252</td>\n",
       "      <td>1780.671385</td>\n",
       "      <td>52146.694391</td>\n",
       "      <td>257579.859516</td>\n",
       "    </tr>\n",
       "  </tbody>\n",
       "</table>\n",
       "</div>"
      ],
      "text/plain": [
       "    Duration  TotalPackets    TotalBytes  SourceBytes  PacketsBySec  \\\n",
       "0   0.068330      2.099315    125.989726    68.424658  10164.267421   \n",
       "1  37.038085      6.736226   2619.486505   960.705275   1496.108699   \n",
       "2  35.870162     13.585749   9117.484682  1401.067273   1661.905285   \n",
       "3  13.462622      7.996686   4687.332367   504.842604   2198.629757   \n",
       "4  15.085764     16.219029  11824.440682  1431.609252   1780.671385   \n",
       "\n",
       "   SourceBytesBySec  TotalBytesBySec  \n",
       "0     313196.425928    609901.995847  \n",
       "1      43789.455999    211896.322906  \n",
       "2      48534.566173    237852.833934  \n",
       "3      64127.241159    318626.536661  \n",
       "4      52146.694391    257579.859516  "
      ]
     },
     "execution_count": 7,
     "metadata": {},
     "output_type": "execute_result"
    }
   ],
   "source": [
    "X_test.head()"
   ]
  },
  {
   "cell_type": "code",
   "execution_count": 8,
   "metadata": {},
   "outputs": [
    {
     "data": {
      "text/plain": [
       "0.9122807017543859"
      ]
     },
     "execution_count": 8,
     "metadata": {},
     "output_type": "execute_result"
    }
   ],
   "source": [
    "model.score(X_test,Y_test)"
   ]
  },
  {
   "cell_type": "code",
   "execution_count": 9,
   "metadata": {},
   "outputs": [],
   "source": [
    "predict = pd.DataFrame(model.predict(X_test),columns=['Predicted'])\n",
    "result = pd.concat([test[['SrcIPAddress','Botnet']].copy(),predict], axis=1)"
   ]
  },
  {
   "cell_type": "code",
   "execution_count": 10,
   "metadata": {},
   "outputs": [
    {
     "data": {
      "text/html": [
       "<div>\n",
       "<style scoped>\n",
       "    .dataframe tbody tr th:only-of-type {\n",
       "        vertical-align: middle;\n",
       "    }\n",
       "\n",
       "    .dataframe tbody tr th {\n",
       "        vertical-align: top;\n",
       "    }\n",
       "\n",
       "    .dataframe thead th {\n",
       "        text-align: right;\n",
       "    }\n",
       "</style>\n",
       "<table border=\"1\" class=\"dataframe\">\n",
       "  <thead>\n",
       "    <tr style=\"text-align: right;\">\n",
       "      <th></th>\n",
       "      <th>SrcIPAddress</th>\n",
       "      <th>Botnet</th>\n",
       "      <th>Predicted</th>\n",
       "    </tr>\n",
       "  </thead>\n",
       "  <tbody>\n",
       "    <tr>\n",
       "      <th>0</th>\n",
       "      <td>122.226.12.150</td>\n",
       "      <td>0.0</td>\n",
       "      <td>0.0</td>\n",
       "    </tr>\n",
       "    <tr>\n",
       "      <th>1</th>\n",
       "      <td>147.101.94.182</td>\n",
       "      <td>1.0</td>\n",
       "      <td>1.0</td>\n",
       "    </tr>\n",
       "    <tr>\n",
       "      <th>2</th>\n",
       "      <td>147.113.94.198</td>\n",
       "      <td>1.0</td>\n",
       "      <td>1.0</td>\n",
       "    </tr>\n",
       "    <tr>\n",
       "      <th>3</th>\n",
       "      <td>147.114.98.192</td>\n",
       "      <td>1.0</td>\n",
       "      <td>1.0</td>\n",
       "    </tr>\n",
       "    <tr>\n",
       "      <th>4</th>\n",
       "      <td>147.122.97.192</td>\n",
       "      <td>1.0</td>\n",
       "      <td>1.0</td>\n",
       "    </tr>\n",
       "  </tbody>\n",
       "</table>\n",
       "</div>"
      ],
      "text/plain": [
       "     SrcIPAddress  Botnet  Predicted\n",
       "0  122.226.12.150     0.0        0.0\n",
       "1  147.101.94.182     1.0        1.0\n",
       "2  147.113.94.198     1.0        1.0\n",
       "3  147.114.98.192     1.0        1.0\n",
       "4  147.122.97.192     1.0        1.0"
      ]
     },
     "execution_count": 10,
     "metadata": {},
     "output_type": "execute_result"
    }
   ],
   "source": [
    "result.head(5)"
   ]
  },
  {
   "cell_type": "markdown",
   "metadata": {},
   "source": [
    "### Adversarial sample"
   ]
  },
  {
   "cell_type": "code",
   "execution_count": 11,
   "metadata": {},
   "outputs": [
    {
     "data": {
      "text/plain": [
       "array([[8.70380848e+01, 5.67362257e+01, 2.66948650e+03, 1.01070528e+03,\n",
       "        1.54610870e+03, 4.38394560e+04, 2.11946323e+05]])"
      ]
     },
     "execution_count": 11,
     "metadata": {},
     "output_type": "execute_result"
    }
   ],
   "source": [
    "IP = X_test.iloc[[1]]\n",
    "Label = Y_test.iloc[[1]]\n",
    "epsilon = 50\n",
    "direction = 1\n",
    "adversarial_sample = IP.values + epsilon * direction"
   ]
  },
  {
   "cell_type": "code",
   "execution_count": 12,
   "metadata": {},
   "outputs": [],
   "source": [
    "X_test.iloc[[1]] = adversarial_sample"
   ]
  },
  {
   "cell_type": "code",
   "execution_count": 13,
   "metadata": {},
   "outputs": [
    {
     "data": {
      "text/html": [
       "<div>\n",
       "<style scoped>\n",
       "    .dataframe tbody tr th:only-of-type {\n",
       "        vertical-align: middle;\n",
       "    }\n",
       "\n",
       "    .dataframe tbody tr th {\n",
       "        vertical-align: top;\n",
       "    }\n",
       "\n",
       "    .dataframe thead th {\n",
       "        text-align: right;\n",
       "    }\n",
       "</style>\n",
       "<table border=\"1\" class=\"dataframe\">\n",
       "  <thead>\n",
       "    <tr style=\"text-align: right;\">\n",
       "      <th></th>\n",
       "      <th>Duration</th>\n",
       "      <th>TotalPackets</th>\n",
       "      <th>TotalBytes</th>\n",
       "      <th>SourceBytes</th>\n",
       "      <th>PacketsBySec</th>\n",
       "      <th>SourceBytesBySec</th>\n",
       "      <th>TotalBytesBySec</th>\n",
       "    </tr>\n",
       "  </thead>\n",
       "  <tbody>\n",
       "    <tr>\n",
       "      <th>0</th>\n",
       "      <td>0.068330</td>\n",
       "      <td>2.099315</td>\n",
       "      <td>125.989726</td>\n",
       "      <td>68.424658</td>\n",
       "      <td>10164.267421</td>\n",
       "      <td>313196.425928</td>\n",
       "      <td>609901.995847</td>\n",
       "    </tr>\n",
       "    <tr>\n",
       "      <th>1</th>\n",
       "      <td>87.038085</td>\n",
       "      <td>56.736226</td>\n",
       "      <td>2669.486505</td>\n",
       "      <td>1010.705275</td>\n",
       "      <td>1546.108699</td>\n",
       "      <td>43839.455999</td>\n",
       "      <td>211946.322906</td>\n",
       "    </tr>\n",
       "    <tr>\n",
       "      <th>2</th>\n",
       "      <td>35.870162</td>\n",
       "      <td>13.585749</td>\n",
       "      <td>9117.484682</td>\n",
       "      <td>1401.067273</td>\n",
       "      <td>1661.905285</td>\n",
       "      <td>48534.566173</td>\n",
       "      <td>237852.833934</td>\n",
       "    </tr>\n",
       "    <tr>\n",
       "      <th>3</th>\n",
       "      <td>13.462622</td>\n",
       "      <td>7.996686</td>\n",
       "      <td>4687.332367</td>\n",
       "      <td>504.842604</td>\n",
       "      <td>2198.629757</td>\n",
       "      <td>64127.241159</td>\n",
       "      <td>318626.536661</td>\n",
       "    </tr>\n",
       "    <tr>\n",
       "      <th>4</th>\n",
       "      <td>15.085764</td>\n",
       "      <td>16.219029</td>\n",
       "      <td>11824.440682</td>\n",
       "      <td>1431.609252</td>\n",
       "      <td>1780.671385</td>\n",
       "      <td>52146.694391</td>\n",
       "      <td>257579.859516</td>\n",
       "    </tr>\n",
       "  </tbody>\n",
       "</table>\n",
       "</div>"
      ],
      "text/plain": [
       "    Duration  TotalPackets    TotalBytes  SourceBytes  PacketsBySec  \\\n",
       "0   0.068330      2.099315    125.989726    68.424658  10164.267421   \n",
       "1  87.038085     56.736226   2669.486505  1010.705275   1546.108699   \n",
       "2  35.870162     13.585749   9117.484682  1401.067273   1661.905285   \n",
       "3  13.462622      7.996686   4687.332367   504.842604   2198.629757   \n",
       "4  15.085764     16.219029  11824.440682  1431.609252   1780.671385   \n",
       "\n",
       "   SourceBytesBySec  TotalBytesBySec  \n",
       "0     313196.425928    609901.995847  \n",
       "1      43839.455999    211946.322906  \n",
       "2      48534.566173    237852.833934  \n",
       "3      64127.241159    318626.536661  \n",
       "4      52146.694391    257579.859516  "
      ]
     },
     "execution_count": 13,
     "metadata": {},
     "output_type": "execute_result"
    }
   ],
   "source": [
    "X_test.head()"
   ]
  },
  {
   "cell_type": "code",
   "execution_count": 14,
   "metadata": {},
   "outputs": [],
   "source": [
    "predict = pd.DataFrame(model.predict(X_test),columns=['Predicted'])\n",
    "result = pd.concat([test[['SrcIPAddress','Botnet']].copy(),predict], axis=1)"
   ]
  },
  {
   "cell_type": "code",
   "execution_count": 15,
   "metadata": {},
   "outputs": [
    {
     "data": {
      "text/plain": [
       "0.8947368421052632"
      ]
     },
     "execution_count": 15,
     "metadata": {},
     "output_type": "execute_result"
    }
   ],
   "source": [
    "model.score(X_test,Y_test)"
   ]
  },
  {
   "cell_type": "code",
   "execution_count": 16,
   "metadata": {},
   "outputs": [
    {
     "data": {
      "text/html": [
       "<div>\n",
       "<style scoped>\n",
       "    .dataframe tbody tr th:only-of-type {\n",
       "        vertical-align: middle;\n",
       "    }\n",
       "\n",
       "    .dataframe tbody tr th {\n",
       "        vertical-align: top;\n",
       "    }\n",
       "\n",
       "    .dataframe thead th {\n",
       "        text-align: right;\n",
       "    }\n",
       "</style>\n",
       "<table border=\"1\" class=\"dataframe\">\n",
       "  <thead>\n",
       "    <tr style=\"text-align: right;\">\n",
       "      <th></th>\n",
       "      <th>SrcIPAddress</th>\n",
       "      <th>Botnet</th>\n",
       "      <th>Predicted</th>\n",
       "    </tr>\n",
       "  </thead>\n",
       "  <tbody>\n",
       "    <tr>\n",
       "      <th>0</th>\n",
       "      <td>122.226.12.150</td>\n",
       "      <td>0.0</td>\n",
       "      <td>0.0</td>\n",
       "    </tr>\n",
       "    <tr>\n",
       "      <th>1</th>\n",
       "      <td>147.101.94.182</td>\n",
       "      <td>1.0</td>\n",
       "      <td>0.0</td>\n",
       "    </tr>\n",
       "    <tr>\n",
       "      <th>2</th>\n",
       "      <td>147.113.94.198</td>\n",
       "      <td>1.0</td>\n",
       "      <td>1.0</td>\n",
       "    </tr>\n",
       "    <tr>\n",
       "      <th>3</th>\n",
       "      <td>147.114.98.192</td>\n",
       "      <td>1.0</td>\n",
       "      <td>1.0</td>\n",
       "    </tr>\n",
       "    <tr>\n",
       "      <th>4</th>\n",
       "      <td>147.122.97.192</td>\n",
       "      <td>1.0</td>\n",
       "      <td>1.0</td>\n",
       "    </tr>\n",
       "  </tbody>\n",
       "</table>\n",
       "</div>"
      ],
      "text/plain": [
       "     SrcIPAddress  Botnet  Predicted\n",
       "0  122.226.12.150     0.0        0.0\n",
       "1  147.101.94.182     1.0        0.0\n",
       "2  147.113.94.198     1.0        1.0\n",
       "3  147.114.98.192     1.0        1.0\n",
       "4  147.122.97.192     1.0        1.0"
      ]
     },
     "execution_count": 16,
     "metadata": {},
     "output_type": "execute_result"
    }
   ],
   "source": [
    "result.head()"
   ]
  },
  {
   "cell_type": "markdown",
   "metadata": {},
   "source": [
    "### Model with perturbed data"
   ]
  },
  {
   "cell_type": "code",
   "execution_count": 119,
   "metadata": {},
   "outputs": [],
   "source": [
    "test_perturbed = pd.read_csv('../../ml-data/cyberattack_detection/2_processed_data/A2_test_data_by_ip_perturbed2.csv', sep=',')"
   ]
  },
  {
   "cell_type": "code",
   "execution_count": 120,
   "metadata": {},
   "outputs": [],
   "source": [
    "X_test_perturbed = test.drop(['Botnet','SrcIPAddress'],1)\n",
    "Y_test_perturbed = test[['Botnet']]"
   ]
  },
  {
   "cell_type": "code",
   "execution_count": 121,
   "metadata": {},
   "outputs": [
    {
     "data": {
      "text/html": [
       "<div>\n",
       "<style scoped>\n",
       "    .dataframe tbody tr th:only-of-type {\n",
       "        vertical-align: middle;\n",
       "    }\n",
       "\n",
       "    .dataframe tbody tr th {\n",
       "        vertical-align: top;\n",
       "    }\n",
       "\n",
       "    .dataframe thead th {\n",
       "        text-align: right;\n",
       "    }\n",
       "</style>\n",
       "<table border=\"1\" class=\"dataframe\">\n",
       "  <thead>\n",
       "    <tr style=\"text-align: right;\">\n",
       "      <th></th>\n",
       "      <th>SrcIPAddress</th>\n",
       "      <th>Duration</th>\n",
       "      <th>TotalPackets</th>\n",
       "      <th>TotalBytes</th>\n",
       "      <th>SourceBytes</th>\n",
       "      <th>Botnet</th>\n",
       "      <th>PacketsBySec</th>\n",
       "      <th>SourceBytesBySec</th>\n",
       "      <th>TotalBytesBySec</th>\n",
       "    </tr>\n",
       "  </thead>\n",
       "  <tbody>\n",
       "    <tr>\n",
       "      <th>0</th>\n",
       "      <td>122.226.12.150</td>\n",
       "      <td>0.068330</td>\n",
       "      <td>2.099315</td>\n",
       "      <td>125.989726</td>\n",
       "      <td>68.424658</td>\n",
       "      <td>0.0</td>\n",
       "      <td>10164.267421</td>\n",
       "      <td>313196.425928</td>\n",
       "      <td>609901.995847</td>\n",
       "    </tr>\n",
       "    <tr>\n",
       "      <th>1</th>\n",
       "      <td>147.101.94.182</td>\n",
       "      <td>87.038085</td>\n",
       "      <td>56.736226</td>\n",
       "      <td>2669.486505</td>\n",
       "      <td>1010.705275</td>\n",
       "      <td>1.0</td>\n",
       "      <td>1495.671372</td>\n",
       "      <td>43775.022442</td>\n",
       "      <td>211851.928670</td>\n",
       "    </tr>\n",
       "    <tr>\n",
       "      <th>2</th>\n",
       "      <td>147.113.94.198</td>\n",
       "      <td>35.870162</td>\n",
       "      <td>13.585749</td>\n",
       "      <td>9117.484682</td>\n",
       "      <td>1401.067273</td>\n",
       "      <td>1.0</td>\n",
       "      <td>1661.905285</td>\n",
       "      <td>48534.566173</td>\n",
       "      <td>237852.833934</td>\n",
       "    </tr>\n",
       "    <tr>\n",
       "      <th>3</th>\n",
       "      <td>147.114.98.192</td>\n",
       "      <td>13.462622</td>\n",
       "      <td>7.996686</td>\n",
       "      <td>4687.332367</td>\n",
       "      <td>504.842604</td>\n",
       "      <td>1.0</td>\n",
       "      <td>2198.629757</td>\n",
       "      <td>64127.241159</td>\n",
       "      <td>318626.536661</td>\n",
       "    </tr>\n",
       "    <tr>\n",
       "      <th>4</th>\n",
       "      <td>147.122.97.192</td>\n",
       "      <td>15.085764</td>\n",
       "      <td>16.219029</td>\n",
       "      <td>11824.440682</td>\n",
       "      <td>1431.609252</td>\n",
       "      <td>1.0</td>\n",
       "      <td>1780.671385</td>\n",
       "      <td>52146.694391</td>\n",
       "      <td>257579.859516</td>\n",
       "    </tr>\n",
       "  </tbody>\n",
       "</table>\n",
       "</div>"
      ],
      "text/plain": [
       "     SrcIPAddress   Duration  TotalPackets    TotalBytes  SourceBytes  Botnet  \\\n",
       "0  122.226.12.150   0.068330      2.099315    125.989726    68.424658     0.0   \n",
       "1  147.101.94.182  87.038085     56.736226   2669.486505  1010.705275     1.0   \n",
       "2  147.113.94.198  35.870162     13.585749   9117.484682  1401.067273     1.0   \n",
       "3  147.114.98.192  13.462622      7.996686   4687.332367   504.842604     1.0   \n",
       "4  147.122.97.192  15.085764     16.219029  11824.440682  1431.609252     1.0   \n",
       "\n",
       "   PacketsBySec  SourceBytesBySec  TotalBytesBySec  \n",
       "0  10164.267421     313196.425928    609901.995847  \n",
       "1   1495.671372      43775.022442    211851.928670  \n",
       "2   1661.905285      48534.566173    237852.833934  \n",
       "3   2198.629757      64127.241159    318626.536661  \n",
       "4   1780.671385      52146.694391    257579.859516  "
      ]
     },
     "execution_count": 121,
     "metadata": {},
     "output_type": "execute_result"
    }
   ],
   "source": [
    "test_perturbed.head()"
   ]
  },
  {
   "cell_type": "code",
   "execution_count": 122,
   "metadata": {},
   "outputs": [
    {
     "data": {
      "text/plain": [
       "0.9122807017543859"
      ]
     },
     "execution_count": 122,
     "metadata": {},
     "output_type": "execute_result"
    }
   ],
   "source": [
    "model.score(X_test_perturbed,Y_test_perturbed)"
   ]
  },
  {
   "cell_type": "code",
   "execution_count": 109,
   "metadata": {},
   "outputs": [],
   "source": [
    "predict = pd.DataFrame(model.predict(X_test_perturbed),columns=['Predicted'])\n",
    "result = pd.concat([test[['SrcIPAddress','Botnet']].copy(),predict], axis=1)"
   ]
  },
  {
   "cell_type": "code",
   "execution_count": 110,
   "metadata": {},
   "outputs": [
    {
     "data": {
      "text/html": [
       "<div>\n",
       "<style scoped>\n",
       "    .dataframe tbody tr th:only-of-type {\n",
       "        vertical-align: middle;\n",
       "    }\n",
       "\n",
       "    .dataframe tbody tr th {\n",
       "        vertical-align: top;\n",
       "    }\n",
       "\n",
       "    .dataframe thead th {\n",
       "        text-align: right;\n",
       "    }\n",
       "</style>\n",
       "<table border=\"1\" class=\"dataframe\">\n",
       "  <thead>\n",
       "    <tr style=\"text-align: right;\">\n",
       "      <th></th>\n",
       "      <th>SrcIPAddress</th>\n",
       "      <th>Botnet</th>\n",
       "      <th>Predicted</th>\n",
       "    </tr>\n",
       "  </thead>\n",
       "  <tbody>\n",
       "    <tr>\n",
       "      <th>0</th>\n",
       "      <td>122.226.12.150</td>\n",
       "      <td>0.0</td>\n",
       "      <td>0.0</td>\n",
       "    </tr>\n",
       "    <tr>\n",
       "      <th>1</th>\n",
       "      <td>147.101.94.182</td>\n",
       "      <td>1.0</td>\n",
       "      <td>1.0</td>\n",
       "    </tr>\n",
       "    <tr>\n",
       "      <th>2</th>\n",
       "      <td>147.113.94.198</td>\n",
       "      <td>1.0</td>\n",
       "      <td>1.0</td>\n",
       "    </tr>\n",
       "    <tr>\n",
       "      <th>3</th>\n",
       "      <td>147.114.98.192</td>\n",
       "      <td>1.0</td>\n",
       "      <td>1.0</td>\n",
       "    </tr>\n",
       "    <tr>\n",
       "      <th>4</th>\n",
       "      <td>147.122.97.192</td>\n",
       "      <td>1.0</td>\n",
       "      <td>1.0</td>\n",
       "    </tr>\n",
       "  </tbody>\n",
       "</table>\n",
       "</div>"
      ],
      "text/plain": [
       "     SrcIPAddress  Botnet  Predicted\n",
       "0  122.226.12.150     0.0        0.0\n",
       "1  147.101.94.182     1.0        1.0\n",
       "2  147.113.94.198     1.0        1.0\n",
       "3  147.114.98.192     1.0        1.0\n",
       "4  147.122.97.192     1.0        1.0"
      ]
     },
     "execution_count": 110,
     "metadata": {},
     "output_type": "execute_result"
    }
   ],
   "source": [
    "result.head(5)"
   ]
  },
  {
   "cell_type": "markdown",
   "metadata": {},
   "source": [
    "End."
   ]
  }
 ],
 "metadata": {
  "kernelspec": {
   "display_name": "Python 3",
   "language": "python",
   "name": "python3"
  },
  "language_info": {
   "codemirror_mode": {
    "name": "ipython",
    "version": 3
   },
   "file_extension": ".py",
   "mimetype": "text/x-python",
   "name": "python",
   "nbconvert_exporter": "python",
   "pygments_lexer": "ipython3",
   "version": "3.8.5"
  }
 },
 "nbformat": 4,
 "nbformat_minor": 4
}
