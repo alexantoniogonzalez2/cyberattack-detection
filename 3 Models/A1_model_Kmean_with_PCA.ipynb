{
 "cells": [
  {
   "cell_type": "code",
   "execution_count": 1,
   "metadata": {},
   "outputs": [],
   "source": [
    "import pandas as pd\n",
    "from sklearn.cluster import KMeans\n",
    "import matplotlib.pyplot as plt\n",
    "import seaborn as sns\n",
    "from sklearn.metrics import silhouette_score"
   ]
  },
  {
   "cell_type": "markdown",
   "metadata": {},
   "source": [
    "### Train data"
   ]
  },
  {
   "cell_type": "code",
   "execution_count": 2,
   "metadata": {},
   "outputs": [],
   "source": [
    "train = pd.read_csv('../../ml-data/cyberattack_detection/3_selected_features_first_version/A1_train_data_PCA.csv', sep=',')"
   ]
  },
  {
   "cell_type": "code",
   "execution_count": null,
   "metadata": {},
   "outputs": [],
   "source": [
    "sse = []\n",
    "for k in range(1, 8):\n",
    "    kmeans = KMeans(n_clusters=k)\n",
    "    kmeans.fit(train.values)\n",
    "    sse.append(kmeans.inertia_)"
   ]
  },
  {
   "cell_type": "code",
   "execution_count": 33,
   "metadata": {},
   "outputs": [
    {
     "data": {
      "image/png": "[encoded data removed]",
      "text/plain": [
       "<Figure size 432x288 with 1 Axes>"
      ]
     },
     "metadata": {},
     "output_type": "display_data"
    }
   ],
   "source": [
    "plt.plot(range(1, 8), sse)\n",
    "plt.xticks(range(1, 8))\n",
    "plt.xlabel(\"# of clusters\")\n",
    "plt.ylabel(\"SSE\")\n",
    "plt.show()"
   ]
  },
  {
   "cell_type": "code",
   "execution_count": 3,
   "metadata": {},
   "outputs": [
    {
     "data": {
      "text/plain": [
       "KMeans(n_clusters=3, random_state=0)"
      ]
     },
     "execution_count": 3,
     "metadata": {},
     "output_type": "execute_result"
    }
   ],
   "source": [
    "kmeans = KMeans(n_clusters=3, random_state=0)\n",
    "kmeans.fit(train.values)"
   ]
  },
  {
   "cell_type": "markdown",
   "metadata": {},
   "source": [
    "### Test data"
   ]
  },
  {
   "cell_type": "code",
   "execution_count": 4,
   "metadata": {},
   "outputs": [],
   "source": [
    "test = pd.read_csv('../../ml-data/cyberattack_detection/3_selected_features_first_version/A1_test_data_PCA.csv', sep=',')"
   ]
  },
  {
   "cell_type": "code",
   "execution_count": 5,
   "metadata": {},
   "outputs": [],
   "source": [
    "test_predict = kmeans.predict(test)"
   ]
  },
  {
   "cell_type": "code",
   "execution_count": 6,
   "metadata": {},
   "outputs": [
    {
     "data": {
      "text/plain": [
       "0    1048137\n",
       "1       5703\n",
       "2          5\n",
       "Name: cluster, dtype: int64"
      ]
     },
     "execution_count": 6,
     "metadata": {},
     "output_type": "execute_result"
    }
   ],
   "source": [
    "test['cluster'] = test_predict\n",
    "test['cluster'].value_counts()"
   ]
  },
  {
   "cell_type": "code",
   "execution_count": null,
   "metadata": {},
   "outputs": [],
   "source": [
    "sns.pairplot(test, hue = 'cluster')"
   ]
  },
  {
   "cell_type": "code",
   "execution_count": null,
   "metadata": {},
   "outputs": [],
   "source": [
    "sns.pairplot(\n",
    "    test, hue = 'cluster',\n",
    "    x_vars=[\"PC1\", \"PC2\", \"PC3\"],\n",
    "    y_vars=[\"PC6\", \"PC7\"],\n",
    ")"
   ]
  },
  {
   "cell_type": "code",
   "execution_count": 7,
   "metadata": {},
   "outputs": [
    {
     "data": {
      "text/plain": [
       "(1053845, 8)"
      ]
     },
     "execution_count": 7,
     "metadata": {},
     "output_type": "execute_result"
    }
   ],
   "source": [
    "test.shape"
   ]
  },
  {
   "cell_type": "code",
   "execution_count": 8,
   "metadata": {},
   "outputs": [
    {
     "name": "stderr",
     "output_type": "stream",
     "text": [
      "/usr/local/lib/python3.8/site-packages/IPython/core/interactiveshell.py:3145: DtypeWarning: Columns (4,7) have mixed types.Specify dtype option on import or set low_memory=False.\n",
      "  has_raised = await self.run_ast_nodes(code_ast.body, cell_name,\n"
     ]
    }
   ],
   "source": [
    "original_test = pd.read_csv('../../ml-data/cyberattack_detection/1_raw_data/A2_1/clean_test_data', sep=',')"
   ]
  },
  {
   "cell_type": "code",
   "execution_count": 9,
   "metadata": {},
   "outputs": [
    {
     "data": {
      "text/plain": [
       "(1053845, 17)"
      ]
     },
     "execution_count": 9,
     "metadata": {},
     "output_type": "execute_result"
    }
   ],
   "source": [
    "original_test.shape"
   ]
  },
  {
   "cell_type": "code",
   "execution_count": 10,
   "metadata": {},
   "outputs": [],
   "source": [
    "original_test['cluster'] = test_predict"
   ]
  },
  {
   "cell_type": "code",
   "execution_count": 11,
   "metadata": {},
   "outputs": [
    {
     "data": {
      "text/html": [
       "<div>\n",
       "<style scoped>\n",
       "    .dataframe tbody tr th:only-of-type {\n",
       "        vertical-align: middle;\n",
       "    }\n",
       "\n",
       "    .dataframe tbody tr th {\n",
       "        vertical-align: top;\n",
       "    }\n",
       "\n",
       "    .dataframe thead th {\n",
       "        text-align: right;\n",
       "    }\n",
       "</style>\n",
       "<table border=\"1\" class=\"dataframe\">\n",
       "  <thead>\n",
       "    <tr style=\"text-align: right;\">\n",
       "      <th></th>\n",
       "      <th>Timestamp</th>\n",
       "      <th>Duration</th>\n",
       "      <th>Protocol</th>\n",
       "      <th>SrcIPAddress</th>\n",
       "      <th>SrcPort</th>\n",
       "      <th>Direction</th>\n",
       "      <th>DestIPAddress</th>\n",
       "      <th>DestPort</th>\n",
       "      <th>State</th>\n",
       "      <th>SrcTypeService</th>\n",
       "      <th>DestTypeService</th>\n",
       "      <th>TotalPackets</th>\n",
       "      <th>TotalBytes</th>\n",
       "      <th>SourceBytes</th>\n",
       "      <th>PacketsSec</th>\n",
       "      <th>TotalBytesSec</th>\n",
       "      <th>SourceBytesSec</th>\n",
       "      <th>cluster</th>\n",
       "    </tr>\n",
       "  </thead>\n",
       "  <tbody>\n",
       "    <tr>\n",
       "      <th>0</th>\n",
       "      <td>2012/12/01 03:36:40.878146</td>\n",
       "      <td>3709.429059</td>\n",
       "      <td>tcp</td>\n",
       "      <td>138.11.74.16</td>\n",
       "      <td>6667</td>\n",
       "      <td>-&gt;</td>\n",
       "      <td>201.30.94.155</td>\n",
       "      <td>1027</td>\n",
       "      <td>PA_PA</td>\n",
       "      <td>0.0</td>\n",
       "      <td>0.0</td>\n",
       "      <td>84</td>\n",
       "      <td>6191</td>\n",
       "      <td>3951</td>\n",
       "      <td>0.022645</td>\n",
       "      <td>1.668990</td>\n",
       "      <td>1.065123</td>\n",
       "      <td>1</td>\n",
       "    </tr>\n",
       "    <tr>\n",
       "      <th>1</th>\n",
       "      <td>2012/12/01 03:51:49.918983</td>\n",
       "      <td>3309.740162</td>\n",
       "      <td>tcp</td>\n",
       "      <td>138.11.74.16</td>\n",
       "      <td>6667</td>\n",
       "      <td>-&gt;</td>\n",
       "      <td>201.30.94.155</td>\n",
       "      <td>1027</td>\n",
       "      <td>PA_PA</td>\n",
       "      <td>0.0</td>\n",
       "      <td>0.0</td>\n",
       "      <td>77</td>\n",
       "      <td>6082</td>\n",
       "      <td>3959</td>\n",
       "      <td>0.023265</td>\n",
       "      <td>1.837606</td>\n",
       "      <td>1.196166</td>\n",
       "      <td>1</td>\n",
       "    </tr>\n",
       "    <tr>\n",
       "      <th>2</th>\n",
       "      <td>2012/12/01 04:07:21.899558</td>\n",
       "      <td>3432.626766</td>\n",
       "      <td>tcp</td>\n",
       "      <td>138.11.74.16</td>\n",
       "      <td>6667</td>\n",
       "      <td>-&gt;</td>\n",
       "      <td>201.30.94.155</td>\n",
       "      <td>1027</td>\n",
       "      <td>PA_PA</td>\n",
       "      <td>0.0</td>\n",
       "      <td>0.0</td>\n",
       "      <td>85</td>\n",
       "      <td>6225</td>\n",
       "      <td>3813</td>\n",
       "      <td>0.024762</td>\n",
       "      <td>1.813480</td>\n",
       "      <td>1.110811</td>\n",
       "      <td>1</td>\n",
       "    </tr>\n",
       "    <tr>\n",
       "      <th>3</th>\n",
       "      <td>2012/12/01 04:38:46.872983</td>\n",
       "      <td>3570.183838</td>\n",
       "      <td>tcp</td>\n",
       "      <td>138.11.74.16</td>\n",
       "      <td>6667</td>\n",
       "      <td>-&gt;</td>\n",
       "      <td>201.30.94.155</td>\n",
       "      <td>1027</td>\n",
       "      <td>PA_PA</td>\n",
       "      <td>0.0</td>\n",
       "      <td>0.0</td>\n",
       "      <td>94</td>\n",
       "      <td>7579</td>\n",
       "      <td>4131</td>\n",
       "      <td>0.026329</td>\n",
       "      <td>2.122860</td>\n",
       "      <td>1.157083</td>\n",
       "      <td>1</td>\n",
       "    </tr>\n",
       "    <tr>\n",
       "      <th>4</th>\n",
       "      <td>2012/12/01 04:53:55.866280</td>\n",
       "      <td>3397.426792</td>\n",
       "      <td>tcp</td>\n",
       "      <td>138.11.74.16</td>\n",
       "      <td>6667</td>\n",
       "      <td>-&gt;</td>\n",
       "      <td>201.30.94.155</td>\n",
       "      <td>1027</td>\n",
       "      <td>PA_PA</td>\n",
       "      <td>0.0</td>\n",
       "      <td>0.0</td>\n",
       "      <td>79</td>\n",
       "      <td>6182</td>\n",
       "      <td>3610</td>\n",
       "      <td>0.023253</td>\n",
       "      <td>1.819612</td>\n",
       "      <td>1.062569</td>\n",
       "      <td>1</td>\n",
       "    </tr>\n",
       "  </tbody>\n",
       "</table>\n",
       "</div>"
      ],
      "text/plain": [
       "                    Timestamp     Duration Protocol  SrcIPAddress SrcPort  \\\n",
       "0  2012/12/01 03:36:40.878146  3709.429059      tcp  138.11.74.16    6667   \n",
       "1  2012/12/01 03:51:49.918983  3309.740162      tcp  138.11.74.16    6667   \n",
       "2  2012/12/01 04:07:21.899558  3432.626766      tcp  138.11.74.16    6667   \n",
       "3  2012/12/01 04:38:46.872983  3570.183838      tcp  138.11.74.16    6667   \n",
       "4  2012/12/01 04:53:55.866280  3397.426792      tcp  138.11.74.16    6667   \n",
       "\n",
       "  Direction  DestIPAddress DestPort  State  SrcTypeService  DestTypeService  \\\n",
       "0        ->  201.30.94.155     1027  PA_PA             0.0              0.0   \n",
       "1        ->  201.30.94.155     1027  PA_PA             0.0              0.0   \n",
       "2        ->  201.30.94.155     1027  PA_PA             0.0              0.0   \n",
       "3        ->  201.30.94.155     1027  PA_PA             0.0              0.0   \n",
       "4        ->  201.30.94.155     1027  PA_PA             0.0              0.0   \n",
       "\n",
       "   TotalPackets  TotalBytes  SourceBytes  PacketsSec  TotalBytesSec  \\\n",
       "0            84        6191         3951    0.022645       1.668990   \n",
       "1            77        6082         3959    0.023265       1.837606   \n",
       "2            85        6225         3813    0.024762       1.813480   \n",
       "3            94        7579         4131    0.026329       2.122860   \n",
       "4            79        6182         3610    0.023253       1.819612   \n",
       "\n",
       "   SourceBytesSec  cluster  \n",
       "0        1.065123        1  \n",
       "1        1.196166        1  \n",
       "2        1.110811        1  \n",
       "3        1.157083        1  \n",
       "4        1.062569        1  "
      ]
     },
     "execution_count": 11,
     "metadata": {},
     "output_type": "execute_result"
    }
   ],
   "source": [
    "original_test.head()"
   ]
  },
  {
   "cell_type": "code",
   "execution_count": 12,
   "metadata": {},
   "outputs": [],
   "source": [
    "anomalies_orig_feat = original_test.loc[original_test['cluster'].isin([1,2])]"
   ]
  },
  {
   "cell_type": "code",
   "execution_count": 13,
   "metadata": {},
   "outputs": [
    {
     "data": {
      "text/plain": [
       "1    5703\n",
       "2       5\n",
       "Name: cluster, dtype: int64"
      ]
     },
     "execution_count": 13,
     "metadata": {},
     "output_type": "execute_result"
    }
   ],
   "source": [
    "anomalies_orig_feat['cluster'].value_counts()"
   ]
  },
  {
   "cell_type": "code",
   "execution_count": 16,
   "metadata": {},
   "outputs": [
    {
     "data": {
      "text/plain": [
       "182"
      ]
     },
     "execution_count": 16,
     "metadata": {},
     "output_type": "execute_result"
    }
   ],
   "source": [
    "anomalies_orig_feat['SrcIPAddress'].nunique()"
   ]
  },
  {
   "cell_type": "code",
   "execution_count": 14,
   "metadata": {},
   "outputs": [
    {
     "data": {
      "text/html": [
       "<div>\n",
       "<style scoped>\n",
       "    .dataframe tbody tr th:only-of-type {\n",
       "        vertical-align: middle;\n",
       "    }\n",
       "\n",
       "    .dataframe tbody tr th {\n",
       "        vertical-align: top;\n",
       "    }\n",
       "\n",
       "    .dataframe thead th {\n",
       "        text-align: right;\n",
       "    }\n",
       "</style>\n",
       "<table border=\"1\" class=\"dataframe\">\n",
       "  <thead>\n",
       "    <tr style=\"text-align: right;\">\n",
       "      <th></th>\n",
       "      <th>Duration</th>\n",
       "      <th>SrcTypeService</th>\n",
       "      <th>DestTypeService</th>\n",
       "      <th>TotalPackets</th>\n",
       "      <th>TotalBytes</th>\n",
       "      <th>SourceBytes</th>\n",
       "      <th>PacketsSec</th>\n",
       "      <th>TotalBytesSec</th>\n",
       "      <th>SourceBytesSec</th>\n",
       "      <th>cluster</th>\n",
       "    </tr>\n",
       "  </thead>\n",
       "  <tbody>\n",
       "    <tr>\n",
       "      <th>count</th>\n",
       "      <td>5708</td>\n",
       "      <td>5665</td>\n",
       "      <td>4721</td>\n",
       "      <td>5708</td>\n",
       "      <td>5708</td>\n",
       "      <td>5708</td>\n",
       "      <td>5708</td>\n",
       "      <td>5708</td>\n",
       "      <td>5708</td>\n",
       "      <td>5708</td>\n",
       "    </tr>\n",
       "    <tr>\n",
       "      <th>mean</th>\n",
       "      <td>2780.24</td>\n",
       "      <td>0</td>\n",
       "      <td>0</td>\n",
       "      <td>3396.31</td>\n",
       "      <td>2.59191e+06</td>\n",
       "      <td>2.43563e+06</td>\n",
       "      <td>8.08285</td>\n",
       "      <td>5383.19</td>\n",
       "      <td>5269.32</td>\n",
       "      <td>1.00088</td>\n",
       "    </tr>\n",
       "    <tr>\n",
       "      <th>std</th>\n",
       "      <td>661.872</td>\n",
       "      <td>0</td>\n",
       "      <td>0</td>\n",
       "      <td>55610.3</td>\n",
       "      <td>2.77012e+07</td>\n",
       "      <td>2.70109e+07</td>\n",
       "      <td>279.535</td>\n",
       "      <td>150721</td>\n",
       "      <td>149329</td>\n",
       "      <td>0.0295863</td>\n",
       "    </tr>\n",
       "    <tr>\n",
       "      <th>min</th>\n",
       "      <td>56.1555</td>\n",
       "      <td>0</td>\n",
       "      <td>0</td>\n",
       "      <td>2</td>\n",
       "      <td>155</td>\n",
       "      <td>114</td>\n",
       "      <td>0.000707076</td>\n",
       "      <td>0.0508296</td>\n",
       "      <td>0.0340828</td>\n",
       "      <td>1</td>\n",
       "    </tr>\n",
       "    <tr>\n",
       "      <th>25%</th>\n",
       "      <td>2271.14</td>\n",
       "      <td>0</td>\n",
       "      <td>0</td>\n",
       "      <td>7</td>\n",
       "      <td>497</td>\n",
       "      <td>258</td>\n",
       "      <td>0.00274258</td>\n",
       "      <td>0.211867</td>\n",
       "      <td>0.115374</td>\n",
       "      <td>1</td>\n",
       "    </tr>\n",
       "    <tr>\n",
       "      <th>50%</th>\n",
       "      <td>2885.63</td>\n",
       "      <td>0</td>\n",
       "      <td>0</td>\n",
       "      <td>11</td>\n",
       "      <td>1146</td>\n",
       "      <td>702</td>\n",
       "      <td>0.00417242</td>\n",
       "      <td>0.442808</td>\n",
       "      <td>0.290947</td>\n",
       "      <td>1</td>\n",
       "    </tr>\n",
       "    <tr>\n",
       "      <th>75%</th>\n",
       "      <td>3390.75</td>\n",
       "      <td>0</td>\n",
       "      <td>0</td>\n",
       "      <td>25</td>\n",
       "      <td>3075</td>\n",
       "      <td>2224.25</td>\n",
       "      <td>0.00813604</td>\n",
       "      <td>1.06627</td>\n",
       "      <td>0.761856</td>\n",
       "      <td>1</td>\n",
       "    </tr>\n",
       "    <tr>\n",
       "      <th>max</th>\n",
       "      <td>3925.12</td>\n",
       "      <td>0</td>\n",
       "      <td>0</td>\n",
       "      <td>3.68056e+06</td>\n",
       "      <td>9.45069e+08</td>\n",
       "      <td>9.83047e+08</td>\n",
       "      <td>18699.5</td>\n",
       "      <td>9.76429e+06</td>\n",
       "      <td>9.65881e+06</td>\n",
       "      <td>2</td>\n",
       "    </tr>\n",
       "  </tbody>\n",
       "</table>\n",
       "</div>"
      ],
      "text/plain": [
       "      Duration SrcTypeService DestTypeService TotalPackets   TotalBytes  \\\n",
       "count     5708           5665            4721         5708         5708   \n",
       "mean   2780.24              0               0      3396.31  2.59191e+06   \n",
       "std    661.872              0               0      55610.3  2.77012e+07   \n",
       "min    56.1555              0               0            2          155   \n",
       "25%    2271.14              0               0            7          497   \n",
       "50%    2885.63              0               0           11         1146   \n",
       "75%    3390.75              0               0           25         3075   \n",
       "max    3925.12              0               0  3.68056e+06  9.45069e+08   \n",
       "\n",
       "       SourceBytes   PacketsSec TotalBytesSec SourceBytesSec    cluster  \n",
       "count         5708         5708          5708           5708       5708  \n",
       "mean   2.43563e+06      8.08285       5383.19        5269.32    1.00088  \n",
       "std    2.70109e+07      279.535        150721         149329  0.0295863  \n",
       "min            114  0.000707076     0.0508296      0.0340828          1  \n",
       "25%            258   0.00274258      0.211867       0.115374          1  \n",
       "50%            702   0.00417242      0.442808       0.290947          1  \n",
       "75%        2224.25   0.00813604       1.06627       0.761856          1  \n",
       "max    9.83047e+08      18699.5   9.76429e+06    9.65881e+06          2  "
      ]
     },
     "execution_count": 14,
     "metadata": {},
     "output_type": "execute_result"
    }
   ],
   "source": [
    "import numpy as np\n",
    "anomalies_orig_feat.loc[anomalies_orig_feat['PacketsSec'] != np.inf].describe().apply(lambda s: s.apply(lambda x: format(x, 'g')))"
   ]
  },
  {
   "cell_type": "code",
   "execution_count": 15,
   "metadata": {},
   "outputs": [],
   "source": [
    "anomalies_orig_feat.to_csv('../4 Results/A1_test_KMean_PCA_orig_feat.csv', sep=',')"
   ]
  },
  {
   "cell_type": "markdown",
   "metadata": {},
   "source": [
    "End"
   ]
  }
 ],
 "metadata": {
  "kernelspec": {
   "display_name": "Python 3",
   "language": "python",
   "name": "python3"
  },
  "language_info": {
   "codemirror_mode": {
    "name": "ipython",
    "version": 3
   },
   "file_extension": ".py",
   "mimetype": "text/x-python",
   "name": "python",
   "nbconvert_exporter": "python",
   "pygments_lexer": "ipython3",
   "version": "3.8.5"
  }
 },
 "nbformat": 4,
 "nbformat_minor": 4
}
