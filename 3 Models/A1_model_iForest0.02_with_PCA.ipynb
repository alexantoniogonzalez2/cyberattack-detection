{
 "cells": [
  {
   "cell_type": "code",
   "execution_count": 1,
   "metadata": {},
   "outputs": [],
   "source": [
    "import pandas as pd\n",
    "from sklearn.ensemble import IsolationForest\n",
    "import matplotlib.pyplot as plt\n",
    "import seaborn as sns"
   ]
  },
  {
   "cell_type": "markdown",
   "metadata": {},
   "source": [
    "### Train"
   ]
  },
  {
   "cell_type": "code",
   "execution_count": 2,
   "metadata": {},
   "outputs": [],
   "source": [
    "train = pd.read_csv('../../ml-data/cyberattack_detection/3_selected_features/A1_train_data_PCA.csv', sep=',')"
   ]
  },
  {
   "cell_type": "code",
   "execution_count": 3,
   "metadata": {},
   "outputs": [
    {
     "data": {
      "text/html": [
       "<div>\n",
       "<style scoped>\n",
       "    .dataframe tbody tr th:only-of-type {\n",
       "        vertical-align: middle;\n",
       "    }\n",
       "\n",
       "    .dataframe tbody tr th {\n",
       "        vertical-align: top;\n",
       "    }\n",
       "\n",
       "    .dataframe thead th {\n",
       "        text-align: right;\n",
       "    }\n",
       "</style>\n",
       "<table border=\"1\" class=\"dataframe\">\n",
       "  <thead>\n",
       "    <tr style=\"text-align: right;\">\n",
       "      <th></th>\n",
       "      <th>PC1</th>\n",
       "      <th>PC2</th>\n",
       "      <th>PC3</th>\n",
       "    </tr>\n",
       "  </thead>\n",
       "  <tbody>\n",
       "    <tr>\n",
       "      <th>0</th>\n",
       "      <td>277104.332320</td>\n",
       "      <td>17405.523770</td>\n",
       "      <td>-13546.742781</td>\n",
       "    </tr>\n",
       "    <tr>\n",
       "      <th>1</th>\n",
       "      <td>-150864.801811</td>\n",
       "      <td>-435.860958</td>\n",
       "      <td>-43929.108886</td>\n",
       "    </tr>\n",
       "    <tr>\n",
       "      <th>2</th>\n",
       "      <td>-120787.105699</td>\n",
       "      <td>572.759831</td>\n",
       "      <td>-43403.206845</td>\n",
       "    </tr>\n",
       "    <tr>\n",
       "      <th>3</th>\n",
       "      <td>254876.957762</td>\n",
       "      <td>14623.397761</td>\n",
       "      <td>-36966.671201</td>\n",
       "    </tr>\n",
       "    <tr>\n",
       "      <th>4</th>\n",
       "      <td>-117895.439420</td>\n",
       "      <td>621.683934</td>\n",
       "      <td>-43348.286842</td>\n",
       "    </tr>\n",
       "  </tbody>\n",
       "</table>\n",
       "</div>"
      ],
      "text/plain": [
       "             PC1           PC2           PC3\n",
       "0  277104.332320  17405.523770 -13546.742781\n",
       "1 -150864.801811   -435.860958 -43929.108886\n",
       "2 -120787.105699    572.759831 -43403.206845\n",
       "3  254876.957762  14623.397761 -36966.671201\n",
       "4 -117895.439420    621.683934 -43348.286842"
      ]
     },
     "execution_count": 3,
     "metadata": {},
     "output_type": "execute_result"
    }
   ],
   "source": [
    "train.head()"
   ]
  },
  {
   "cell_type": "code",
   "execution_count": 4,
   "metadata": {},
   "outputs": [],
   "source": [
    "# set contamination = 0.02\n",
    "isolation_forest = IsolationForest(contamination=0.02)"
   ]
  },
  {
   "cell_type": "code",
   "execution_count": 5,
   "metadata": {},
   "outputs": [
    {
     "data": {
      "text/plain": [
       "IsolationForest(contamination=0.02)"
      ]
     },
     "execution_count": 5,
     "metadata": {},
     "output_type": "execute_result"
    }
   ],
   "source": [
    "isolation_forest.fit(train)"
   ]
  },
  {
   "cell_type": "markdown",
   "metadata": {},
   "source": [
    "### Test"
   ]
  },
  {
   "cell_type": "code",
   "execution_count": 6,
   "metadata": {},
   "outputs": [],
   "source": [
    "test = pd.read_csv('../../ml-data/cyberattack_detection/3_selected_features/A1_test_data_PCA.csv', sep=',')"
   ]
  },
  {
   "cell_type": "code",
   "execution_count": 7,
   "metadata": {},
   "outputs": [
    {
     "data": {
      "text/plain": [
       "(1053845, 3)"
      ]
     },
     "execution_count": 7,
     "metadata": {},
     "output_type": "execute_result"
    }
   ],
   "source": [
    "test.shape"
   ]
  },
  {
   "cell_type": "code",
   "execution_count": 8,
   "metadata": {},
   "outputs": [],
   "source": [
    "test_predict = isolation_forest.predict(test)\n",
    "decision_function = isolation_forest.decision_function(test)"
   ]
  },
  {
   "cell_type": "code",
   "execution_count": 9,
   "metadata": {},
   "outputs": [],
   "source": [
    "test['anomaly'] = test_predict\n",
    "test['score'] = decision_function"
   ]
  },
  {
   "cell_type": "code",
   "execution_count": 10,
   "metadata": {},
   "outputs": [
    {
     "data": {
      "text/plain": [
       " 1    1031987\n",
       "-1      21858\n",
       "Name: anomaly, dtype: int64"
      ]
     },
     "execution_count": 10,
     "metadata": {},
     "output_type": "execute_result"
    }
   ],
   "source": [
    "test['anomaly'].value_counts()"
   ]
  },
  {
   "cell_type": "code",
   "execution_count": 11,
   "metadata": {},
   "outputs": [
    {
     "data": {
      "text/html": [
       "<div>\n",
       "<style scoped>\n",
       "    .dataframe tbody tr th:only-of-type {\n",
       "        vertical-align: middle;\n",
       "    }\n",
       "\n",
       "    .dataframe tbody tr th {\n",
       "        vertical-align: top;\n",
       "    }\n",
       "\n",
       "    .dataframe thead th {\n",
       "        text-align: right;\n",
       "    }\n",
       "</style>\n",
       "<table border=\"1\" class=\"dataframe\">\n",
       "  <thead>\n",
       "    <tr style=\"text-align: right;\">\n",
       "      <th></th>\n",
       "      <th>PC1</th>\n",
       "      <th>PC2</th>\n",
       "      <th>PC3</th>\n",
       "      <th>anomaly</th>\n",
       "      <th>score</th>\n",
       "    </tr>\n",
       "  </thead>\n",
       "  <tbody>\n",
       "    <tr>\n",
       "      <th>8392</th>\n",
       "      <td>30242.508368</td>\n",
       "      <td>-116872.281274</td>\n",
       "      <td>-36952.183835</td>\n",
       "      <td>-1</td>\n",
       "      <td>-0.022110</td>\n",
       "    </tr>\n",
       "    <tr>\n",
       "      <th>8400</th>\n",
       "      <td>162345.455384</td>\n",
       "      <td>-111952.366025</td>\n",
       "      <td>-34686.857240</td>\n",
       "      <td>-1</td>\n",
       "      <td>-0.005308</td>\n",
       "    </tr>\n",
       "    <tr>\n",
       "      <th>8402</th>\n",
       "      <td>107850.267029</td>\n",
       "      <td>-113981.932467</td>\n",
       "      <td>-35621.351150</td>\n",
       "      <td>-1</td>\n",
       "      <td>-0.012944</td>\n",
       "    </tr>\n",
       "    <tr>\n",
       "      <th>8405</th>\n",
       "      <td>-30379.529421</td>\n",
       "      <td>-119130.030211</td>\n",
       "      <td>-37991.742131</td>\n",
       "      <td>-1</td>\n",
       "      <td>-0.024484</td>\n",
       "    </tr>\n",
       "    <tr>\n",
       "      <th>8407</th>\n",
       "      <td>64078.064344</td>\n",
       "      <td>-115612.142333</td>\n",
       "      <td>-36371.965252</td>\n",
       "      <td>-1</td>\n",
       "      <td>-0.015361</td>\n",
       "    </tr>\n",
       "    <tr>\n",
       "      <th>...</th>\n",
       "      <td>...</td>\n",
       "      <td>...</td>\n",
       "      <td>...</td>\n",
       "      <td>...</td>\n",
       "      <td>...</td>\n",
       "    </tr>\n",
       "    <tr>\n",
       "      <th>924067</th>\n",
       "      <td>-74575.445432</td>\n",
       "      <td>-103562.370388</td>\n",
       "      <td>29723.928605</td>\n",
       "      <td>-1</td>\n",
       "      <td>-0.025922</td>\n",
       "    </tr>\n",
       "    <tr>\n",
       "      <th>924068</th>\n",
       "      <td>-74848.630193</td>\n",
       "      <td>-95910.486418</td>\n",
       "      <td>29023.945043</td>\n",
       "      <td>-1</td>\n",
       "      <td>-0.021154</td>\n",
       "    </tr>\n",
       "    <tr>\n",
       "      <th>924069</th>\n",
       "      <td>-74570.721878</td>\n",
       "      <td>-103694.676754</td>\n",
       "      <td>29736.031805</td>\n",
       "      <td>-1</td>\n",
       "      <td>-0.025922</td>\n",
       "    </tr>\n",
       "    <tr>\n",
       "      <th>1004000</th>\n",
       "      <td>386700.065874</td>\n",
       "      <td>-105382.110815</td>\n",
       "      <td>-49725.463993</td>\n",
       "      <td>-1</td>\n",
       "      <td>-0.025810</td>\n",
       "    </tr>\n",
       "    <tr>\n",
       "      <th>1016906</th>\n",
       "      <td>6390.437459</td>\n",
       "      <td>-120851.878435</td>\n",
       "      <td>-64707.666476</td>\n",
       "      <td>-1</td>\n",
       "      <td>-0.070996</td>\n",
       "    </tr>\n",
       "  </tbody>\n",
       "</table>\n",
       "<p>21858 rows × 5 columns</p>\n",
       "</div>"
      ],
      "text/plain": [
       "                   PC1            PC2           PC3  anomaly     score\n",
       "8392      30242.508368 -116872.281274 -36952.183835       -1 -0.022110\n",
       "8400     162345.455384 -111952.366025 -34686.857240       -1 -0.005308\n",
       "8402     107850.267029 -113981.932467 -35621.351150       -1 -0.012944\n",
       "8405     -30379.529421 -119130.030211 -37991.742131       -1 -0.024484\n",
       "8407      64078.064344 -115612.142333 -36371.965252       -1 -0.015361\n",
       "...                ...            ...           ...      ...       ...\n",
       "924067   -74575.445432 -103562.370388  29723.928605       -1 -0.025922\n",
       "924068   -74848.630193  -95910.486418  29023.945043       -1 -0.021154\n",
       "924069   -74570.721878 -103694.676754  29736.031805       -1 -0.025922\n",
       "1004000  386700.065874 -105382.110815 -49725.463993       -1 -0.025810\n",
       "1016906    6390.437459 -120851.878435 -64707.666476       -1 -0.070996\n",
       "\n",
       "[21858 rows x 5 columns]"
      ]
     },
     "execution_count": 11,
     "metadata": {},
     "output_type": "execute_result"
    }
   ],
   "source": [
    "test.loc[test['anomaly'] == -1]"
   ]
  },
  {
   "cell_type": "code",
   "execution_count": null,
   "metadata": {},
   "outputs": [],
   "source": [
    "sns.pairplot(test, hue = 'anomaly')"
   ]
  },
  {
   "cell_type": "code",
   "execution_count": 13,
   "metadata": {},
   "outputs": [],
   "source": [
    "anomalies = test.loc[test['anomaly'] == -1]"
   ]
  },
  {
   "cell_type": "code",
   "execution_count": 14,
   "metadata": {},
   "outputs": [
    {
     "data": {
      "text/html": [
       "<div>\n",
       "<style scoped>\n",
       "    .dataframe tbody tr th:only-of-type {\n",
       "        vertical-align: middle;\n",
       "    }\n",
       "\n",
       "    .dataframe tbody tr th {\n",
       "        vertical-align: top;\n",
       "    }\n",
       "\n",
       "    .dataframe thead th {\n",
       "        text-align: right;\n",
       "    }\n",
       "</style>\n",
       "<table border=\"1\" class=\"dataframe\">\n",
       "  <thead>\n",
       "    <tr style=\"text-align: right;\">\n",
       "      <th></th>\n",
       "      <th>PC1</th>\n",
       "      <th>PC2</th>\n",
       "      <th>PC3</th>\n",
       "      <th>anomaly</th>\n",
       "      <th>score</th>\n",
       "    </tr>\n",
       "  </thead>\n",
       "  <tbody>\n",
       "    <tr>\n",
       "      <th>8392</th>\n",
       "      <td>30242.508368</td>\n",
       "      <td>-116872.281274</td>\n",
       "      <td>-36952.183835</td>\n",
       "      <td>-1</td>\n",
       "      <td>-0.022110</td>\n",
       "    </tr>\n",
       "    <tr>\n",
       "      <th>8400</th>\n",
       "      <td>162345.455384</td>\n",
       "      <td>-111952.366025</td>\n",
       "      <td>-34686.857240</td>\n",
       "      <td>-1</td>\n",
       "      <td>-0.005308</td>\n",
       "    </tr>\n",
       "    <tr>\n",
       "      <th>8402</th>\n",
       "      <td>107850.267029</td>\n",
       "      <td>-113981.932467</td>\n",
       "      <td>-35621.351150</td>\n",
       "      <td>-1</td>\n",
       "      <td>-0.012944</td>\n",
       "    </tr>\n",
       "    <tr>\n",
       "      <th>8405</th>\n",
       "      <td>-30379.529421</td>\n",
       "      <td>-119130.030211</td>\n",
       "      <td>-37991.742131</td>\n",
       "      <td>-1</td>\n",
       "      <td>-0.024484</td>\n",
       "    </tr>\n",
       "    <tr>\n",
       "      <th>8407</th>\n",
       "      <td>64078.064344</td>\n",
       "      <td>-115612.142333</td>\n",
       "      <td>-36371.965252</td>\n",
       "      <td>-1</td>\n",
       "      <td>-0.015361</td>\n",
       "    </tr>\n",
       "  </tbody>\n",
       "</table>\n",
       "</div>"
      ],
      "text/plain": [
       "                PC1            PC2           PC3  anomaly     score\n",
       "8392   30242.508368 -116872.281274 -36952.183835       -1 -0.022110\n",
       "8400  162345.455384 -111952.366025 -34686.857240       -1 -0.005308\n",
       "8402  107850.267029 -113981.932467 -35621.351150       -1 -0.012944\n",
       "8405  -30379.529421 -119130.030211 -37991.742131       -1 -0.024484\n",
       "8407   64078.064344 -115612.142333 -36371.965252       -1 -0.015361"
      ]
     },
     "execution_count": 14,
     "metadata": {},
     "output_type": "execute_result"
    }
   ],
   "source": [
    "anomalies.head()"
   ]
  },
  {
   "cell_type": "code",
   "execution_count": 15,
   "metadata": {},
   "outputs": [
    {
     "name": "stderr",
     "output_type": "stream",
     "text": [
      "/usr/local/lib/python3.8/site-packages/IPython/core/interactiveshell.py:3145: DtypeWarning: Columns (4,7) have mixed types.Specify dtype option on import or set low_memory=False.\n",
      "  has_raised = await self.run_ast_nodes(code_ast.body, cell_name,\n"
     ]
    }
   ],
   "source": [
    "original_test = pd.read_csv('../../ml-data/cyberattack_detection/1_raw_data/A2_1/clean_test_data', sep=',')"
   ]
  },
  {
   "cell_type": "code",
   "execution_count": 16,
   "metadata": {},
   "outputs": [],
   "source": [
    "anomalies_orig_feat = original_test[original_test.index.isin(anomalies.index)]"
   ]
  },
  {
   "cell_type": "code",
   "execution_count": 17,
   "metadata": {},
   "outputs": [],
   "source": [
    "anomalies_orig_feat = anomalies_orig_feat.merge(anomalies[['score']], left_index = True, right_index=True)"
   ]
  },
  {
   "cell_type": "code",
   "execution_count": null,
   "metadata": {},
   "outputs": [],
   "source": [
    "anomalies_orig_feat.head(40)"
   ]
  },
  {
   "cell_type": "code",
   "execution_count": 18,
   "metadata": {},
   "outputs": [
    {
     "data": {
      "text/plain": [
       "24"
      ]
     },
     "execution_count": 18,
     "metadata": {},
     "output_type": "execute_result"
    }
   ],
   "source": [
    "anomalies_orig_feat['SrcIPAddress'].nunique()"
   ]
  },
  {
   "cell_type": "code",
   "execution_count": 19,
   "metadata": {},
   "outputs": [
    {
     "data": {
      "text/html": [
       "<div>\n",
       "<style scoped>\n",
       "    .dataframe tbody tr th:only-of-type {\n",
       "        vertical-align: middle;\n",
       "    }\n",
       "\n",
       "    .dataframe tbody tr th {\n",
       "        vertical-align: top;\n",
       "    }\n",
       "\n",
       "    .dataframe thead th {\n",
       "        text-align: right;\n",
       "    }\n",
       "</style>\n",
       "<table border=\"1\" class=\"dataframe\">\n",
       "  <thead>\n",
       "    <tr style=\"text-align: right;\">\n",
       "      <th></th>\n",
       "      <th>Duration</th>\n",
       "      <th>SrcTypeService</th>\n",
       "      <th>DestTypeService</th>\n",
       "      <th>TotalPackets</th>\n",
       "      <th>TotalBytes</th>\n",
       "      <th>SourceBytes</th>\n",
       "      <th>PacketsSec</th>\n",
       "      <th>TotalBytesSec</th>\n",
       "      <th>SourceBytesSec</th>\n",
       "      <th>score</th>\n",
       "    </tr>\n",
       "  </thead>\n",
       "  <tbody>\n",
       "    <tr>\n",
       "      <th>count</th>\n",
       "      <td>3258</td>\n",
       "      <td>3258</td>\n",
       "      <td>159</td>\n",
       "      <td>3258</td>\n",
       "      <td>3258</td>\n",
       "      <td>3258</td>\n",
       "      <td>3258</td>\n",
       "      <td>3258</td>\n",
       "      <td>3258</td>\n",
       "      <td>3258</td>\n",
       "    </tr>\n",
       "    <tr>\n",
       "      <th>mean</th>\n",
       "      <td>940.563</td>\n",
       "      <td>0</td>\n",
       "      <td>0</td>\n",
       "      <td>73.5003</td>\n",
       "      <td>74716.9</td>\n",
       "      <td>75371.9</td>\n",
       "      <td>4413.67</td>\n",
       "      <td>207520</td>\n",
       "      <td>103321</td>\n",
       "      <td>-0.0472533</td>\n",
       "    </tr>\n",
       "    <tr>\n",
       "      <th>std</th>\n",
       "      <td>693.538</td>\n",
       "      <td>0</td>\n",
       "      <td>0</td>\n",
       "      <td>611.292</td>\n",
       "      <td>647197</td>\n",
       "      <td>653236</td>\n",
       "      <td>31397.2</td>\n",
       "      <td>1.40667e+06</td>\n",
       "      <td>706699</td>\n",
       "      <td>0.0238678</td>\n",
       "    </tr>\n",
       "    <tr>\n",
       "      <th>min</th>\n",
       "      <td>4e-06</td>\n",
       "      <td>0</td>\n",
       "      <td>0</td>\n",
       "      <td>2</td>\n",
       "      <td>114</td>\n",
       "      <td>57</td>\n",
       "      <td>0.000707076</td>\n",
       "      <td>0.0766297</td>\n",
       "      <td>0.0743164</td>\n",
       "      <td>-0.0709403</td>\n",
       "    </tr>\n",
       "    <tr>\n",
       "      <th>25%</th>\n",
       "      <td>835.848</td>\n",
       "      <td>0</td>\n",
       "      <td>0</td>\n",
       "      <td>3</td>\n",
       "      <td>2108</td>\n",
       "      <td>2104</td>\n",
       "      <td>0.00336618</td>\n",
       "      <td>2.28381</td>\n",
       "      <td>2.27792</td>\n",
       "      <td>-0.0679823</td>\n",
       "    </tr>\n",
       "    <tr>\n",
       "      <th>50%</th>\n",
       "      <td>959.792</td>\n",
       "      <td>0</td>\n",
       "      <td>0</td>\n",
       "      <td>12</td>\n",
       "      <td>8281</td>\n",
       "      <td>8263.5</td>\n",
       "      <td>0.0165886</td>\n",
       "      <td>13.4119</td>\n",
       "      <td>13.4166</td>\n",
       "      <td>-0.0679823</td>\n",
       "    </tr>\n",
       "    <tr>\n",
       "      <th>75%</th>\n",
       "      <td>1098.46</td>\n",
       "      <td>0</td>\n",
       "      <td>0</td>\n",
       "      <td>26</td>\n",
       "      <td>22107.2</td>\n",
       "      <td>22389.2</td>\n",
       "      <td>0.040342</td>\n",
       "      <td>40.7493</td>\n",
       "      <td>40.6305</td>\n",
       "      <td>-0.0237403</td>\n",
       "    </tr>\n",
       "    <tr>\n",
       "      <th>max</th>\n",
       "      <td>3759.24</td>\n",
       "      <td>0</td>\n",
       "      <td>0</td>\n",
       "      <td>8947</td>\n",
       "      <td>9.45955e+06</td>\n",
       "      <td>9.49176e+06</td>\n",
       "      <td>750000</td>\n",
       "      <td>3.05e+07</td>\n",
       "      <td>1.55e+07</td>\n",
       "      <td>-0.000279514</td>\n",
       "    </tr>\n",
       "  </tbody>\n",
       "</table>\n",
       "</div>"
      ],
      "text/plain": [
       "      Duration SrcTypeService DestTypeService TotalPackets   TotalBytes  \\\n",
       "count     3258           3258             159         3258         3258   \n",
       "mean   940.563              0               0      73.5003      74716.9   \n",
       "std    693.538              0               0      611.292       647197   \n",
       "min      4e-06              0               0            2          114   \n",
       "25%    835.848              0               0            3         2108   \n",
       "50%    959.792              0               0           12         8281   \n",
       "75%    1098.46              0               0           26      22107.2   \n",
       "max    3759.24              0               0         8947  9.45955e+06   \n",
       "\n",
       "       SourceBytes   PacketsSec TotalBytesSec SourceBytesSec         score  \n",
       "count         3258         3258          3258           3258          3258  \n",
       "mean       75371.9      4413.67        207520         103321    -0.0472533  \n",
       "std         653236      31397.2   1.40667e+06         706699     0.0238678  \n",
       "min             57  0.000707076     0.0766297      0.0743164    -0.0709403  \n",
       "25%           2104   0.00336618       2.28381        2.27792    -0.0679823  \n",
       "50%         8263.5    0.0165886       13.4119        13.4166    -0.0679823  \n",
       "75%        22389.2     0.040342       40.7493        40.6305    -0.0237403  \n",
       "max    9.49176e+06       750000      3.05e+07       1.55e+07  -0.000279514  "
      ]
     },
     "execution_count": 19,
     "metadata": {},
     "output_type": "execute_result"
    }
   ],
   "source": [
    "import numpy as np\n",
    "anomalies_orig_feat.loc[anomalies_orig_feat['PacketsSec'] != np.inf].describe().apply(lambda s: s.apply(lambda x: format(x, 'g')))\n"
   ]
  },
  {
   "cell_type": "code",
   "execution_count": 20,
   "metadata": {},
   "outputs": [],
   "source": [
    "anomalies_orig_feat.to_csv('../4 Results/A1_test_iForest_PCA_0.02_orig_feat.csv', sep=',')"
   ]
  },
  {
   "cell_type": "markdown",
   "metadata": {},
   "source": [
    "End"
   ]
  }
 ],
 "metadata": {
  "kernelspec": {
   "display_name": "Python 3",
   "language": "python",
   "name": "python3"
  },
  "language_info": {
   "codemirror_mode": {
    "name": "ipython",
    "version": 3
   },
   "file_extension": ".py",
   "mimetype": "text/x-python",
   "name": "python",
   "nbconvert_exporter": "python",
   "pygments_lexer": "ipython3",
   "version": "3.8.5"
  }
 },
 "nbformat": 4,
 "nbformat_minor": 4
}
