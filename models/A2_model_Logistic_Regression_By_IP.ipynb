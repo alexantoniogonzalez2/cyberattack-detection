{
 "cells": [
  {
   "cell_type": "code",
   "execution_count": 35,
   "metadata": {},
   "outputs": [],
   "source": [
    "import pandas as pd\n",
    "import numpy as np\n",
    "from sklearn.linear_model import LogisticRegression\n",
    "from sklearn.preprocessing import StandardScaler"
   ]
  },
  {
   "cell_type": "code",
   "execution_count": 36,
   "metadata": {},
   "outputs": [],
   "source": [
    "train = pd.read_csv('../../ml-data/cyberattack_detection/2_processed_data/A2_training_data_by_ip.csv', sep=',')"
   ]
  },
  {
   "cell_type": "code",
   "execution_count": 37,
   "metadata": {},
   "outputs": [],
   "source": [
    "X_train = train.drop(['Normal','SrcIPAddress'],1)\n",
    "Y_train = train[['Normal']]"
   ]
  },
  {
   "cell_type": "code",
   "execution_count": 38,
   "metadata": {},
   "outputs": [],
   "source": [
    "scaler = StandardScaler()\n",
    "scaler.fit(X_train)\n",
    "X_train = pd.DataFrame(scaler.transform(X_train), columns=X_train.columns, index=X_train.index)"
   ]
  },
  {
   "cell_type": "code",
   "execution_count": 39,
   "metadata": {},
   "outputs": [
    {
     "name": "stderr",
     "output_type": "stream",
     "text": [
      "/usr/local/lib/python3.8/site-packages/sklearn/utils/validation.py:72: DataConversionWarning: A column-vector y was passed when a 1d array was expected. Please change the shape of y to (n_samples, ), for example using ravel().\n",
      "  return f(**kwargs)\n"
     ]
    }
   ],
   "source": [
    "model = LogisticRegression(random_state=0,solver=\"liblinear\").fit(X_train, Y_train)"
   ]
  },
  {
   "cell_type": "code",
   "execution_count": 40,
   "metadata": {},
   "outputs": [],
   "source": [
    "test = pd.read_csv('../../ml-data/cyberattack_detection/2_processed_data/A2_test_data_by_ip.csv', sep=',')"
   ]
  },
  {
   "cell_type": "code",
   "execution_count": 41,
   "metadata": {},
   "outputs": [],
   "source": [
    "X_test = test.drop(['Normal','SrcIPAddress'],1)\n",
    "Y_test = test[['Normal']]\n",
    "X_test = pd.DataFrame(scaler.transform(X_test), columns=X_test.columns, index=X_test.index)"
   ]
  },
  {
   "cell_type": "code",
   "execution_count": 42,
   "metadata": {},
   "outputs": [
    {
     "data": {
      "text/html": [
       "<div>\n",
       "<style scoped>\n",
       "    .dataframe tbody tr th:only-of-type {\n",
       "        vertical-align: middle;\n",
       "    }\n",
       "\n",
       "    .dataframe tbody tr th {\n",
       "        vertical-align: top;\n",
       "    }\n",
       "\n",
       "    .dataframe thead th {\n",
       "        text-align: right;\n",
       "    }\n",
       "</style>\n",
       "<table border=\"1\" class=\"dataframe\">\n",
       "  <thead>\n",
       "    <tr style=\"text-align: right;\">\n",
       "      <th></th>\n",
       "      <th>Duration</th>\n",
       "      <th>TotalPackets</th>\n",
       "      <th>TotalBytes</th>\n",
       "      <th>SourceBytes</th>\n",
       "      <th>PacketsBySec</th>\n",
       "      <th>SourceBytesBySec</th>\n",
       "      <th>TotalBytesBySec</th>\n",
       "    </tr>\n",
       "  </thead>\n",
       "  <tbody>\n",
       "    <tr>\n",
       "      <th>0</th>\n",
       "      <td>-0.316295</td>\n",
       "      <td>-0.495782</td>\n",
       "      <td>-0.441498</td>\n",
       "      <td>-0.344372</td>\n",
       "      <td>0.145225</td>\n",
       "      <td>0.031500</td>\n",
       "      <td>0.051513</td>\n",
       "    </tr>\n",
       "    <tr>\n",
       "      <th>1</th>\n",
       "      <td>-0.192048</td>\n",
       "      <td>-0.424145</td>\n",
       "      <td>-0.396999</td>\n",
       "      <td>-0.252420</td>\n",
       "      <td>-0.133105</td>\n",
       "      <td>-0.115139</td>\n",
       "      <td>-0.161132</td>\n",
       "    </tr>\n",
       "    <tr>\n",
       "      <th>2</th>\n",
       "      <td>-0.195973</td>\n",
       "      <td>-0.318326</td>\n",
       "      <td>-0.281034</td>\n",
       "      <td>-0.207040</td>\n",
       "      <td>-0.127781</td>\n",
       "      <td>-0.112556</td>\n",
       "      <td>-0.147264</td>\n",
       "    </tr>\n",
       "    <tr>\n",
       "      <th>3</th>\n",
       "      <td>-0.271280</td>\n",
       "      <td>-0.404672</td>\n",
       "      <td>-0.360095</td>\n",
       "      <td>-0.299398</td>\n",
       "      <td>-0.110547</td>\n",
       "      <td>-0.104069</td>\n",
       "      <td>-0.104108</td>\n",
       "    </tr>\n",
       "    <tr>\n",
       "      <th>4</th>\n",
       "      <td>-0.265825</td>\n",
       "      <td>-0.277643</td>\n",
       "      <td>-0.232725</td>\n",
       "      <td>-0.203892</td>\n",
       "      <td>-0.123968</td>\n",
       "      <td>-0.110590</td>\n",
       "      <td>-0.136724</td>\n",
       "    </tr>\n",
       "  </tbody>\n",
       "</table>\n",
       "</div>"
      ],
      "text/plain": [
       "   Duration  TotalPackets  TotalBytes  SourceBytes  PacketsBySec  \\\n",
       "0 -0.316295     -0.495782   -0.441498    -0.344372      0.145225   \n",
       "1 -0.192048     -0.424145   -0.396999    -0.252420     -0.133105   \n",
       "2 -0.195973     -0.318326   -0.281034    -0.207040     -0.127781   \n",
       "3 -0.271280     -0.404672   -0.360095    -0.299398     -0.110547   \n",
       "4 -0.265825     -0.277643   -0.232725    -0.203892     -0.123968   \n",
       "\n",
       "   SourceBytesBySec  TotalBytesBySec  \n",
       "0          0.031500         0.051513  \n",
       "1         -0.115139        -0.161132  \n",
       "2         -0.112556        -0.147264  \n",
       "3         -0.104069        -0.104108  \n",
       "4         -0.110590        -0.136724  "
      ]
     },
     "execution_count": 42,
     "metadata": {},
     "output_type": "execute_result"
    }
   ],
   "source": [
    "X_test.head()"
   ]
  },
  {
   "cell_type": "code",
   "execution_count": 43,
   "metadata": {},
   "outputs": [
    {
     "data": {
      "text/plain": [
       "0.9298245614035088"
      ]
     },
     "execution_count": 43,
     "metadata": {},
     "output_type": "execute_result"
    }
   ],
   "source": [
    "model.score(X_test,Y_test)"
   ]
  },
  {
   "cell_type": "code",
   "execution_count": 44,
   "metadata": {},
   "outputs": [],
   "source": [
    "predict = pd.DataFrame(model.predict(X_test),columns=['Predicted'])\n",
    "result = pd.concat([test[['SrcIPAddress','Normal']].copy(),predict], axis=1)"
   ]
  },
  {
   "cell_type": "code",
   "execution_count": 45,
   "metadata": {},
   "outputs": [
    {
     "data": {
      "text/html": [
       "<div>\n",
       "<style scoped>\n",
       "    .dataframe tbody tr th:only-of-type {\n",
       "        vertical-align: middle;\n",
       "    }\n",
       "\n",
       "    .dataframe tbody tr th {\n",
       "        vertical-align: top;\n",
       "    }\n",
       "\n",
       "    .dataframe thead th {\n",
       "        text-align: right;\n",
       "    }\n",
       "</style>\n",
       "<table border=\"1\" class=\"dataframe\">\n",
       "  <thead>\n",
       "    <tr style=\"text-align: right;\">\n",
       "      <th></th>\n",
       "      <th>SrcIPAddress</th>\n",
       "      <th>Normal</th>\n",
       "      <th>Predicted</th>\n",
       "    </tr>\n",
       "  </thead>\n",
       "  <tbody>\n",
       "    <tr>\n",
       "      <th>0</th>\n",
       "      <td>122.226.12.150</td>\n",
       "      <td>1.0</td>\n",
       "      <td>0.0</td>\n",
       "    </tr>\n",
       "    <tr>\n",
       "      <th>1</th>\n",
       "      <td>147.101.94.182</td>\n",
       "      <td>0.0</td>\n",
       "      <td>0.0</td>\n",
       "    </tr>\n",
       "    <tr>\n",
       "      <th>2</th>\n",
       "      <td>147.113.94.198</td>\n",
       "      <td>0.0</td>\n",
       "      <td>0.0</td>\n",
       "    </tr>\n",
       "    <tr>\n",
       "      <th>3</th>\n",
       "      <td>147.114.98.192</td>\n",
       "      <td>0.0</td>\n",
       "      <td>0.0</td>\n",
       "    </tr>\n",
       "    <tr>\n",
       "      <th>4</th>\n",
       "      <td>147.122.97.192</td>\n",
       "      <td>0.0</td>\n",
       "      <td>0.0</td>\n",
       "    </tr>\n",
       "  </tbody>\n",
       "</table>\n",
       "</div>"
      ],
      "text/plain": [
       "     SrcIPAddress  Normal  Predicted\n",
       "0  122.226.12.150     1.0        0.0\n",
       "1  147.101.94.182     0.0        0.0\n",
       "2  147.113.94.198     0.0        0.0\n",
       "3  147.114.98.192     0.0        0.0\n",
       "4  147.122.97.192     0.0        0.0"
      ]
     },
     "execution_count": 45,
     "metadata": {},
     "output_type": "execute_result"
    }
   ],
   "source": [
    "result.head(5)"
   ]
  },
  {
   "cell_type": "code",
   "execution_count": 18,
   "metadata": {},
   "outputs": [],
   "source": [
    "ip = X_test.iloc[[1]]\n",
    "label = Y_test.iloc[[1]]"
   ]
  },
  {
   "cell_type": "code",
   "execution_count": 19,
   "metadata": {},
   "outputs": [
    {
     "data": {
      "text/html": [
       "<div>\n",
       "<style scoped>\n",
       "    .dataframe tbody tr th:only-of-type {\n",
       "        vertical-align: middle;\n",
       "    }\n",
       "\n",
       "    .dataframe tbody tr th {\n",
       "        vertical-align: top;\n",
       "    }\n",
       "\n",
       "    .dataframe thead th {\n",
       "        text-align: right;\n",
       "    }\n",
       "</style>\n",
       "<table border=\"1\" class=\"dataframe\">\n",
       "  <thead>\n",
       "    <tr style=\"text-align: right;\">\n",
       "      <th></th>\n",
       "      <th>Normal</th>\n",
       "    </tr>\n",
       "  </thead>\n",
       "  <tbody>\n",
       "    <tr>\n",
       "      <th>1</th>\n",
       "      <td>0.0</td>\n",
       "    </tr>\n",
       "  </tbody>\n",
       "</table>\n",
       "</div>"
      ],
      "text/plain": [
       "   Normal\n",
       "1     0.0"
      ]
     },
     "execution_count": 19,
     "metadata": {},
     "output_type": "execute_result"
    }
   ],
   "source": [
    "label.head()"
   ]
  },
  {
   "cell_type": "code",
   "execution_count": 25,
   "metadata": {},
   "outputs": [],
   "source": [
    "Xadv, Y = adversarial_samples(ip.values, label.values, model, epsilon=0.2)"
   ]
  },
  {
   "cell_type": "code",
   "execution_count": 46,
   "metadata": {},
   "outputs": [
    {
     "name": "stdout",
     "output_type": "stream",
     "text": [
      "[[ 0.00795246 -0.22414549 -0.19699865 -0.05242023  0.06689528  0.08486123\n",
      "   0.03886841]]\n"
     ]
    }
   ],
   "source": [
    "print(Xadv)"
   ]
  },
  {
   "cell_type": "code",
   "execution_count": 47,
   "metadata": {},
   "outputs": [],
   "source": [
    "X_test.iloc[[1]] = Xadv"
   ]
  },
  {
   "cell_type": "code",
   "execution_count": 48,
   "metadata": {},
   "outputs": [
    {
     "data": {
      "text/html": [
       "<div>\n",
       "<style scoped>\n",
       "    .dataframe tbody tr th:only-of-type {\n",
       "        vertical-align: middle;\n",
       "    }\n",
       "\n",
       "    .dataframe tbody tr th {\n",
       "        vertical-align: top;\n",
       "    }\n",
       "\n",
       "    .dataframe thead th {\n",
       "        text-align: right;\n",
       "    }\n",
       "</style>\n",
       "<table border=\"1\" class=\"dataframe\">\n",
       "  <thead>\n",
       "    <tr style=\"text-align: right;\">\n",
       "      <th></th>\n",
       "      <th>Duration</th>\n",
       "      <th>TotalPackets</th>\n",
       "      <th>TotalBytes</th>\n",
       "      <th>SourceBytes</th>\n",
       "      <th>PacketsBySec</th>\n",
       "      <th>SourceBytesBySec</th>\n",
       "      <th>TotalBytesBySec</th>\n",
       "    </tr>\n",
       "  </thead>\n",
       "  <tbody>\n",
       "    <tr>\n",
       "      <th>0</th>\n",
       "      <td>-0.316295</td>\n",
       "      <td>-0.495782</td>\n",
       "      <td>-0.441498</td>\n",
       "      <td>-0.344372</td>\n",
       "      <td>0.145225</td>\n",
       "      <td>0.031500</td>\n",
       "      <td>0.051513</td>\n",
       "    </tr>\n",
       "    <tr>\n",
       "      <th>1</th>\n",
       "      <td>0.007952</td>\n",
       "      <td>-0.224145</td>\n",
       "      <td>-0.196999</td>\n",
       "      <td>-0.052420</td>\n",
       "      <td>0.066895</td>\n",
       "      <td>0.084861</td>\n",
       "      <td>0.038868</td>\n",
       "    </tr>\n",
       "    <tr>\n",
       "      <th>2</th>\n",
       "      <td>-0.195973</td>\n",
       "      <td>-0.318326</td>\n",
       "      <td>-0.281034</td>\n",
       "      <td>-0.207040</td>\n",
       "      <td>-0.127781</td>\n",
       "      <td>-0.112556</td>\n",
       "      <td>-0.147264</td>\n",
       "    </tr>\n",
       "    <tr>\n",
       "      <th>3</th>\n",
       "      <td>-0.271280</td>\n",
       "      <td>-0.404672</td>\n",
       "      <td>-0.360095</td>\n",
       "      <td>-0.299398</td>\n",
       "      <td>-0.110547</td>\n",
       "      <td>-0.104069</td>\n",
       "      <td>-0.104108</td>\n",
       "    </tr>\n",
       "    <tr>\n",
       "      <th>4</th>\n",
       "      <td>-0.265825</td>\n",
       "      <td>-0.277643</td>\n",
       "      <td>-0.232725</td>\n",
       "      <td>-0.203892</td>\n",
       "      <td>-0.123968</td>\n",
       "      <td>-0.110590</td>\n",
       "      <td>-0.136724</td>\n",
       "    </tr>\n",
       "  </tbody>\n",
       "</table>\n",
       "</div>"
      ],
      "text/plain": [
       "   Duration  TotalPackets  TotalBytes  SourceBytes  PacketsBySec  \\\n",
       "0 -0.316295     -0.495782   -0.441498    -0.344372      0.145225   \n",
       "1  0.007952     -0.224145   -0.196999    -0.052420      0.066895   \n",
       "2 -0.195973     -0.318326   -0.281034    -0.207040     -0.127781   \n",
       "3 -0.271280     -0.404672   -0.360095    -0.299398     -0.110547   \n",
       "4 -0.265825     -0.277643   -0.232725    -0.203892     -0.123968   \n",
       "\n",
       "   SourceBytesBySec  TotalBytesBySec  \n",
       "0          0.031500         0.051513  \n",
       "1          0.084861         0.038868  \n",
       "2         -0.112556        -0.147264  \n",
       "3         -0.104069        -0.104108  \n",
       "4         -0.110590        -0.136724  "
      ]
     },
     "execution_count": 48,
     "metadata": {},
     "output_type": "execute_result"
    }
   ],
   "source": [
    "X_test.head()"
   ]
  },
  {
   "cell_type": "code",
   "execution_count": 49,
   "metadata": {},
   "outputs": [
    {
     "data": {
      "text/plain": [
       "0.9122807017543859"
      ]
     },
     "execution_count": 49,
     "metadata": {},
     "output_type": "execute_result"
    }
   ],
   "source": [
    "model.score(X_test,Y_test)"
   ]
  },
  {
   "cell_type": "code",
   "execution_count": 50,
   "metadata": {},
   "outputs": [],
   "source": [
    "predict = pd.DataFrame(model.predict(X_test),columns=['Predicted'])\n",
    "result = pd.concat([test[['SrcIPAddress','Normal']].copy(),predict], axis=1)"
   ]
  },
  {
   "cell_type": "code",
   "execution_count": 51,
   "metadata": {},
   "outputs": [
    {
     "data": {
      "text/html": [
       "<div>\n",
       "<style scoped>\n",
       "    .dataframe tbody tr th:only-of-type {\n",
       "        vertical-align: middle;\n",
       "    }\n",
       "\n",
       "    .dataframe tbody tr th {\n",
       "        vertical-align: top;\n",
       "    }\n",
       "\n",
       "    .dataframe thead th {\n",
       "        text-align: right;\n",
       "    }\n",
       "</style>\n",
       "<table border=\"1\" class=\"dataframe\">\n",
       "  <thead>\n",
       "    <tr style=\"text-align: right;\">\n",
       "      <th></th>\n",
       "      <th>SrcIPAddress</th>\n",
       "      <th>Normal</th>\n",
       "      <th>Predicted</th>\n",
       "    </tr>\n",
       "  </thead>\n",
       "  <tbody>\n",
       "    <tr>\n",
       "      <th>0</th>\n",
       "      <td>122.226.12.150</td>\n",
       "      <td>1.0</td>\n",
       "      <td>0.0</td>\n",
       "    </tr>\n",
       "    <tr>\n",
       "      <th>1</th>\n",
       "      <td>147.101.94.182</td>\n",
       "      <td>0.0</td>\n",
       "      <td>1.0</td>\n",
       "    </tr>\n",
       "    <tr>\n",
       "      <th>2</th>\n",
       "      <td>147.113.94.198</td>\n",
       "      <td>0.0</td>\n",
       "      <td>0.0</td>\n",
       "    </tr>\n",
       "    <tr>\n",
       "      <th>3</th>\n",
       "      <td>147.114.98.192</td>\n",
       "      <td>0.0</td>\n",
       "      <td>0.0</td>\n",
       "    </tr>\n",
       "    <tr>\n",
       "      <th>4</th>\n",
       "      <td>147.122.97.192</td>\n",
       "      <td>0.0</td>\n",
       "      <td>0.0</td>\n",
       "    </tr>\n",
       "  </tbody>\n",
       "</table>\n",
       "</div>"
      ],
      "text/plain": [
       "     SrcIPAddress  Normal  Predicted\n",
       "0  122.226.12.150     1.0        0.0\n",
       "1  147.101.94.182     0.0        1.0\n",
       "2  147.113.94.198     0.0        0.0\n",
       "3  147.114.98.192     0.0        0.0\n",
       "4  147.122.97.192     0.0        0.0"
      ]
     },
     "execution_count": 51,
     "metadata": {},
     "output_type": "execute_result"
    }
   ],
   "source": [
    "result.head()"
   ]
  },
  {
   "cell_type": "code",
   "execution_count": 21,
   "metadata": {},
   "outputs": [],
   "source": [
    "def adversarial_samples(X, Y, model, epsilon):\n",
    "    dlt = model.predict(X).T - Y.reshape(X.shape[0], 1)\n",
    "    prob = model.predict_proba(X)\n",
    "    dec = model.decision_function(X)\n",
    "    #direction = np.sign(np.matmul(dlt, dec))\n",
    "    direction = 1\n",
    "    return X + epsilon * direction, Y"
   ]
  },
  {
   "cell_type": "code",
   "execution_count": null,
   "metadata": {},
   "outputs": [],
   "source": []
  }
 ],
 "metadata": {
  "kernelspec": {
   "display_name": "Python 3",
   "language": "python",
   "name": "python3"
  },
  "language_info": {
   "codemirror_mode": {
    "name": "ipython",
    "version": 3
   },
   "file_extension": ".py",
   "mimetype": "text/x-python",
   "name": "python",
   "nbconvert_exporter": "python",
   "pygments_lexer": "ipython3",
   "version": "3.8.5"
  }
 },
 "nbformat": 4,
 "nbformat_minor": 4
}
